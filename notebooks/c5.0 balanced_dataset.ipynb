{
 "cells": [
  {
   "cell_type": "markdown",
   "id": "ab151802",
   "metadata": {},
   "source": [
    "# Business Context"
   ]
  },
  {
   "cell_type": "markdown",
   "id": "5b926820",
   "metadata": {},
   "source": [
    "Instead of waking to overlooked \"Do not disturb\" signs, Airbnb travelers find themselves rising with the birds in a whimsical treehouse, having their morning coffee on the deck of a houseboat, or cooking a shared regional breakfast with their hosts.\n",
    "\n",
    "New users on Airbnb can book a place to stay in 34,000+ cities across 190+ countries. By accurately predicting where a new user will book their first travel experience, Airbnb can share more personalized content with their community, decrease the average time to first booking, and better forecast demand."
   ]
  },
  {
   "cell_type": "markdown",
   "id": "0cefd445",
   "metadata": {},
   "source": [
    "# Business Challange"
   ]
  },
  {
   "cell_type": "markdown",
   "id": "a2b112c6",
   "metadata": {},
   "source": [
    "In this project, I was challenged to predict in which country a new user will make his or her first booking.\n"
   ]
  },
  {
   "cell_type": "markdown",
   "id": "5b386604",
   "metadata": {},
   "source": [
    "# Business Understanding"
   ]
  },
  {
   "cell_type": "markdown",
   "id": "f2e10f4f",
   "metadata": {
    "ExecuteTime": {
     "end_time": "2023-03-24T15:31:29.129293Z",
     "start_time": "2023-03-24T15:31:29.123836Z"
    }
   },
   "source": [
    "- Business model:\n",
    "     Marketplace -> Connecting people that offer accommodation, to the person who's looking for accommodation.\n",
    "    \n",
    "    \n",
    "- Model Offer:\n",
    "     People offering them property temporarily.\n",
    "     \n",
    "- Metrics:  Portfolio Size, Portfolio diversity/density.\n",
    "\n",
    "- Demand: How many people are looking for accommodation; \n",
    "\n",
    "    - User number.\n",
    "    - LTV ( Lifetime Value)\n",
    "    - CAC ( Client Acquisition Cost )\n",
    "    \n",
    "    - Gross Revenue =  ( fee * number of clients ) - CAC"
   ]
  },
  {
   "cell_type": "markdown",
   "id": "29854240",
   "metadata": {},
   "source": [
    "# Solution Planning"
   ]
  },
  {
   "cell_type": "markdown",
   "id": "583aa7ee",
   "metadata": {},
   "source": [
    "- Prediction model of the first destination of a new user\n",
    "- Prediction saved in a database table.\n",
    "- API:\n",
    "\n",
    "    - Imput: Users and their characteristics;\n",
    "    - output: Users and their characteristics with the destination prediction."
   ]
  },
  {
   "cell_type": "markdown",
   "id": "ec5ba07e",
   "metadata": {},
   "source": [
    "# 0.1 Imports"
   ]
  },
  {
   "cell_type": "code",
   "execution_count": 65,
   "id": "2675226b",
   "metadata": {
    "ExecuteTime": {
     "end_time": "2023-03-31T12:28:35.129391Z",
     "start_time": "2023-03-31T12:28:35.083220Z"
    }
   },
   "outputs": [],
   "source": [
    "import random \n",
    "import warnings\n",
    "import pandas  as pd\n",
    "import seaborn as sns\n",
    "import numpy   as np\n",
    "\n",
    "\n",
    "from scipy       import stats           as ss\n",
    "from keras       import layers          as l\n",
    "from keras       import models          as ml\n",
    "from sklearn     import metrics         as m\n",
    "from sklearn     import preprocessing   as pp\n",
    "from sklearn     import model_selection as ms\n",
    "from scikitplot  import metrics         as mt\n",
    "from imblearn    import under_sampling  as us\n",
    "from imblearn    import over_sampling   as os\n",
    "from imblearn    import combine         as c\n",
    "\n",
    "import matplotlib.pyplot    as plt\n",
    "\n",
    "from IPython.core.display        import HTML"
   ]
  },
  {
   "cell_type": "markdown",
   "id": "9a0b5b73",
   "metadata": {},
   "source": [
    "## 0.01 Helper Functions"
   ]
  },
  {
   "cell_type": "code",
   "execution_count": 2,
   "id": "104923f8",
   "metadata": {
    "ExecuteTime": {
     "end_time": "2023-03-29T13:03:07.145274Z",
     "start_time": "2023-03-29T13:03:07.096537Z"
    }
   },
   "outputs": [
    {
     "data": {
      "text/html": [
       "<style>.container { width:100% !important; }</style>"
      ],
      "text/plain": [
       "<IPython.core.display.HTML object>"
      ]
     },
     "metadata": {},
     "output_type": "display_data"
    },
    {
     "name": "stdout",
     "output_type": "stream",
     "text": [
      "%pylab is deprecated, use %matplotlib inline and import the required libraries.\n",
      "Populating the interactive namespace from numpy and matplotlib\n"
     ]
    },
    {
     "name": "stderr",
     "output_type": "stream",
     "text": [
      "/Users/adriele/opt/anaconda3/envs/env_pa001/lib/python3.9/site-packages/IPython/core/magics/pylab.py:162: UserWarning: pylab import has clobbered these variables: ['random']\n",
      "`%matplotlib` prevents importing * from pylab and numpy\n",
      "  warn(\"pylab import has clobbered these variables: %s\"  % clobbered +\n"
     ]
    },
    {
     "data": {
      "text/html": [
       "<style>.container { width:100% !important; }</style>"
      ],
      "text/plain": [
       "<IPython.core.display.HTML object>"
      ]
     },
     "metadata": {},
     "output_type": "display_data"
    }
   ],
   "source": [
    "def jupyter_settings(): \n",
    "    %matplotlib inline \n",
    "    #%matplotlib notebook\n",
    "    %pylab inline\n",
    "    \n",
    "    plt.style.use('bmh')\n",
    "    plt.rcParams['figure.figsize'] = [25, 12]\n",
    "    plt.rcParams['font.size'] = 24\n",
    "    \n",
    "     \n",
    "    display( HTML( '<style>.container { width:100% !important; }</style>') )\n",
    "    pd.options.display.max_columns = None\n",
    "    pd.options.display.max_rows = None\n",
    "    pd.set_option ('display.expand_frame_repr', False)\n",
    "    \n",
    "    sns.set()\n",
    "\n",
    "%matplotlib inline \n",
    "%matplotlib notebook\n",
    "\n",
    "plt.style.use('bmh')\n",
    "plt.rcParams['figure.figsize'] = [25, 12]\n",
    "plt.rcParams['font.size'] = 24\n",
    "\n",
    "\n",
    "display( HTML( '<style>.container { width:100% !important; }</style>') )\n",
    "pd.options.display.max_columns = None\n",
    "pd.options.display.max_rows = None\n",
    "pd.set_option ('display.expand_frame_repr', False)\n",
    "\n",
    "sns.set()\n",
    "\n",
    "jupyter_settings()\n",
    "\n",
    "# ===============================================\n",
    "def cramer_v (x, y):\n",
    "    cm = pd.crosstab(x, y).values\n",
    "    n = cm.sum()\n",
    "    r, k = cm.shape\n",
    "    \n",
    "    chi2 = ss.chi2_contingency (cm)[0]\n",
    "    chi2corr = max (0, chi2 - (k-1)*(r-1)/(n-1) )\n",
    "    \n",
    "    kcorr = k - (k-1)**2/(n-1) \n",
    "    rcorr = r - (r-1)**2/(n-1) \n",
    "\n",
    "    return  np.sqrt( (chi2corr/n) / (min ( kcorr-1, rcorr-1) ) )\n",
    "\n",
    "#=================================================\n",
    "\n",
    "\n",
    "def fxn():\n",
    "    warnings.warn(\"deprecated\", DeprecationWarning)\n",
    "\n",
    "with warnings.catch_warnings():\n",
    "    warnings.simplefilter(\"ignore\")\n",
    "    fxn()"
   ]
  },
  {
   "cell_type": "markdown",
   "id": "bdaa155d",
   "metadata": {},
   "source": [
    "# 1.0  Data Description"
   ]
  },
  {
   "cell_type": "markdown",
   "id": "4700f59a",
   "metadata": {},
   "source": [
    "## 1.1 Loading data"
   ]
  },
  {
   "cell_type": "code",
   "execution_count": 3,
   "id": "a9fdd6b7",
   "metadata": {
    "ExecuteTime": {
     "end_time": "2023-03-29T13:03:14.769509Z",
     "start_time": "2023-03-29T13:03:07.147754Z"
    }
   },
   "outputs": [],
   "source": [
    "df1 = pd.read_csv('/Users/adriele/Documents/repos/pa001/dataset/train_users.csv')\n",
    "\n",
    "df_sessions = pd.read_csv('/Users/adriele/Documents/repos/pa001/dataset/sessions.csv')\n"
   ]
  },
  {
   "cell_type": "markdown",
   "id": "a0ff1d3b",
   "metadata": {},
   "source": [
    "## 1.2 Data Dimensions"
   ]
  },
  {
   "cell_type": "code",
   "execution_count": 4,
   "id": "b86b814f",
   "metadata": {
    "ExecuteTime": {
     "end_time": "2023-03-29T13:03:14.777141Z",
     "start_time": "2023-03-29T13:03:14.773586Z"
    },
    "scrolled": true
   },
   "outputs": [
    {
     "name": "stdout",
     "output_type": "stream",
     "text": [
      "Number of Cols 16\n",
      "Number of Rows 213451\n"
     ]
    }
   ],
   "source": [
    "print( 'Number of Cols {}'.format( df1.shape[1] ) )\n",
    "print( 'Number of Rows {}'.format( df1.shape[0] ) )\n"
   ]
  },
  {
   "cell_type": "code",
   "execution_count": 5,
   "id": "5750d758",
   "metadata": {
    "ExecuteTime": {
     "end_time": "2023-03-29T13:03:14.783737Z",
     "start_time": "2023-03-29T13:03:14.779791Z"
    }
   },
   "outputs": [
    {
     "name": "stdout",
     "output_type": "stream",
     "text": [
      "Number of Cols 6\n",
      "Number of Rows 10567737\n"
     ]
    }
   ],
   "source": [
    "print( 'Number of Cols {}'.format( df_sessions.shape[1] ) )\n",
    "print( 'Number of Rows {}'.format( df_sessions.shape[0] ) )\n",
    "\n"
   ]
  },
  {
   "cell_type": "markdown",
   "id": "2fbba4a4",
   "metadata": {},
   "source": [
    "## 1.3 Check Na's"
   ]
  },
  {
   "cell_type": "code",
   "execution_count": 6,
   "id": "a3b24b7b",
   "metadata": {
    "ExecuteTime": {
     "end_time": "2023-03-29T13:03:15.158616Z",
     "start_time": "2023-03-29T13:03:14.785972Z"
    }
   },
   "outputs": [
    {
     "data": {
      "text/plain": [
       "id                              0\n",
       "date_account_created            0\n",
       "timestamp_first_active          0\n",
       "date_first_booking         124543\n",
       "gender                          0\n",
       "age                         87990\n",
       "signup_method                   0\n",
       "signup_flow                     0\n",
       "language                        0\n",
       "affiliate_channel               0\n",
       "affiliate_provider              0\n",
       "first_affiliate_tracked      6065\n",
       "signup_app                      0\n",
       "first_device_type               0\n",
       "first_browser                   0\n",
       "country_destination             0\n",
       "dtype: int64"
      ]
     },
     "execution_count": 6,
     "metadata": {},
     "output_type": "execute_result"
    }
   ],
   "source": [
    "df1.isna().sum()"
   ]
  },
  {
   "cell_type": "code",
   "execution_count": 7,
   "id": "ff87b365",
   "metadata": {
    "ExecuteTime": {
     "end_time": "2023-03-29T13:03:15.180463Z",
     "start_time": "2023-03-29T13:03:15.161079Z"
    }
   },
   "outputs": [
    {
     "data": {
      "text/plain": [
       "NDF      0.583473\n",
       "US       0.292226\n",
       "other    0.047290\n",
       "FR       0.023532\n",
       "IT       0.013282\n",
       "GB       0.010888\n",
       "ES       0.010536\n",
       "CA       0.006690\n",
       "DE       0.004971\n",
       "NL       0.003570\n",
       "AU       0.002525\n",
       "PT       0.001017\n",
       "Name: country_destination, dtype: float64"
      ]
     },
     "execution_count": 7,
     "metadata": {},
     "output_type": "execute_result"
    }
   ],
   "source": [
    "df1['country_destination' ].value_counts( normalize=True )"
   ]
  },
  {
   "cell_type": "code",
   "execution_count": 8,
   "id": "b1a89f3b",
   "metadata": {
    "ExecuteTime": {
     "end_time": "2023-03-29T13:03:21.076894Z",
     "start_time": "2023-03-29T13:03:15.183155Z"
    }
   },
   "outputs": [],
   "source": [
    "# removing missing values\n",
    "#df1 = df1.dropna()\n",
    "#========================== User ===============================\n",
    "\n",
    "# date_first_booking\n",
    "date_first_booking_max = pd.to_datetime( df1['date_first_booking'] ).max().strftime( '%Y-%m-%d')\n",
    "df1['date_first_booking'] = df1['date_first_booking'].fillna(date_first_booking_max)\n",
    "\n",
    "# Age\n",
    "avg_age = df1['age'].mean().astype( int )\n",
    "df1['age'] = df1['age'].fillna( avg_age )\n",
    "\n",
    "# first_affiliate_tracked\n",
    "\n",
    "df1 = df1[~df1['first_affiliate_tracked'].isna()]\n",
    "\n",
    "# ======================= sessions ===============================\n",
    "\n",
    "# user id 0.3%\n",
    "df_sessions = df_sessions[~df_sessions['user_id'].isna() ]\n",
    "\n",
    "# Action 0.7%\n",
    "df_sessions = df_sessions[~df_sessions['action'].isna() ]\n",
    "\n",
    "# action_type 11%\n",
    "df_sessions = df_sessions[~df_sessions['action_type'].isna() ]\n",
    "\n",
    "# action_detail 11%\n",
    "df_sessions = df_sessions[~df_sessions['action_detail'].isna() ]\n",
    "\n",
    "# secs_elapsed 1.2%\n",
    "df_sessions = df_sessions[~df_sessions['secs_elapsed'].isna() ]\n",
    "\n"
   ]
  },
  {
   "cell_type": "markdown",
   "id": "b7a50f28",
   "metadata": {},
   "source": [
    "## 1.4 Data Types"
   ]
  },
  {
   "cell_type": "code",
   "execution_count": 9,
   "id": "e7430804",
   "metadata": {
    "ExecuteTime": {
     "end_time": "2023-03-29T13:03:21.084825Z",
     "start_time": "2023-03-29T13:03:21.079251Z"
    }
   },
   "outputs": [
    {
     "data": {
      "text/plain": [
       "id                          object\n",
       "date_account_created        object\n",
       "timestamp_first_active       int64\n",
       "date_first_booking          object\n",
       "gender                      object\n",
       "age                        float64\n",
       "signup_method               object\n",
       "signup_flow                  int64\n",
       "language                    object\n",
       "affiliate_channel           object\n",
       "affiliate_provider          object\n",
       "first_affiliate_tracked     object\n",
       "signup_app                  object\n",
       "first_device_type           object\n",
       "first_browser               object\n",
       "country_destination         object\n",
       "dtype: object"
      ]
     },
     "execution_count": 9,
     "metadata": {},
     "output_type": "execute_result"
    }
   ],
   "source": [
    "df1.dtypes"
   ]
  },
  {
   "cell_type": "markdown",
   "id": "dc88025c",
   "metadata": {},
   "source": [
    "## 1.5 Change Dtypes"
   ]
  },
  {
   "cell_type": "code",
   "execution_count": 10,
   "id": "5fa20628",
   "metadata": {
    "ExecuteTime": {
     "end_time": "2023-03-29T13:03:21.887198Z",
     "start_time": "2023-03-29T13:03:21.090937Z"
    }
   },
   "outputs": [
    {
     "data": {
      "text/plain": [
       "id                                 object\n",
       "date_account_created       datetime64[ns]\n",
       "timestamp_first_active     datetime64[ns]\n",
       "date_first_booking         datetime64[ns]\n",
       "gender                             object\n",
       "age                                 int64\n",
       "signup_method                      object\n",
       "signup_flow                         int64\n",
       "language                           object\n",
       "affiliate_channel                  object\n",
       "affiliate_provider                 object\n",
       "first_affiliate_tracked            object\n",
       "signup_app                         object\n",
       "first_device_type                  object\n",
       "first_browser                      object\n",
       "country_destination                object\n",
       "dtype: object"
      ]
     },
     "execution_count": 10,
     "metadata": {},
     "output_type": "execute_result"
    }
   ],
   "source": [
    "#date_account_created\n",
    "df1['date_account_created'] = pd.to_datetime( df1['date_account_created'] )\n",
    "\n",
    "#timestamp_first_active\n",
    "df1['timestamp_first_active'] = pd.to_datetime( df1['timestamp_first_active'], format='%Y%m%d%H%M%S' )\n",
    "\n",
    "#date_first_booking\n",
    "df1['date_first_booking'] = pd.to_datetime( df1['date_first_booking'] )\n",
    "\n",
    "\n",
    "#age\n",
    "df1['age'] = df1['age'].astype( int )\n",
    "\n",
    "\n",
    "df1.dtypes"
   ]
  },
  {
   "cell_type": "markdown",
   "id": "211f2af6",
   "metadata": {},
   "source": [
    "## 1.6 Check Balanncing Data"
   ]
  },
  {
   "cell_type": "code",
   "execution_count": 11,
   "id": "d0c551c2",
   "metadata": {
    "ExecuteTime": {
     "end_time": "2023-03-29T13:03:21.909381Z",
     "start_time": "2023-03-29T13:03:21.889862Z"
    }
   },
   "outputs": [
    {
     "data": {
      "text/plain": [
       "NDF      0.579673\n",
       "US       0.294461\n",
       "other    0.048128\n",
       "FR       0.023623\n",
       "IT       0.013458\n",
       "GB       0.011066\n",
       "ES       0.010671\n",
       "CA       0.006707\n",
       "DE       0.005020\n",
       "NL       0.003621\n",
       "AU       0.002541\n",
       "PT       0.001032\n",
       "Name: country_destination, dtype: float64"
      ]
     },
     "execution_count": 11,
     "metadata": {},
     "output_type": "execute_result"
    }
   ],
   "source": [
    "df1['country_destination'].value_counts( normalize=True )"
   ]
  },
  {
   "cell_type": "markdown",
   "id": "6ee491d4",
   "metadata": {},
   "source": [
    "## 1.7 Descriptive Analysis"
   ]
  },
  {
   "cell_type": "markdown",
   "id": "04cf40dd",
   "metadata": {},
   "source": [
    "### 1.7.1 General"
   ]
  },
  {
   "cell_type": "code",
   "execution_count": 12,
   "id": "a3f6be32",
   "metadata": {
    "ExecuteTime": {
     "end_time": "2023-03-29T13:03:22.283504Z",
     "start_time": "2023-03-29T13:03:21.911679Z"
    }
   },
   "outputs": [],
   "source": [
    "# Users\n",
    "num_attributes = df1.select_dtypes( include=[ 'int64', 'float64' ] )\n",
    "cat_attributes = df1.select_dtypes( exclude=[ 'int64', 'float64', 'datetime64[ns]' ] )\n",
    "time_attributes = df1.select_dtypes( include=[ 'datetime64[ns]'  ] )\n",
    "\n",
    "# sessions\n",
    "num_attributes_sessions = df_sessions.select_dtypes( include=[ 'int64', 'float64' ] )\n",
    "cat_attributes_sessions = df_sessions.select_dtypes( exclude=[ 'int64', 'float64', 'datetime64[ns]' ] )\n",
    "time_attributes_sessions = df_sessions.select_dtypes( include=[ 'datetime64[ns]'  ] )"
   ]
  },
  {
   "cell_type": "markdown",
   "id": "57509ea4",
   "metadata": {},
   "source": [
    "### 1.7.2 Numerical Users"
   ]
  },
  {
   "cell_type": "code",
   "execution_count": 13,
   "id": "64ae5cd2",
   "metadata": {
    "ExecuteTime": {
     "end_time": "2023-03-29T13:03:22.390409Z",
     "start_time": "2023-03-29T13:03:22.286210Z"
    }
   },
   "outputs": [
    {
     "data": {
      "text/html": [
       "<div>\n",
       "<style scoped>\n",
       "    .dataframe tbody tr th:only-of-type {\n",
       "        vertical-align: middle;\n",
       "    }\n",
       "\n",
       "    .dataframe tbody tr th {\n",
       "        vertical-align: top;\n",
       "    }\n",
       "\n",
       "    .dataframe thead th {\n",
       "        text-align: right;\n",
       "    }\n",
       "</style>\n",
       "<table border=\"1\" class=\"dataframe\">\n",
       "  <thead>\n",
       "    <tr style=\"text-align: right;\">\n",
       "      <th></th>\n",
       "      <th>attributes</th>\n",
       "      <th>min</th>\n",
       "      <th>max</th>\n",
       "      <th>range</th>\n",
       "      <th>mean</th>\n",
       "      <th>median</th>\n",
       "      <th>std</th>\n",
       "      <th>skew</th>\n",
       "      <th>kurtosis</th>\n",
       "    </tr>\n",
       "  </thead>\n",
       "  <tbody>\n",
       "    <tr>\n",
       "      <th>0</th>\n",
       "      <td>age</td>\n",
       "      <td>1.0</td>\n",
       "      <td>2014.0</td>\n",
       "      <td>2013.0</td>\n",
       "      <td>49.183142</td>\n",
       "      <td>49.0</td>\n",
       "      <td>49.183142</td>\n",
       "      <td>16.333820</td>\n",
       "      <td>267.655434</td>\n",
       "    </tr>\n",
       "    <tr>\n",
       "      <th>1</th>\n",
       "      <td>signup_flow</td>\n",
       "      <td>0.0</td>\n",
       "      <td>25.0</td>\n",
       "      <td>25.0</td>\n",
       "      <td>3.151490</td>\n",
       "      <td>0.0</td>\n",
       "      <td>3.151490</td>\n",
       "      <td>2.287158</td>\n",
       "      <td>3.567794</td>\n",
       "    </tr>\n",
       "  </tbody>\n",
       "</table>\n",
       "</div>"
      ],
      "text/plain": [
       "    attributes  min     max   range       mean  median        std       skew    kurtosis\n",
       "0          age  1.0  2014.0  2013.0  49.183142    49.0  49.183142  16.333820  267.655434\n",
       "1  signup_flow  0.0    25.0    25.0   3.151490     0.0   3.151490   2.287158    3.567794"
      ]
     },
     "execution_count": 13,
     "metadata": {},
     "output_type": "execute_result"
    }
   ],
   "source": [
    "# Central tendency - Mean, mediana\n",
    "ct1 = pd.DataFrame( num_attributes.apply( np.mean ) ).T\n",
    "ct2 = pd.DataFrame( num_attributes.apply( np.median ) ).T\n",
    "\n",
    "# dispensions- STD, Min, Max, Range, Slkew, Kurtosis\n",
    "d1 = pd.DataFrame( num_attributes.apply( np.mean ) ).T\n",
    "d2 = pd.DataFrame( num_attributes.apply( min) ).T\n",
    "d3 = pd.DataFrame( num_attributes.apply( max ) ).T\n",
    "d4 = pd.DataFrame( num_attributes.apply(lambda x: x.max() - x.min() ) ).T\n",
    "d5 = pd.DataFrame( num_attributes.apply(lambda x: x.skew() ) ).T\n",
    "d6 = pd.DataFrame( num_attributes.apply(lambda x: x.kurtosis() ) ).T\n",
    "\n",
    "\n",
    "# Concat\n",
    "ct = pd.concat( [ d2, d3, d4, ct1, ct2, d1, d5, d6 ] ).T.reset_index()\n",
    "ct.columns= ['attributes', 'min', 'max', 'range', 'mean', 'median', 'std', 'skew', 'kurtosis' ]\n",
    "ct"
   ]
  },
  {
   "cell_type": "markdown",
   "id": "325fcef9",
   "metadata": {},
   "source": [
    "### 1.7.3 Categorical - User\n"
   ]
  },
  {
   "cell_type": "code",
   "execution_count": 14,
   "id": "78408737",
   "metadata": {
    "ExecuteTime": {
     "end_time": "2023-03-29T13:03:22.652061Z",
     "start_time": "2023-03-29T13:03:22.392931Z"
    }
   },
   "outputs": [
    {
     "data": {
      "text/html": [
       "<div>\n",
       "<style scoped>\n",
       "    .dataframe tbody tr th:only-of-type {\n",
       "        vertical-align: middle;\n",
       "    }\n",
       "\n",
       "    .dataframe tbody tr th {\n",
       "        vertical-align: top;\n",
       "    }\n",
       "\n",
       "    .dataframe thead th {\n",
       "        text-align: right;\n",
       "    }\n",
       "</style>\n",
       "<table border=\"1\" class=\"dataframe\">\n",
       "  <thead>\n",
       "    <tr style=\"text-align: right;\">\n",
       "      <th></th>\n",
       "      <th>gender</th>\n",
       "      <th>signup_method</th>\n",
       "      <th>language</th>\n",
       "      <th>affiliate_channel</th>\n",
       "      <th>affiliate_provider</th>\n",
       "      <th>first_affiliate_tracked</th>\n",
       "      <th>signup_app</th>\n",
       "      <th>first_device_type</th>\n",
       "      <th>first_browser</th>\n",
       "      <th>country_destination</th>\n",
       "    </tr>\n",
       "  </thead>\n",
       "  <tbody>\n",
       "    <tr>\n",
       "      <th>count</th>\n",
       "      <td>207386</td>\n",
       "      <td>207386</td>\n",
       "      <td>207386</td>\n",
       "      <td>207386</td>\n",
       "      <td>207386</td>\n",
       "      <td>207386</td>\n",
       "      <td>207386</td>\n",
       "      <td>207386</td>\n",
       "      <td>207386</td>\n",
       "      <td>207386</td>\n",
       "    </tr>\n",
       "    <tr>\n",
       "      <th>unique</th>\n",
       "      <td>4</td>\n",
       "      <td>3</td>\n",
       "      <td>25</td>\n",
       "      <td>8</td>\n",
       "      <td>18</td>\n",
       "      <td>7</td>\n",
       "      <td>4</td>\n",
       "      <td>9</td>\n",
       "      <td>52</td>\n",
       "      <td>12</td>\n",
       "    </tr>\n",
       "    <tr>\n",
       "      <th>top</th>\n",
       "      <td>-unknown-</td>\n",
       "      <td>basic</td>\n",
       "      <td>en</td>\n",
       "      <td>direct</td>\n",
       "      <td>direct</td>\n",
       "      <td>untracked</td>\n",
       "      <td>Web</td>\n",
       "      <td>Mac Desktop</td>\n",
       "      <td>Chrome</td>\n",
       "      <td>NDF</td>\n",
       "    </tr>\n",
       "    <tr>\n",
       "      <th>freq</th>\n",
       "      <td>91783</td>\n",
       "      <td>148297</td>\n",
       "      <td>200415</td>\n",
       "      <td>134179</td>\n",
       "      <td>133935</td>\n",
       "      <td>109232</td>\n",
       "      <td>178334</td>\n",
       "      <td>89600</td>\n",
       "      <td>63845</td>\n",
       "      <td>120216</td>\n",
       "    </tr>\n",
       "  </tbody>\n",
       "</table>\n",
       "</div>"
      ],
      "text/plain": [
       "           gender signup_method language affiliate_channel affiliate_provider first_affiliate_tracked signup_app first_device_type first_browser country_destination\n",
       "count      207386        207386   207386            207386             207386                  207386     207386            207386        207386              207386\n",
       "unique          4             3       25                 8                 18                       7          4                 9            52                  12\n",
       "top     -unknown-         basic       en            direct             direct               untracked        Web       Mac Desktop        Chrome                 NDF\n",
       "freq        91783        148297   200415            134179             133935                  109232     178334             89600         63845              120216"
      ]
     },
     "execution_count": 14,
     "metadata": {},
     "output_type": "execute_result"
    }
   ],
   "source": [
    "cat_attributes.drop( 'id', axis=1 ).describe()"
   ]
  },
  {
   "cell_type": "markdown",
   "id": "4ce1116a",
   "metadata": {},
   "source": [
    "### 1.7.4 Numerical - Sessions"
   ]
  },
  {
   "cell_type": "code",
   "execution_count": 15,
   "id": "119105a0",
   "metadata": {
    "ExecuteTime": {
     "end_time": "2023-03-29T13:03:24.704444Z",
     "start_time": "2023-03-29T13:03:22.654509Z"
    }
   },
   "outputs": [
    {
     "data": {
      "text/html": [
       "<div>\n",
       "<style scoped>\n",
       "    .dataframe tbody tr th:only-of-type {\n",
       "        vertical-align: middle;\n",
       "    }\n",
       "\n",
       "    .dataframe tbody tr th {\n",
       "        vertical-align: top;\n",
       "    }\n",
       "\n",
       "    .dataframe thead th {\n",
       "        text-align: right;\n",
       "    }\n",
       "</style>\n",
       "<table border=\"1\" class=\"dataframe\">\n",
       "  <thead>\n",
       "    <tr style=\"text-align: right;\">\n",
       "      <th></th>\n",
       "      <th>attributes</th>\n",
       "      <th>min</th>\n",
       "      <th>max</th>\n",
       "      <th>range</th>\n",
       "      <th>mean</th>\n",
       "      <th>median</th>\n",
       "      <th>std</th>\n",
       "      <th>skew</th>\n",
       "      <th>kurtosis</th>\n",
       "    </tr>\n",
       "  </thead>\n",
       "  <tbody>\n",
       "    <tr>\n",
       "      <th>0</th>\n",
       "      <td>secs_elapsed</td>\n",
       "      <td>0.0</td>\n",
       "      <td>1799977.0</td>\n",
       "      <td>1799977.0</td>\n",
       "      <td>19961.8251</td>\n",
       "      <td>1369.0</td>\n",
       "      <td>19961.8251</td>\n",
       "      <td>11.137761</td>\n",
       "      <td>154.84312</td>\n",
       "    </tr>\n",
       "  </tbody>\n",
       "</table>\n",
       "</div>"
      ],
      "text/plain": [
       "     attributes  min        max      range        mean  median         std       skew   kurtosis\n",
       "0  secs_elapsed  0.0  1799977.0  1799977.0  19961.8251  1369.0  19961.8251  11.137761  154.84312"
      ]
     },
     "execution_count": 15,
     "metadata": {},
     "output_type": "execute_result"
    }
   ],
   "source": [
    "# Central tendency - Mean, mediana\n",
    "ct1 = pd.DataFrame( num_attributes_sessions.apply( np.mean ) ).T\n",
    "ct2 = pd.DataFrame( num_attributes_sessions.apply( np.median ) ).T\n",
    "\n",
    "# dispensions- STD, Min, Max, Range, Slkew, Kurtosis\n",
    "d1 = pd.DataFrame( num_attributes_sessions.apply( np.mean ) ).T\n",
    "d2 = pd.DataFrame( num_attributes_sessions.apply( min) ).T\n",
    "d3 = pd.DataFrame( num_attributes_sessions.apply( max ) ).T\n",
    "d4 = pd.DataFrame( num_attributes_sessions.apply(lambda x: x.max() - x.min() ) ).T\n",
    "d5 = pd.DataFrame( num_attributes_sessions.apply(lambda x: x.skew() ) ).T\n",
    "d6 = pd.DataFrame( num_attributes_sessions.apply(lambda x: x.kurtosis() ) ).T\n",
    "\n",
    "\n",
    "# Concat\n",
    "ct = pd.concat( [ d2, d3, d4, ct1, ct2, d1, d5, d6 ] ).T.reset_index()\n",
    "ct.columns= ['attributes', 'min', 'max', 'range', 'mean', 'median', 'std', 'skew', 'kurtosis' ]\n",
    "ct"
   ]
  },
  {
   "cell_type": "markdown",
   "id": "82c066ba",
   "metadata": {},
   "source": [
    "### 1.7.4 Categorical - Sessions"
   ]
  },
  {
   "cell_type": "code",
   "execution_count": 16,
   "id": "8f69b09a",
   "metadata": {
    "ExecuteTime": {
     "end_time": "2023-03-29T13:03:28.782271Z",
     "start_time": "2023-03-29T13:03:24.707335Z"
    }
   },
   "outputs": [
    {
     "data": {
      "text/html": [
       "<div>\n",
       "<style scoped>\n",
       "    .dataframe tbody tr th:only-of-type {\n",
       "        vertical-align: middle;\n",
       "    }\n",
       "\n",
       "    .dataframe tbody tr th {\n",
       "        vertical-align: top;\n",
       "    }\n",
       "\n",
       "    .dataframe thead th {\n",
       "        text-align: right;\n",
       "    }\n",
       "</style>\n",
       "<table border=\"1\" class=\"dataframe\">\n",
       "  <thead>\n",
       "    <tr style=\"text-align: right;\">\n",
       "      <th></th>\n",
       "      <th>action</th>\n",
       "      <th>action_type</th>\n",
       "      <th>action_detail</th>\n",
       "      <th>device_type</th>\n",
       "    </tr>\n",
       "  </thead>\n",
       "  <tbody>\n",
       "    <tr>\n",
       "      <th>count</th>\n",
       "      <td>9213930</td>\n",
       "      <td>9213930</td>\n",
       "      <td>9213930</td>\n",
       "      <td>9213930</td>\n",
       "    </tr>\n",
       "    <tr>\n",
       "      <th>unique</th>\n",
       "      <td>347</td>\n",
       "      <td>10</td>\n",
       "      <td>155</td>\n",
       "      <td>14</td>\n",
       "    </tr>\n",
       "    <tr>\n",
       "      <th>top</th>\n",
       "      <td>show</td>\n",
       "      <td>view</td>\n",
       "      <td>view_search_results</td>\n",
       "      <td>Mac Desktop</td>\n",
       "    </tr>\n",
       "    <tr>\n",
       "      <th>freq</th>\n",
       "      <td>2178382</td>\n",
       "      <td>3545621</td>\n",
       "      <td>1770931</td>\n",
       "      <td>3019523</td>\n",
       "    </tr>\n",
       "  </tbody>\n",
       "</table>\n",
       "</div>"
      ],
      "text/plain": [
       "         action action_type        action_detail  device_type\n",
       "count   9213930     9213930              9213930      9213930\n",
       "unique      347          10                  155           14\n",
       "top        show        view  view_search_results  Mac Desktop\n",
       "freq    2178382     3545621              1770931      3019523"
      ]
     },
     "execution_count": 16,
     "metadata": {},
     "output_type": "execute_result"
    }
   ],
   "source": [
    "cat_attributes_sessions.drop( 'user_id', axis=1 ).describe()"
   ]
  },
  {
   "cell_type": "code",
   "execution_count": 17,
   "id": "c19982c2",
   "metadata": {
    "ExecuteTime": {
     "end_time": "2023-03-29T13:03:57.730863Z",
     "start_time": "2023-03-29T13:03:28.785650Z"
    }
   },
   "outputs": [],
   "source": [
    "# attrivute list for Cramer's V correlation\n",
    "cat_attributes_list = cat_attributes_sessions.drop( 'user_id', axis=1 ).columns.tolist()\n",
    "\n",
    "corr_dict = {}\n",
    "for i in range( len( cat_attributes_list )):\n",
    "    corr_list = []\n",
    "    for j in range( len( cat_attributes_list)):\n",
    "        ref = cat_attributes_list[i]\n",
    "        feat = cat_attributes_list[j]\n",
    "        \n",
    "        # Correlation\n",
    "        corr = cramer_v( cat_attributes_sessions[ ref ], cat_attributes_sessions[ feat ])\n",
    "        \n",
    "        # append to list\n",
    "        corr_list.append( corr )\n",
    "        \n",
    "     # Append the correlation list to each ref attributes   \n",
    "    corr_dict[ ref ] = corr_list"
   ]
  },
  {
   "cell_type": "code",
   "execution_count": 18,
   "id": "a6a4391d",
   "metadata": {
    "ExecuteTime": {
     "end_time": "2023-03-29T13:03:58.306139Z",
     "start_time": "2023-03-29T13:03:57.733045Z"
    }
   },
   "outputs": [
    {
     "data": {
      "text/plain": [
       "<Axes: >"
      ]
     },
     "execution_count": 18,
     "metadata": {},
     "output_type": "execute_result"
    },
    {
     "data": {
      "image/png": "[encoded data removed]",
      "text/plain": [
       "<Figure size 2500x1200 with 2 Axes>"
      ]
     },
     "metadata": {},
     "output_type": "display_data"
    }
   ],
   "source": [
    "d = pd.DataFrame( corr_dict )\n",
    "d = d.set_index( d.columns )\n",
    "sns.heatmap( d, annot=True )"
   ]
  },
  {
   "cell_type": "markdown",
   "id": "75fda12f",
   "metadata": {},
   "source": [
    "# 2.0 Data Filtering"
   ]
  },
  {
   "cell_type": "code",
   "execution_count": 19,
   "id": "d902c13d",
   "metadata": {
    "ExecuteTime": {
     "end_time": "2023-03-29T13:03:58.664327Z",
     "start_time": "2023-03-29T13:03:58.309198Z"
    }
   },
   "outputs": [
    {
     "data": {
      "text/plain": [
       "Index(['id', 'date_account_created', 'timestamp_first_active',\n",
       "       'date_first_booking', 'gender', 'age', 'signup_method', 'signup_flow',\n",
       "       'language', 'affiliate_channel', 'affiliate_provider',\n",
       "       'first_affiliate_tracked', 'signup_app', 'first_device_type',\n",
       "       'first_browser', 'country_destination'],\n",
       "      dtype='object')"
      ]
     },
     "execution_count": 19,
     "metadata": {},
     "output_type": "execute_result"
    }
   ],
   "source": [
    "df2 = df1.copy()\n",
    "df2_ses = df_sessions.copy()\n",
    "df2.columns"
   ]
  },
  {
   "cell_type": "markdown",
   "id": "3115c7d4",
   "metadata": {},
   "source": [
    "## 2.1 Creat New Features"
   ]
  },
  {
   "cell_type": "code",
   "execution_count": 20,
   "id": "98a4b450",
   "metadata": {
    "ExecuteTime": {
     "end_time": "2023-03-29T13:04:00.658649Z",
     "start_time": "2023-03-29T13:03:58.667153Z"
    }
   },
   "outputs": [
    {
     "name": "stderr",
     "output_type": "stream",
     "text": [
      "/var/folders/pc/6sglrsq96ws5kp74fjj4j02h0000gn/T/ipykernel_16908/2884927145.py:27: FutureWarning: Series.dt.weekofyear and Series.dt.week have been deprecated. Please use Series.dt.isocalendar().week instead.\n",
      "  df2['week_of_year_first_active'] = df2['first_active'].dt.weekofyear\n",
      "/var/folders/pc/6sglrsq96ws5kp74fjj4j02h0000gn/T/ipykernel_16908/2884927145.py:45: FutureWarning: Series.dt.weekofyear and Series.dt.week have been deprecated. Please use Series.dt.isocalendar().week instead.\n",
      "  df2['week_of_year_first_booking'] = df2['date_first_booking'].dt.weekofyear\n",
      "/var/folders/pc/6sglrsq96ws5kp74fjj4j02h0000gn/T/ipykernel_16908/2884927145.py:63: FutureWarning: Series.dt.weekofyear and Series.dt.week have been deprecated. Please use Series.dt.isocalendar().week instead.\n",
      "  df2['week_of_year_account_created'] = df2['date_account_created'].dt.weekofyear\n"
     ]
    }
   ],
   "source": [
    "# Days from first active up to first booking\n",
    "df2['first_active'] = pd.to_datetime( df2['timestamp_first_active'].dt.strftime( '%Y-%m-%d' ) )\n",
    "df2['days_from_first_active_untill_booking'] = (df2['date_first_booking'] - df2['first_active']).apply( lambda x: x.days )\n",
    "\n",
    "\n",
    "# Days from first active up to account created\n",
    "df2['days_from_first_active_untill_account_created'] = (df2['date_account_created'] - df2['first_active']).apply( lambda x: x.days )\n",
    "\n",
    "# Days from account created  up to first book\n",
    "df2['days_from_account_created_untill_first_booking'] = (df2['date_first_booking'] - df2['date_account_created'] ).apply( lambda x: x.days )\n",
    "\n",
    "\n",
    "# ====================   First active ================================\n",
    "# year of first active\n",
    "df2['year_first_active'] = df2['first_active'].dt.year\n",
    "\n",
    "# month of first active\n",
    "df2['month_first_active'] = df2['first_active'].dt.month\n",
    "\n",
    "# day of first active\n",
    "df2['day_first_active'] = df2['first_active'].dt.day\n",
    "\n",
    "# day of week first active\n",
    "df2['day_of_week__first_active'] = df2['first_active'].dt.dayofweek\n",
    "\n",
    "# week of year of first active\n",
    "df2['week_of_year_first_active'] = df2['first_active'].dt.weekofyear\n",
    "\n",
    "\n",
    "# ========================= First Booking ===========================\n",
    "\n",
    "# year of first booking\n",
    "df2['year_first_booking'] = df2['date_first_booking'].dt.year\n",
    "\n",
    "# month of first booking\n",
    "df2['month_first_booking'] = df2['date_first_booking'].dt.month\n",
    "\n",
    "# day of first booking\n",
    "df2['day_first_booking'] = df2['date_first_booking'].dt.day\n",
    "\n",
    "# day of week first booking\n",
    "df2['day_of_week_first_booking'] = df2['date_first_booking'].dt.dayofweek\n",
    "\n",
    "# week of year of first booking\n",
    "df2['week_of_year_first_booking'] = df2['date_first_booking'].dt.weekofyear\n",
    "\n",
    "\n",
    "# ======================= Account Created ==============================\n",
    "\n",
    "# year of account created\n",
    "df2['year_account_created'] = df2['date_account_created'].dt.year\n",
    "\n",
    "# month of account created\n",
    "df2['month_account_created'] = df2['date_account_created'].dt.month\n",
    "\n",
    "# day of account created\n",
    "df2['day_account_created'] = df2['date_account_created'].dt.day\n",
    "\n",
    "# day of week account created\n",
    "df2['day_of_week_account_created'] = df2['date_account_created'].dt.dayofweek\n",
    "\n",
    "# week of year of account created\n",
    "df2['week_of_year_account_created'] = df2['date_account_created'].dt.weekofyear\n",
    "\n"
   ]
  },
  {
   "cell_type": "code",
   "execution_count": 21,
   "id": "2cfb5006",
   "metadata": {
    "ExecuteTime": {
     "end_time": "2023-03-29T13:04:00.666475Z",
     "start_time": "2023-03-29T13:04:00.661312Z"
    }
   },
   "outputs": [
    {
     "data": {
      "text/plain": [
       "(207386, 35)"
      ]
     },
     "execution_count": 21,
     "metadata": {},
     "output_type": "execute_result"
    }
   ],
   "source": [
    "df2.shape"
   ]
  },
  {
   "cell_type": "markdown",
   "id": "6f3acfc7",
   "metadata": {},
   "source": [
    "## 2.2 Columns Selection"
   ]
  },
  {
   "cell_type": "markdown",
   "id": "b8c43169",
   "metadata": {},
   "source": [
    "# 3.0 Data Filtering"
   ]
  },
  {
   "cell_type": "code",
   "execution_count": 36,
   "id": "63ad7917",
   "metadata": {
    "ExecuteTime": {
     "end_time": "2023-03-29T13:26:09.537983Z",
     "start_time": "2023-03-29T13:26:09.008628Z"
    }
   },
   "outputs": [],
   "source": [
    "df3 = df2.copy()\n",
    "df3_ses = df2_ses.copy()"
   ]
  },
  {
   "cell_type": "markdown",
   "id": "e5baf433",
   "metadata": {},
   "source": [
    "## 3.1 Filtering Row"
   ]
  },
  {
   "cell_type": "code",
   "execution_count": 37,
   "id": "3f787db7",
   "metadata": {
    "ExecuteTime": {
     "end_time": "2023-03-29T13:26:10.412002Z",
     "start_time": "2023-03-29T13:26:09.571446Z"
    }
   },
   "outputs": [],
   "source": [
    "# Age - There are few people over 120 years old.\n",
    "df3 = df3[( df3['age'] > 15 ) & ( df3['age'] < 120 )] \n",
    "\n",
    "\n",
    "# secs_elapse - There's no possibility 0 sec elapse on webs\n",
    "df3_ses = df3_ses[ df3_ses['secs_elapsed'] > 0]"
   ]
  },
  {
   "cell_type": "markdown",
   "id": "244a5ab2",
   "metadata": {},
   "source": [
    "## 3.2  Columns Selection"
   ]
  },
  {
   "cell_type": "code",
   "execution_count": 38,
   "id": "4b7b109b",
   "metadata": {
    "ExecuteTime": {
     "end_time": "2023-03-29T13:26:10.450628Z",
     "start_time": "2023-03-29T13:26:10.414948Z"
    }
   },
   "outputs": [],
   "source": [
    "cols = ['date_account_created', 'date_first_booking', 'first_active', 'timestamp_first_active']\n",
    "df3 = df3.drop( cols, axis=1 )"
   ]
  },
  {
   "cell_type": "code",
   "execution_count": 39,
   "id": "73faacce",
   "metadata": {
    "ExecuteTime": {
     "end_time": "2023-03-29T13:26:12.410150Z",
     "start_time": "2023-03-29T13:26:12.405413Z"
    }
   },
   "outputs": [
    {
     "data": {
      "text/plain": [
       "Index(['id', 'gender', 'age', 'signup_method', 'signup_flow', 'language',\n",
       "       'affiliate_channel', 'affiliate_provider', 'first_affiliate_tracked',\n",
       "       'signup_app', 'first_device_type', 'first_browser',\n",
       "       'country_destination', 'days_from_first_active_untill_booking',\n",
       "       'days_from_first_active_untill_account_created',\n",
       "       'days_from_account_created_untill_first_booking', 'year_first_active',\n",
       "       'month_first_active', 'day_first_active', 'day_of_week__first_active',\n",
       "       'week_of_year_first_active', 'year_first_booking',\n",
       "       'month_first_booking', 'day_first_booking', 'day_of_week_first_booking',\n",
       "       'week_of_year_first_booking', 'year_account_created',\n",
       "       'month_account_created', 'day_account_created',\n",
       "       'day_of_week_account_created', 'week_of_year_account_created'],\n",
       "      dtype='object')"
      ]
     },
     "execution_count": 39,
     "metadata": {},
     "output_type": "execute_result"
    }
   ],
   "source": [
    "df3.columns"
   ]
  },
  {
   "cell_type": "markdown",
   "id": "321179c1",
   "metadata": {},
   "source": [
    "# 4.0  Balanced Data"
   ]
  },
  {
   "cell_type": "code",
   "execution_count": 117,
   "id": "96ad1528",
   "metadata": {
    "ExecuteTime": {
     "end_time": "2023-03-31T13:34:57.675369Z",
     "start_time": "2023-03-31T13:34:55.741026Z"
    }
   },
   "outputs": [],
   "source": [
    "df4 = df3.copy()\n",
    "df4_ses = df3_ses.copy()\n",
    "\n",
    "\n",
    "\n",
    "df41 = df4.drop('id', axis=1 )"
   ]
  },
  {
   "cell_type": "code",
   "execution_count": 125,
   "id": "d24d9a57",
   "metadata": {
    "ExecuteTime": {
     "end_time": "2023-04-02T14:23:33.569932Z",
     "start_time": "2023-04-02T14:23:32.141502Z"
    }
   },
   "outputs": [],
   "source": [
    "# Encoder Categorical Variable\n",
    "ohe = pp.OneHotEncoder()\n",
    "\n",
    "# Numerical\n",
    "col_num = df4.select_dtypes( include=['int64', 'float64' ] ).columns.tolist()\n",
    "\n",
    "# Categorical\n",
    "col_cat = df4.select_dtypes( exclude=['int64', 'float64', 'datetime64[ns]' ] ).drop(['id', 'country_destination'], axis=1 ).columns.tolist()\n",
    "\n",
    "# Encoding\n",
    "df4_dummy = pd.DataFrame( ohe.fit_transform( df4[ col_cat ] ).toarray(), index=df4.index \n",
    "df4_dummy.columns = df4_dummy.columns.astype(str)\n",
    "                         \n",
    "# Join numerical and categorical\n",
    "df42 = pd.concat( [df4[col_num], df4_dummy], axis=1 )"
   ]
  },
  {
   "cell_type": "code",
   "execution_count": 126,
   "id": "a5cf5c2a",
   "metadata": {
    "ExecuteTime": {
     "end_time": "2023-04-02T14:23:34.612226Z",
     "start_time": "2023-04-02T14:23:34.484900Z"
    }
   },
   "outputs": [
    {
     "data": {
      "text/html": [
       "<div>\n",
       "<style scoped>\n",
       "    .dataframe tbody tr th:only-of-type {\n",
       "        vertical-align: middle;\n",
       "    }\n",
       "\n",
       "    .dataframe tbody tr th {\n",
       "        vertical-align: top;\n",
       "    }\n",
       "\n",
       "    .dataframe thead th {\n",
       "        text-align: right;\n",
       "    }\n",
       "</style>\n",
       "<table border=\"1\" class=\"dataframe\">\n",
       "  <thead>\n",
       "    <tr style=\"text-align: right;\">\n",
       "      <th></th>\n",
       "      <th>age</th>\n",
       "      <th>signup_flow</th>\n",
       "      <th>days_from_first_active_untill_booking</th>\n",
       "      <th>days_from_first_active_untill_account_created</th>\n",
       "      <th>days_from_account_created_untill_first_booking</th>\n",
       "      <th>year_first_active</th>\n",
       "      <th>month_first_active</th>\n",
       "      <th>day_first_active</th>\n",
       "      <th>day_of_week__first_active</th>\n",
       "      <th>week_of_year_first_active</th>\n",
       "      <th>year_first_booking</th>\n",
       "      <th>month_first_booking</th>\n",
       "      <th>day_first_booking</th>\n",
       "      <th>day_of_week_first_booking</th>\n",
       "      <th>week_of_year_first_booking</th>\n",
       "      <th>year_account_created</th>\n",
       "      <th>month_account_created</th>\n",
       "      <th>day_account_created</th>\n",
       "      <th>day_of_week_account_created</th>\n",
       "      <th>week_of_year_account_created</th>\n",
       "      <th>0</th>\n",
       "      <th>1</th>\n",
       "      <th>2</th>\n",
       "      <th>3</th>\n",
       "      <th>4</th>\n",
       "      <th>5</th>\n",
       "      <th>6</th>\n",
       "      <th>7</th>\n",
       "      <th>8</th>\n",
       "      <th>9</th>\n",
       "      <th>10</th>\n",
       "      <th>11</th>\n",
       "      <th>12</th>\n",
       "      <th>13</th>\n",
       "      <th>14</th>\n",
       "      <th>15</th>\n",
       "      <th>16</th>\n",
       "      <th>17</th>\n",
       "      <th>18</th>\n",
       "      <th>19</th>\n",
       "      <th>20</th>\n",
       "      <th>21</th>\n",
       "      <th>22</th>\n",
       "      <th>23</th>\n",
       "      <th>24</th>\n",
       "      <th>25</th>\n",
       "      <th>26</th>\n",
       "      <th>27</th>\n",
       "      <th>28</th>\n",
       "      <th>29</th>\n",
       "      <th>30</th>\n",
       "      <th>31</th>\n",
       "      <th>32</th>\n",
       "      <th>33</th>\n",
       "      <th>34</th>\n",
       "      <th>35</th>\n",
       "      <th>36</th>\n",
       "      <th>37</th>\n",
       "      <th>38</th>\n",
       "      <th>39</th>\n",
       "      <th>40</th>\n",
       "      <th>41</th>\n",
       "      <th>42</th>\n",
       "      <th>43</th>\n",
       "      <th>44</th>\n",
       "      <th>45</th>\n",
       "      <th>46</th>\n",
       "      <th>47</th>\n",
       "      <th>48</th>\n",
       "      <th>49</th>\n",
       "      <th>50</th>\n",
       "      <th>51</th>\n",
       "      <th>52</th>\n",
       "      <th>53</th>\n",
       "      <th>54</th>\n",
       "      <th>55</th>\n",
       "      <th>56</th>\n",
       "      <th>57</th>\n",
       "      <th>58</th>\n",
       "      <th>59</th>\n",
       "      <th>60</th>\n",
       "      <th>61</th>\n",
       "      <th>62</th>\n",
       "      <th>63</th>\n",
       "      <th>64</th>\n",
       "      <th>65</th>\n",
       "      <th>66</th>\n",
       "      <th>67</th>\n",
       "      <th>68</th>\n",
       "      <th>69</th>\n",
       "      <th>70</th>\n",
       "      <th>71</th>\n",
       "      <th>72</th>\n",
       "      <th>73</th>\n",
       "      <th>74</th>\n",
       "      <th>75</th>\n",
       "      <th>76</th>\n",
       "      <th>77</th>\n",
       "      <th>78</th>\n",
       "      <th>79</th>\n",
       "      <th>80</th>\n",
       "      <th>81</th>\n",
       "      <th>82</th>\n",
       "      <th>83</th>\n",
       "      <th>84</th>\n",
       "      <th>85</th>\n",
       "      <th>86</th>\n",
       "      <th>87</th>\n",
       "      <th>88</th>\n",
       "      <th>89</th>\n",
       "      <th>90</th>\n",
       "      <th>91</th>\n",
       "      <th>92</th>\n",
       "      <th>93</th>\n",
       "      <th>94</th>\n",
       "      <th>95</th>\n",
       "      <th>96</th>\n",
       "      <th>97</th>\n",
       "      <th>98</th>\n",
       "      <th>99</th>\n",
       "      <th>100</th>\n",
       "      <th>101</th>\n",
       "      <th>102</th>\n",
       "      <th>103</th>\n",
       "      <th>104</th>\n",
       "      <th>105</th>\n",
       "      <th>106</th>\n",
       "      <th>107</th>\n",
       "      <th>108</th>\n",
       "      <th>109</th>\n",
       "      <th>110</th>\n",
       "      <th>111</th>\n",
       "      <th>112</th>\n",
       "      <th>113</th>\n",
       "      <th>114</th>\n",
       "      <th>115</th>\n",
       "      <th>116</th>\n",
       "      <th>117</th>\n",
       "      <th>118</th>\n",
       "      <th>119</th>\n",
       "      <th>120</th>\n",
       "      <th>121</th>\n",
       "      <th>122</th>\n",
       "      <th>123</th>\n",
       "      <th>124</th>\n",
       "      <th>125</th>\n",
       "      <th>126</th>\n",
       "      <th>127</th>\n",
       "      <th>128</th>\n",
       "      <th>129</th>\n",
       "    </tr>\n",
       "  </thead>\n",
       "  <tbody>\n",
       "    <tr>\n",
       "      <th>0</th>\n",
       "      <td>49</td>\n",
       "      <td>0</td>\n",
       "      <td>2293</td>\n",
       "      <td>466</td>\n",
       "      <td>1827</td>\n",
       "      <td>2009</td>\n",
       "      <td>3</td>\n",
       "      <td>19</td>\n",
       "      <td>3</td>\n",
       "      <td>12</td>\n",
       "      <td>2015</td>\n",
       "      <td>6</td>\n",
       "      <td>29</td>\n",
       "      <td>0</td>\n",
       "      <td>27</td>\n",
       "      <td>2010</td>\n",
       "      <td>6</td>\n",
       "      <td>28</td>\n",
       "      <td>0</td>\n",
       "      <td>26</td>\n",
       "      <td>1.0</td>\n",
       "      <td>0.0</td>\n",
       "      <td>0.0</td>\n",
       "      <td>0.0</td>\n",
       "      <td>0.0</td>\n",
       "      <td>1.0</td>\n",
       "      <td>0.0</td>\n",
       "      <td>0.0</td>\n",
       "      <td>0.0</td>\n",
       "      <td>0.0</td>\n",
       "      <td>0.0</td>\n",
       "      <td>0.0</td>\n",
       "      <td>1.0</td>\n",
       "      <td>0.0</td>\n",
       "      <td>0.0</td>\n",
       "      <td>0.0</td>\n",
       "      <td>0.0</td>\n",
       "      <td>0.0</td>\n",
       "      <td>0.0</td>\n",
       "      <td>0.0</td>\n",
       "      <td>0.0</td>\n",
       "      <td>0.0</td>\n",
       "      <td>0.0</td>\n",
       "      <td>0.0</td>\n",
       "      <td>0.0</td>\n",
       "      <td>0.0</td>\n",
       "      <td>0.0</td>\n",
       "      <td>0.0</td>\n",
       "      <td>0.0</td>\n",
       "      <td>0.0</td>\n",
       "      <td>0.0</td>\n",
       "      <td>0.0</td>\n",
       "      <td>0.0</td>\n",
       "      <td>0.0</td>\n",
       "      <td>1.0</td>\n",
       "      <td>0.0</td>\n",
       "      <td>0.0</td>\n",
       "      <td>0.0</td>\n",
       "      <td>0.0</td>\n",
       "      <td>0.0</td>\n",
       "      <td>0.0</td>\n",
       "      <td>0.0</td>\n",
       "      <td>0.0</td>\n",
       "      <td>0.0</td>\n",
       "      <td>1.0</td>\n",
       "      <td>0.0</td>\n",
       "      <td>0.0</td>\n",
       "      <td>0.0</td>\n",
       "      <td>0.0</td>\n",
       "      <td>0.0</td>\n",
       "      <td>0.0</td>\n",
       "      <td>0.0</td>\n",
       "      <td>0.0</td>\n",
       "      <td>0.0</td>\n",
       "      <td>0.0</td>\n",
       "      <td>0.0</td>\n",
       "      <td>0.0</td>\n",
       "      <td>0.0</td>\n",
       "      <td>0.0</td>\n",
       "      <td>0.0</td>\n",
       "      <td>0.0</td>\n",
       "      <td>0.0</td>\n",
       "      <td>0.0</td>\n",
       "      <td>0.0</td>\n",
       "      <td>1.0</td>\n",
       "      <td>0.0</td>\n",
       "      <td>0.0</td>\n",
       "      <td>1.0</td>\n",
       "      <td>0.0</td>\n",
       "      <td>0.0</td>\n",
       "      <td>0.0</td>\n",
       "      <td>0.0</td>\n",
       "      <td>1.0</td>\n",
       "      <td>0.0</td>\n",
       "      <td>0.0</td>\n",
       "      <td>0.0</td>\n",
       "      <td>0.0</td>\n",
       "      <td>0.0</td>\n",
       "      <td>0.0</td>\n",
       "      <td>0.0</td>\n",
       "      <td>0.0</td>\n",
       "      <td>0.0</td>\n",
       "      <td>0.0</td>\n",
       "      <td>0.0</td>\n",
       "      <td>0.0</td>\n",
       "      <td>0.0</td>\n",
       "      <td>1.0</td>\n",
       "      <td>0.0</td>\n",
       "      <td>0.0</td>\n",
       "      <td>0.0</td>\n",
       "      <td>0.0</td>\n",
       "      <td>0.0</td>\n",
       "      <td>0.0</td>\n",
       "      <td>0.0</td>\n",
       "      <td>0.0</td>\n",
       "      <td>0.0</td>\n",
       "      <td>0.0</td>\n",
       "      <td>0.0</td>\n",
       "      <td>0.0</td>\n",
       "      <td>0.0</td>\n",
       "      <td>0.0</td>\n",
       "      <td>0.0</td>\n",
       "      <td>0.0</td>\n",
       "      <td>0.0</td>\n",
       "      <td>0.0</td>\n",
       "      <td>0.0</td>\n",
       "      <td>0.0</td>\n",
       "      <td>0.0</td>\n",
       "      <td>0.0</td>\n",
       "      <td>0.0</td>\n",
       "      <td>0.0</td>\n",
       "      <td>0.0</td>\n",
       "      <td>0.0</td>\n",
       "      <td>0.0</td>\n",
       "      <td>0.0</td>\n",
       "      <td>0.0</td>\n",
       "      <td>0.0</td>\n",
       "      <td>0.0</td>\n",
       "      <td>0.0</td>\n",
       "      <td>0.0</td>\n",
       "      <td>0.0</td>\n",
       "      <td>0.0</td>\n",
       "      <td>0.0</td>\n",
       "      <td>0.0</td>\n",
       "      <td>0.0</td>\n",
       "      <td>0.0</td>\n",
       "      <td>0.0</td>\n",
       "      <td>0.0</td>\n",
       "      <td>0.0</td>\n",
       "      <td>0.0</td>\n",
       "    </tr>\n",
       "    <tr>\n",
       "      <th>1</th>\n",
       "      <td>38</td>\n",
       "      <td>0</td>\n",
       "      <td>2228</td>\n",
       "      <td>732</td>\n",
       "      <td>1496</td>\n",
       "      <td>2009</td>\n",
       "      <td>5</td>\n",
       "      <td>23</td>\n",
       "      <td>5</td>\n",
       "      <td>21</td>\n",
       "      <td>2015</td>\n",
       "      <td>6</td>\n",
       "      <td>29</td>\n",
       "      <td>0</td>\n",
       "      <td>27</td>\n",
       "      <td>2011</td>\n",
       "      <td>5</td>\n",
       "      <td>25</td>\n",
       "      <td>2</td>\n",
       "      <td>21</td>\n",
       "      <td>0.0</td>\n",
       "      <td>0.0</td>\n",
       "      <td>1.0</td>\n",
       "      <td>0.0</td>\n",
       "      <td>0.0</td>\n",
       "      <td>1.0</td>\n",
       "      <td>0.0</td>\n",
       "      <td>0.0</td>\n",
       "      <td>0.0</td>\n",
       "      <td>0.0</td>\n",
       "      <td>0.0</td>\n",
       "      <td>0.0</td>\n",
       "      <td>1.0</td>\n",
       "      <td>0.0</td>\n",
       "      <td>0.0</td>\n",
       "      <td>0.0</td>\n",
       "      <td>0.0</td>\n",
       "      <td>0.0</td>\n",
       "      <td>0.0</td>\n",
       "      <td>0.0</td>\n",
       "      <td>0.0</td>\n",
       "      <td>0.0</td>\n",
       "      <td>0.0</td>\n",
       "      <td>0.0</td>\n",
       "      <td>0.0</td>\n",
       "      <td>0.0</td>\n",
       "      <td>0.0</td>\n",
       "      <td>0.0</td>\n",
       "      <td>0.0</td>\n",
       "      <td>0.0</td>\n",
       "      <td>0.0</td>\n",
       "      <td>0.0</td>\n",
       "      <td>0.0</td>\n",
       "      <td>0.0</td>\n",
       "      <td>0.0</td>\n",
       "      <td>0.0</td>\n",
       "      <td>0.0</td>\n",
       "      <td>0.0</td>\n",
       "      <td>0.0</td>\n",
       "      <td>1.0</td>\n",
       "      <td>0.0</td>\n",
       "      <td>0.0</td>\n",
       "      <td>0.0</td>\n",
       "      <td>0.0</td>\n",
       "      <td>0.0</td>\n",
       "      <td>0.0</td>\n",
       "      <td>0.0</td>\n",
       "      <td>0.0</td>\n",
       "      <td>1.0</td>\n",
       "      <td>0.0</td>\n",
       "      <td>0.0</td>\n",
       "      <td>0.0</td>\n",
       "      <td>0.0</td>\n",
       "      <td>0.0</td>\n",
       "      <td>0.0</td>\n",
       "      <td>0.0</td>\n",
       "      <td>0.0</td>\n",
       "      <td>0.0</td>\n",
       "      <td>0.0</td>\n",
       "      <td>0.0</td>\n",
       "      <td>0.0</td>\n",
       "      <td>0.0</td>\n",
       "      <td>0.0</td>\n",
       "      <td>0.0</td>\n",
       "      <td>1.0</td>\n",
       "      <td>0.0</td>\n",
       "      <td>0.0</td>\n",
       "      <td>1.0</td>\n",
       "      <td>0.0</td>\n",
       "      <td>0.0</td>\n",
       "      <td>0.0</td>\n",
       "      <td>0.0</td>\n",
       "      <td>1.0</td>\n",
       "      <td>0.0</td>\n",
       "      <td>0.0</td>\n",
       "      <td>0.0</td>\n",
       "      <td>0.0</td>\n",
       "      <td>0.0</td>\n",
       "      <td>0.0</td>\n",
       "      <td>0.0</td>\n",
       "      <td>0.0</td>\n",
       "      <td>0.0</td>\n",
       "      <td>0.0</td>\n",
       "      <td>0.0</td>\n",
       "      <td>0.0</td>\n",
       "      <td>0.0</td>\n",
       "      <td>1.0</td>\n",
       "      <td>0.0</td>\n",
       "      <td>0.0</td>\n",
       "      <td>0.0</td>\n",
       "      <td>0.0</td>\n",
       "      <td>0.0</td>\n",
       "      <td>0.0</td>\n",
       "      <td>0.0</td>\n",
       "      <td>0.0</td>\n",
       "      <td>0.0</td>\n",
       "      <td>0.0</td>\n",
       "      <td>0.0</td>\n",
       "      <td>0.0</td>\n",
       "      <td>0.0</td>\n",
       "      <td>0.0</td>\n",
       "      <td>0.0</td>\n",
       "      <td>0.0</td>\n",
       "      <td>0.0</td>\n",
       "      <td>0.0</td>\n",
       "      <td>0.0</td>\n",
       "      <td>0.0</td>\n",
       "      <td>0.0</td>\n",
       "      <td>0.0</td>\n",
       "      <td>0.0</td>\n",
       "      <td>0.0</td>\n",
       "      <td>0.0</td>\n",
       "      <td>0.0</td>\n",
       "      <td>0.0</td>\n",
       "      <td>0.0</td>\n",
       "      <td>0.0</td>\n",
       "      <td>0.0</td>\n",
       "      <td>0.0</td>\n",
       "      <td>0.0</td>\n",
       "      <td>0.0</td>\n",
       "      <td>0.0</td>\n",
       "      <td>0.0</td>\n",
       "      <td>0.0</td>\n",
       "      <td>0.0</td>\n",
       "      <td>0.0</td>\n",
       "      <td>0.0</td>\n",
       "      <td>0.0</td>\n",
       "      <td>0.0</td>\n",
       "      <td>0.0</td>\n",
       "      <td>0.0</td>\n",
       "    </tr>\n",
       "    <tr>\n",
       "      <th>2</th>\n",
       "      <td>56</td>\n",
       "      <td>3</td>\n",
       "      <td>419</td>\n",
       "      <td>476</td>\n",
       "      <td>-57</td>\n",
       "      <td>2009</td>\n",
       "      <td>6</td>\n",
       "      <td>9</td>\n",
       "      <td>1</td>\n",
       "      <td>24</td>\n",
       "      <td>2010</td>\n",
       "      <td>8</td>\n",
       "      <td>2</td>\n",
       "      <td>0</td>\n",
       "      <td>31</td>\n",
       "      <td>2010</td>\n",
       "      <td>9</td>\n",
       "      <td>28</td>\n",
       "      <td>1</td>\n",
       "      <td>39</td>\n",
       "      <td>0.0</td>\n",
       "      <td>1.0</td>\n",
       "      <td>0.0</td>\n",
       "      <td>0.0</td>\n",
       "      <td>1.0</td>\n",
       "      <td>0.0</td>\n",
       "      <td>0.0</td>\n",
       "      <td>0.0</td>\n",
       "      <td>0.0</td>\n",
       "      <td>0.0</td>\n",
       "      <td>0.0</td>\n",
       "      <td>0.0</td>\n",
       "      <td>1.0</td>\n",
       "      <td>0.0</td>\n",
       "      <td>0.0</td>\n",
       "      <td>0.0</td>\n",
       "      <td>0.0</td>\n",
       "      <td>0.0</td>\n",
       "      <td>0.0</td>\n",
       "      <td>0.0</td>\n",
       "      <td>0.0</td>\n",
       "      <td>0.0</td>\n",
       "      <td>0.0</td>\n",
       "      <td>0.0</td>\n",
       "      <td>0.0</td>\n",
       "      <td>0.0</td>\n",
       "      <td>0.0</td>\n",
       "      <td>0.0</td>\n",
       "      <td>0.0</td>\n",
       "      <td>0.0</td>\n",
       "      <td>0.0</td>\n",
       "      <td>0.0</td>\n",
       "      <td>0.0</td>\n",
       "      <td>0.0</td>\n",
       "      <td>1.0</td>\n",
       "      <td>0.0</td>\n",
       "      <td>0.0</td>\n",
       "      <td>0.0</td>\n",
       "      <td>0.0</td>\n",
       "      <td>0.0</td>\n",
       "      <td>0.0</td>\n",
       "      <td>0.0</td>\n",
       "      <td>0.0</td>\n",
       "      <td>0.0</td>\n",
       "      <td>1.0</td>\n",
       "      <td>0.0</td>\n",
       "      <td>0.0</td>\n",
       "      <td>0.0</td>\n",
       "      <td>0.0</td>\n",
       "      <td>0.0</td>\n",
       "      <td>0.0</td>\n",
       "      <td>0.0</td>\n",
       "      <td>0.0</td>\n",
       "      <td>0.0</td>\n",
       "      <td>0.0</td>\n",
       "      <td>0.0</td>\n",
       "      <td>0.0</td>\n",
       "      <td>0.0</td>\n",
       "      <td>0.0</td>\n",
       "      <td>0.0</td>\n",
       "      <td>0.0</td>\n",
       "      <td>0.0</td>\n",
       "      <td>0.0</td>\n",
       "      <td>0.0</td>\n",
       "      <td>1.0</td>\n",
       "      <td>0.0</td>\n",
       "      <td>0.0</td>\n",
       "      <td>1.0</td>\n",
       "      <td>0.0</td>\n",
       "      <td>0.0</td>\n",
       "      <td>0.0</td>\n",
       "      <td>0.0</td>\n",
       "      <td>0.0</td>\n",
       "      <td>0.0</td>\n",
       "      <td>0.0</td>\n",
       "      <td>1.0</td>\n",
       "      <td>0.0</td>\n",
       "      <td>0.0</td>\n",
       "      <td>0.0</td>\n",
       "      <td>0.0</td>\n",
       "      <td>0.0</td>\n",
       "      <td>0.0</td>\n",
       "      <td>0.0</td>\n",
       "      <td>0.0</td>\n",
       "      <td>0.0</td>\n",
       "      <td>0.0</td>\n",
       "      <td>0.0</td>\n",
       "      <td>0.0</td>\n",
       "      <td>0.0</td>\n",
       "      <td>0.0</td>\n",
       "      <td>0.0</td>\n",
       "      <td>0.0</td>\n",
       "      <td>0.0</td>\n",
       "      <td>0.0</td>\n",
       "      <td>0.0</td>\n",
       "      <td>0.0</td>\n",
       "      <td>0.0</td>\n",
       "      <td>0.0</td>\n",
       "      <td>0.0</td>\n",
       "      <td>1.0</td>\n",
       "      <td>0.0</td>\n",
       "      <td>0.0</td>\n",
       "      <td>0.0</td>\n",
       "      <td>0.0</td>\n",
       "      <td>0.0</td>\n",
       "      <td>0.0</td>\n",
       "      <td>0.0</td>\n",
       "      <td>0.0</td>\n",
       "      <td>0.0</td>\n",
       "      <td>0.0</td>\n",
       "      <td>0.0</td>\n",
       "      <td>0.0</td>\n",
       "      <td>0.0</td>\n",
       "      <td>0.0</td>\n",
       "      <td>0.0</td>\n",
       "      <td>0.0</td>\n",
       "      <td>0.0</td>\n",
       "      <td>0.0</td>\n",
       "      <td>0.0</td>\n",
       "      <td>0.0</td>\n",
       "      <td>0.0</td>\n",
       "      <td>0.0</td>\n",
       "      <td>0.0</td>\n",
       "      <td>0.0</td>\n",
       "      <td>0.0</td>\n",
       "      <td>0.0</td>\n",
       "      <td>0.0</td>\n",
       "      <td>0.0</td>\n",
       "      <td>0.0</td>\n",
       "      <td>0.0</td>\n",
       "    </tr>\n",
       "    <tr>\n",
       "      <th>3</th>\n",
       "      <td>42</td>\n",
       "      <td>0</td>\n",
       "      <td>1043</td>\n",
       "      <td>765</td>\n",
       "      <td>278</td>\n",
       "      <td>2009</td>\n",
       "      <td>10</td>\n",
       "      <td>31</td>\n",
       "      <td>5</td>\n",
       "      <td>44</td>\n",
       "      <td>2012</td>\n",
       "      <td>9</td>\n",
       "      <td>8</td>\n",
       "      <td>5</td>\n",
       "      <td>36</td>\n",
       "      <td>2011</td>\n",
       "      <td>12</td>\n",
       "      <td>5</td>\n",
       "      <td>0</td>\n",
       "      <td>49</td>\n",
       "      <td>0.0</td>\n",
       "      <td>1.0</td>\n",
       "      <td>0.0</td>\n",
       "      <td>0.0</td>\n",
       "      <td>0.0</td>\n",
       "      <td>1.0</td>\n",
       "      <td>0.0</td>\n",
       "      <td>0.0</td>\n",
       "      <td>0.0</td>\n",
       "      <td>0.0</td>\n",
       "      <td>0.0</td>\n",
       "      <td>0.0</td>\n",
       "      <td>1.0</td>\n",
       "      <td>0.0</td>\n",
       "      <td>0.0</td>\n",
       "      <td>0.0</td>\n",
       "      <td>0.0</td>\n",
       "      <td>0.0</td>\n",
       "      <td>0.0</td>\n",
       "      <td>0.0</td>\n",
       "      <td>0.0</td>\n",
       "      <td>0.0</td>\n",
       "      <td>0.0</td>\n",
       "      <td>0.0</td>\n",
       "      <td>0.0</td>\n",
       "      <td>0.0</td>\n",
       "      <td>0.0</td>\n",
       "      <td>0.0</td>\n",
       "      <td>0.0</td>\n",
       "      <td>0.0</td>\n",
       "      <td>0.0</td>\n",
       "      <td>0.0</td>\n",
       "      <td>0.0</td>\n",
       "      <td>0.0</td>\n",
       "      <td>1.0</td>\n",
       "      <td>0.0</td>\n",
       "      <td>0.0</td>\n",
       "      <td>0.0</td>\n",
       "      <td>0.0</td>\n",
       "      <td>0.0</td>\n",
       "      <td>0.0</td>\n",
       "      <td>0.0</td>\n",
       "      <td>0.0</td>\n",
       "      <td>0.0</td>\n",
       "      <td>1.0</td>\n",
       "      <td>0.0</td>\n",
       "      <td>0.0</td>\n",
       "      <td>0.0</td>\n",
       "      <td>0.0</td>\n",
       "      <td>0.0</td>\n",
       "      <td>0.0</td>\n",
       "      <td>0.0</td>\n",
       "      <td>0.0</td>\n",
       "      <td>0.0</td>\n",
       "      <td>0.0</td>\n",
       "      <td>0.0</td>\n",
       "      <td>0.0</td>\n",
       "      <td>0.0</td>\n",
       "      <td>0.0</td>\n",
       "      <td>0.0</td>\n",
       "      <td>0.0</td>\n",
       "      <td>0.0</td>\n",
       "      <td>0.0</td>\n",
       "      <td>0.0</td>\n",
       "      <td>1.0</td>\n",
       "      <td>0.0</td>\n",
       "      <td>0.0</td>\n",
       "      <td>1.0</td>\n",
       "      <td>0.0</td>\n",
       "      <td>0.0</td>\n",
       "      <td>0.0</td>\n",
       "      <td>0.0</td>\n",
       "      <td>1.0</td>\n",
       "      <td>0.0</td>\n",
       "      <td>0.0</td>\n",
       "      <td>0.0</td>\n",
       "      <td>0.0</td>\n",
       "      <td>0.0</td>\n",
       "      <td>0.0</td>\n",
       "      <td>0.0</td>\n",
       "      <td>0.0</td>\n",
       "      <td>0.0</td>\n",
       "      <td>0.0</td>\n",
       "      <td>0.0</td>\n",
       "      <td>0.0</td>\n",
       "      <td>0.0</td>\n",
       "      <td>0.0</td>\n",
       "      <td>0.0</td>\n",
       "      <td>0.0</td>\n",
       "      <td>0.0</td>\n",
       "      <td>0.0</td>\n",
       "      <td>0.0</td>\n",
       "      <td>0.0</td>\n",
       "      <td>0.0</td>\n",
       "      <td>0.0</td>\n",
       "      <td>1.0</td>\n",
       "      <td>0.0</td>\n",
       "      <td>0.0</td>\n",
       "      <td>0.0</td>\n",
       "      <td>0.0</td>\n",
       "      <td>0.0</td>\n",
       "      <td>0.0</td>\n",
       "      <td>0.0</td>\n",
       "      <td>0.0</td>\n",
       "      <td>0.0</td>\n",
       "      <td>0.0</td>\n",
       "      <td>0.0</td>\n",
       "      <td>0.0</td>\n",
       "      <td>0.0</td>\n",
       "      <td>0.0</td>\n",
       "      <td>0.0</td>\n",
       "      <td>0.0</td>\n",
       "      <td>0.0</td>\n",
       "      <td>0.0</td>\n",
       "      <td>0.0</td>\n",
       "      <td>0.0</td>\n",
       "      <td>0.0</td>\n",
       "      <td>0.0</td>\n",
       "      <td>0.0</td>\n",
       "      <td>0.0</td>\n",
       "      <td>0.0</td>\n",
       "      <td>0.0</td>\n",
       "      <td>0.0</td>\n",
       "      <td>0.0</td>\n",
       "      <td>0.0</td>\n",
       "      <td>0.0</td>\n",
       "      <td>0.0</td>\n",
       "      <td>0.0</td>\n",
       "      <td>0.0</td>\n",
       "      <td>0.0</td>\n",
       "    </tr>\n",
       "    <tr>\n",
       "      <th>4</th>\n",
       "      <td>41</td>\n",
       "      <td>0</td>\n",
       "      <td>72</td>\n",
       "      <td>280</td>\n",
       "      <td>-208</td>\n",
       "      <td>2009</td>\n",
       "      <td>12</td>\n",
       "      <td>8</td>\n",
       "      <td>1</td>\n",
       "      <td>50</td>\n",
       "      <td>2010</td>\n",
       "      <td>2</td>\n",
       "      <td>18</td>\n",
       "      <td>3</td>\n",
       "      <td>7</td>\n",
       "      <td>2010</td>\n",
       "      <td>9</td>\n",
       "      <td>14</td>\n",
       "      <td>1</td>\n",
       "      <td>37</td>\n",
       "      <td>1.0</td>\n",
       "      <td>0.0</td>\n",
       "      <td>0.0</td>\n",
       "      <td>0.0</td>\n",
       "      <td>1.0</td>\n",
       "      <td>0.0</td>\n",
       "      <td>0.0</td>\n",
       "      <td>0.0</td>\n",
       "      <td>0.0</td>\n",
       "      <td>0.0</td>\n",
       "      <td>0.0</td>\n",
       "      <td>0.0</td>\n",
       "      <td>1.0</td>\n",
       "      <td>0.0</td>\n",
       "      <td>0.0</td>\n",
       "      <td>0.0</td>\n",
       "      <td>0.0</td>\n",
       "      <td>0.0</td>\n",
       "      <td>0.0</td>\n",
       "      <td>0.0</td>\n",
       "      <td>0.0</td>\n",
       "      <td>0.0</td>\n",
       "      <td>0.0</td>\n",
       "      <td>0.0</td>\n",
       "      <td>0.0</td>\n",
       "      <td>0.0</td>\n",
       "      <td>0.0</td>\n",
       "      <td>0.0</td>\n",
       "      <td>0.0</td>\n",
       "      <td>0.0</td>\n",
       "      <td>0.0</td>\n",
       "      <td>0.0</td>\n",
       "      <td>0.0</td>\n",
       "      <td>0.0</td>\n",
       "      <td>1.0</td>\n",
       "      <td>0.0</td>\n",
       "      <td>0.0</td>\n",
       "      <td>0.0</td>\n",
       "      <td>0.0</td>\n",
       "      <td>0.0</td>\n",
       "      <td>0.0</td>\n",
       "      <td>0.0</td>\n",
       "      <td>0.0</td>\n",
       "      <td>0.0</td>\n",
       "      <td>1.0</td>\n",
       "      <td>0.0</td>\n",
       "      <td>0.0</td>\n",
       "      <td>0.0</td>\n",
       "      <td>0.0</td>\n",
       "      <td>0.0</td>\n",
       "      <td>0.0</td>\n",
       "      <td>0.0</td>\n",
       "      <td>0.0</td>\n",
       "      <td>0.0</td>\n",
       "      <td>0.0</td>\n",
       "      <td>0.0</td>\n",
       "      <td>0.0</td>\n",
       "      <td>0.0</td>\n",
       "      <td>0.0</td>\n",
       "      <td>0.0</td>\n",
       "      <td>0.0</td>\n",
       "      <td>0.0</td>\n",
       "      <td>0.0</td>\n",
       "      <td>0.0</td>\n",
       "      <td>1.0</td>\n",
       "      <td>0.0</td>\n",
       "      <td>0.0</td>\n",
       "      <td>1.0</td>\n",
       "      <td>0.0</td>\n",
       "      <td>0.0</td>\n",
       "      <td>0.0</td>\n",
       "      <td>0.0</td>\n",
       "      <td>1.0</td>\n",
       "      <td>0.0</td>\n",
       "      <td>0.0</td>\n",
       "      <td>0.0</td>\n",
       "      <td>0.0</td>\n",
       "      <td>0.0</td>\n",
       "      <td>0.0</td>\n",
       "      <td>0.0</td>\n",
       "      <td>0.0</td>\n",
       "      <td>0.0</td>\n",
       "      <td>0.0</td>\n",
       "      <td>0.0</td>\n",
       "      <td>0.0</td>\n",
       "      <td>0.0</td>\n",
       "      <td>1.0</td>\n",
       "      <td>0.0</td>\n",
       "      <td>0.0</td>\n",
       "      <td>0.0</td>\n",
       "      <td>0.0</td>\n",
       "      <td>0.0</td>\n",
       "      <td>0.0</td>\n",
       "      <td>0.0</td>\n",
       "      <td>0.0</td>\n",
       "      <td>0.0</td>\n",
       "      <td>0.0</td>\n",
       "      <td>0.0</td>\n",
       "      <td>0.0</td>\n",
       "      <td>0.0</td>\n",
       "      <td>0.0</td>\n",
       "      <td>0.0</td>\n",
       "      <td>0.0</td>\n",
       "      <td>0.0</td>\n",
       "      <td>0.0</td>\n",
       "      <td>0.0</td>\n",
       "      <td>0.0</td>\n",
       "      <td>0.0</td>\n",
       "      <td>0.0</td>\n",
       "      <td>0.0</td>\n",
       "      <td>0.0</td>\n",
       "      <td>0.0</td>\n",
       "      <td>0.0</td>\n",
       "      <td>0.0</td>\n",
       "      <td>0.0</td>\n",
       "      <td>0.0</td>\n",
       "      <td>0.0</td>\n",
       "      <td>0.0</td>\n",
       "      <td>0.0</td>\n",
       "      <td>0.0</td>\n",
       "      <td>0.0</td>\n",
       "      <td>0.0</td>\n",
       "      <td>0.0</td>\n",
       "      <td>0.0</td>\n",
       "      <td>0.0</td>\n",
       "      <td>0.0</td>\n",
       "      <td>0.0</td>\n",
       "      <td>0.0</td>\n",
       "      <td>0.0</td>\n",
       "      <td>0.0</td>\n",
       "    </tr>\n",
       "  </tbody>\n",
       "</table>\n",
       "</div>"
      ],
      "text/plain": [
       "   age  signup_flow  days_from_first_active_untill_booking  days_from_first_active_untill_account_created  days_from_account_created_untill_first_booking  year_first_active  month_first_active  day_first_active  day_of_week__first_active  week_of_year_first_active  year_first_booking  month_first_booking  day_first_booking  day_of_week_first_booking  week_of_year_first_booking  year_account_created  month_account_created  day_account_created  day_of_week_account_created  week_of_year_account_created    0    1    2    3    4    5    6    7    8    9   10   11   12   13   14   15   16   17   18   19   20   21   22   23   24   25   26   27   28   29   30   31   32   33   34   35   36   37   38   39   40   41   42   43   44   45   46   47   48   49   50   51   52   53   54   55   56   57   58   59   60   61   62   63   64   65   66   67   68   69   70   71   72   73   74   75   76   77   78   79   80   81   82   83   84   85   86   87   88   89   90   91   92   93   94   95   96   97   98   99  100  101  102  103  104  105  106  107  108  109  110  111  112  113  114  115  116  117  118  119  120  121  122  123  124  125  126  127  128  129\n",
       "0   49            0                                   2293                                            466                                            1827               2009                   3                19                          3                         12                2015                    6                 29                          0                          27                  2010                      6                   28                            0                            26  1.0  0.0  0.0  0.0  0.0  1.0  0.0  0.0  0.0  0.0  0.0  0.0  1.0  0.0  0.0  0.0  0.0  0.0  0.0  0.0  0.0  0.0  0.0  0.0  0.0  0.0  0.0  0.0  0.0  0.0  0.0  0.0  0.0  0.0  1.0  0.0  0.0  0.0  0.0  0.0  0.0  0.0  0.0  0.0  1.0  0.0  0.0  0.0  0.0  0.0  0.0  0.0  0.0  0.0  0.0  0.0  0.0  0.0  0.0  0.0  0.0  0.0  0.0  0.0  1.0  0.0  0.0  1.0  0.0  0.0  0.0  0.0  1.0  0.0  0.0  0.0  0.0  0.0  0.0  0.0  0.0  0.0  0.0  0.0  0.0  0.0  1.0  0.0  0.0  0.0  0.0  0.0  0.0  0.0  0.0  0.0  0.0  0.0  0.0  0.0  0.0  0.0  0.0  0.0  0.0  0.0  0.0  0.0  0.0  0.0  0.0  0.0  0.0  0.0  0.0  0.0  0.0  0.0  0.0  0.0  0.0  0.0  0.0  0.0  0.0  0.0  0.0  0.0  0.0  0.0\n",
       "1   38            0                                   2228                                            732                                            1496               2009                   5                23                          5                         21                2015                    6                 29                          0                          27                  2011                      5                   25                            2                            21  0.0  0.0  1.0  0.0  0.0  1.0  0.0  0.0  0.0  0.0  0.0  0.0  1.0  0.0  0.0  0.0  0.0  0.0  0.0  0.0  0.0  0.0  0.0  0.0  0.0  0.0  0.0  0.0  0.0  0.0  0.0  0.0  0.0  0.0  0.0  0.0  0.0  0.0  0.0  1.0  0.0  0.0  0.0  0.0  0.0  0.0  0.0  0.0  1.0  0.0  0.0  0.0  0.0  0.0  0.0  0.0  0.0  0.0  0.0  0.0  0.0  0.0  0.0  0.0  1.0  0.0  0.0  1.0  0.0  0.0  0.0  0.0  1.0  0.0  0.0  0.0  0.0  0.0  0.0  0.0  0.0  0.0  0.0  0.0  0.0  0.0  1.0  0.0  0.0  0.0  0.0  0.0  0.0  0.0  0.0  0.0  0.0  0.0  0.0  0.0  0.0  0.0  0.0  0.0  0.0  0.0  0.0  0.0  0.0  0.0  0.0  0.0  0.0  0.0  0.0  0.0  0.0  0.0  0.0  0.0  0.0  0.0  0.0  0.0  0.0  0.0  0.0  0.0  0.0  0.0\n",
       "2   56            3                                    419                                            476                                             -57               2009                   6                 9                          1                         24                2010                    8                  2                          0                          31                  2010                      9                   28                            1                            39  0.0  1.0  0.0  0.0  1.0  0.0  0.0  0.0  0.0  0.0  0.0  0.0  1.0  0.0  0.0  0.0  0.0  0.0  0.0  0.0  0.0  0.0  0.0  0.0  0.0  0.0  0.0  0.0  0.0  0.0  0.0  0.0  0.0  0.0  1.0  0.0  0.0  0.0  0.0  0.0  0.0  0.0  0.0  0.0  1.0  0.0  0.0  0.0  0.0  0.0  0.0  0.0  0.0  0.0  0.0  0.0  0.0  0.0  0.0  0.0  0.0  0.0  0.0  0.0  1.0  0.0  0.0  1.0  0.0  0.0  0.0  0.0  0.0  0.0  0.0  1.0  0.0  0.0  0.0  0.0  0.0  0.0  0.0  0.0  0.0  0.0  0.0  0.0  0.0  0.0  0.0  0.0  0.0  0.0  0.0  0.0  0.0  0.0  0.0  1.0  0.0  0.0  0.0  0.0  0.0  0.0  0.0  0.0  0.0  0.0  0.0  0.0  0.0  0.0  0.0  0.0  0.0  0.0  0.0  0.0  0.0  0.0  0.0  0.0  0.0  0.0  0.0  0.0  0.0  0.0\n",
       "3   42            0                                   1043                                            765                                             278               2009                  10                31                          5                         44                2012                    9                  8                          5                          36                  2011                     12                    5                            0                            49  0.0  1.0  0.0  0.0  0.0  1.0  0.0  0.0  0.0  0.0  0.0  0.0  1.0  0.0  0.0  0.0  0.0  0.0  0.0  0.0  0.0  0.0  0.0  0.0  0.0  0.0  0.0  0.0  0.0  0.0  0.0  0.0  0.0  0.0  1.0  0.0  0.0  0.0  0.0  0.0  0.0  0.0  0.0  0.0  1.0  0.0  0.0  0.0  0.0  0.0  0.0  0.0  0.0  0.0  0.0  0.0  0.0  0.0  0.0  0.0  0.0  0.0  0.0  0.0  1.0  0.0  0.0  1.0  0.0  0.0  0.0  0.0  1.0  0.0  0.0  0.0  0.0  0.0  0.0  0.0  0.0  0.0  0.0  0.0  0.0  0.0  0.0  0.0  0.0  0.0  0.0  0.0  0.0  0.0  0.0  1.0  0.0  0.0  0.0  0.0  0.0  0.0  0.0  0.0  0.0  0.0  0.0  0.0  0.0  0.0  0.0  0.0  0.0  0.0  0.0  0.0  0.0  0.0  0.0  0.0  0.0  0.0  0.0  0.0  0.0  0.0  0.0  0.0  0.0  0.0\n",
       "4   41            0                                     72                                            280                                            -208               2009                  12                 8                          1                         50                2010                    2                 18                          3                           7                  2010                      9                   14                            1                            37  1.0  0.0  0.0  0.0  1.0  0.0  0.0  0.0  0.0  0.0  0.0  0.0  1.0  0.0  0.0  0.0  0.0  0.0  0.0  0.0  0.0  0.0  0.0  0.0  0.0  0.0  0.0  0.0  0.0  0.0  0.0  0.0  0.0  0.0  1.0  0.0  0.0  0.0  0.0  0.0  0.0  0.0  0.0  0.0  1.0  0.0  0.0  0.0  0.0  0.0  0.0  0.0  0.0  0.0  0.0  0.0  0.0  0.0  0.0  0.0  0.0  0.0  0.0  0.0  1.0  0.0  0.0  1.0  0.0  0.0  0.0  0.0  1.0  0.0  0.0  0.0  0.0  0.0  0.0  0.0  0.0  0.0  0.0  0.0  0.0  0.0  1.0  0.0  0.0  0.0  0.0  0.0  0.0  0.0  0.0  0.0  0.0  0.0  0.0  0.0  0.0  0.0  0.0  0.0  0.0  0.0  0.0  0.0  0.0  0.0  0.0  0.0  0.0  0.0  0.0  0.0  0.0  0.0  0.0  0.0  0.0  0.0  0.0  0.0  0.0  0.0  0.0  0.0  0.0  0.0"
      ]
     },
     "execution_count": 126,
     "metadata": {},
     "output_type": "execute_result"
    }
   ],
   "source": [
    "df42.head()"
   ]
  },
  {
   "cell_type": "markdown",
   "id": "5dbddc4d",
   "metadata": {},
   "source": [
    "## 4.1 Randon UnderSampling"
   ]
  },
  {
   "cell_type": "code",
   "execution_count": 127,
   "id": "d17366e4",
   "metadata": {
    "ExecuteTime": {
     "end_time": "2023-04-02T14:23:42.574076Z",
     "start_time": "2023-04-02T14:23:41.200652Z"
    }
   },
   "outputs": [],
   "source": [
    "# ratio balanced\n",
    "ratio_balanced = {'NDF' : 10000}\n",
    "\n",
    "\n",
    "# define sampler\n",
    "undersampling =  us.RandomUnderSampler( sampling_strategy=ratio_balanced, random_state=32 )\n",
    "\n",
    "# Apply Sampler\n",
    "x_under, y_under = undersampling.fit_resample( df42, df4['country_destination'])"
   ]
  },
  {
   "cell_type": "code",
   "execution_count": 128,
   "id": "470c592a",
   "metadata": {
    "ExecuteTime": {
     "end_time": "2023-04-02T14:23:43.394138Z",
     "start_time": "2023-04-02T14:23:43.375263Z"
    },
    "cell_style": "split"
   },
   "outputs": [
    {
     "data": {
      "text/plain": [
       "NDF      119810\n",
       "US        60800\n",
       "other      9935\n",
       "FR         4881\n",
       "IT         2776\n",
       "GB         2285\n",
       "ES         2203\n",
       "CA         1385\n",
       "DE         1033\n",
       "NL          746\n",
       "AU          526\n",
       "PT          213\n",
       "Name: country_destination, dtype: int64"
      ]
     },
     "execution_count": 128,
     "metadata": {},
     "output_type": "execute_result"
    }
   ],
   "source": [
    "df4['country_destination'].value_counts()"
   ]
  },
  {
   "cell_type": "code",
   "execution_count": 129,
   "id": "70ef5619",
   "metadata": {
    "ExecuteTime": {
     "end_time": "2023-04-02T14:23:44.559772Z",
     "start_time": "2023-04-02T14:23:44.548038Z"
    },
    "cell_style": "split",
    "scrolled": true
   },
   "outputs": [
    {
     "data": {
      "text/plain": [
       "US       60800\n",
       "NDF      10000\n",
       "other     9935\n",
       "FR        4881\n",
       "IT        2776\n",
       "GB        2285\n",
       "ES        2203\n",
       "CA        1385\n",
       "DE        1033\n",
       "NL         746\n",
       "AU         526\n",
       "PT         213\n",
       "Name: country_destination, dtype: int64"
      ]
     },
     "execution_count": 129,
     "metadata": {},
     "output_type": "execute_result"
    }
   ],
   "source": [
    "y_under.value_counts()"
   ]
  },
  {
   "cell_type": "code",
   "execution_count": 131,
   "id": "5d131c83",
   "metadata": {
    "ExecuteTime": {
     "end_time": "2023-04-02T14:24:09.881966Z",
     "start_time": "2023-04-02T14:23:54.102222Z"
    }
   },
   "outputs": [],
   "source": [
    "# ratio balanced\n",
    "#ratio_balanced = {'NDF' : 10000}\n",
    "\n",
    "\n",
    "# define sampler\n",
    "overrsampling =  os.RandomOverSampler( sampling_strategy = 'auto', random_state=32 )\n",
    "\n",
    "# Apply Sampler\n",
    "x_under, y_under = oversampling.fit_resample( df42, df4['country_destination'])"
   ]
  },
  {
   "cell_type": "markdown",
   "id": "1f8e2559",
   "metadata": {},
   "source": [
    "## 4.2 Randon OverSampling"
   ]
  },
  {
   "cell_type": "code",
   "execution_count": 133,
   "id": "03c4eec2",
   "metadata": {
    "ExecuteTime": {
     "end_time": "2023-04-02T14:24:30.456040Z",
     "start_time": "2023-04-02T14:24:16.360568Z"
    }
   },
   "outputs": [],
   "source": [
    "# ratio balanced\n",
    "#ratio_balanced = {'NDF' : 10000}\n",
    "\n",
    "\n",
    "# define sampler\n",
    "oversampling =  os.RandomOverSampler( sampling_strategy = 'all', random_state=32 )\n",
    "\n",
    "# Apply Sampler\n",
    "x_over, y_over = oversampling.fit_resample( df42, df4['country_destination'])"
   ]
  },
  {
   "cell_type": "code",
   "execution_count": 134,
   "id": "828399b2",
   "metadata": {
    "ExecuteTime": {
     "end_time": "2023-04-02T14:24:30.481444Z",
     "start_time": "2023-04-02T14:24:30.460499Z"
    },
    "cell_style": "split"
   },
   "outputs": [
    {
     "data": {
      "text/plain": [
       "NDF      119810\n",
       "US        60800\n",
       "other      9935\n",
       "FR         4881\n",
       "IT         2776\n",
       "GB         2285\n",
       "ES         2203\n",
       "CA         1385\n",
       "DE         1033\n",
       "NL          746\n",
       "AU          526\n",
       "PT          213\n",
       "Name: country_destination, dtype: int64"
      ]
     },
     "execution_count": 134,
     "metadata": {},
     "output_type": "execute_result"
    }
   ],
   "source": [
    "df4['country_destination'].value_counts()"
   ]
  },
  {
   "cell_type": "code",
   "execution_count": 135,
   "id": "fd4e1f45",
   "metadata": {
    "ExecuteTime": {
     "end_time": "2023-04-02T14:24:30.567496Z",
     "start_time": "2023-04-02T14:24:30.484741Z"
    },
    "cell_style": "split",
    "scrolled": true
   },
   "outputs": [
    {
     "data": {
      "text/plain": [
       "NDF      119810\n",
       "US       119810\n",
       "other    119810\n",
       "CA       119810\n",
       "FR       119810\n",
       "ES       119810\n",
       "GB       119810\n",
       "IT       119810\n",
       "PT       119810\n",
       "NL       119810\n",
       "DE       119810\n",
       "AU       119810\n",
       "Name: country_destination, dtype: int64"
      ]
     },
     "execution_count": 135,
     "metadata": {},
     "output_type": "execute_result"
    }
   ],
   "source": [
    "y_over.value_counts()"
   ]
  },
  {
   "cell_type": "markdown",
   "id": "1df5c04c",
   "metadata": {},
   "source": [
    "## 4.3 SMOTE + Tomeklink"
   ]
  },
  {
   "cell_type": "code",
   "execution_count": 136,
   "id": "e4e967db",
   "metadata": {
    "ExecuteTime": {
     "end_time": "2023-04-02T14:24:33.124560Z",
     "start_time": "2023-04-02T14:24:33.078306Z"
    }
   },
   "outputs": [],
   "source": [
    "ratio_balanced= {'NDF': 119810,\n",
    "                 'US': 60800,\n",
    "                 'other': 9935,\n",
    "                 'FR': 4881,\n",
    "                 'IT': 2776,\n",
    "                 'GB': 2285, \n",
    "                 'ES': 2203,\n",
    "                 'CA': 1385,\n",
    "                 'DE': 1033,\n",
    "                 'NL': 746,\n",
    "                 'AU': 526,\n",
    "                 'PT': 213}"
   ]
  },
  {
   "cell_type": "code",
   "execution_count": 151,
   "id": "bcca32b7",
   "metadata": {
    "ExecuteTime": {
     "end_time": "2023-04-03T12:20:32.326755Z",
     "start_time": "2023-04-03T12:20:32.289799Z"
    }
   },
   "outputs": [],
   "source": [
    "from imblearn.over_sampling import BorderlineSMOTE"
   ]
  },
  {
   "cell_type": "code",
   "execution_count": 152,
   "id": "e9ad956e",
   "metadata": {
    "ExecuteTime": {
     "end_time": "2023-04-03T12:20:45.327183Z",
     "start_time": "2023-04-03T12:20:43.311984Z"
    }
   },
   "outputs": [
    {
     "name": "stderr",
     "output_type": "stream",
     "text": [
      "/Users/adriele/opt/anaconda3/envs/env_pa001/lib/python3.9/site-packages/imblearn/over_sampling/_smote/filter.py:192: FutureWarning: The parameter `n_jobs` has been deprecated in 0.10 and will be removed in 0.12. You can pass an nearest neighbors estimator where `n_jobs` is already set instead.\n",
      "  warnings.warn(\n"
     ]
    }
   ],
   "source": [
    "# define sample\n",
    "#smt = c.SMOTETomek( sampling_strategy=ratio_balanced, random_state=32, n_jobs=-1 )\n",
    "smt = BorderlineSMOTE( sampling_strategy=ratio_balanced, random_state=32, n_jobs=-1 )\n",
    "\n",
    "# Apply Sampler\n",
    "x_smt, y_smt = smt.fit_resample( df42, df4[ 'country_destination' ] )\n"
   ]
  },
  {
   "cell_type": "code",
   "execution_count": 153,
   "id": "b41652f3",
   "metadata": {
    "ExecuteTime": {
     "end_time": "2023-04-03T12:20:46.558917Z",
     "start_time": "2023-04-03T12:20:46.489706Z"
    },
    "cell_style": "split"
   },
   "outputs": [
    {
     "data": {
      "text/plain": [
       "NDF      119810\n",
       "US        60800\n",
       "other      9935\n",
       "FR         4881\n",
       "IT         2776\n",
       "GB         2285\n",
       "ES         2203\n",
       "CA         1385\n",
       "DE         1033\n",
       "NL          746\n",
       "AU          526\n",
       "PT          213\n",
       "Name: country_destination, dtype: int64"
      ]
     },
     "execution_count": 153,
     "metadata": {},
     "output_type": "execute_result"
    }
   ],
   "source": [
    "df4['country_destination'].value_counts()"
   ]
  },
  {
   "cell_type": "code",
   "execution_count": 154,
   "id": "83ae2d5b",
   "metadata": {
    "ExecuteTime": {
     "end_time": "2023-04-03T12:20:50.089915Z",
     "start_time": "2023-04-03T12:20:50.070524Z"
    },
    "cell_style": "split"
   },
   "outputs": [
    {
     "data": {
      "text/plain": [
       "NDF      119810\n",
       "US        60800\n",
       "other      9935\n",
       "FR         4881\n",
       "IT         2776\n",
       "GB         2285\n",
       "ES         2203\n",
       "CA         1385\n",
       "DE         1033\n",
       "NL          746\n",
       "AU          526\n",
       "PT          213\n",
       "Name: country_destination, dtype: int64"
      ]
     },
     "execution_count": 154,
     "metadata": {},
     "output_type": "execute_result"
    }
   ],
   "source": [
    "y_smt.value_counts()"
   ]
  },
  {
   "cell_type": "code",
   "execution_count": 156,
   "id": "2851e33c",
   "metadata": {
    "ExecuteTime": {
     "end_time": "2023-04-03T12:21:14.601918Z",
     "start_time": "2023-04-03T12:21:14.086748Z"
    }
   },
   "outputs": [],
   "source": [
    "# Numerical data\n",
    "df43 = x_smt[ col_num ]\n",
    "\n",
    "# categorical data\n",
    "df44 = x_smt.drop( col_num, axis=1 )\n",
    "df45 = pd.DataFrame( ohe.inverse_transform( df44 ), columns=col_cat, index=df44.index )\n",
    "\n",
    "# join numerican and categirical\n",
    "df46 = pd.concat( [df43, df45], axis=1 )\n",
    "df46['country_destination'] = y_smt"
   ]
  },
  {
   "cell_type": "markdown",
   "id": "b4c12b55",
   "metadata": {},
   "source": [
    "# 5.0 Data Preparation"
   ]
  },
  {
   "cell_type": "code",
   "execution_count": 160,
   "id": "c3d2def5",
   "metadata": {
    "ExecuteTime": {
     "end_time": "2023-04-03T12:23:05.859255Z",
     "start_time": "2023-04-03T12:23:04.126799Z"
    }
   },
   "outputs": [],
   "source": [
    "df5 = df4.copy()\n",
    "df5_ses = df4_ses.copy()\n",
    "\n",
    "# dammy variable\n",
    "df5_dummy = pd.get_dummies( df5.drop( ['id', 'country_destination'], axis=1) )\n",
    "\n",
    "# join Id and Country destination\n",
    "df5 = pd.concat( [df4[['id', 'country_destination']], df4_dummy], axis=1 )"
   ]
  },
  {
   "cell_type": "code",
   "execution_count": 161,
   "id": "2ec77123",
   "metadata": {
    "ExecuteTime": {
     "end_time": "2023-04-03T12:23:15.979732Z",
     "start_time": "2023-04-03T12:23:15.975415Z"
    }
   },
   "outputs": [
    {
     "data": {
      "text/plain": [
       "(206593, 152)"
      ]
     },
     "execution_count": 161,
     "metadata": {},
     "output_type": "execute_result"
    }
   ],
   "source": [
    "df5.shape"
   ]
  },
  {
   "cell_type": "markdown",
   "id": "967c8780",
   "metadata": {},
   "source": [
    "# 6.0  Features Selection"
   ]
  },
  {
   "cell_type": "code",
   "execution_count": 166,
   "id": "63504662",
   "metadata": {
    "ExecuteTime": {
     "end_time": "2023-04-03T12:24:23.049705Z",
     "start_time": "2023-04-03T12:24:23.034209Z"
    }
   },
   "outputs": [],
   "source": [
    "#cols_drop = ['date_account_created', 'timestamp_first_active', 'date_first_booking', 'first_active']\n",
    "\n",
    "df6 = df5.copy()"
   ]
  },
  {
   "cell_type": "markdown",
   "id": "a18badc6",
   "metadata": {},
   "source": [
    "# 7.0 Machine Learning Model"
   ]
  },
  {
   "cell_type": "code",
   "execution_count": 167,
   "id": "3195a391",
   "metadata": {
    "ExecuteTime": {
     "end_time": "2023-04-03T12:24:23.967970Z",
     "start_time": "2023-04-03T12:24:23.940636Z"
    }
   },
   "outputs": [],
   "source": [
    "df7 = df6.copy()"
   ]
  },
  {
   "cell_type": "code",
   "execution_count": 168,
   "id": "41f5a9cd",
   "metadata": {
    "ExecuteTime": {
     "end_time": "2023-04-03T12:24:24.750113Z",
     "start_time": "2023-04-03T12:24:24.687009Z"
    }
   },
   "outputs": [],
   "source": [
    "x = df7.drop( 'country_destination', axis=1 )\n",
    "y = df7[ 'country_destination' ].copy()"
   ]
  },
  {
   "cell_type": "code",
   "execution_count": 169,
   "id": "4c01c584",
   "metadata": {
    "ExecuteTime": {
     "end_time": "2023-04-03T12:24:25.964315Z",
     "start_time": "2023-04-03T12:24:25.693331Z"
    }
   },
   "outputs": [],
   "source": [
    "# split dataset into to training and test\n",
    "X_train, X_test, y_train, y_test = ms.train_test_split( x, y, test_size=0.2, random_state = 42 )"
   ]
  },
  {
   "cell_type": "code",
   "execution_count": 170,
   "id": "71d321ea",
   "metadata": {
    "ExecuteTime": {
     "end_time": "2023-04-03T12:24:26.334655Z",
     "start_time": "2023-04-03T12:24:26.280635Z"
    }
   },
   "outputs": [],
   "source": [
    "x_train = X_train.drop( 'id', axis=1 )\n",
    "x_test = X_test.drop( 'id', axis=1 )"
   ]
  },
  {
   "cell_type": "markdown",
   "id": "da8ee994",
   "metadata": {},
   "source": [
    "## 7.1 Baseline Model"
   ]
  },
  {
   "cell_type": "code",
   "execution_count": 173,
   "id": "a65de1ec",
   "metadata": {
    "ExecuteTime": {
     "end_time": "2023-04-03T12:26:00.283635Z",
     "start_time": "2023-04-03T12:26:00.246740Z"
    }
   },
   "outputs": [
    {
     "data": {
      "text/plain": [
       "41319"
      ]
     },
     "execution_count": 173,
     "metadata": {},
     "output_type": "execute_result"
    }
   ],
   "source": [
    "import random\n",
    "\n",
    "\n",
    "country_destination_list = df1['country_destination'].drop_duplicates().sort_values().tolist()\n",
    "k_num = y_test.shape[0]\n",
    "\n",
    "country_destination_weight = df1['country_destination'].value_counts( normalize=True ).sort_index()\n",
    "\n",
    "yhat_random = random.choices( population = country_destination_list,\n",
    "                              weights = country_destination_weight,\n",
    "                              k = k_num )\n",
    "len( yhat_random )"
   ]
  },
  {
   "cell_type": "markdown",
   "id": "16e67143",
   "metadata": {},
   "source": [
    "## 7.2 Baseline Model Performance "
   ]
  },
  {
   "cell_type": "code",
   "execution_count": 174,
   "id": "215c37c3",
   "metadata": {
    "ExecuteTime": {
     "end_time": "2023-04-03T12:26:03.884765Z",
     "start_time": "2023-04-03T12:26:01.517854Z"
    }
   },
   "outputs": [
    {
     "name": "stdout",
     "output_type": "stream",
     "text": [
      "Accuracy: 0.42646240228466326\n",
      "Balance Accuracy: 0.08480820238012154\n",
      "Kappa Score: 0.0011112971941940053\n",
      "              precision    recall  f1-score   support\n",
      "\n",
      "          AU       0.01      0.01      0.01        95\n",
      "          CA       0.02      0.02      0.02       299\n",
      "          DE       0.01      0.01      0.01       197\n",
      "          ES       0.00      0.00      0.00       453\n",
      "          FR       0.03      0.03      0.03       955\n",
      "          GB       0.01      0.02      0.02       442\n",
      "          IT       0.02      0.02      0.02       585\n",
      "         NDF       0.58      0.58      0.58     24062\n",
      "          NL       0.00      0.00      0.00       140\n",
      "          PT       0.00      0.00      0.00        46\n",
      "          US       0.29      0.30      0.29     12091\n",
      "       other       0.05      0.05      0.05      1954\n",
      "\n",
      "    accuracy                           0.43     41319\n",
      "   macro avg       0.08      0.08      0.08     41319\n",
      "weighted avg       0.43      0.43      0.43     41319\n",
      "\n"
     ]
    },
    {
     "data": {
      "text/plain": [
       "<Axes: title={'center': 'Confusion Matrix'}, xlabel='Predicted label', ylabel='True label'>"
      ]
     },
     "execution_count": 174,
     "metadata": {},
     "output_type": "execute_result"
    },
    {
     "data": {
      "image/png": "[encoded data removed]",
      "text/plain": [
       "<Figure size 1200x1200 with 2 Axes>"
      ]
     },
     "metadata": {},
     "output_type": "display_data"
    }
   ],
   "source": [
    "# Accuracy\n",
    "acc_random = m.accuracy_score( y_test, yhat_random )\n",
    "print( 'Accuracy: {}'.format( acc_random ) )\n",
    "\n",
    "\n",
    "# Confusion Matrix\n",
    "balance_acc_random = m.balanced_accuracy_score( y_test, yhat_random)\n",
    "print( 'Balance Accuracy: {}'.format( balance_acc_random ) )\n",
    "\n",
    "\n",
    "# kappa Metrics\n",
    "kappa_random = m.cohen_kappa_score( y_test, yhat_random )\n",
    "print( 'Kappa Score: {}'.format( kappa_random ) )\n",
    "\n",
    "# classification report\n",
    "print(m.classification_report( y_test, yhat_random ))\n",
    "\n",
    "# Confusion Matrix\n",
    "mt.plot_confusion_matrix( y_test, yhat_random, normalize=False, figsize=(12, 12) )\n",
    "\n",
    "\n"
   ]
  },
  {
   "cell_type": "markdown",
   "id": "21d5be9e",
   "metadata": {},
   "source": [
    "## 7.3 Neural Network - MLP"
   ]
  },
  {
   "cell_type": "code",
   "execution_count": 175,
   "id": "6f29d0e4",
   "metadata": {
    "ExecuteTime": {
     "end_time": "2023-04-03T12:26:03.949721Z",
     "start_time": "2023-04-03T12:26:03.891120Z"
    }
   },
   "outputs": [],
   "source": [
    "ohe = pp.OneHotEncoder()\n",
    "y_train_nn = ohe.fit_transform( y_train.values.reshape( -1, 1 ) ).toarray()"
   ]
  },
  {
   "cell_type": "code",
   "execution_count": 176,
   "id": "c8281dd3",
   "metadata": {
    "ExecuteTime": {
     "end_time": "2023-04-03T12:39:37.634392Z",
     "start_time": "2023-04-03T12:26:03.952239Z"
    }
   },
   "outputs": [
    {
     "name": "stdout",
     "output_type": "stream",
     "text": [
      "Epoch 1/100\n",
      "5165/5165 [==============================] - 8s 1ms/step - loss: 4.4996 - accuracy: 0.7933\n",
      "Epoch 2/100\n",
      "5165/5165 [==============================] - 7s 1ms/step - loss: 1.1837 - accuracy: 0.8227\n",
      "Epoch 3/100\n",
      "5165/5165 [==============================] - 8s 1ms/step - loss: 0.6350 - accuracy: 0.8553\n",
      "Epoch 4/100\n",
      "5165/5165 [==============================] - 8s 1ms/step - loss: 0.5179 - accuracy: 0.8714\n",
      "Epoch 5/100\n",
      "5165/5165 [==============================] - 8s 1ms/step - loss: 0.5021 - accuracy: 0.8729\n",
      "Epoch 6/100\n",
      "5165/5165 [==============================] - 8s 1ms/step - loss: 0.4987 - accuracy: 0.8732\n",
      "Epoch 7/100\n",
      "5165/5165 [==============================] - 8s 2ms/step - loss: 0.4965 - accuracy: 0.8735\n",
      "Epoch 8/100\n",
      "5165/5165 [==============================] - 8s 1ms/step - loss: 0.4969 - accuracy: 0.8734\n",
      "Epoch 9/100\n",
      "5165/5165 [==============================] - 8s 1ms/step - loss: 0.4962 - accuracy: 0.8736\n",
      "Epoch 10/100\n",
      "5165/5165 [==============================] - 8s 1ms/step - loss: 0.4956 - accuracy: 0.8736\n",
      "Epoch 11/100\n",
      "5165/5165 [==============================] - 7s 1ms/step - loss: 0.4947 - accuracy: 0.8737\n",
      "Epoch 12/100\n",
      "5165/5165 [==============================] - 7s 1ms/step - loss: 0.4946 - accuracy: 0.8737\n",
      "Epoch 13/100\n",
      "5165/5165 [==============================] - 8s 1ms/step - loss: 0.4956 - accuracy: 0.8736\n",
      "Epoch 14/100\n",
      "5165/5165 [==============================] - 8s 1ms/step - loss: 0.4970 - accuracy: 0.8736\n",
      "Epoch 15/100\n",
      "5165/5165 [==============================] - 7s 1ms/step - loss: 0.4930 - accuracy: 0.8737\n",
      "Epoch 16/100\n",
      "5165/5165 [==============================] - 7s 1ms/step - loss: 0.4916 - accuracy: 0.8737\n",
      "Epoch 17/100\n",
      "5165/5165 [==============================] - 8s 1ms/step - loss: 0.4917 - accuracy: 0.8737\n",
      "Epoch 18/100\n",
      "5165/5165 [==============================] - 8s 1ms/step - loss: 0.4910 - accuracy: 0.8738\n",
      "Epoch 19/100\n",
      "5165/5165 [==============================] - 7s 1ms/step - loss: 0.4912 - accuracy: 0.8738\n",
      "Epoch 20/100\n",
      "5165/5165 [==============================] - 7s 1ms/step - loss: 0.4912 - accuracy: 0.8737\n",
      "Epoch 21/100\n",
      "5165/5165 [==============================] - 7s 1ms/step - loss: 0.4912 - accuracy: 0.8737\n",
      "Epoch 22/100\n",
      "5165/5165 [==============================] - 7s 1ms/step - loss: 0.4910 - accuracy: 0.8738\n",
      "Epoch 23/100\n",
      "5165/5165 [==============================] - 7s 1ms/step - loss: 0.4918 - accuracy: 0.8736\n",
      "Epoch 24/100\n",
      "5165/5165 [==============================] - 7s 1ms/step - loss: 0.4909 - accuracy: 0.8738\n",
      "Epoch 25/100\n",
      "5165/5165 [==============================] - 7s 1ms/step - loss: 0.4913 - accuracy: 0.8737\n",
      "Epoch 26/100\n",
      "5165/5165 [==============================] - 7s 1ms/step - loss: 0.4911 - accuracy: 0.8738\n",
      "Epoch 27/100\n",
      "5165/5165 [==============================] - 7s 1ms/step - loss: 0.4905 - accuracy: 0.8739\n",
      "Epoch 28/100\n",
      "5165/5165 [==============================] - 7s 1ms/step - loss: 0.4910 - accuracy: 0.8737\n",
      "Epoch 29/100\n",
      "5165/5165 [==============================] - 7s 1ms/step - loss: 0.4910 - accuracy: 0.8738\n",
      "Epoch 30/100\n",
      "5165/5165 [==============================] - 8s 1ms/step - loss: 0.4908 - accuracy: 0.8738\n",
      "Epoch 31/100\n",
      "5165/5165 [==============================] - 8s 1ms/step - loss: 0.4909 - accuracy: 0.8738\n",
      "Epoch 32/100\n",
      "5165/5165 [==============================] - 7s 1ms/step - loss: 0.4908 - accuracy: 0.8738\n",
      "Epoch 33/100\n",
      "5165/5165 [==============================] - 7s 1ms/step - loss: 0.4906 - accuracy: 0.8738\n",
      "Epoch 34/100\n",
      "5165/5165 [==============================] - 7s 1ms/step - loss: 0.4911 - accuracy: 0.8738\n",
      "Epoch 35/100\n",
      "5165/5165 [==============================] - 7s 1ms/step - loss: 0.4907 - accuracy: 0.8738\n",
      "Epoch 36/100\n",
      "5165/5165 [==============================] - 7s 1ms/step - loss: 0.4916 - accuracy: 0.8737\n",
      "Epoch 37/100\n",
      "5165/5165 [==============================] - 7s 1ms/step - loss: 0.4904 - accuracy: 0.8738\n",
      "Epoch 38/100\n",
      "5165/5165 [==============================] - 7s 1ms/step - loss: 0.4910 - accuracy: 0.8738\n",
      "Epoch 39/100\n",
      "5165/5165 [==============================] - 7s 1ms/step - loss: 0.4912 - accuracy: 0.8738\n",
      "Epoch 40/100\n",
      "5165/5165 [==============================] - 7s 1ms/step - loss: 0.4905 - accuracy: 0.8739\n",
      "Epoch 41/100\n",
      "5165/5165 [==============================] - 7s 1ms/step - loss: 0.4908 - accuracy: 0.8738\n",
      "Epoch 42/100\n",
      "5165/5165 [==============================] - 7s 1ms/step - loss: 0.4907 - accuracy: 0.8738\n",
      "Epoch 43/100\n",
      "5165/5165 [==============================] - 7s 1ms/step - loss: 0.4904 - accuracy: 0.8739\n",
      "Epoch 44/100\n",
      "5165/5165 [==============================] - 8s 1ms/step - loss: 0.4907 - accuracy: 0.8738\n",
      "Epoch 45/100\n",
      "5165/5165 [==============================] - 7s 1ms/step - loss: 0.4906 - accuracy: 0.8739\n",
      "Epoch 46/100\n",
      "5165/5165 [==============================] - 8s 1ms/step - loss: 0.4908 - accuracy: 0.8738\n",
      "Epoch 47/100\n",
      "5165/5165 [==============================] - 8s 1ms/step - loss: 0.4916 - accuracy: 0.8737\n",
      "Epoch 48/100\n",
      "5165/5165 [==============================] - 8s 1ms/step - loss: 0.4905 - accuracy: 0.8739\n",
      "Epoch 49/100\n",
      "5165/5165 [==============================] - 8s 1ms/step - loss: 0.4904 - accuracy: 0.8739\n",
      "Epoch 50/100\n",
      "5165/5165 [==============================] - 8s 1ms/step - loss: 0.4905 - accuracy: 0.8739\n",
      "Epoch 51/100\n",
      "5165/5165 [==============================] - 8s 1ms/step - loss: 0.4919 - accuracy: 0.8738\n",
      "Epoch 52/100\n",
      "5165/5165 [==============================] - 8s 1ms/step - loss: 0.4911 - accuracy: 0.8738\n",
      "Epoch 53/100\n",
      "5165/5165 [==============================] - 7s 1ms/step - loss: 0.4908 - accuracy: 0.8738\n",
      "Epoch 54/100\n",
      "5165/5165 [==============================] - 7s 1ms/step - loss: 0.4906 - accuracy: 0.8739\n",
      "Epoch 55/100\n",
      "5165/5165 [==============================] - 7s 1ms/step - loss: 0.4905 - accuracy: 0.8739\n",
      "Epoch 56/100\n",
      "5165/5165 [==============================] - 7s 1ms/step - loss: 0.4910 - accuracy: 0.8738\n",
      "Epoch 57/100\n",
      "5165/5165 [==============================] - 7s 1ms/step - loss: 0.4906 - accuracy: 0.8739\n",
      "Epoch 58/100\n",
      "5165/5165 [==============================] - 7s 1ms/step - loss: 0.4920 - accuracy: 0.8738\n",
      "Epoch 59/100\n",
      "5165/5165 [==============================] - 7s 1ms/step - loss: 0.4903 - accuracy: 0.8739\n",
      "Epoch 60/100\n",
      "5165/5165 [==============================] - 7s 1ms/step - loss: 0.4903 - accuracy: 0.8739\n",
      "Epoch 61/100\n",
      "5165/5165 [==============================] - 7s 1ms/step - loss: 0.4904 - accuracy: 0.8739\n",
      "Epoch 62/100\n",
      "5165/5165 [==============================] - 7s 1ms/step - loss: 0.4905 - accuracy: 0.8738\n",
      "Epoch 63/100\n",
      "5165/5165 [==============================] - 7s 1ms/step - loss: 0.4917 - accuracy: 0.8739\n",
      "Epoch 64/100\n",
      "5165/5165 [==============================] - 7s 1ms/step - loss: 0.4904 - accuracy: 0.8739\n",
      "Epoch 65/100\n",
      "5165/5165 [==============================] - 7s 1ms/step - loss: 0.4906 - accuracy: 0.8739\n",
      "Epoch 66/100\n",
      "5165/5165 [==============================] - 7s 1ms/step - loss: 0.4909 - accuracy: 0.8738\n",
      "Epoch 67/100\n",
      "5165/5165 [==============================] - 7s 1ms/step - loss: 0.4908 - accuracy: 0.8739\n",
      "Epoch 68/100\n",
      "5165/5165 [==============================] - 7s 1ms/step - loss: 0.4922 - accuracy: 0.8737\n",
      "Epoch 69/100\n",
      "5165/5165 [==============================] - 7s 1ms/step - loss: 0.4904 - accuracy: 0.8739\n",
      "Epoch 70/100\n",
      "5165/5165 [==============================] - 7s 1ms/step - loss: 0.4907 - accuracy: 0.8738\n",
      "Epoch 71/100\n",
      "5165/5165 [==============================] - 7s 1ms/step - loss: 0.4906 - accuracy: 0.8738\n",
      "Epoch 72/100\n",
      "5165/5165 [==============================] - 7s 1ms/step - loss: 0.4908 - accuracy: 0.8739\n",
      "Epoch 73/100\n",
      "5165/5165 [==============================] - 7s 1ms/step - loss: 0.4902 - accuracy: 0.8739\n",
      "Epoch 74/100\n",
      "5165/5165 [==============================] - 7s 1ms/step - loss: 0.4919 - accuracy: 0.8737\n",
      "Epoch 75/100\n",
      "5165/5165 [==============================] - 7s 1ms/step - loss: 0.4901 - accuracy: 0.8739\n",
      "Epoch 76/100\n",
      "5165/5165 [==============================] - 7s 1ms/step - loss: 0.4924 - accuracy: 0.8737\n",
      "Epoch 77/100\n",
      "5165/5165 [==============================] - 7s 1ms/step - loss: 0.4901 - accuracy: 0.8739\n",
      "Epoch 78/100\n",
      "5165/5165 [==============================] - 7s 1ms/step - loss: 0.4921 - accuracy: 0.8738\n",
      "Epoch 79/100\n"
     ]
    },
    {
     "name": "stdout",
     "output_type": "stream",
     "text": [
      "5165/5165 [==============================] - 7s 1ms/step - loss: 0.4900 - accuracy: 0.8739\n",
      "Epoch 80/100\n",
      "5165/5165 [==============================] - 7s 1ms/step - loss: 0.4912 - accuracy: 0.8738\n",
      "Epoch 81/100\n",
      "5165/5165 [==============================] - 7s 1ms/step - loss: 0.4903 - accuracy: 0.8739\n",
      "Epoch 82/100\n",
      "5165/5165 [==============================] - 8s 1ms/step - loss: 0.4905 - accuracy: 0.8739\n",
      "Epoch 83/100\n",
      "5165/5165 [==============================] - 7s 1ms/step - loss: 0.4908 - accuracy: 0.8739\n",
      "Epoch 84/100\n",
      "5165/5165 [==============================] - 7s 1ms/step - loss: 0.4904 - accuracy: 0.8739\n",
      "Epoch 85/100\n",
      "5165/5165 [==============================] - 7s 1ms/step - loss: 0.4908 - accuracy: 0.8739\n",
      "Epoch 86/100\n",
      "5165/5165 [==============================] - 7s 1ms/step - loss: 0.4903 - accuracy: 0.8739\n",
      "Epoch 87/100\n",
      "5165/5165 [==============================] - 7s 1ms/step - loss: 0.4908 - accuracy: 0.8739\n",
      "Epoch 88/100\n",
      "5165/5165 [==============================] - 7s 1ms/step - loss: 0.4903 - accuracy: 0.8739\n",
      "Epoch 89/100\n",
      "5165/5165 [==============================] - 7s 1ms/step - loss: 0.4903 - accuracy: 0.8739\n",
      "Epoch 90/100\n",
      "5165/5165 [==============================] - 7s 1ms/step - loss: 0.4906 - accuracy: 0.8739\n",
      "Epoch 91/100\n",
      "5165/5165 [==============================] - 7s 1ms/step - loss: 0.4905 - accuracy: 0.8739\n",
      "Epoch 92/100\n",
      "5165/5165 [==============================] - 7s 1ms/step - loss: 0.4908 - accuracy: 0.8739\n",
      "Epoch 93/100\n",
      "5165/5165 [==============================] - 7s 1ms/step - loss: 0.4905 - accuracy: 0.8739\n",
      "Epoch 94/100\n",
      "5165/5165 [==============================] - 7s 1ms/step - loss: 0.4902 - accuracy: 0.8739\n",
      "Epoch 95/100\n",
      "5165/5165 [==============================] - 7s 1ms/step - loss: 0.4913 - accuracy: 0.8738\n",
      "Epoch 96/100\n",
      "5165/5165 [==============================] - 7s 1ms/step - loss: 0.4906 - accuracy: 0.8739\n",
      "Epoch 97/100\n",
      "5165/5165 [==============================] - 7s 1ms/step - loss: 0.4904 - accuracy: 0.8739\n",
      "Epoch 98/100\n",
      "5165/5165 [==============================] - 7s 1ms/step - loss: 0.4906 - accuracy: 0.8739\n",
      "Epoch 99/100\n",
      "5165/5165 [==============================] - 7s 1ms/step - loss: 0.4903 - accuracy: 0.8739\n",
      "Epoch 100/100\n",
      "5165/5165 [==============================] - 7s 1ms/step - loss: 0.4901 - accuracy: 0.8739\n"
     ]
    },
    {
     "data": {
      "text/plain": [
       "<keras.callbacks.History at 0x7ff4e2eb9df0>"
      ]
     },
     "execution_count": 176,
     "metadata": {},
     "output_type": "execute_result"
    }
   ],
   "source": [
    "# model definition\n",
    "model = ml.Sequential()\n",
    "model.add( l.Dense( 256, input_dim = x_train.shape[1], activation='relu' ) )\n",
    "model.add( l.Dense( 12, activation='softmax' ) )\n",
    "\n",
    "# model compile\n",
    "model.compile( loss='categorical_crossentropy', optimizer='adam', metrics=['accuracy'] )\n",
    "\n",
    "# train model\n",
    "model.fit( x_train, y_train_nn, epochs=100 )"
   ]
  },
  {
   "cell_type": "markdown",
   "id": "a2d6b4ad",
   "metadata": {},
   "source": [
    "## 7.4 NN Model Performance"
   ]
  },
  {
   "cell_type": "code",
   "execution_count": 177,
   "id": "873fddd2",
   "metadata": {
    "ExecuteTime": {
     "end_time": "2023-04-03T12:39:54.681476Z",
     "start_time": "2023-04-03T12:39:37.643948Z"
    }
   },
   "outputs": [
    {
     "name": "stdout",
     "output_type": "stream",
     "text": [
      "1292/1292 [==============================] - 1s 915us/step\n"
     ]
    }
   ],
   "source": [
    "# Prediction\n",
    "pred_nn = model.predict( x_test )\n",
    "\n",
    "# Invert Prediction\n",
    "yhat_nn = ohe.inverse_transform( pred_nn )\n",
    "\n",
    "# Prediction Prepare\n",
    "y_test_nn = y_test.to_numpy()\n",
    "yhat_nn = yhat_nn.reshape( 1, -1 )[0]\n"
   ]
  },
  {
   "cell_type": "code",
   "execution_count": 178,
   "id": "7d30a4a8",
   "metadata": {
    "ExecuteTime": {
     "end_time": "2023-04-03T12:39:57.349975Z",
     "start_time": "2023-04-03T12:39:54.684110Z"
    }
   },
   "outputs": [
    {
     "name": "stdout",
     "output_type": "stream",
     "text": [
      "Accuracy: 0.8747549553474189\n",
      "Balance Accuracy: 0.16660463705786674\n",
      "Kappa Score: 0.7674496582084894\n"
     ]
    },
    {
     "name": "stderr",
     "output_type": "stream",
     "text": [
      "/Users/adriele/opt/anaconda3/envs/env_pa001/lib/python3.9/site-packages/sklearn/metrics/_classification.py:1344: UndefinedMetricWarning: Precision and F-score are ill-defined and being set to 0.0 in labels with no predicted samples. Use `zero_division` parameter to control this behavior.\n",
      "  _warn_prf(average, modifier, msg_start, len(result))\n",
      "/Users/adriele/opt/anaconda3/envs/env_pa001/lib/python3.9/site-packages/sklearn/metrics/_classification.py:1344: UndefinedMetricWarning: Precision and F-score are ill-defined and being set to 0.0 in labels with no predicted samples. Use `zero_division` parameter to control this behavior.\n",
      "  _warn_prf(average, modifier, msg_start, len(result))\n",
      "/Users/adriele/opt/anaconda3/envs/env_pa001/lib/python3.9/site-packages/sklearn/metrics/_classification.py:1344: UndefinedMetricWarning: Precision and F-score are ill-defined and being set to 0.0 in labels with no predicted samples. Use `zero_division` parameter to control this behavior.\n",
      "  _warn_prf(average, modifier, msg_start, len(result))\n"
     ]
    },
    {
     "name": "stdout",
     "output_type": "stream",
     "text": [
      "              precision    recall  f1-score   support\n",
      "\n",
      "          AU       0.00      0.00      0.00        95\n",
      "          CA       0.00      0.00      0.00       299\n",
      "          DE       0.00      0.00      0.00       197\n",
      "          ES       0.00      0.00      0.00       453\n",
      "          FR       0.00      0.00      0.00       955\n",
      "          GB       0.00      0.00      0.00       442\n",
      "          IT       0.00      0.00      0.00       585\n",
      "         NDF       1.00      1.00      1.00     24062\n",
      "          NL       0.00      0.00      0.00       140\n",
      "          PT       0.00      0.00      0.00        46\n",
      "          US       0.70      1.00      0.82     12091\n",
      "       other       0.00      0.00      0.00      1954\n",
      "\n",
      "    accuracy                           0.87     41319\n",
      "   macro avg       0.14      0.17      0.15     41319\n",
      "weighted avg       0.79      0.87      0.82     41319\n",
      "\n"
     ]
    },
    {
     "data": {
      "text/plain": [
       "<Axes: title={'center': 'Confusion Matrix'}, xlabel='Predicted label', ylabel='True label'>"
      ]
     },
     "execution_count": 178,
     "metadata": {},
     "output_type": "execute_result"
    },
    {
     "data": {
      "image/png": "[encoded data removed]",
      "text/plain": [
       "<Figure size 1200x1200 with 2 Axes>"
      ]
     },
     "metadata": {},
     "output_type": "display_data"
    }
   ],
   "source": [
    "\n",
    "# Accuracy\n",
    "acc_nn = m.accuracy_score( y_test_nn, yhat_nn )\n",
    "print( 'Accuracy: {}'.format( acc_nn ) )\n",
    "\n",
    "\n",
    "# Confusion Matrix\n",
    "balance_acc_nn = m.balanced_accuracy_score( y_test_nn, yhat_nn)\n",
    "print( 'Balance Accuracy: {}'.format( balance_acc_nn ) )\n",
    "\n",
    "\n",
    "# kappa Metrics\n",
    "kappa_nn = m.cohen_kappa_score( y_test_nn, yhat_nn )\n",
    "print( 'Kappa Score: {}'.format( kappa_nn ) )\n",
    "\n",
    "# classification report\n",
    "print(m.classification_report( y_test_nn, yhat_nn ))\n",
    "\n",
    "# Confusion Matrix\n",
    "mt.plot_confusion_matrix( y_test_nn, yhat_nn, normalize=False, figsize=(12, 12) )\n",
    "\n"
   ]
  },
  {
   "cell_type": "markdown",
   "id": "0e966ca7",
   "metadata": {},
   "source": [
    "## 7.5 NN Model Performance - Cross Validation"
   ]
  },
  {
   "cell_type": "code",
   "execution_count": 179,
   "id": "1976b4c8",
   "metadata": {
    "ExecuteTime": {
     "end_time": "2023-04-03T12:40:48.893960Z",
     "start_time": "2023-04-03T12:39:57.353767Z"
    }
   },
   "outputs": [
    {
     "name": "stdout",
     "output_type": "stream",
     "text": [
      "fold Number:1/5\n"
     ]
    },
    {
     "ename": "ValueError",
     "evalue": "in user code:\n\n    File \"/Users/adriele/opt/anaconda3/envs/env_pa001/lib/python3.9/site-packages/keras/engine/training.py\", line 1284, in train_function  *\n        return step_function(self, iterator)\n    File \"/Users/adriele/opt/anaconda3/envs/env_pa001/lib/python3.9/site-packages/keras/engine/training.py\", line 1268, in step_function  **\n        outputs = model.distribute_strategy.run(run_step, args=(data,))\n    File \"/Users/adriele/opt/anaconda3/envs/env_pa001/lib/python3.9/site-packages/keras/engine/training.py\", line 1249, in run_step  **\n        outputs = model.train_step(data)\n    File \"/Users/adriele/opt/anaconda3/envs/env_pa001/lib/python3.9/site-packages/keras/engine/training.py\", line 1051, in train_step\n        loss = self.compute_loss(x, y, y_pred, sample_weight)\n    File \"/Users/adriele/opt/anaconda3/envs/env_pa001/lib/python3.9/site-packages/keras/engine/training.py\", line 1109, in compute_loss\n        return self.compiled_loss(\n    File \"/Users/adriele/opt/anaconda3/envs/env_pa001/lib/python3.9/site-packages/keras/engine/compile_utils.py\", line 265, in __call__\n        loss_value = loss_obj(y_t, y_p, sample_weight=sw)\n    File \"/Users/adriele/opt/anaconda3/envs/env_pa001/lib/python3.9/site-packages/keras/losses.py\", line 142, in __call__\n        losses = call_fn(y_true, y_pred)\n    File \"/Users/adriele/opt/anaconda3/envs/env_pa001/lib/python3.9/site-packages/keras/losses.py\", line 268, in call  **\n        return ag_fn(y_true, y_pred, **self._fn_kwargs)\n    File \"/Users/adriele/opt/anaconda3/envs/env_pa001/lib/python3.9/site-packages/keras/losses.py\", line 1984, in categorical_crossentropy\n        return backend.categorical_crossentropy(\n    File \"/Users/adriele/opt/anaconda3/envs/env_pa001/lib/python3.9/site-packages/keras/backend.py\", line 5559, in categorical_crossentropy\n        target.shape.assert_is_compatible_with(output.shape)\n\n    ValueError: Shapes (None, 12) and (None, 11) are incompatible\n",
     "output_type": "error",
     "traceback": [
      "\u001b[0;31m---------------------------------------------------------------------------\u001b[0m",
      "\u001b[0;31mValueError\u001b[0m                                Traceback (most recent call last)",
      "Cell \u001b[0;32mIn[179], line 35\u001b[0m\n\u001b[1;32m     31\u001b[0m model\u001b[38;5;241m.\u001b[39mcompile( loss\u001b[38;5;241m=\u001b[39m\u001b[38;5;124m'\u001b[39m\u001b[38;5;124mcategorical_crossentropy\u001b[39m\u001b[38;5;124m'\u001b[39m, optimizer\u001b[38;5;241m=\u001b[39m\u001b[38;5;124m'\u001b[39m\u001b[38;5;124madam\u001b[39m\u001b[38;5;124m'\u001b[39m, metrics\u001b[38;5;241m=\u001b[39m[\u001b[38;5;124m'\u001b[39m\u001b[38;5;124maccuracy\u001b[39m\u001b[38;5;124m'\u001b[39m] )\n\u001b[1;32m     34\u001b[0m \u001b[38;5;66;03m# tranning model\u001b[39;00m\n\u001b[0;32m---> 35\u001b[0m \u001b[43mmodel\u001b[49m\u001b[38;5;241;43m.\u001b[39;49m\u001b[43mfit\u001b[49m\u001b[43m(\u001b[49m\u001b[43m \u001b[49m\u001b[43mx_train_fold\u001b[49m\u001b[43m,\u001b[49m\u001b[43m \u001b[49m\u001b[43my_train_fold_nn\u001b[49m\u001b[43m,\u001b[49m\u001b[43m \u001b[49m\u001b[43mepochs\u001b[49m\u001b[38;5;241;43m=\u001b[39;49m\u001b[38;5;241;43m100\u001b[39;49m\u001b[43m,\u001b[49m\u001b[43m \u001b[49m\u001b[43mbatch_size\u001b[49m\u001b[38;5;241;43m=\u001b[39;49m\u001b[38;5;241;43m32\u001b[39;49m\u001b[43m,\u001b[49m\u001b[43m \u001b[49m\u001b[43mverbose\u001b[49m\u001b[38;5;241;43m=\u001b[39;49m\u001b[38;5;241;43m0\u001b[39;49m\u001b[43m \u001b[49m\u001b[43m)\u001b[49m\n\u001b[1;32m     38\u001b[0m \u001b[38;5;66;03m# prediction\u001b[39;00m\n\u001b[1;32m     39\u001b[0m pred_nn \u001b[38;5;241m=\u001b[39m model\u001b[38;5;241m.\u001b[39mpredict( x_val_fold )\n",
      "File \u001b[0;32m~/opt/anaconda3/envs/env_pa001/lib/python3.9/site-packages/keras/utils/traceback_utils.py:70\u001b[0m, in \u001b[0;36mfilter_traceback.<locals>.error_handler\u001b[0;34m(*args, **kwargs)\u001b[0m\n\u001b[1;32m     67\u001b[0m     filtered_tb \u001b[38;5;241m=\u001b[39m _process_traceback_frames(e\u001b[38;5;241m.\u001b[39m__traceback__)\n\u001b[1;32m     68\u001b[0m     \u001b[38;5;66;03m# To get the full stack trace, call:\u001b[39;00m\n\u001b[1;32m     69\u001b[0m     \u001b[38;5;66;03m# `tf.debugging.disable_traceback_filtering()`\u001b[39;00m\n\u001b[0;32m---> 70\u001b[0m     \u001b[38;5;28;01mraise\u001b[39;00m e\u001b[38;5;241m.\u001b[39mwith_traceback(filtered_tb) \u001b[38;5;28;01mfrom\u001b[39;00m \u001b[38;5;28mNone\u001b[39m\n\u001b[1;32m     71\u001b[0m \u001b[38;5;28;01mfinally\u001b[39;00m:\n\u001b[1;32m     72\u001b[0m     \u001b[38;5;28;01mdel\u001b[39;00m filtered_tb\n",
      "File \u001b[0;32m/var/folders/pc/6sglrsq96ws5kp74fjj4j02h0000gn/T/__autograph_generated_file5_cavrnd.py:15\u001b[0m, in \u001b[0;36mouter_factory.<locals>.inner_factory.<locals>.tf__train_function\u001b[0;34m(iterator)\u001b[0m\n\u001b[1;32m     13\u001b[0m \u001b[38;5;28;01mtry\u001b[39;00m:\n\u001b[1;32m     14\u001b[0m     do_return \u001b[38;5;241m=\u001b[39m \u001b[38;5;28;01mTrue\u001b[39;00m\n\u001b[0;32m---> 15\u001b[0m     retval_ \u001b[38;5;241m=\u001b[39m ag__\u001b[38;5;241m.\u001b[39mconverted_call(ag__\u001b[38;5;241m.\u001b[39mld(step_function), (ag__\u001b[38;5;241m.\u001b[39mld(\u001b[38;5;28mself\u001b[39m), ag__\u001b[38;5;241m.\u001b[39mld(iterator)), \u001b[38;5;28;01mNone\u001b[39;00m, fscope)\n\u001b[1;32m     16\u001b[0m \u001b[38;5;28;01mexcept\u001b[39;00m:\n\u001b[1;32m     17\u001b[0m     do_return \u001b[38;5;241m=\u001b[39m \u001b[38;5;28;01mFalse\u001b[39;00m\n",
      "\u001b[0;31mValueError\u001b[0m: in user code:\n\n    File \"/Users/adriele/opt/anaconda3/envs/env_pa001/lib/python3.9/site-packages/keras/engine/training.py\", line 1284, in train_function  *\n        return step_function(self, iterator)\n    File \"/Users/adriele/opt/anaconda3/envs/env_pa001/lib/python3.9/site-packages/keras/engine/training.py\", line 1268, in step_function  **\n        outputs = model.distribute_strategy.run(run_step, args=(data,))\n    File \"/Users/adriele/opt/anaconda3/envs/env_pa001/lib/python3.9/site-packages/keras/engine/training.py\", line 1249, in run_step  **\n        outputs = model.train_step(data)\n    File \"/Users/adriele/opt/anaconda3/envs/env_pa001/lib/python3.9/site-packages/keras/engine/training.py\", line 1051, in train_step\n        loss = self.compute_loss(x, y, y_pred, sample_weight)\n    File \"/Users/adriele/opt/anaconda3/envs/env_pa001/lib/python3.9/site-packages/keras/engine/training.py\", line 1109, in compute_loss\n        return self.compiled_loss(\n    File \"/Users/adriele/opt/anaconda3/envs/env_pa001/lib/python3.9/site-packages/keras/engine/compile_utils.py\", line 265, in __call__\n        loss_value = loss_obj(y_t, y_p, sample_weight=sw)\n    File \"/Users/adriele/opt/anaconda3/envs/env_pa001/lib/python3.9/site-packages/keras/losses.py\", line 142, in __call__\n        losses = call_fn(y_true, y_pred)\n    File \"/Users/adriele/opt/anaconda3/envs/env_pa001/lib/python3.9/site-packages/keras/losses.py\", line 268, in call  **\n        return ag_fn(y_true, y_pred, **self._fn_kwargs)\n    File \"/Users/adriele/opt/anaconda3/envs/env_pa001/lib/python3.9/site-packages/keras/losses.py\", line 1984, in categorical_crossentropy\n        return backend.categorical_crossentropy(\n    File \"/Users/adriele/opt/anaconda3/envs/env_pa001/lib/python3.9/site-packages/keras/backend.py\", line 5559, in categorical_crossentropy\n        target.shape.assert_is_compatible_with(output.shape)\n\n    ValueError: Shapes (None, 12) and (None, 11) are incompatible\n"
     ]
    }
   ],
   "source": [
    "# gerate k-fold\n",
    "num_folds = 5\n",
    "kfold = ms.StratifiedKFold( n_splits=num_folds, shuffle=True, random_state=32 )\n",
    "\n",
    "balanced_acc_list = []\n",
    "kappa_acc_list = []\n",
    "\n",
    "i = 1\n",
    "\n",
    "for train_ix, val_ix in  kfold.split( x_train, y_train ):\n",
    "    print( 'fold Number:{}/{}'.format(i, num_folds ) )\n",
    "\n",
    "    # get fold\n",
    "    x_train_fold = x_train.iloc[ train_ix ]\n",
    "    y_train_fold = y_train.iloc[ train_ix ]\n",
    "    \n",
    "    x_val_fold =  x_train.iloc[ val_ix ]\n",
    "    y_val_fold =  y_train.iloc[ val_ix ]\n",
    "    \n",
    "    # target\n",
    "    ohe = pp.OneHotEncoder()\n",
    "    y_train_fold_nn = ohe.fit_transform( y_train_fold.values.reshape( -1, 1 )).toarray()\n",
    "\n",
    "\n",
    "    # model definition\n",
    "    model = ml.Sequential()\n",
    "    model.add( l.Dense( 256, input_dim=x_train.shape[1], activation='relu' ) )\n",
    "    model.add( l.Dense( 11, activation='softmax' ) )\n",
    "\n",
    "    # compile model\n",
    "    model.compile( loss='categorical_crossentropy', optimizer='adam', metrics=['accuracy'] )\n",
    "\n",
    "\n",
    "    # tranning model\n",
    "    model.fit( x_train_fold, y_train_fold_nn, epochs=100, batch_size=32, verbose=0 )\n",
    "    \n",
    "    \n",
    "    # prediction\n",
    "    pred_nn = model.predict( x_val_fold )\n",
    "    yhat_nn = ohe.inverse_transform( pred_nn )\n",
    "    \n",
    "    # prepare data\n",
    "    y_test_nn = y_val_fold.to_numpy()\n",
    "    yhat_nn = yhat_nn.reshape( -1, 1 )[0]\n",
    "\n",
    "\n",
    "    # Metrics \n",
    "\n",
    "\n",
    "\n",
    "    # Balanced Accuracy\n",
    "    balanced_acc_nn = m.balanced_accuracy_score( y_test_nn, yhat_nn )\n",
    "    balanced_acc_list.append( balanced_acc_nn )\n",
    "\n",
    "    # kappa metrics\n",
    "    kappa_acc_nn = m.cohen_kappa_score( y_test_nn, yhat_nn )\n",
    "    kappa_acc_list.append( kappa_acc_nn )\n",
    "    \n",
    "    i +- 1"
   ]
  },
  {
   "cell_type": "code",
   "execution_count": null,
   "id": "336f56e5",
   "metadata": {
    "ExecuteTime": {
     "end_time": "2023-04-03T12:40:48.896998Z",
     "start_time": "2023-04-03T12:40:48.896981Z"
    }
   },
   "outputs": [],
   "source": [
    "print( 'Avg Balanced Accuracy: {} +/- {}'.format( np.round( np.mean( balanced_acc_list ), 2 ),\n",
    "                                                  np.round( np.std( balanced_acc_list ),  4 ) ) )\n",
    "\n",
    "print( 'Avg Kappa: {} +/- {}'.format( np.round( np.mean( kappa_acc_list ), 2 ),\n",
    "                                      np.round( np.std( kappa_acc_list ),  4 ) ) )"
   ]
  },
  {
   "cell_type": "raw",
   "id": "e00fa87c",
   "metadata": {},
   "source": []
  },
  {
   "cell_type": "code",
   "execution_count": null,
   "id": "543d1771",
   "metadata": {},
   "outputs": [],
   "source": []
  },
  {
   "cell_type": "code",
   "execution_count": null,
   "id": "443b445b",
   "metadata": {},
   "outputs": [],
   "source": []
  },
  {
   "cell_type": "code",
   "execution_count": null,
   "id": "0140cd31",
   "metadata": {},
   "outputs": [],
   "source": []
  }
 ],
 "metadata": {
  "kernelspec": {
   "display_name": "Python 3 (ipykernel)",
   "language": "python",
   "name": "python3"
  },
  "language_info": {
   "codemirror_mode": {
    "name": "ipython",
    "version": 3
   },
   "file_extension": ".py",
   "mimetype": "text/x-python",
   "name": "python",
   "nbconvert_exporter": "python",
   "pygments_lexer": "ipython3",
   "version": "3.9.16"
  }
 },
 "nbformat": 4,
 "nbformat_minor": 5
}
