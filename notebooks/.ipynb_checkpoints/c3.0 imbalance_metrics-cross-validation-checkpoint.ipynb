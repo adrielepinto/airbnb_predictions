{
 "cells": [
  {
   "cell_type": "markdown",
   "id": "ab151802",
   "metadata": {},
   "source": [
    "# Business Context"
   ]
  },
  {
   "cell_type": "markdown",
   "id": "5b926820",
   "metadata": {},
   "source": [
    "Instead of waking to overlooked \"Do not disturb\" signs, Airbnb travelers find themselves rising with the birds in a whimsical treehouse, having their morning coffee on the deck of a houseboat, or cooking a shared regional breakfast with their hosts.\n",
    "\n",
    "New users on Airbnb can book a place to stay in 34,000+ cities across 190+ countries. By accurately predicting where a new user will book their first travel experience, Airbnb can share more personalized content with their community, decrease the average time to first booking, and better forecast demand."
   ]
  },
  {
   "cell_type": "markdown",
   "id": "0cefd445",
   "metadata": {},
   "source": [
    "# Business Challange"
   ]
  },
  {
   "cell_type": "markdown",
   "id": "a2b112c6",
   "metadata": {},
   "source": [
    "In this project, I was challenged to predict in which country a new user will make his or her first booking.\n"
   ]
  },
  {
   "cell_type": "markdown",
   "id": "5b386604",
   "metadata": {},
   "source": [
    "# Business Understanding"
   ]
  },
  {
   "cell_type": "markdown",
   "id": "f2e10f4f",
   "metadata": {
    "ExecuteTime": {
     "end_time": "2023-03-24T15:31:29.129293Z",
     "start_time": "2023-03-24T15:31:29.123836Z"
    }
   },
   "source": [
    "- Business model:\n",
    "     Marketplace -> Connecting people that offer accommodation, to the person who's looking for accommodation.\n",
    "    \n",
    "    \n",
    "- Model Offer:\n",
    "     People offering them property temporarily.\n",
    "     \n",
    "- Metrics:  Portfolio Size, Portfolio diversity/density.\n",
    "\n",
    "- Demand: How many people are looking for accommodation; \n",
    "\n",
    "    - User number.\n",
    "    - LTV ( Lifetime Value)\n",
    "    - CAC ( Client Acquisition Cost )\n",
    "    \n",
    "    - Gross Revenue =  ( fee * number of clients ) - CAC"
   ]
  },
  {
   "cell_type": "markdown",
   "id": "29854240",
   "metadata": {},
   "source": [
    "# Solution Planning"
   ]
  },
  {
   "cell_type": "markdown",
   "id": "583aa7ee",
   "metadata": {},
   "source": [
    "- Prediction model of the first destination of a new user\n",
    "- Prediction saved in a database table.\n",
    "- API:\n",
    "\n",
    "    - Imput: Users and their characteristics;\n",
    "    - output: Users and their characteristics with the destination prediction."
   ]
  },
  {
   "cell_type": "markdown",
   "id": "ec5ba07e",
   "metadata": {},
   "source": [
    "# 0.1 Imports"
   ]
  },
  {
   "cell_type": "code",
   "execution_count": 1,
   "id": "2675226b",
   "metadata": {
    "ExecuteTime": {
     "end_time": "2023-03-24T22:32:10.404156Z",
     "start_time": "2023-03-24T22:32:02.252833Z"
    }
   },
   "outputs": [
    {
     "name": "stderr",
     "output_type": "stream",
     "text": [
      "2023-03-24 15:32:07.047471: I tensorflow/core/platform/cpu_feature_guard.cc:182] This TensorFlow binary is optimized to use available CPU instructions in performance-critical operations.\n",
      "To enable the following instructions: AVX2 FMA, in other operations, rebuild TensorFlow with the appropriate compiler flags.\n"
     ]
    }
   ],
   "source": [
    "import random \n",
    "import warnings\n",
    "import pandas as pd\n",
    "import seaborn as sns\n",
    "\n",
    "\n",
    "import matplotlib.pyplot    as plt\n",
    "\n",
    "from keras import layers as l\n",
    "from keras import models as ml\n",
    "from sklearn import metrics as m\n",
    "from sklearn import preprocessing as pp\n",
    "from sklearn import model_selection as ms\n",
    "from scikitplot import metrics as mt\n",
    "\n",
    "from IPython.core.display        import HTML"
   ]
  },
  {
   "cell_type": "markdown",
   "id": "9a0b5b73",
   "metadata": {},
   "source": [
    "## 0.01 Helper Functions"
   ]
  },
  {
   "cell_type": "code",
   "execution_count": 2,
   "id": "104923f8",
   "metadata": {
    "ExecuteTime": {
     "end_time": "2023-03-24T22:32:10.455140Z",
     "start_time": "2023-03-24T22:32:10.407435Z"
    }
   },
   "outputs": [
    {
     "data": {
      "text/html": [
       "<style>.container { width:100% !important; }</style>"
      ],
      "text/plain": [
       "<IPython.core.display.HTML object>"
      ]
     },
     "metadata": {},
     "output_type": "display_data"
    },
    {
     "name": "stdout",
     "output_type": "stream",
     "text": [
      "%pylab is deprecated, use %matplotlib inline and import the required libraries.\n",
      "Populating the interactive namespace from numpy and matplotlib\n"
     ]
    },
    {
     "name": "stderr",
     "output_type": "stream",
     "text": [
      "/Users/adriele/opt/anaconda3/envs/env_pa001/lib/python3.9/site-packages/IPython/core/magics/pylab.py:162: UserWarning: pylab import has clobbered these variables: ['random']\n",
      "`%matplotlib` prevents importing * from pylab and numpy\n",
      "  warn(\"pylab import has clobbered these variables: %s\"  % clobbered +\n"
     ]
    },
    {
     "data": {
      "text/html": [
       "<style>.container { width:100% !important; }</style>"
      ],
      "text/plain": [
       "<IPython.core.display.HTML object>"
      ]
     },
     "metadata": {},
     "output_type": "display_data"
    }
   ],
   "source": [
    "def jupyter_settings(): \n",
    "    %matplotlib inline \n",
    "    #%matplotlib notebook\n",
    "    %pylab inline\n",
    "    \n",
    "    plt.style.use('bmh')\n",
    "    plt.rcParams['figure.figsize'] = [25, 12]\n",
    "    plt.rcParams['font.size'] = 24\n",
    "    \n",
    "     \n",
    "    display( HTML( '<style>.container { width:100% !important; }</style>') )\n",
    "    pd.options.display.max_columns = None\n",
    "    pd.options.display.max_rows = None\n",
    "    pd.set_option ('display.expand_frame_repr', False)\n",
    "    \n",
    "    sns.set()\n",
    "\n",
    "%matplotlib inline \n",
    "%matplotlib notebook\n",
    "\n",
    "plt.style.use('bmh')\n",
    "plt.rcParams['figure.figsize'] = [25, 12]\n",
    "plt.rcParams['font.size'] = 24\n",
    "\n",
    "\n",
    "display( HTML( '<style>.container { width:100% !important; }</style>') )\n",
    "pd.options.display.max_columns = None\n",
    "pd.options.display.max_rows = None\n",
    "pd.set_option ('display.expand_frame_repr', False)\n",
    "\n",
    "sns.set()\n",
    "\n",
    "jupyter_settings()\n",
    "\n",
    "\n",
    "\n",
    "\n",
    "def fxn():\n",
    "    warnings.warn(\"deprecated\", DeprecationWarning)\n",
    "\n",
    "with warnings.catch_warnings():\n",
    "    warnings.simplefilter(\"ignore\")\n",
    "    fxn()"
   ]
  },
  {
   "cell_type": "markdown",
   "id": "bdaa155d",
   "metadata": {},
   "source": [
    "# 1.0  Data Description"
   ]
  },
  {
   "cell_type": "markdown",
   "id": "4700f59a",
   "metadata": {},
   "source": [
    "## 1.1 Loading data"
   ]
  },
  {
   "cell_type": "code",
   "execution_count": 62,
   "id": "a9fdd6b7",
   "metadata": {
    "ExecuteTime": {
     "end_time": "2023-03-25T01:52:12.528278Z",
     "start_time": "2023-03-25T01:52:04.910613Z"
    }
   },
   "outputs": [],
   "source": [
    "df1 = pd.read_csv('/Users/adriele/Documents/repos/pa001/dataset/train_users.csv')\n",
    "\n",
    "df_sessions = pd.read_csv('/Users/adriele/Documents/repos/pa001/dataset/sessions.csv')\n"
   ]
  },
  {
   "cell_type": "markdown",
   "id": "a0ff1d3b",
   "metadata": {},
   "source": [
    "## 1.2 Data Dimensions"
   ]
  },
  {
   "cell_type": "code",
   "execution_count": 63,
   "id": "b86b814f",
   "metadata": {
    "ExecuteTime": {
     "end_time": "2023-03-25T01:52:24.373590Z",
     "start_time": "2023-03-25T01:52:24.369396Z"
    },
    "scrolled": true
   },
   "outputs": [
    {
     "name": "stdout",
     "output_type": "stream",
     "text": [
      "Number of Cols 16\n",
      "Number of Rows 213451\n"
     ]
    }
   ],
   "source": [
    "print( 'Number of Cols {}'.format( df1.shape[1] ) )\n",
    "print( 'Number of Rows {}'.format( df1.shape[0] ) )\n"
   ]
  },
  {
   "cell_type": "code",
   "execution_count": 64,
   "id": "2669b428",
   "metadata": {
    "ExecuteTime": {
     "end_time": "2023-03-25T01:52:46.914450Z",
     "start_time": "2023-03-25T01:52:46.911065Z"
    }
   },
   "outputs": [
    {
     "name": "stdout",
     "output_type": "stream",
     "text": [
      "Number of Cols 6\n",
      "Number of Rows 10567737\n"
     ]
    }
   ],
   "source": [
    "print( 'Number of Cols {}'.format( df_sessions.shape[1] ) )\n",
    "print( 'Number of Rows {}'.format( df_sessions.shape[0] ) )\n",
    "\n"
   ]
  },
  {
   "cell_type": "markdown",
   "id": "2fbba4a4",
   "metadata": {},
   "source": [
    "## 1.3 Check Na's"
   ]
  },
  {
   "cell_type": "code",
   "execution_count": 51,
   "id": "a3b24b7b",
   "metadata": {
    "ExecuteTime": {
     "end_time": "2023-03-25T01:32:30.126300Z",
     "start_time": "2023-03-25T01:32:29.745781Z"
    }
   },
   "outputs": [
    {
     "data": {
      "text/plain": [
       "id                              0\n",
       "date_account_created            0\n",
       "timestamp_first_active          0\n",
       "date_first_booking         124543\n",
       "gender                          0\n",
       "age                         87990\n",
       "signup_method                   0\n",
       "signup_flow                     0\n",
       "language                        0\n",
       "affiliate_channel               0\n",
       "affiliate_provider              0\n",
       "first_affiliate_tracked      6065\n",
       "signup_app                      0\n",
       "first_device_type               0\n",
       "first_browser                   0\n",
       "country_destination             0\n",
       "dtype: int64"
      ]
     },
     "execution_count": 51,
     "metadata": {},
     "output_type": "execute_result"
    }
   ],
   "source": [
    "df1.isna().sum()"
   ]
  },
  {
   "cell_type": "code",
   "execution_count": 52,
   "id": "4b1cd701",
   "metadata": {
    "ExecuteTime": {
     "end_time": "2023-03-25T01:32:30.149113Z",
     "start_time": "2023-03-25T01:32:30.129862Z"
    }
   },
   "outputs": [
    {
     "data": {
      "text/plain": [
       "NDF      0.583473\n",
       "US       0.292226\n",
       "other    0.047290\n",
       "FR       0.023532\n",
       "IT       0.013282\n",
       "GB       0.010888\n",
       "ES       0.010536\n",
       "CA       0.006690\n",
       "DE       0.004971\n",
       "NL       0.003570\n",
       "AU       0.002525\n",
       "PT       0.001017\n",
       "Name: country_destination, dtype: float64"
      ]
     },
     "execution_count": 52,
     "metadata": {},
     "output_type": "execute_result"
    }
   ],
   "source": [
    "df1['country_destination' ].value_counts( normalize=True )"
   ]
  },
  {
   "cell_type": "code",
   "execution_count": 69,
   "id": "b1a89f3b",
   "metadata": {
    "ExecuteTime": {
     "end_time": "2023-03-25T02:00:14.874504Z",
     "start_time": "2023-03-25T02:00:09.500044Z"
    }
   },
   "outputs": [],
   "source": [
    "# removing missing values\n",
    "#df1 = df1.dropna()\n",
    "#========================== User ===============================\n",
    "\n",
    "# date_first_booking\n",
    "date_first_booking_max = pd.to_datetime( df1['date_first_booking'] ).max().strftime( '%Y-%m-%d')\n",
    "df1['date_first_booking'] = df1['date_first_booking'].fillna(date_first_booking_max)\n",
    "\n",
    "# Age\n",
    "avg_age = df1['age'].mean().astype( int )\n",
    "df1['age'] = df1['age'].fillna( avg_age )\n",
    "\n",
    "# first_affiliate_tracked\n",
    "\n",
    "df1 = df1[~df1['first_affiliate_tracked'].isna()]\n",
    "\n",
    "# ======================= sessions ===============================\n",
    "\n",
    "# user id 0.3%\n",
    "df_sessions = df_sessions[~df_sessions['user_id'].isna() ]\n",
    "\n",
    "# Action 0.7%\n",
    "df_sessions = df_sessions[~df_sessions['action'].isna() ]\n",
    "\n",
    "# action_type 11%\n",
    "df_sessions = df_sessions[~df_sessions['action_type'].isna() ]\n",
    "\n",
    "# action_detail 11%\n",
    "df_sessions = df_sessions[~df_sessions['action_detail'].isna() ]\n",
    "\n",
    "# secs_elapsed 1.2%\n",
    "df_sessions = df_sessions[~df_sessions['secs_elapsed'].isna() ]\n",
    "\n"
   ]
  },
  {
   "cell_type": "markdown",
   "id": "b7a50f28",
   "metadata": {},
   "source": [
    "## 1.4 Data Types"
   ]
  },
  {
   "cell_type": "code",
   "execution_count": 66,
   "id": "e7430804",
   "metadata": {
    "ExecuteTime": {
     "end_time": "2023-03-25T01:54:03.893974Z",
     "start_time": "2023-03-25T01:54:03.886507Z"
    }
   },
   "outputs": [
    {
     "data": {
      "text/plain": [
       "id                          object\n",
       "date_account_created        object\n",
       "timestamp_first_active       int64\n",
       "date_first_booking          object\n",
       "gender                      object\n",
       "age                        float64\n",
       "signup_method               object\n",
       "signup_flow                  int64\n",
       "language                    object\n",
       "affiliate_channel           object\n",
       "affiliate_provider          object\n",
       "first_affiliate_tracked     object\n",
       "signup_app                  object\n",
       "first_device_type           object\n",
       "first_browser               object\n",
       "country_destination         object\n",
       "dtype: object"
      ]
     },
     "execution_count": 66,
     "metadata": {},
     "output_type": "execute_result"
    }
   ],
   "source": [
    "df1.dtypes"
   ]
  },
  {
   "cell_type": "markdown",
   "id": "dc88025c",
   "metadata": {},
   "source": [
    "## 1.5 Change Dtypes"
   ]
  },
  {
   "cell_type": "code",
   "execution_count": 67,
   "id": "5fa20628",
   "metadata": {
    "ExecuteTime": {
     "end_time": "2023-03-25T01:54:05.777779Z",
     "start_time": "2023-03-25T01:54:05.053426Z"
    }
   },
   "outputs": [
    {
     "data": {
      "text/plain": [
       "id                                 object\n",
       "date_account_created       datetime64[ns]\n",
       "timestamp_first_active     datetime64[ns]\n",
       "date_first_booking         datetime64[ns]\n",
       "gender                             object\n",
       "age                                 int64\n",
       "signup_method                      object\n",
       "signup_flow                         int64\n",
       "language                           object\n",
       "affiliate_channel                  object\n",
       "affiliate_provider                 object\n",
       "first_affiliate_tracked            object\n",
       "signup_app                         object\n",
       "first_device_type                  object\n",
       "first_browser                      object\n",
       "country_destination                object\n",
       "dtype: object"
      ]
     },
     "execution_count": 67,
     "metadata": {},
     "output_type": "execute_result"
    }
   ],
   "source": [
    "#date_account_created\n",
    "df1['date_account_created'] = pd.to_datetime( df1['date_account_created'] )\n",
    "\n",
    "#timestamp_first_active\n",
    "df1['timestamp_first_active'] = pd.to_datetime( df1['timestamp_first_active'], format='%Y%m%d%H%M%S' )\n",
    "\n",
    "#date_first_booking\n",
    "df1['date_first_booking'] = pd.to_datetime( df1['date_first_booking'] )\n",
    "\n",
    "\n",
    "#age\n",
    "df1['age'] = df1['age'].astype( int )\n",
    "\n",
    "\n",
    "df1.dtypes"
   ]
  },
  {
   "cell_type": "markdown",
   "id": "211f2af6",
   "metadata": {},
   "source": [
    "## 1.6 Check Balanncing Data"
   ]
  },
  {
   "cell_type": "code",
   "execution_count": 9,
   "id": "d0c551c2",
   "metadata": {
    "ExecuteTime": {
     "end_time": "2023-03-24T22:32:12.250140Z",
     "start_time": "2023-03-24T22:32:12.238347Z"
    }
   },
   "outputs": [
    {
     "data": {
      "text/plain": [
       "US       0.708864\n",
       "other    0.110854\n",
       "FR       0.054085\n",
       "IT       0.029763\n",
       "GB       0.025935\n",
       "ES       0.024864\n",
       "CA       0.015696\n",
       "DE       0.012454\n",
       "NL       0.008801\n",
       "AU       0.006366\n",
       "PT       0.002318\n",
       "Name: country_destination, dtype: float64"
      ]
     },
     "execution_count": 9,
     "metadata": {},
     "output_type": "execute_result"
    }
   ],
   "source": [
    "df1['country_destination'].value_counts( normalize=True )"
   ]
  },
  {
   "cell_type": "markdown",
   "id": "75fda12f",
   "metadata": {},
   "source": [
    "# 2.0 Data Filtering"
   ]
  },
  {
   "cell_type": "code",
   "execution_count": 10,
   "id": "d902c13d",
   "metadata": {
    "ExecuteTime": {
     "end_time": "2023-03-24T22:32:12.264721Z",
     "start_time": "2023-03-24T22:32:12.256350Z"
    }
   },
   "outputs": [],
   "source": [
    "df2 = df1.copy()"
   ]
  },
  {
   "cell_type": "markdown",
   "id": "e5baf433",
   "metadata": {},
   "source": [
    "## 2.1 Filtering Row"
   ]
  },
  {
   "cell_type": "markdown",
   "id": "6f3acfc7",
   "metadata": {
    "heading_collapsed": true
   },
   "source": [
    "## 2.2 Columns Selection"
   ]
  },
  {
   "cell_type": "markdown",
   "id": "b8c43169",
   "metadata": {},
   "source": [
    "# 3.0 Data Preparation"
   ]
  },
  {
   "cell_type": "code",
   "execution_count": 11,
   "id": "c3d2def5",
   "metadata": {
    "ExecuteTime": {
     "end_time": "2023-03-24T22:32:12.396425Z",
     "start_time": "2023-03-24T22:32:12.267765Z"
    }
   },
   "outputs": [],
   "source": [
    "df3 = df2.copy()\n",
    "\n",
    "\n",
    "# dammy variable\n",
    "df3_dummy = pd.get_dummies( df3.drop( ['id', 'country_destination'], axis=1) )\n",
    "\n",
    "# join Id and Country destination\n",
    "df3 = pd.concat( [df3[['id', 'country_destination']], df3_dummy], axis=1 )"
   ]
  },
  {
   "cell_type": "markdown",
   "id": "967c8780",
   "metadata": {},
   "source": [
    "# 4.0  Features Selection"
   ]
  },
  {
   "cell_type": "code",
   "execution_count": 12,
   "id": "63504662",
   "metadata": {
    "ExecuteTime": {
     "end_time": "2023-03-24T22:32:12.424602Z",
     "start_time": "2023-03-24T22:32:12.398776Z"
    }
   },
   "outputs": [],
   "source": [
    "cols_drop = ['date_account_created', 'timestamp_first_active', 'date_first_booking']\n",
    "\n",
    "df4 = df3.drop(cols_drop, axis=1 )"
   ]
  },
  {
   "cell_type": "markdown",
   "id": "a18badc6",
   "metadata": {},
   "source": [
    "# 5.0 Machine Learning Model"
   ]
  },
  {
   "cell_type": "code",
   "execution_count": 13,
   "id": "41f5a9cd",
   "metadata": {
    "ExecuteTime": {
     "end_time": "2023-03-24T22:32:12.445948Z",
     "start_time": "2023-03-24T22:32:12.426965Z"
    }
   },
   "outputs": [],
   "source": [
    "x = df4.drop( 'country_destination', axis=1 )\n",
    "y = df4[ 'country_destination' ].copy()"
   ]
  },
  {
   "cell_type": "code",
   "execution_count": 14,
   "id": "4c01c584",
   "metadata": {
    "ExecuteTime": {
     "end_time": "2023-03-24T22:32:12.520382Z",
     "start_time": "2023-03-24T22:32:12.448334Z"
    }
   },
   "outputs": [],
   "source": [
    "# split dataset into to training and test\n",
    "X_train, X_test, y_train, y_test = ms.train_test_split( x, y, test_size=0.2, random_state = 42 )"
   ]
  },
  {
   "cell_type": "code",
   "execution_count": 15,
   "id": "71d321ea",
   "metadata": {
    "ExecuteTime": {
     "end_time": "2023-03-24T22:32:12.533819Z",
     "start_time": "2023-03-24T22:32:12.522743Z"
    }
   },
   "outputs": [],
   "source": [
    "x_train = X_train.drop( 'id', axis=1 )\n",
    "x_test = X_test.drop( 'id', axis=1 )"
   ]
  },
  {
   "cell_type": "markdown",
   "id": "da8ee994",
   "metadata": {},
   "source": [
    "## 5.1 Baseline Model"
   ]
  },
  {
   "cell_type": "code",
   "execution_count": 36,
   "id": "a65de1ec",
   "metadata": {
    "ExecuteTime": {
     "end_time": "2023-03-24T23:24:09.358368Z",
     "start_time": "2023-03-24T23:24:09.341876Z"
    }
   },
   "outputs": [
    {
     "data": {
      "text/plain": [
       "13635"
      ]
     },
     "execution_count": 36,
     "metadata": {},
     "output_type": "execute_result"
    }
   ],
   "source": [
    "import random\n",
    "\n",
    "\n",
    "country_destination_list = df1['country_destination'].drop_duplicates().sort_values().tolist()\n",
    "k_num = y_test.shape[0]\n",
    "\n",
    "country_destination_weight = df1['country_destination'].value_counts( normalize=True ).sort_index()\n",
    "\n",
    "yhat_random = random.choices( population = country_destination_list,\n",
    "                              weights = country_destination_weight,\n",
    "                              k = k_num )\n",
    "len( yhat_random )"
   ]
  },
  {
   "cell_type": "code",
   "execution_count": 37,
   "id": "215c37c3",
   "metadata": {
    "ExecuteTime": {
     "end_time": "2023-03-24T23:24:12.190403Z",
     "start_time": "2023-03-24T23:24:10.918840Z"
    }
   },
   "outputs": [
    {
     "name": "stdout",
     "output_type": "stream",
     "text": [
      "Accuracy: 0.5211587825449212\n",
      "Balance Accuracy: 0.09125659117691841\n",
      "Kappa Score: -0.002406733313309317\n",
      "              precision    recall  f1-score   support\n",
      "\n",
      "          AU       0.01      0.01      0.01        90\n",
      "          CA       0.04      0.04      0.04       210\n",
      "          DE       0.01      0.02      0.02       176\n",
      "          ES       0.02      0.02      0.02       344\n",
      "          FR       0.06      0.06      0.06       742\n",
      "          GB       0.03      0.03      0.03       356\n",
      "          IT       0.03      0.03      0.03       399\n",
      "          NL       0.00      0.00      0.00       107\n",
      "          PT       0.00      0.00      0.00        26\n",
      "          US       0.71      0.71      0.71      9704\n",
      "       other       0.10      0.09      0.09      1481\n",
      "\n",
      "    accuracy                           0.52     13635\n",
      "   macro avg       0.09      0.09      0.09     13635\n",
      "weighted avg       0.52      0.52      0.52     13635\n",
      "\n"
     ]
    },
    {
     "data": {
      "text/plain": [
       "<Axes: title={'center': 'Confusion Matrix'}, xlabel='Predicted label', ylabel='True label'>"
      ]
     },
     "execution_count": 37,
     "metadata": {},
     "output_type": "execute_result"
    },
    {
     "data": {
      "image/png": "[encoded data removed]",
      "text/plain": [
       "<Figure size 1200x1200 with 2 Axes>"
      ]
     },
     "metadata": {},
     "output_type": "display_data"
    }
   ],
   "source": [
    "# Accuracy\n",
    "acc_random = m.accuracy_score( y_test, yhat_random )\n",
    "print( 'Accuracy: {}'.format( acc_random ) )\n",
    "\n",
    "\n",
    "# Confusion Matrix\n",
    "balance_acc_random = m.balanced_accuracy_score( y_test, yhat_random)\n",
    "print( 'Balance Accuracy: {}'.format( balance_acc_random ) )\n",
    "\n",
    "\n",
    "# kappa Metrics\n",
    "kappa_random = m.cohen_kappa_score( y_test, yhat_random )\n",
    "print( 'Kappa Score: {}'.format( kappa_random ) )\n",
    "\n",
    "# classification report\n",
    "print(m.classification_report( y_test, yhat_random ))\n",
    "\n",
    "# Confusion Matrix\n",
    "mt.plot_confusion_matrix( y_test, yhat_random, normalize=False, figsize=(12, 12) )\n",
    "\n",
    "\n"
   ]
  },
  {
   "cell_type": "markdown",
   "id": "21d5be9e",
   "metadata": {},
   "source": [
    "## 5.2 Neural Network - MLP"
   ]
  },
  {
   "cell_type": "code",
   "execution_count": 19,
   "id": "6f29d0e4",
   "metadata": {
    "ExecuteTime": {
     "end_time": "2023-03-24T22:33:44.266550Z",
     "start_time": "2023-03-24T22:33:44.247509Z"
    }
   },
   "outputs": [],
   "source": [
    "ohe = pp.OneHotEncoder()\n",
    "y_train_nn = ohe.fit_transform( y_train.values.reshape( -1, 1 ) ).toarray()"
   ]
  },
  {
   "cell_type": "code",
   "execution_count": 20,
   "id": "c8281dd3",
   "metadata": {
    "ExecuteTime": {
     "end_time": "2023-03-24T22:37:23.979712Z",
     "start_time": "2023-03-24T22:33:45.011008Z"
    }
   },
   "outputs": [
    {
     "name": "stdout",
     "output_type": "stream",
     "text": [
      "Epoch 1/100\n",
      "1705/1705 [==============================] - 3s 1ms/step - loss: 1.3555 - accuracy: 0.7004\n",
      "Epoch 2/100\n",
      "1705/1705 [==============================] - 2s 1ms/step - loss: 1.2695 - accuracy: 0.7066\n",
      "Epoch 3/100\n",
      "1705/1705 [==============================] - 2s 1ms/step - loss: 1.2303 - accuracy: 0.7068\n",
      "Epoch 4/100\n",
      "1705/1705 [==============================] - 2s 1ms/step - loss: 1.2171 - accuracy: 0.7068\n",
      "Epoch 5/100\n",
      "1705/1705 [==============================] - 2s 1ms/step - loss: 1.1838 - accuracy: 0.7071\n",
      "Epoch 6/100\n",
      "1705/1705 [==============================] - 2s 1ms/step - loss: 1.1755 - accuracy: 0.7070\n",
      "Epoch 7/100\n",
      "1705/1705 [==============================] - 2s 1ms/step - loss: 1.1656 - accuracy: 0.7072\n",
      "Epoch 8/100\n",
      "1705/1705 [==============================] - 2s 1ms/step - loss: 1.1501 - accuracy: 0.7071\n",
      "Epoch 9/100\n",
      "1705/1705 [==============================] - 2s 1ms/step - loss: 1.1453 - accuracy: 0.7074\n",
      "Epoch 10/100\n",
      "1705/1705 [==============================] - 2s 1ms/step - loss: 1.1414 - accuracy: 0.7076\n",
      "Epoch 11/100\n",
      "1705/1705 [==============================] - 2s 1ms/step - loss: 1.1386 - accuracy: 0.7081\n",
      "Epoch 12/100\n",
      "1705/1705 [==============================] - 2s 1ms/step - loss: 1.1370 - accuracy: 0.7081\n",
      "Epoch 13/100\n",
      "1705/1705 [==============================] - 2s 1ms/step - loss: 1.1354 - accuracy: 0.7082\n",
      "Epoch 14/100\n",
      "1705/1705 [==============================] - 2s 1ms/step - loss: 1.1351 - accuracy: 0.7081\n",
      "Epoch 15/100\n",
      "1705/1705 [==============================] - 2s 1ms/step - loss: 1.1344 - accuracy: 0.7081\n",
      "Epoch 16/100\n",
      "1705/1705 [==============================] - 2s 1ms/step - loss: 1.1333 - accuracy: 0.7083\n",
      "Epoch 17/100\n",
      "1705/1705 [==============================] - 2s 1ms/step - loss: 1.1328 - accuracy: 0.7083\n",
      "Epoch 18/100\n",
      "1705/1705 [==============================] - 2s 1ms/step - loss: 1.1325 - accuracy: 0.7083\n",
      "Epoch 19/100\n",
      "1705/1705 [==============================] - 2s 1ms/step - loss: 1.1311 - accuracy: 0.7082\n",
      "Epoch 20/100\n",
      "1705/1705 [==============================] - 2s 1ms/step - loss: 1.1297 - accuracy: 0.7083\n",
      "Epoch 21/100\n",
      "1705/1705 [==============================] - 2s 1ms/step - loss: 1.1301 - accuracy: 0.7082\n",
      "Epoch 22/100\n",
      "1705/1705 [==============================] - 2s 1ms/step - loss: 1.1288 - accuracy: 0.7083\n",
      "Epoch 23/100\n",
      "1705/1705 [==============================] - 2s 1ms/step - loss: 1.1281 - accuracy: 0.7083\n",
      "Epoch 24/100\n",
      "1705/1705 [==============================] - 2s 1ms/step - loss: 1.1271 - accuracy: 0.7084\n",
      "Epoch 25/100\n",
      "1705/1705 [==============================] - 2s 1ms/step - loss: 1.1266 - accuracy: 0.7083\n",
      "Epoch 26/100\n",
      "1705/1705 [==============================] - 2s 1ms/step - loss: 1.1262 - accuracy: 0.7085\n",
      "Epoch 27/100\n",
      "1705/1705 [==============================] - 2s 1ms/step - loss: 1.1254 - accuracy: 0.7084\n",
      "Epoch 28/100\n",
      "1705/1705 [==============================] - 2s 1ms/step - loss: 1.1246 - accuracy: 0.7084\n",
      "Epoch 29/100\n",
      "1705/1705 [==============================] - 2s 1ms/step - loss: 1.1240 - accuracy: 0.7084\n",
      "Epoch 30/100\n",
      "1705/1705 [==============================] - 2s 1ms/step - loss: 1.1236 - accuracy: 0.7085\n",
      "Epoch 31/100\n",
      "1705/1705 [==============================] - 2s 1ms/step - loss: 1.1233 - accuracy: 0.7084\n",
      "Epoch 32/100\n",
      "1705/1705 [==============================] - 2s 1ms/step - loss: 1.1225 - accuracy: 0.7085\n",
      "Epoch 33/100\n",
      "1705/1705 [==============================] - 2s 1ms/step - loss: 1.1211 - accuracy: 0.7086\n",
      "Epoch 34/100\n",
      "1705/1705 [==============================] - 2s 1ms/step - loss: 1.1213 - accuracy: 0.7086\n",
      "Epoch 35/100\n",
      "1705/1705 [==============================] - 2s 1ms/step - loss: 1.1207 - accuracy: 0.7087\n",
      "Epoch 36/100\n",
      "1705/1705 [==============================] - 2s 1ms/step - loss: 1.1201 - accuracy: 0.7085\n",
      "Epoch 37/100\n",
      "1705/1705 [==============================] - 2s 1ms/step - loss: 1.1200 - accuracy: 0.7087\n",
      "Epoch 38/100\n",
      "1705/1705 [==============================] - 2s 1ms/step - loss: 1.1204 - accuracy: 0.7088\n",
      "Epoch 39/100\n",
      "1705/1705 [==============================] - 2s 1ms/step - loss: 1.1204 - accuracy: 0.7087\n",
      "Epoch 40/100\n",
      "1705/1705 [==============================] - 2s 1ms/step - loss: 1.1184 - accuracy: 0.7089\n",
      "Epoch 41/100\n",
      "1705/1705 [==============================] - 2s 1ms/step - loss: 1.1191 - accuracy: 0.7087\n",
      "Epoch 42/100\n",
      "1705/1705 [==============================] - 2s 1ms/step - loss: 1.1187 - accuracy: 0.7090\n",
      "Epoch 43/100\n",
      "1705/1705 [==============================] - 2s 1ms/step - loss: 1.1189 - accuracy: 0.7090\n",
      "Epoch 44/100\n",
      "1705/1705 [==============================] - 2s 1ms/step - loss: 1.1181 - accuracy: 0.7089\n",
      "Epoch 45/100\n",
      "1705/1705 [==============================] - 2s 1ms/step - loss: 1.1171 - accuracy: 0.7089\n",
      "Epoch 46/100\n",
      "1705/1705 [==============================] - 2s 1ms/step - loss: 1.1172 - accuracy: 0.7090\n",
      "Epoch 47/100\n",
      "1705/1705 [==============================] - 2s 1ms/step - loss: 1.1159 - accuracy: 0.7089\n",
      "Epoch 48/100\n",
      "1705/1705 [==============================] - 2s 1ms/step - loss: 1.1165 - accuracy: 0.7091\n",
      "Epoch 49/100\n",
      "1705/1705 [==============================] - 2s 1ms/step - loss: 1.1156 - accuracy: 0.7090\n",
      "Epoch 50/100\n",
      "1705/1705 [==============================] - 2s 1ms/step - loss: 1.1157 - accuracy: 0.7090\n",
      "Epoch 51/100\n",
      "1705/1705 [==============================] - 2s 1ms/step - loss: 1.1144 - accuracy: 0.7090\n",
      "Epoch 52/100\n",
      "1705/1705 [==============================] - 2s 1ms/step - loss: 1.1137 - accuracy: 0.7095\n",
      "Epoch 53/100\n",
      "1705/1705 [==============================] - 2s 1ms/step - loss: 1.1140 - accuracy: 0.7091\n",
      "Epoch 54/100\n",
      "1705/1705 [==============================] - 2s 1ms/step - loss: 1.1142 - accuracy: 0.7093\n",
      "Epoch 55/100\n",
      "1705/1705 [==============================] - 2s 1ms/step - loss: 1.1136 - accuracy: 0.7091\n",
      "Epoch 56/100\n",
      "1705/1705 [==============================] - 2s 1ms/step - loss: 1.1130 - accuracy: 0.7095\n",
      "Epoch 57/100\n",
      "1705/1705 [==============================] - 2s 1ms/step - loss: 1.1122 - accuracy: 0.7093\n",
      "Epoch 58/100\n",
      "1705/1705 [==============================] - 2s 1ms/step - loss: 1.1122 - accuracy: 0.7093\n",
      "Epoch 59/100\n",
      "1705/1705 [==============================] - 2s 1ms/step - loss: 1.1121 - accuracy: 0.7095\n",
      "Epoch 60/100\n",
      "1705/1705 [==============================] - 2s 1ms/step - loss: 1.1119 - accuracy: 0.7094\n",
      "Epoch 61/100\n",
      "1705/1705 [==============================] - 2s 1ms/step - loss: 1.1113 - accuracy: 0.7094\n",
      "Epoch 62/100\n",
      "1705/1705 [==============================] - 2s 1ms/step - loss: 1.1115 - accuracy: 0.7094\n",
      "Epoch 63/100\n",
      "1705/1705 [==============================] - 2s 1ms/step - loss: 1.1103 - accuracy: 0.7094\n",
      "Epoch 64/100\n",
      "1705/1705 [==============================] - 2s 1ms/step - loss: 1.1105 - accuracy: 0.7094\n",
      "Epoch 65/100\n",
      "1705/1705 [==============================] - 2s 1ms/step - loss: 1.1102 - accuracy: 0.7096\n",
      "Epoch 66/100\n",
      "1705/1705 [==============================] - 2s 1ms/step - loss: 1.1100 - accuracy: 0.7096\n",
      "Epoch 67/100\n",
      "1705/1705 [==============================] - 2s 1ms/step - loss: 1.1092 - accuracy: 0.7098\n",
      "Epoch 68/100\n",
      "1705/1705 [==============================] - 2s 1ms/step - loss: 1.1088 - accuracy: 0.7096\n",
      "Epoch 69/100\n",
      "1705/1705 [==============================] - 2s 1ms/step - loss: 1.1086 - accuracy: 0.7098\n",
      "Epoch 70/100\n",
      "1705/1705 [==============================] - 2s 1ms/step - loss: 1.1087 - accuracy: 0.7098\n",
      "Epoch 71/100\n",
      "1705/1705 [==============================] - 2s 1ms/step - loss: 1.1079 - accuracy: 0.7099\n",
      "Epoch 72/100\n",
      "1705/1705 [==============================] - 2s 1ms/step - loss: 1.1077 - accuracy: 0.7099\n",
      "Epoch 73/100\n",
      "1705/1705 [==============================] - 2s 1ms/step - loss: 1.1074 - accuracy: 0.7101\n",
      "Epoch 74/100\n",
      "1705/1705 [==============================] - 2s 1ms/step - loss: 1.1075 - accuracy: 0.7098\n",
      "Epoch 75/100\n",
      "1705/1705 [==============================] - 2s 1ms/step - loss: 1.1073 - accuracy: 0.7100\n",
      "Epoch 76/100\n",
      "1705/1705 [==============================] - 2s 1ms/step - loss: 1.1069 - accuracy: 0.7100\n",
      "Epoch 77/100\n",
      "1705/1705 [==============================] - 2s 1ms/step - loss: 1.1068 - accuracy: 0.7103\n",
      "Epoch 78/100\n",
      "1705/1705 [==============================] - 2s 1ms/step - loss: 1.1068 - accuracy: 0.7099\n",
      "Epoch 79/100\n"
     ]
    },
    {
     "name": "stdout",
     "output_type": "stream",
     "text": [
      "1705/1705 [==============================] - 2s 1ms/step - loss: 1.1058 - accuracy: 0.7099\n",
      "Epoch 80/100\n",
      "1705/1705 [==============================] - 2s 1ms/step - loss: 1.1062 - accuracy: 0.7102\n",
      "Epoch 81/100\n",
      "1705/1705 [==============================] - 2s 1ms/step - loss: 1.1057 - accuracy: 0.7100\n",
      "Epoch 82/100\n",
      "1705/1705 [==============================] - 2s 1ms/step - loss: 1.1054 - accuracy: 0.7100\n",
      "Epoch 83/100\n",
      "1705/1705 [==============================] - 2s 1ms/step - loss: 1.1053 - accuracy: 0.7098\n",
      "Epoch 84/100\n",
      "1705/1705 [==============================] - 2s 1ms/step - loss: 1.1044 - accuracy: 0.7103\n",
      "Epoch 85/100\n",
      "1705/1705 [==============================] - 2s 1ms/step - loss: 1.1048 - accuracy: 0.7101\n",
      "Epoch 86/100\n",
      "1705/1705 [==============================] - 2s 1ms/step - loss: 1.1044 - accuracy: 0.7104\n",
      "Epoch 87/100\n",
      "1705/1705 [==============================] - 2s 1ms/step - loss: 1.1040 - accuracy: 0.7103\n",
      "Epoch 88/100\n",
      "1705/1705 [==============================] - 2s 1ms/step - loss: 1.1043 - accuracy: 0.7103\n",
      "Epoch 89/100\n",
      "1705/1705 [==============================] - 2s 1ms/step - loss: 1.1043 - accuracy: 0.7101\n",
      "Epoch 90/100\n",
      "1705/1705 [==============================] - 2s 1ms/step - loss: 1.1032 - accuracy: 0.7104\n",
      "Epoch 91/100\n",
      "1705/1705 [==============================] - 2s 1ms/step - loss: 1.1036 - accuracy: 0.7101\n",
      "Epoch 92/100\n",
      "1705/1705 [==============================] - 2s 1ms/step - loss: 1.1032 - accuracy: 0.7104\n",
      "Epoch 93/100\n",
      "1705/1705 [==============================] - 2s 1ms/step - loss: 1.1029 - accuracy: 0.7102\n",
      "Epoch 94/100\n",
      "1705/1705 [==============================] - 2s 1ms/step - loss: 1.1032 - accuracy: 0.7106\n",
      "Epoch 95/100\n",
      "1705/1705 [==============================] - 2s 1ms/step - loss: 1.1025 - accuracy: 0.7103\n",
      "Epoch 96/100\n",
      "1705/1705 [==============================] - 2s 1ms/step - loss: 1.1030 - accuracy: 0.7106\n",
      "Epoch 97/100\n",
      "1705/1705 [==============================] - 2s 1ms/step - loss: 1.1020 - accuracy: 0.7105\n",
      "Epoch 98/100\n",
      "1705/1705 [==============================] - 2s 1ms/step - loss: 1.1027 - accuracy: 0.7103\n",
      "Epoch 99/100\n",
      "1705/1705 [==============================] - 2s 1ms/step - loss: 1.1020 - accuracy: 0.7109\n",
      "Epoch 100/100\n",
      "1705/1705 [==============================] - 2s 1ms/step - loss: 1.1019 - accuracy: 0.7107\n"
     ]
    },
    {
     "data": {
      "text/plain": [
       "<keras.callbacks.History at 0x7fd26aa3d310>"
      ]
     },
     "execution_count": 20,
     "metadata": {},
     "output_type": "execute_result"
    }
   ],
   "source": [
    "# model definition\n",
    "model = ml.Sequential()\n",
    "model.add( l.Dense( 128, input_dim = x_train.shape[1], activation='relu' ) )\n",
    "model.add( l.Dense( 11, activation='softmax' ) )\n",
    "\n",
    "# model compile\n",
    "model.compile( loss='categorical_crossentropy', optimizer='adam', metrics=['accuracy'] )\n",
    "\n",
    "# train model\n",
    "model.fit( x_train, y_train_nn, epochs=100 )"
   ]
  },
  {
   "cell_type": "markdown",
   "id": "a2d6b4ad",
   "metadata": {},
   "source": [
    "### 5.2.1 NN Model Performance"
   ]
  },
  {
   "cell_type": "code",
   "execution_count": 21,
   "id": "873fddd2",
   "metadata": {
    "ExecuteTime": {
     "end_time": "2023-03-24T22:37:28.365547Z",
     "start_time": "2023-03-24T22:37:23.982588Z"
    }
   },
   "outputs": [
    {
     "name": "stdout",
     "output_type": "stream",
     "text": [
      "427/427 [==============================] - 0s 808us/step\n"
     ]
    }
   ],
   "source": [
    "# Prediction\n",
    "pred_nn = model.predict( x_test )\n",
    "\n",
    "# Invert Prediction\n",
    "yhat_nn = ohe.inverse_transform( pred_nn )\n",
    "\n",
    "# Prediction Prepare\n",
    "y_test_nn = y_test.to_numpy()\n",
    "yhat_nn = yhat_nn.reshape( 1, -1 )[0]\n"
   ]
  },
  {
   "cell_type": "code",
   "execution_count": 22,
   "id": "7d30a4a8",
   "metadata": {
    "ExecuteTime": {
     "end_time": "2023-03-24T22:37:29.791423Z",
     "start_time": "2023-03-24T22:37:28.368391Z"
    }
   },
   "outputs": [
    {
     "name": "stdout",
     "output_type": "stream",
     "text": [
      "Accuracy: 0.7098643197653098\n",
      "Balance Accuracy: 0.0917464988883574\n",
      "Kappa Score: 0.003836885840222015\n"
     ]
    },
    {
     "name": "stderr",
     "output_type": "stream",
     "text": [
      "/Users/adriele/opt/anaconda3/envs/env_pa001/lib/python3.9/site-packages/sklearn/metrics/_classification.py:1344: UndefinedMetricWarning: Precision and F-score are ill-defined and being set to 0.0 in labels with no predicted samples. Use `zero_division` parameter to control this behavior.\n",
      "  _warn_prf(average, modifier, msg_start, len(result))\n",
      "/Users/adriele/opt/anaconda3/envs/env_pa001/lib/python3.9/site-packages/sklearn/metrics/_classification.py:1344: UndefinedMetricWarning: Precision and F-score are ill-defined and being set to 0.0 in labels with no predicted samples. Use `zero_division` parameter to control this behavior.\n",
      "  _warn_prf(average, modifier, msg_start, len(result))\n"
     ]
    },
    {
     "name": "stdout",
     "output_type": "stream",
     "text": [
      "              precision    recall  f1-score   support\n",
      "\n",
      "          AU       0.00      0.00      0.00        90\n",
      "          CA       0.00      0.00      0.00       210\n",
      "          DE       0.00      0.00      0.00       176\n",
      "          ES       0.08      0.00      0.01       344\n",
      "          FR       0.24      0.01      0.01       742\n",
      "          GB       0.00      0.00      0.00       356\n",
      "          IT       0.00      0.00      0.00       399\n",
      "          NL       0.00      0.00      0.00       107\n",
      "          PT       0.00      0.00      0.00        26\n",
      "          US       0.71      1.00      0.83      9704\n",
      "       other       0.32      0.00      0.01      1481\n",
      "\n",
      "    accuracy                           0.71     13635\n",
      "   macro avg       0.12      0.09      0.08     13635\n",
      "weighted avg       0.56      0.71      0.59     13635\n",
      "\n"
     ]
    },
    {
     "name": "stderr",
     "output_type": "stream",
     "text": [
      "/Users/adriele/opt/anaconda3/envs/env_pa001/lib/python3.9/site-packages/sklearn/metrics/_classification.py:1344: UndefinedMetricWarning: Precision and F-score are ill-defined and being set to 0.0 in labels with no predicted samples. Use `zero_division` parameter to control this behavior.\n",
      "  _warn_prf(average, modifier, msg_start, len(result))\n"
     ]
    },
    {
     "data": {
      "text/plain": [
       "<Axes: title={'center': 'Confusion Matrix'}, xlabel='Predicted label', ylabel='True label'>"
      ]
     },
     "execution_count": 22,
     "metadata": {},
     "output_type": "execute_result"
    },
    {
     "data": {
      "image/png": "[encoded data removed]",
      "text/plain": [
       "<Figure size 1200x1200 with 2 Axes>"
      ]
     },
     "metadata": {},
     "output_type": "display_data"
    }
   ],
   "source": [
    "\n",
    "# Accuracy\n",
    "acc_nn = m.accuracy_score( y_test_nn, yhat_nn )\n",
    "print( 'Accuracy: {}'.format( acc_nn ) )\n",
    "\n",
    "\n",
    "# Confusion Matrix\n",
    "balance_acc_nn = m.balanced_accuracy_score( y_test_nn, yhat_nn)\n",
    "print( 'Balance Accuracy: {}'.format( balance_acc_nn ) )\n",
    "\n",
    "\n",
    "# kappa Metrics\n",
    "kappa_nn = m.cohen_kappa_score( y_test_nn, yhat_nn )\n",
    "print( 'Kappa Score: {}'.format( kappa_nn ) )\n",
    "\n",
    "# classification report\n",
    "print(m.classification_report( y_test_nn, yhat_nn ))\n",
    "\n",
    "# Confusion Matrix\n",
    "mt.plot_confusion_matrix( y_test_nn, yhat_nn, normalize=False, figsize=(12, 12) )\n",
    "\n"
   ]
  },
  {
   "cell_type": "markdown",
   "id": "91122779",
   "metadata": {},
   "source": [
    "### 5.2.3 NN Model Performance - Cross Validation"
   ]
  },
  {
   "cell_type": "code",
   "execution_count": 39,
   "id": "1976b4c8",
   "metadata": {
    "ExecuteTime": {
     "end_time": "2023-03-24T23:44:52.570770Z",
     "start_time": "2023-03-24T23:42:06.379053Z"
    }
   },
   "outputs": [
    {
     "name": "stdout",
     "output_type": "stream",
     "text": [
      "fold Number:1/5\n",
      "341/341 [==============================] - 0s 881us/step\n"
     ]
    },
    {
     "ename": "ValueError",
     "evalue": "Found input variables with inconsistent numbers of samples: [10908, 1]",
     "output_type": "error",
     "traceback": [
      "\u001b[0;31m---------------------------------------------------------------------------\u001b[0m",
      "\u001b[0;31mValueError\u001b[0m                                Traceback (most recent call last)",
      "Cell \u001b[0;32mIn[39], line 52\u001b[0m\n\u001b[1;32m     44\u001b[0m yhat_nn \u001b[38;5;241m=\u001b[39m yhat_nn\u001b[38;5;241m.\u001b[39mreshape( \u001b[38;5;241m-\u001b[39m\u001b[38;5;241m1\u001b[39m, \u001b[38;5;241m1\u001b[39m )[\u001b[38;5;241m0\u001b[39m]\n\u001b[1;32m     47\u001b[0m \u001b[38;5;66;03m# Metrics \u001b[39;00m\n\u001b[1;32m     48\u001b[0m \n\u001b[1;32m     49\u001b[0m \n\u001b[1;32m     50\u001b[0m \n\u001b[1;32m     51\u001b[0m \u001b[38;5;66;03m# Balanced Accuracy\u001b[39;00m\n\u001b[0;32m---> 52\u001b[0m balanced_acc_nn \u001b[38;5;241m=\u001b[39m \u001b[43mm\u001b[49m\u001b[38;5;241;43m.\u001b[39;49m\u001b[43mbalanced_accuracy_score\u001b[49m\u001b[43m(\u001b[49m\u001b[43m \u001b[49m\u001b[43my_test_nn\u001b[49m\u001b[43m,\u001b[49m\u001b[43m \u001b[49m\u001b[43myhat_nn\u001b[49m\u001b[43m \u001b[49m\u001b[43m)\u001b[49m\n\u001b[1;32m     53\u001b[0m balanced_acc_list\u001b[38;5;241m.\u001b[39mappend( balanced_acc_nn )\n\u001b[1;32m     55\u001b[0m \u001b[38;5;66;03m# kappa metrics\u001b[39;00m\n",
      "File \u001b[0;32m~/opt/anaconda3/envs/env_pa001/lib/python3.9/site-packages/sklearn/metrics/_classification.py:2180\u001b[0m, in \u001b[0;36mbalanced_accuracy_score\u001b[0;34m(y_true, y_pred, sample_weight, adjusted)\u001b[0m\n\u001b[1;32m   2111\u001b[0m \u001b[38;5;28;01mdef\u001b[39;00m \u001b[38;5;21mbalanced_accuracy_score\u001b[39m(y_true, y_pred, \u001b[38;5;241m*\u001b[39m, sample_weight\u001b[38;5;241m=\u001b[39m\u001b[38;5;28;01mNone\u001b[39;00m, adjusted\u001b[38;5;241m=\u001b[39m\u001b[38;5;28;01mFalse\u001b[39;00m):\n\u001b[1;32m   2112\u001b[0m \u001b[38;5;250m    \u001b[39m\u001b[38;5;124;03m\"\"\"Compute the balanced accuracy.\u001b[39;00m\n\u001b[1;32m   2113\u001b[0m \n\u001b[1;32m   2114\u001b[0m \u001b[38;5;124;03m    The balanced accuracy in binary and multiclass classification problems to\u001b[39;00m\n\u001b[0;32m   (...)\u001b[0m\n\u001b[1;32m   2178\u001b[0m \u001b[38;5;124;03m    0.625\u001b[39;00m\n\u001b[1;32m   2179\u001b[0m \u001b[38;5;124;03m    \"\"\"\u001b[39;00m\n\u001b[0;32m-> 2180\u001b[0m     C \u001b[38;5;241m=\u001b[39m \u001b[43mconfusion_matrix\u001b[49m\u001b[43m(\u001b[49m\u001b[43my_true\u001b[49m\u001b[43m,\u001b[49m\u001b[43m \u001b[49m\u001b[43my_pred\u001b[49m\u001b[43m,\u001b[49m\u001b[43m \u001b[49m\u001b[43msample_weight\u001b[49m\u001b[38;5;241;43m=\u001b[39;49m\u001b[43msample_weight\u001b[49m\u001b[43m)\u001b[49m\n\u001b[1;32m   2181\u001b[0m     \u001b[38;5;28;01mwith\u001b[39;00m np\u001b[38;5;241m.\u001b[39merrstate(divide\u001b[38;5;241m=\u001b[39m\u001b[38;5;124m\"\u001b[39m\u001b[38;5;124mignore\u001b[39m\u001b[38;5;124m\"\u001b[39m, invalid\u001b[38;5;241m=\u001b[39m\u001b[38;5;124m\"\u001b[39m\u001b[38;5;124mignore\u001b[39m\u001b[38;5;124m\"\u001b[39m):\n\u001b[1;32m   2182\u001b[0m         per_class \u001b[38;5;241m=\u001b[39m np\u001b[38;5;241m.\u001b[39mdiag(C) \u001b[38;5;241m/\u001b[39m C\u001b[38;5;241m.\u001b[39msum(axis\u001b[38;5;241m=\u001b[39m\u001b[38;5;241m1\u001b[39m)\n",
      "File \u001b[0;32m~/opt/anaconda3/envs/env_pa001/lib/python3.9/site-packages/sklearn/metrics/_classification.py:317\u001b[0m, in \u001b[0;36mconfusion_matrix\u001b[0;34m(y_true, y_pred, labels, sample_weight, normalize)\u001b[0m\n\u001b[1;32m    232\u001b[0m \u001b[38;5;28;01mdef\u001b[39;00m \u001b[38;5;21mconfusion_matrix\u001b[39m(\n\u001b[1;32m    233\u001b[0m     y_true, y_pred, \u001b[38;5;241m*\u001b[39m, labels\u001b[38;5;241m=\u001b[39m\u001b[38;5;28;01mNone\u001b[39;00m, sample_weight\u001b[38;5;241m=\u001b[39m\u001b[38;5;28;01mNone\u001b[39;00m, normalize\u001b[38;5;241m=\u001b[39m\u001b[38;5;28;01mNone\u001b[39;00m\n\u001b[1;32m    234\u001b[0m ):\n\u001b[1;32m    235\u001b[0m \u001b[38;5;250m    \u001b[39m\u001b[38;5;124;03m\"\"\"Compute confusion matrix to evaluate the accuracy of a classification.\u001b[39;00m\n\u001b[1;32m    236\u001b[0m \n\u001b[1;32m    237\u001b[0m \u001b[38;5;124;03m    By definition a confusion matrix :math:`C` is such that :math:`C_{i, j}`\u001b[39;00m\n\u001b[0;32m   (...)\u001b[0m\n\u001b[1;32m    315\u001b[0m \u001b[38;5;124;03m    (0, 2, 1, 1)\u001b[39;00m\n\u001b[1;32m    316\u001b[0m \u001b[38;5;124;03m    \"\"\"\u001b[39;00m\n\u001b[0;32m--> 317\u001b[0m     y_type, y_true, y_pred \u001b[38;5;241m=\u001b[39m \u001b[43m_check_targets\u001b[49m\u001b[43m(\u001b[49m\u001b[43my_true\u001b[49m\u001b[43m,\u001b[49m\u001b[43m \u001b[49m\u001b[43my_pred\u001b[49m\u001b[43m)\u001b[49m\n\u001b[1;32m    318\u001b[0m     \u001b[38;5;28;01mif\u001b[39;00m y_type \u001b[38;5;129;01mnot\u001b[39;00m \u001b[38;5;129;01min\u001b[39;00m (\u001b[38;5;124m\"\u001b[39m\u001b[38;5;124mbinary\u001b[39m\u001b[38;5;124m\"\u001b[39m, \u001b[38;5;124m\"\u001b[39m\u001b[38;5;124mmulticlass\u001b[39m\u001b[38;5;124m\"\u001b[39m):\n\u001b[1;32m    319\u001b[0m         \u001b[38;5;28;01mraise\u001b[39;00m \u001b[38;5;167;01mValueError\u001b[39;00m(\u001b[38;5;124m\"\u001b[39m\u001b[38;5;132;01m%s\u001b[39;00m\u001b[38;5;124m is not supported\u001b[39m\u001b[38;5;124m\"\u001b[39m \u001b[38;5;241m%\u001b[39m y_type)\n",
      "File \u001b[0;32m~/opt/anaconda3/envs/env_pa001/lib/python3.9/site-packages/sklearn/metrics/_classification.py:86\u001b[0m, in \u001b[0;36m_check_targets\u001b[0;34m(y_true, y_pred)\u001b[0m\n\u001b[1;32m     59\u001b[0m \u001b[38;5;28;01mdef\u001b[39;00m \u001b[38;5;21m_check_targets\u001b[39m(y_true, y_pred):\n\u001b[1;32m     60\u001b[0m \u001b[38;5;250m    \u001b[39m\u001b[38;5;124;03m\"\"\"Check that y_true and y_pred belong to the same classification task.\u001b[39;00m\n\u001b[1;32m     61\u001b[0m \n\u001b[1;32m     62\u001b[0m \u001b[38;5;124;03m    This converts multiclass or binary types to a common shape, and raises a\u001b[39;00m\n\u001b[0;32m   (...)\u001b[0m\n\u001b[1;32m     84\u001b[0m \u001b[38;5;124;03m    y_pred : array or indicator matrix\u001b[39;00m\n\u001b[1;32m     85\u001b[0m \u001b[38;5;124;03m    \"\"\"\u001b[39;00m\n\u001b[0;32m---> 86\u001b[0m     \u001b[43mcheck_consistent_length\u001b[49m\u001b[43m(\u001b[49m\u001b[43my_true\u001b[49m\u001b[43m,\u001b[49m\u001b[43m \u001b[49m\u001b[43my_pred\u001b[49m\u001b[43m)\u001b[49m\n\u001b[1;32m     87\u001b[0m     type_true \u001b[38;5;241m=\u001b[39m type_of_target(y_true, input_name\u001b[38;5;241m=\u001b[39m\u001b[38;5;124m\"\u001b[39m\u001b[38;5;124my_true\u001b[39m\u001b[38;5;124m\"\u001b[39m)\n\u001b[1;32m     88\u001b[0m     type_pred \u001b[38;5;241m=\u001b[39m type_of_target(y_pred, input_name\u001b[38;5;241m=\u001b[39m\u001b[38;5;124m\"\u001b[39m\u001b[38;5;124my_pred\u001b[39m\u001b[38;5;124m\"\u001b[39m)\n",
      "File \u001b[0;32m~/opt/anaconda3/envs/env_pa001/lib/python3.9/site-packages/sklearn/utils/validation.py:397\u001b[0m, in \u001b[0;36mcheck_consistent_length\u001b[0;34m(*arrays)\u001b[0m\n\u001b[1;32m    395\u001b[0m uniques \u001b[38;5;241m=\u001b[39m np\u001b[38;5;241m.\u001b[39munique(lengths)\n\u001b[1;32m    396\u001b[0m \u001b[38;5;28;01mif\u001b[39;00m \u001b[38;5;28mlen\u001b[39m(uniques) \u001b[38;5;241m>\u001b[39m \u001b[38;5;241m1\u001b[39m:\n\u001b[0;32m--> 397\u001b[0m     \u001b[38;5;28;01mraise\u001b[39;00m \u001b[38;5;167;01mValueError\u001b[39;00m(\n\u001b[1;32m    398\u001b[0m         \u001b[38;5;124m\"\u001b[39m\u001b[38;5;124mFound input variables with inconsistent numbers of samples: \u001b[39m\u001b[38;5;132;01m%r\u001b[39;00m\u001b[38;5;124m\"\u001b[39m\n\u001b[1;32m    399\u001b[0m         \u001b[38;5;241m%\u001b[39m [\u001b[38;5;28mint\u001b[39m(l) \u001b[38;5;28;01mfor\u001b[39;00m l \u001b[38;5;129;01min\u001b[39;00m lengths]\n\u001b[1;32m    400\u001b[0m     )\n",
      "\u001b[0;31mValueError\u001b[0m: Found input variables with inconsistent numbers of samples: [10908, 1]"
     ]
    }
   ],
   "source": [
    "# gerate k-fold\n",
    "num_folds = 5\n",
    "kfold = ms.StratifiedKFold( n_splits=num_folds, shuffle=True, random_state=32 )\n",
    "\n",
    "balanced_acc_list = []\n",
    "kappa_acc_list = []\n",
    "\n",
    "i = 1\n",
    "\n",
    "for train_ix, val_ix in  kfold.split( x_train, y_train ):\n",
    "    print( 'fold Number:{}/{}'.format(i, num_folds ) )\n",
    "\n",
    "    # get fold\n",
    "    x_train_fold = x_train.iloc[ train_ix ]\n",
    "    y_train_fold = y_train.iloc[ train_ix ]\n",
    "    \n",
    "    x_val_fold =  x_train.iloc[ val_ix ]\n",
    "    y_val_fold =  y_train.iloc[ val_ix ]\n",
    "    \n",
    "    # target\n",
    "    ohe = pp.OneHotEncoder()\n",
    "    y_train_fold_nn = ohe.fit_transform( y_train_fold.values.reshape( -1, 1 )).toarray()\n",
    "\n",
    "\n",
    "    # model definition\n",
    "    model = ml.Sequential()\n",
    "    model.add( l.Dense( 256, input_dim=x_train.shape[1], activation='relu' ) )\n",
    "    model.add( l.Dense( 11, activation='softmax' ) )\n",
    "\n",
    "    # compile model\n",
    "    model.compile( loss='categorical_crossentropy', optimizer='adam', metrics=['accuracy'] )\n",
    "\n",
    "\n",
    "    # tranning model\n",
    "    model.fit( x_train_fold, y_train_fold_nn, epochs=100, batch_size=32, verbose=0 )\n",
    "    \n",
    "    \n",
    "    # prediction\n",
    "    pred_nn = model.predict( x_val_fold )\n",
    "    yhat_nn = ohe.inverse_transform( pred_nn )\n",
    "    \n",
    "    # prepare data\n",
    "    y_test_nn = y_val_fold.to_numpy()\n",
    "    yhat_nn = yhat_nn.reshape( -1, 1 )[0]\n",
    "\n",
    "\n",
    "    # Metrics \n",
    "\n",
    "\n",
    "\n",
    "    # Balanced Accuracy\n",
    "    balanced_acc_nn = m.balanced_accuracy_score( y_test_nn, yhat_nn )\n",
    "    balanced_acc_list.append( balanced_acc_nn )\n",
    "\n",
    "    # kappa metrics\n",
    "    kappa_acc_nn = m.cohen_kappa_score( y_test_nn, yhat_nn )\n",
    "    kappa_acc_list.append( kappa_acc_nn )\n",
    "    \n",
    "    i += 1"
   ]
  },
  {
   "cell_type": "code",
   "execution_count": null,
   "id": "fb3c748c",
   "metadata": {},
   "outputs": [],
   "source": []
  },
  {
   "cell_type": "raw",
   "id": "632811f8",
   "metadata": {},
   "source": []
  },
  {
   "cell_type": "code",
   "execution_count": null,
   "id": "543d1771",
   "metadata": {},
   "outputs": [],
   "source": []
  },
  {
   "cell_type": "code",
   "execution_count": null,
   "id": "443b445b",
   "metadata": {},
   "outputs": [],
   "source": []
  }
 ],
 "metadata": {
  "kernelspec": {
   "display_name": "Python 3 (ipykernel)",
   "language": "python",
   "name": "python3"
  },
  "language_info": {
   "codemirror_mode": {
    "name": "ipython",
    "version": 3
   },
   "file_extension": ".py",
   "mimetype": "text/x-python",
   "name": "python",
   "nbconvert_exporter": "python",
   "pygments_lexer": "ipython3",
   "version": "3.9.16"
  }
 },
 "nbformat": 4,
 "nbformat_minor": 5
}
