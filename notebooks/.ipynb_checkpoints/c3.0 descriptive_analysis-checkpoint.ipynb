{
 "cells": [
  {
   "cell_type": "markdown",
   "id": "ab151802",
   "metadata": {},
   "source": [
    "# Business Context"
   ]
  },
  {
   "cell_type": "markdown",
   "id": "5b926820",
   "metadata": {},
   "source": [
    "Instead of waking to overlooked \"Do not disturb\" signs, Airbnb travelers find themselves rising with the birds in a whimsical treehouse, having their morning coffee on the deck of a houseboat, or cooking a shared regional breakfast with their hosts.\n",
    "\n",
    "New users on Airbnb can book a place to stay in 34,000+ cities across 190+ countries. By accurately predicting where a new user will book their first travel experience, Airbnb can share more personalized content with their community, decrease the average time to first booking, and better forecast demand."
   ]
  },
  {
   "cell_type": "markdown",
   "id": "0cefd445",
   "metadata": {},
   "source": [
    "# Business Challange"
   ]
  },
  {
   "cell_type": "markdown",
   "id": "a2b112c6",
   "metadata": {},
   "source": [
    "In this project, I was challenged to predict in which country a new user will make his or her first booking.\n"
   ]
  },
  {
   "cell_type": "markdown",
   "id": "5b386604",
   "metadata": {},
   "source": [
    "# Business Understanding"
   ]
  },
  {
   "cell_type": "markdown",
   "id": "f2e10f4f",
   "metadata": {
    "ExecuteTime": {
     "end_time": "2023-03-24T15:31:29.129293Z",
     "start_time": "2023-03-24T15:31:29.123836Z"
    }
   },
   "source": [
    "- Business model:\n",
    "     Marketplace -> Connecting people that offer accommodation, to the person who's looking for accommodation.\n",
    "    \n",
    "    \n",
    "- Model Offer:\n",
    "     People offering them property temporarily.\n",
    "     \n",
    "- Metrics:  Portfolio Size, Portfolio diversity/density.\n",
    "\n",
    "- Demand: How many people are looking for accommodation; \n",
    "\n",
    "    - User number.\n",
    "    - LTV ( Lifetime Value)\n",
    "    - CAC ( Client Acquisition Cost )\n",
    "    \n",
    "    - Gross Revenue =  ( fee * number of clients ) - CAC"
   ]
  },
  {
   "cell_type": "markdown",
   "id": "29854240",
   "metadata": {},
   "source": [
    "# Solution Planning"
   ]
  },
  {
   "cell_type": "markdown",
   "id": "583aa7ee",
   "metadata": {},
   "source": [
    "- Prediction model of the first destination of a new user\n",
    "- Prediction saved in a database table.\n",
    "- API:\n",
    "\n",
    "    - Imput: Users and their characteristics;\n",
    "    - output: Users and their characteristics with the destination prediction."
   ]
  },
  {
   "cell_type": "markdown",
   "id": "ec5ba07e",
   "metadata": {},
   "source": [
    "# 0.1 Imports"
   ]
  },
  {
   "cell_type": "code",
   "execution_count": 22,
   "id": "2675226b",
   "metadata": {
    "ExecuteTime": {
     "end_time": "2023-03-28T13:01:47.463501Z",
     "start_time": "2023-03-28T13:01:47.459242Z"
    }
   },
   "outputs": [],
   "source": [
    "import random \n",
    "import warnings\n",
    "import pandas as pd\n",
    "import seaborn as sns\n",
    "import numpy as np\n",
    "\n",
    "import matplotlib.pyplot    as plt\n",
    "\n",
    "from scipy import stats as ss\n",
    "from keras import layers as l\n",
    "from keras import models as ml\n",
    "from sklearn import metrics as m\n",
    "from sklearn import preprocessing as pp\n",
    "from sklearn import model_selection as ms\n",
    "from scikitplot import metrics as mt\n",
    "\n",
    "from IPython.core.display        import HTML"
   ]
  },
  {
   "cell_type": "markdown",
   "id": "9a0b5b73",
   "metadata": {},
   "source": [
    "## 0.01 Helper Functions"
   ]
  },
  {
   "cell_type": "code",
   "execution_count": 23,
   "id": "104923f8",
   "metadata": {
    "ExecuteTime": {
     "end_time": "2023-03-28T13:01:48.903984Z",
     "start_time": "2023-03-28T13:01:48.874206Z"
    }
   },
   "outputs": [
    {
     "data": {
      "text/html": [
       "<style>.container { width:100% !important; }</style>"
      ],
      "text/plain": [
       "<IPython.core.display.HTML object>"
      ]
     },
     "metadata": {},
     "output_type": "display_data"
    },
    {
     "name": "stdout",
     "output_type": "stream",
     "text": [
      "%pylab is deprecated, use %matplotlib inline and import the required libraries.\n",
      "Populating the interactive namespace from numpy and matplotlib\n"
     ]
    },
    {
     "name": "stderr",
     "output_type": "stream",
     "text": [
      "/Users/adriele/opt/anaconda3/envs/env_pa001/lib/python3.9/site-packages/IPython/core/magics/pylab.py:162: UserWarning: pylab import has clobbered these variables: ['random']\n",
      "`%matplotlib` prevents importing * from pylab and numpy\n",
      "  warn(\"pylab import has clobbered these variables: %s\"  % clobbered +\n"
     ]
    },
    {
     "data": {
      "text/html": [
       "<style>.container { width:100% !important; }</style>"
      ],
      "text/plain": [
       "<IPython.core.display.HTML object>"
      ]
     },
     "metadata": {},
     "output_type": "display_data"
    }
   ],
   "source": [
    "def jupyter_settings(): \n",
    "    %matplotlib inline \n",
    "    #%matplotlib notebook\n",
    "    %pylab inline\n",
    "    \n",
    "    plt.style.use('bmh')\n",
    "    plt.rcParams['figure.figsize'] = [25, 12]\n",
    "    plt.rcParams['font.size'] = 24\n",
    "    \n",
    "     \n",
    "    display( HTML( '<style>.container { width:100% !important; }</style>') )\n",
    "    pd.options.display.max_columns = None\n",
    "    pd.options.display.max_rows = None\n",
    "    pd.set_option ('display.expand_frame_repr', False)\n",
    "    \n",
    "    sns.set()\n",
    "\n",
    "%matplotlib inline \n",
    "%matplotlib notebook\n",
    "\n",
    "plt.style.use('bmh')\n",
    "plt.rcParams['figure.figsize'] = [25, 12]\n",
    "plt.rcParams['font.size'] = 24\n",
    "\n",
    "\n",
    "display( HTML( '<style>.container { width:100% !important; }</style>') )\n",
    "pd.options.display.max_columns = None\n",
    "pd.options.display.max_rows = None\n",
    "pd.set_option ('display.expand_frame_repr', False)\n",
    "\n",
    "sns.set()\n",
    "\n",
    "jupyter_settings()\n",
    "\n",
    "# ===============================================\n",
    "def cramer_v (x, y):\n",
    "    cm = pd.crosstab(x, y).values\n",
    "    n = cm.sum()\n",
    "    r, k = cm.shape\n",
    "    \n",
    "    chi2 = ss.chi2_contingency (cm)[0]\n",
    "    chi2corr = max (0, chi2 - (k-1)*(r-1)/(n-1) )\n",
    "    \n",
    "    kcorr = k - (k-1)**2/(n-1) \n",
    "    rcorr = r - (r-1)**2/(n-1) \n",
    "\n",
    "    return  np.sqrt( (chi2corr/n) / (min ( kcorr-1, rcorr-1) ) )\n",
    "\n",
    "#=================================================\n",
    "\n",
    "\n",
    "def fxn():\n",
    "    warnings.warn(\"deprecated\", DeprecationWarning)\n",
    "\n",
    "with warnings.catch_warnings():\n",
    "    warnings.simplefilter(\"ignore\")\n",
    "    fxn()"
   ]
  },
  {
   "cell_type": "markdown",
   "id": "bdaa155d",
   "metadata": {},
   "source": [
    "# 1.0  Data Description"
   ]
  },
  {
   "cell_type": "markdown",
   "id": "4700f59a",
   "metadata": {},
   "source": [
    "## 1.1 Loading data"
   ]
  },
  {
   "cell_type": "code",
   "execution_count": 24,
   "id": "a9fdd6b7",
   "metadata": {
    "ExecuteTime": {
     "end_time": "2023-03-28T13:01:57.504064Z",
     "start_time": "2023-03-28T13:01:50.456445Z"
    }
   },
   "outputs": [],
   "source": [
    "df1 = pd.read_csv('/Users/adriele/Documents/repos/pa001/dataset/train_users.csv')\n",
    "\n",
    "df_sessions = pd.read_csv('/Users/adriele/Documents/repos/pa001/dataset/sessions.csv')\n"
   ]
  },
  {
   "cell_type": "markdown",
   "id": "a0ff1d3b",
   "metadata": {},
   "source": [
    "## 1.2 Data Dimensions"
   ]
  },
  {
   "cell_type": "code",
   "execution_count": 25,
   "id": "b86b814f",
   "metadata": {
    "ExecuteTime": {
     "end_time": "2023-03-28T13:01:57.512152Z",
     "start_time": "2023-03-28T13:01:57.507686Z"
    },
    "scrolled": true
   },
   "outputs": [
    {
     "name": "stdout",
     "output_type": "stream",
     "text": [
      "Number of Cols 16\n",
      "Number of Rows 213451\n"
     ]
    }
   ],
   "source": [
    "print( 'Number of Cols {}'.format( df1.shape[1] ) )\n",
    "print( 'Number of Rows {}'.format( df1.shape[0] ) )\n"
   ]
  },
  {
   "cell_type": "code",
   "execution_count": 26,
   "id": "5750d758",
   "metadata": {
    "ExecuteTime": {
     "end_time": "2023-03-28T13:01:57.518160Z",
     "start_time": "2023-03-28T13:01:57.514881Z"
    }
   },
   "outputs": [
    {
     "name": "stdout",
     "output_type": "stream",
     "text": [
      "Number of Cols 6\n",
      "Number of Rows 10567737\n"
     ]
    }
   ],
   "source": [
    "print( 'Number of Cols {}'.format( df_sessions.shape[1] ) )\n",
    "print( 'Number of Rows {}'.format( df_sessions.shape[0] ) )\n",
    "\n"
   ]
  },
  {
   "cell_type": "markdown",
   "id": "2fbba4a4",
   "metadata": {},
   "source": [
    "## 1.3 Check Na's"
   ]
  },
  {
   "cell_type": "code",
   "execution_count": 27,
   "id": "a3b24b7b",
   "metadata": {
    "ExecuteTime": {
     "end_time": "2023-03-28T13:01:57.875519Z",
     "start_time": "2023-03-28T13:01:57.522097Z"
    }
   },
   "outputs": [
    {
     "data": {
      "text/plain": [
       "id                              0\n",
       "date_account_created            0\n",
       "timestamp_first_active          0\n",
       "date_first_booking         124543\n",
       "gender                          0\n",
       "age                         87990\n",
       "signup_method                   0\n",
       "signup_flow                     0\n",
       "language                        0\n",
       "affiliate_channel               0\n",
       "affiliate_provider              0\n",
       "first_affiliate_tracked      6065\n",
       "signup_app                      0\n",
       "first_device_type               0\n",
       "first_browser                   0\n",
       "country_destination             0\n",
       "dtype: int64"
      ]
     },
     "execution_count": 27,
     "metadata": {},
     "output_type": "execute_result"
    }
   ],
   "source": [
    "df1.isna().sum()"
   ]
  },
  {
   "cell_type": "code",
   "execution_count": 28,
   "id": "ff87b365",
   "metadata": {
    "ExecuteTime": {
     "end_time": "2023-03-28T13:01:57.896159Z",
     "start_time": "2023-03-28T13:01:57.877909Z"
    }
   },
   "outputs": [
    {
     "data": {
      "text/plain": [
       "NDF      0.583473\n",
       "US       0.292226\n",
       "other    0.047290\n",
       "FR       0.023532\n",
       "IT       0.013282\n",
       "GB       0.010888\n",
       "ES       0.010536\n",
       "CA       0.006690\n",
       "DE       0.004971\n",
       "NL       0.003570\n",
       "AU       0.002525\n",
       "PT       0.001017\n",
       "Name: country_destination, dtype: float64"
      ]
     },
     "execution_count": 28,
     "metadata": {},
     "output_type": "execute_result"
    }
   ],
   "source": [
    "df1['country_destination' ].value_counts( normalize=True )"
   ]
  },
  {
   "cell_type": "code",
   "execution_count": 29,
   "id": "b1a89f3b",
   "metadata": {
    "ExecuteTime": {
     "end_time": "2023-03-28T13:02:03.044044Z",
     "start_time": "2023-03-28T13:01:57.898808Z"
    }
   },
   "outputs": [],
   "source": [
    "# removing missing values\n",
    "#df1 = df1.dropna()\n",
    "#========================== User ===============================\n",
    "\n",
    "# date_first_booking\n",
    "date_first_booking_max = pd.to_datetime( df1['date_first_booking'] ).max().strftime( '%Y-%m-%d')\n",
    "df1['date_first_booking'] = df1['date_first_booking'].fillna(date_first_booking_max)\n",
    "\n",
    "# Age\n",
    "avg_age = df1['age'].mean().astype( int )\n",
    "df1['age'] = df1['age'].fillna( avg_age )\n",
    "\n",
    "# first_affiliate_tracked\n",
    "\n",
    "df1 = df1[~df1['first_affiliate_tracked'].isna()]\n",
    "\n",
    "# ======================= sessions ===============================\n",
    "\n",
    "# user id 0.3%\n",
    "df_sessions = df_sessions[~df_sessions['user_id'].isna() ]\n",
    "\n",
    "# Action 0.7%\n",
    "df_sessions = df_sessions[~df_sessions['action'].isna() ]\n",
    "\n",
    "# action_type 11%\n",
    "df_sessions = df_sessions[~df_sessions['action_type'].isna() ]\n",
    "\n",
    "# action_detail 11%\n",
    "df_sessions = df_sessions[~df_sessions['action_detail'].isna() ]\n",
    "\n",
    "# secs_elapsed 1.2%\n",
    "df_sessions = df_sessions[~df_sessions['secs_elapsed'].isna() ]\n",
    "\n"
   ]
  },
  {
   "cell_type": "markdown",
   "id": "b7a50f28",
   "metadata": {},
   "source": [
    "## 1.4 Data Types"
   ]
  },
  {
   "cell_type": "code",
   "execution_count": 30,
   "id": "e7430804",
   "metadata": {
    "ExecuteTime": {
     "end_time": "2023-03-28T13:02:03.052119Z",
     "start_time": "2023-03-28T13:02:03.046381Z"
    }
   },
   "outputs": [
    {
     "data": {
      "text/plain": [
       "id                          object\n",
       "date_account_created        object\n",
       "timestamp_first_active       int64\n",
       "date_first_booking          object\n",
       "gender                      object\n",
       "age                        float64\n",
       "signup_method               object\n",
       "signup_flow                  int64\n",
       "language                    object\n",
       "affiliate_channel           object\n",
       "affiliate_provider          object\n",
       "first_affiliate_tracked     object\n",
       "signup_app                  object\n",
       "first_device_type           object\n",
       "first_browser               object\n",
       "country_destination         object\n",
       "dtype: object"
      ]
     },
     "execution_count": 30,
     "metadata": {},
     "output_type": "execute_result"
    }
   ],
   "source": [
    "df1.dtypes"
   ]
  },
  {
   "cell_type": "markdown",
   "id": "dc88025c",
   "metadata": {},
   "source": [
    "## 1.5 Change Dtypes"
   ]
  },
  {
   "cell_type": "code",
   "execution_count": 31,
   "id": "5fa20628",
   "metadata": {
    "ExecuteTime": {
     "end_time": "2023-03-28T13:02:03.842553Z",
     "start_time": "2023-03-28T13:02:03.054438Z"
    }
   },
   "outputs": [
    {
     "data": {
      "text/plain": [
       "id                                 object\n",
       "date_account_created       datetime64[ns]\n",
       "timestamp_first_active     datetime64[ns]\n",
       "date_first_booking         datetime64[ns]\n",
       "gender                             object\n",
       "age                                 int64\n",
       "signup_method                      object\n",
       "signup_flow                         int64\n",
       "language                           object\n",
       "affiliate_channel                  object\n",
       "affiliate_provider                 object\n",
       "first_affiliate_tracked            object\n",
       "signup_app                         object\n",
       "first_device_type                  object\n",
       "first_browser                      object\n",
       "country_destination                object\n",
       "dtype: object"
      ]
     },
     "execution_count": 31,
     "metadata": {},
     "output_type": "execute_result"
    }
   ],
   "source": [
    "#date_account_created\n",
    "df1['date_account_created'] = pd.to_datetime( df1['date_account_created'] )\n",
    "\n",
    "#timestamp_first_active\n",
    "df1['timestamp_first_active'] = pd.to_datetime( df1['timestamp_first_active'], format='%Y%m%d%H%M%S' )\n",
    "\n",
    "#date_first_booking\n",
    "df1['date_first_booking'] = pd.to_datetime( df1['date_first_booking'] )\n",
    "\n",
    "\n",
    "#age\n",
    "df1['age'] = df1['age'].astype( int )\n",
    "\n",
    "\n",
    "df1.dtypes"
   ]
  },
  {
   "cell_type": "markdown",
   "id": "211f2af6",
   "metadata": {},
   "source": [
    "## 1.6 Check Balanncing Data"
   ]
  },
  {
   "cell_type": "code",
   "execution_count": 32,
   "id": "d0c551c2",
   "metadata": {
    "ExecuteTime": {
     "end_time": "2023-03-28T13:02:03.862646Z",
     "start_time": "2023-03-28T13:02:03.844748Z"
    }
   },
   "outputs": [
    {
     "data": {
      "text/plain": [
       "NDF      0.579673\n",
       "US       0.294461\n",
       "other    0.048128\n",
       "FR       0.023623\n",
       "IT       0.013458\n",
       "GB       0.011066\n",
       "ES       0.010671\n",
       "CA       0.006707\n",
       "DE       0.005020\n",
       "NL       0.003621\n",
       "AU       0.002541\n",
       "PT       0.001032\n",
       "Name: country_destination, dtype: float64"
      ]
     },
     "execution_count": 32,
     "metadata": {},
     "output_type": "execute_result"
    }
   ],
   "source": [
    "df1['country_destination'].value_counts( normalize=True )"
   ]
  },
  {
   "cell_type": "markdown",
   "id": "cf473113",
   "metadata": {},
   "source": [
    "## 1.7 Descriptive Analysis"
   ]
  },
  {
   "cell_type": "markdown",
   "id": "71bffac9",
   "metadata": {},
   "source": [
    "### 1.7.1 General"
   ]
  },
  {
   "cell_type": "code",
   "execution_count": 33,
   "id": "4edcd1e4",
   "metadata": {
    "ExecuteTime": {
     "end_time": "2023-03-28T13:02:04.330442Z",
     "start_time": "2023-03-28T13:02:03.868547Z"
    }
   },
   "outputs": [],
   "source": [
    "# Users\n",
    "num_attributes = df1.select_dtypes( include=[ 'int64', 'float64' ] )\n",
    "cat_attributes = df1.select_dtypes( exclude=[ 'int64', 'float64', 'datetime64[ns]' ] )\n",
    "time_attributes = df1.select_dtypes( include=[ 'datetime64[ns]'  ] )\n",
    "\n",
    "# sessions\n",
    "num_attributes_sessions = df_sessions.select_dtypes( include=[ 'int64', 'float64' ] )\n",
    "cat_attributes_sessions = df_sessions.select_dtypes( exclude=[ 'int64', 'float64', 'datetime64[ns]' ] )\n",
    "time_attributes_sessions = df_sessions.select_dtypes( include=[ 'datetime64[ns]'  ] )"
   ]
  },
  {
   "cell_type": "markdown",
   "id": "d7697c8b",
   "metadata": {},
   "source": [
    "### 1.7.2 Numerical Users"
   ]
  },
  {
   "cell_type": "code",
   "execution_count": 34,
   "id": "1c62669f",
   "metadata": {
    "ExecuteTime": {
     "end_time": "2023-03-28T13:02:04.429549Z",
     "start_time": "2023-03-28T13:02:04.333011Z"
    }
   },
   "outputs": [
    {
     "data": {
      "text/html": [
       "<div>\n",
       "<style scoped>\n",
       "    .dataframe tbody tr th:only-of-type {\n",
       "        vertical-align: middle;\n",
       "    }\n",
       "\n",
       "    .dataframe tbody tr th {\n",
       "        vertical-align: top;\n",
       "    }\n",
       "\n",
       "    .dataframe thead th {\n",
       "        text-align: right;\n",
       "    }\n",
       "</style>\n",
       "<table border=\"1\" class=\"dataframe\">\n",
       "  <thead>\n",
       "    <tr style=\"text-align: right;\">\n",
       "      <th></th>\n",
       "      <th>attributes</th>\n",
       "      <th>min</th>\n",
       "      <th>max</th>\n",
       "      <th>range</th>\n",
       "      <th>mean</th>\n",
       "      <th>median</th>\n",
       "      <th>std</th>\n",
       "      <th>skew</th>\n",
       "      <th>kurtosis</th>\n",
       "    </tr>\n",
       "  </thead>\n",
       "  <tbody>\n",
       "    <tr>\n",
       "      <th>0</th>\n",
       "      <td>age</td>\n",
       "      <td>1.0</td>\n",
       "      <td>2014.0</td>\n",
       "      <td>2013.0</td>\n",
       "      <td>49.183142</td>\n",
       "      <td>49.0</td>\n",
       "      <td>49.183142</td>\n",
       "      <td>16.333820</td>\n",
       "      <td>267.655434</td>\n",
       "    </tr>\n",
       "    <tr>\n",
       "      <th>1</th>\n",
       "      <td>signup_flow</td>\n",
       "      <td>0.0</td>\n",
       "      <td>25.0</td>\n",
       "      <td>25.0</td>\n",
       "      <td>3.151490</td>\n",
       "      <td>0.0</td>\n",
       "      <td>3.151490</td>\n",
       "      <td>2.287158</td>\n",
       "      <td>3.567794</td>\n",
       "    </tr>\n",
       "  </tbody>\n",
       "</table>\n",
       "</div>"
      ],
      "text/plain": [
       "    attributes  min     max   range       mean  median        std       skew    kurtosis\n",
       "0          age  1.0  2014.0  2013.0  49.183142    49.0  49.183142  16.333820  267.655434\n",
       "1  signup_flow  0.0    25.0    25.0   3.151490     0.0   3.151490   2.287158    3.567794"
      ]
     },
     "execution_count": 34,
     "metadata": {},
     "output_type": "execute_result"
    }
   ],
   "source": [
    "# Central tendency - Mean, mediana\n",
    "ct1 = pd.DataFrame( num_attributes.apply( np.mean ) ).T\n",
    "ct2 = pd.DataFrame( num_attributes.apply( np.median ) ).T\n",
    "\n",
    "# dispensions- STD, Min, Max, Range, Slkew, Kurtosis\n",
    "d1 = pd.DataFrame( num_attributes.apply( np.mean ) ).T\n",
    "d2 = pd.DataFrame( num_attributes.apply( min) ).T\n",
    "d3 = pd.DataFrame( num_attributes.apply( max ) ).T\n",
    "d4 = pd.DataFrame( num_attributes.apply(lambda x: x.max() - x.min() ) ).T\n",
    "d5 = pd.DataFrame( num_attributes.apply(lambda x: x.skew() ) ).T\n",
    "d6 = pd.DataFrame( num_attributes.apply(lambda x: x.kurtosis() ) ).T\n",
    "\n",
    "\n",
    "# Concat\n",
    "ct = pd.concat( [ d2, d3, d4, ct1, ct2, d1, d5, d6 ] ).T.reset_index()\n",
    "ct.columns= ['attributes', 'min', 'max', 'range', 'mean', 'median', 'std', 'skew', 'kurtosis' ]\n",
    "ct"
   ]
  },
  {
   "cell_type": "markdown",
   "id": "39a32997",
   "metadata": {},
   "source": [
    "### 1.7.3 Categorical - User\n"
   ]
  },
  {
   "cell_type": "code",
   "execution_count": 35,
   "id": "63f26319",
   "metadata": {
    "ExecuteTime": {
     "end_time": "2023-03-28T13:02:04.673526Z",
     "start_time": "2023-03-28T13:02:04.432330Z"
    }
   },
   "outputs": [
    {
     "data": {
      "text/html": [
       "<div>\n",
       "<style scoped>\n",
       "    .dataframe tbody tr th:only-of-type {\n",
       "        vertical-align: middle;\n",
       "    }\n",
       "\n",
       "    .dataframe tbody tr th {\n",
       "        vertical-align: top;\n",
       "    }\n",
       "\n",
       "    .dataframe thead th {\n",
       "        text-align: right;\n",
       "    }\n",
       "</style>\n",
       "<table border=\"1\" class=\"dataframe\">\n",
       "  <thead>\n",
       "    <tr style=\"text-align: right;\">\n",
       "      <th></th>\n",
       "      <th>gender</th>\n",
       "      <th>signup_method</th>\n",
       "      <th>language</th>\n",
       "      <th>affiliate_channel</th>\n",
       "      <th>affiliate_provider</th>\n",
       "      <th>first_affiliate_tracked</th>\n",
       "      <th>signup_app</th>\n",
       "      <th>first_device_type</th>\n",
       "      <th>first_browser</th>\n",
       "      <th>country_destination</th>\n",
       "    </tr>\n",
       "  </thead>\n",
       "  <tbody>\n",
       "    <tr>\n",
       "      <th>count</th>\n",
       "      <td>207386</td>\n",
       "      <td>207386</td>\n",
       "      <td>207386</td>\n",
       "      <td>207386</td>\n",
       "      <td>207386</td>\n",
       "      <td>207386</td>\n",
       "      <td>207386</td>\n",
       "      <td>207386</td>\n",
       "      <td>207386</td>\n",
       "      <td>207386</td>\n",
       "    </tr>\n",
       "    <tr>\n",
       "      <th>unique</th>\n",
       "      <td>4</td>\n",
       "      <td>3</td>\n",
       "      <td>25</td>\n",
       "      <td>8</td>\n",
       "      <td>18</td>\n",
       "      <td>7</td>\n",
       "      <td>4</td>\n",
       "      <td>9</td>\n",
       "      <td>52</td>\n",
       "      <td>12</td>\n",
       "    </tr>\n",
       "    <tr>\n",
       "      <th>top</th>\n",
       "      <td>-unknown-</td>\n",
       "      <td>basic</td>\n",
       "      <td>en</td>\n",
       "      <td>direct</td>\n",
       "      <td>direct</td>\n",
       "      <td>untracked</td>\n",
       "      <td>Web</td>\n",
       "      <td>Mac Desktop</td>\n",
       "      <td>Chrome</td>\n",
       "      <td>NDF</td>\n",
       "    </tr>\n",
       "    <tr>\n",
       "      <th>freq</th>\n",
       "      <td>91783</td>\n",
       "      <td>148297</td>\n",
       "      <td>200415</td>\n",
       "      <td>134179</td>\n",
       "      <td>133935</td>\n",
       "      <td>109232</td>\n",
       "      <td>178334</td>\n",
       "      <td>89600</td>\n",
       "      <td>63845</td>\n",
       "      <td>120216</td>\n",
       "    </tr>\n",
       "  </tbody>\n",
       "</table>\n",
       "</div>"
      ],
      "text/plain": [
       "           gender signup_method language affiliate_channel affiliate_provider first_affiliate_tracked signup_app first_device_type first_browser country_destination\n",
       "count      207386        207386   207386            207386             207386                  207386     207386            207386        207386              207386\n",
       "unique          4             3       25                 8                 18                       7          4                 9            52                  12\n",
       "top     -unknown-         basic       en            direct             direct               untracked        Web       Mac Desktop        Chrome                 NDF\n",
       "freq        91783        148297   200415            134179             133935                  109232     178334             89600         63845              120216"
      ]
     },
     "execution_count": 35,
     "metadata": {},
     "output_type": "execute_result"
    }
   ],
   "source": [
    "cat_attributes.drop( 'id', axis=1 ).describe()"
   ]
  },
  {
   "cell_type": "markdown",
   "id": "7b6599c8",
   "metadata": {},
   "source": [
    "### 1.7.4 Numerical - Sessions"
   ]
  },
  {
   "cell_type": "code",
   "execution_count": 36,
   "id": "a52800fb",
   "metadata": {
    "ExecuteTime": {
     "end_time": "2023-03-28T13:02:06.506187Z",
     "start_time": "2023-03-28T13:02:04.676907Z"
    }
   },
   "outputs": [
    {
     "data": {
      "text/html": [
       "<div>\n",
       "<style scoped>\n",
       "    .dataframe tbody tr th:only-of-type {\n",
       "        vertical-align: middle;\n",
       "    }\n",
       "\n",
       "    .dataframe tbody tr th {\n",
       "        vertical-align: top;\n",
       "    }\n",
       "\n",
       "    .dataframe thead th {\n",
       "        text-align: right;\n",
       "    }\n",
       "</style>\n",
       "<table border=\"1\" class=\"dataframe\">\n",
       "  <thead>\n",
       "    <tr style=\"text-align: right;\">\n",
       "      <th></th>\n",
       "      <th>attributes</th>\n",
       "      <th>min</th>\n",
       "      <th>max</th>\n",
       "      <th>range</th>\n",
       "      <th>mean</th>\n",
       "      <th>median</th>\n",
       "      <th>std</th>\n",
       "      <th>skew</th>\n",
       "      <th>kurtosis</th>\n",
       "    </tr>\n",
       "  </thead>\n",
       "  <tbody>\n",
       "    <tr>\n",
       "      <th>0</th>\n",
       "      <td>secs_elapsed</td>\n",
       "      <td>0.0</td>\n",
       "      <td>1799977.0</td>\n",
       "      <td>1799977.0</td>\n",
       "      <td>19961.8251</td>\n",
       "      <td>1369.0</td>\n",
       "      <td>19961.8251</td>\n",
       "      <td>11.137761</td>\n",
       "      <td>154.84312</td>\n",
       "    </tr>\n",
       "  </tbody>\n",
       "</table>\n",
       "</div>"
      ],
      "text/plain": [
       "     attributes  min        max      range        mean  median         std       skew   kurtosis\n",
       "0  secs_elapsed  0.0  1799977.0  1799977.0  19961.8251  1369.0  19961.8251  11.137761  154.84312"
      ]
     },
     "execution_count": 36,
     "metadata": {},
     "output_type": "execute_result"
    }
   ],
   "source": [
    "# Central tendency - Mean, mediana\n",
    "ct1 = pd.DataFrame( num_attributes_sessions.apply( np.mean ) ).T\n",
    "ct2 = pd.DataFrame( num_attributes_sessions.apply( np.median ) ).T\n",
    "\n",
    "# dispensions- STD, Min, Max, Range, Slkew, Kurtosis\n",
    "d1 = pd.DataFrame( num_attributes_sessions.apply( np.mean ) ).T\n",
    "d2 = pd.DataFrame( num_attributes_sessions.apply( min) ).T\n",
    "d3 = pd.DataFrame( num_attributes_sessions.apply( max ) ).T\n",
    "d4 = pd.DataFrame( num_attributes_sessions.apply(lambda x: x.max() - x.min() ) ).T\n",
    "d5 = pd.DataFrame( num_attributes_sessions.apply(lambda x: x.skew() ) ).T\n",
    "d6 = pd.DataFrame( num_attributes_sessions.apply(lambda x: x.kurtosis() ) ).T\n",
    "\n",
    "\n",
    "# Concat\n",
    "ct = pd.concat( [ d2, d3, d4, ct1, ct2, d1, d5, d6 ] ).T.reset_index()\n",
    "ct.columns= ['attributes', 'min', 'max', 'range', 'mean', 'median', 'std', 'skew', 'kurtosis' ]\n",
    "ct"
   ]
  },
  {
   "cell_type": "markdown",
   "id": "c33749a1",
   "metadata": {},
   "source": [
    "### 1.7.4 Categorical - Sessions"
   ]
  },
  {
   "cell_type": "code",
   "execution_count": 37,
   "id": "075e3e18",
   "metadata": {
    "ExecuteTime": {
     "end_time": "2023-03-28T13:02:10.285448Z",
     "start_time": "2023-03-28T13:02:06.508615Z"
    }
   },
   "outputs": [
    {
     "data": {
      "text/html": [
       "<div>\n",
       "<style scoped>\n",
       "    .dataframe tbody tr th:only-of-type {\n",
       "        vertical-align: middle;\n",
       "    }\n",
       "\n",
       "    .dataframe tbody tr th {\n",
       "        vertical-align: top;\n",
       "    }\n",
       "\n",
       "    .dataframe thead th {\n",
       "        text-align: right;\n",
       "    }\n",
       "</style>\n",
       "<table border=\"1\" class=\"dataframe\">\n",
       "  <thead>\n",
       "    <tr style=\"text-align: right;\">\n",
       "      <th></th>\n",
       "      <th>action</th>\n",
       "      <th>action_type</th>\n",
       "      <th>action_detail</th>\n",
       "      <th>device_type</th>\n",
       "    </tr>\n",
       "  </thead>\n",
       "  <tbody>\n",
       "    <tr>\n",
       "      <th>count</th>\n",
       "      <td>9213930</td>\n",
       "      <td>9213930</td>\n",
       "      <td>9213930</td>\n",
       "      <td>9213930</td>\n",
       "    </tr>\n",
       "    <tr>\n",
       "      <th>unique</th>\n",
       "      <td>347</td>\n",
       "      <td>10</td>\n",
       "      <td>155</td>\n",
       "      <td>14</td>\n",
       "    </tr>\n",
       "    <tr>\n",
       "      <th>top</th>\n",
       "      <td>show</td>\n",
       "      <td>view</td>\n",
       "      <td>view_search_results</td>\n",
       "      <td>Mac Desktop</td>\n",
       "    </tr>\n",
       "    <tr>\n",
       "      <th>freq</th>\n",
       "      <td>2178382</td>\n",
       "      <td>3545621</td>\n",
       "      <td>1770931</td>\n",
       "      <td>3019523</td>\n",
       "    </tr>\n",
       "  </tbody>\n",
       "</table>\n",
       "</div>"
      ],
      "text/plain": [
       "         action action_type        action_detail  device_type\n",
       "count   9213930     9213930              9213930      9213930\n",
       "unique      347          10                  155           14\n",
       "top        show        view  view_search_results  Mac Desktop\n",
       "freq    2178382     3545621              1770931      3019523"
      ]
     },
     "execution_count": 37,
     "metadata": {},
     "output_type": "execute_result"
    }
   ],
   "source": [
    "cat_attributes_sessions.drop( 'user_id', axis=1 ).describe()"
   ]
  },
  {
   "cell_type": "code",
   "execution_count": 38,
   "id": "0e39aec4",
   "metadata": {
    "ExecuteTime": {
     "end_time": "2023-03-28T13:02:37.756669Z",
     "start_time": "2023-03-28T13:02:10.287894Z"
    }
   },
   "outputs": [],
   "source": [
    "# attrivute list for Cramer's V correlation\n",
    "cat_attributes_list = cat_attributes_sessions.drop( 'user_id', axis=1 ).columns.tolist()\n",
    "\n",
    "corr_dict = {}\n",
    "for i in range( len( cat_attributes_list )):\n",
    "    corr_list = []\n",
    "    for j in range( len( cat_attributes_list)):\n",
    "        ref = cat_attributes_list[i]\n",
    "        feat = cat_attributes_list[j]\n",
    "        \n",
    "        # Correlation\n",
    "        corr = cramer_v( cat_attributes_sessions[ ref ], cat_attributes_sessions[ feat ])\n",
    "        \n",
    "        # append to list\n",
    "        corr_list.append( corr )\n",
    "        \n",
    "     # Append the correlation list to each ref attributes   \n",
    "    corr_dict[ ref ] = corr_list"
   ]
  },
  {
   "cell_type": "code",
   "execution_count": 43,
   "id": "8d3e366d",
   "metadata": {
    "ExecuteTime": {
     "end_time": "2023-03-28T13:05:27.118889Z",
     "start_time": "2023-03-28T13:05:26.589311Z"
    }
   },
   "outputs": [
    {
     "data": {
      "text/plain": [
       "<Axes: >"
      ]
     },
     "execution_count": 43,
     "metadata": {},
     "output_type": "execute_result"
    },
    {
     "data": {
      "image/png": "[encoded data removed]",
      "text/plain": [
       "<Figure size 2500x1200 with 2 Axes>"
      ]
     },
     "metadata": {},
     "output_type": "display_data"
    }
   ],
   "source": [
    "d = pd.DataFrame( corr_dict )\n",
    "d = d.set_index( d.columns )\n",
    "sns.heatmap( d, annot=True )"
   ]
  },
  {
   "cell_type": "markdown",
   "id": "75fda12f",
   "metadata": {},
   "source": [
    "# 2.0 Data Filtering"
   ]
  },
  {
   "cell_type": "code",
   "execution_count": 50,
   "id": "d902c13d",
   "metadata": {
    "ExecuteTime": {
     "end_time": "2023-03-28T13:26:46.354658Z",
     "start_time": "2023-03-28T13:26:45.875819Z"
    }
   },
   "outputs": [
    {
     "data": {
      "text/plain": [
       "Index(['id', 'date_account_created', 'timestamp_first_active',\n",
       "       'date_first_booking', 'gender', 'age', 'signup_method', 'signup_flow',\n",
       "       'language', 'affiliate_channel', 'affiliate_provider',\n",
       "       'first_affiliate_tracked', 'signup_app', 'first_device_type',\n",
       "       'first_browser', 'country_destination'],\n",
       "      dtype='object')"
      ]
     },
     "execution_count": 50,
     "metadata": {},
     "output_type": "execute_result"
    }
   ],
   "source": [
    "df2 = df1.copy()\n",
    "df2_ses = df_sessions.copy()\n",
    "df2.columns"
   ]
  },
  {
   "cell_type": "markdown",
   "id": "e140ce28",
   "metadata": {},
   "source": [
    "## 2.1 Creat New Features"
   ]
  },
  {
   "cell_type": "code",
   "execution_count": 60,
   "id": "b88523c1",
   "metadata": {
    "ExecuteTime": {
     "end_time": "2023-03-28T14:23:32.163180Z",
     "start_time": "2023-03-28T14:23:30.043326Z"
    }
   },
   "outputs": [
    {
     "name": "stderr",
     "output_type": "stream",
     "text": [
      "/var/folders/pc/6sglrsq96ws5kp74fjj4j02h0000gn/T/ipykernel_9685/2767803523.py:27: FutureWarning: Series.dt.weekofyear and Series.dt.week have been deprecated. Please use Series.dt.isocalendar().week instead.\n",
      "  df2['week_of_year_first_active'] = df2['first_active'].dt.weekofyear\n",
      "/var/folders/pc/6sglrsq96ws5kp74fjj4j02h0000gn/T/ipykernel_9685/2767803523.py:45: FutureWarning: Series.dt.weekofyear and Series.dt.week have been deprecated. Please use Series.dt.isocalendar().week instead.\n",
      "  df2['week_of_year_first_booking'] = df2['date_first_booking'].dt.weekofyear\n",
      "/var/folders/pc/6sglrsq96ws5kp74fjj4j02h0000gn/T/ipykernel_9685/2767803523.py:63: FutureWarning: Series.dt.weekofyear and Series.dt.week have been deprecated. Please use Series.dt.isocalendar().week instead.\n",
      "  df2['week_of_year_account_created'] = df2['date_account_created'].dt.weekofyear\n"
     ]
    }
   ],
   "source": [
    "# Days from first active up to first booking\n",
    "df2['first_active'] = pd.to_datetime( df2['timestamp_first_active'].dt.strftime( '%Y-%m-%d' ) )\n",
    "df2['days_from_first_active_untill_booking'] = (df2['date_first_booking'] - df2['first_active']).apply( lambda x: x.days )\n",
    "\n",
    "\n",
    "# Days from first active up to account created\n",
    "df2['days_from_first_active_untill_account_created'] = (df2['date_account_created'] - df2['first_active']).apply( lambda x: x.days )\n",
    "\n",
    "# Days from account created  up to first book\n",
    "df2['days_from_account_created_untill_first_booking'] = (df2['date_first_booking'] - df2['date_account_created'] ).apply( lambda x: x.days )\n",
    "\n",
    "\n",
    "# ====================   First active ================================\n",
    "# year of first active\n",
    "df2['year_first_active'] = df2['first_active'].dt.year\n",
    "\n",
    "# month of first active\n",
    "df2['month_first_active'] = df2['first_active'].dt.month\n",
    "\n",
    "# day of first active\n",
    "df2['day_first_active'] = df2['first_active'].dt.day\n",
    "\n",
    "# day of week first active\n",
    "df2['day_of_week__first_active'] = df2['first_active'].dt.dayofweek\n",
    "\n",
    "# week of year of first active\n",
    "df2['week_of_year_first_active'] = df2['first_active'].dt.weekofyear\n",
    "\n",
    "\n",
    "# ========================= First Booking ===========================\n",
    "\n",
    "# year of first booking\n",
    "df2['year_first_booking'] = df2['date_first_booking'].dt.year\n",
    "\n",
    "# month of first booking\n",
    "df2['month_first_booking'] = df2['date_first_booking'].dt.month\n",
    "\n",
    "# day of first booking\n",
    "df2['day_first_booking'] = df2['date_first_booking'].dt.day\n",
    "\n",
    "# day of week first booking\n",
    "df2['day_of_week_first_booking'] = df2['date_first_booking'].dt.dayofweek\n",
    "\n",
    "# week of year of first booking\n",
    "df2['week_of_year_first_booking'] = df2['date_first_booking'].dt.weekofyear\n",
    "\n",
    "\n",
    "# ======================= Account Created ==============================\n",
    "\n",
    "# year of account created\n",
    "df2['year_account_created'] = df2['date_account_created'].dt.year\n",
    "\n",
    "# month of account created\n",
    "df2['month_account_created'] = df2['date_account_created'].dt.month\n",
    "\n",
    "# day of account created\n",
    "df2['day_account_created'] = df2['date_account_created'].dt.day\n",
    "\n",
    "# day of week account created\n",
    "df2['day_of_week_account_created'] = df2['date_account_created'].dt.dayofweek\n",
    "\n",
    "# week of year of account created\n",
    "df2['week_of_year_account_created'] = df2['date_account_created'].dt.weekofyear\n",
    "\n"
   ]
  },
  {
   "cell_type": "code",
   "execution_count": 63,
   "id": "f0104766",
   "metadata": {
    "ExecuteTime": {
     "end_time": "2023-03-28T19:14:13.844107Z",
     "start_time": "2023-03-28T19:14:13.837788Z"
    }
   },
   "outputs": [
    {
     "data": {
      "text/plain": [
       "(207386, 36)"
      ]
     },
     "execution_count": 63,
     "metadata": {},
     "output_type": "execute_result"
    }
   ],
   "source": [
    "df2.shape"
   ]
  },
  {
   "cell_type": "markdown",
   "id": "6f3acfc7",
   "metadata": {},
   "source": [
    "## 2.2 Columns Selection"
   ]
  },
  {
   "cell_type": "markdown",
   "id": "b8c43169",
   "metadata": {},
   "source": [
    "# 3.0 Data Filtering"
   ]
  },
  {
   "cell_type": "code",
   "execution_count": 64,
   "id": "2aad83ca",
   "metadata": {
    "ExecuteTime": {
     "end_time": "2023-03-28T19:14:18.820510Z",
     "start_time": "2023-03-28T19:14:15.316707Z"
    }
   },
   "outputs": [],
   "source": [
    "df3 = df2.copy()\n",
    "df3_ses = df2_ses.copy()"
   ]
  },
  {
   "cell_type": "markdown",
   "id": "e5baf433",
   "metadata": {},
   "source": [
    "## 3.1 Filtering Row"
   ]
  },
  {
   "cell_type": "code",
   "execution_count": 65,
   "id": "84db067e",
   "metadata": {
    "ExecuteTime": {
     "end_time": "2023-03-28T19:14:20.271499Z",
     "start_time": "2023-03-28T19:14:19.063130Z"
    }
   },
   "outputs": [],
   "source": [
    "# Age - There are few people over 120 years old.\n",
    "df3 = df3[( df3['age'] > 15 ) & ( df3['age'] < 120 )] \n",
    "\n",
    "\n",
    "# secs_elapse - There's no possibility 0 sec elapse on webs\n",
    "df3_ses = df3_ses[ df3_ses['secs_elapsed'] > 0]"
   ]
  },
  {
   "cell_type": "code",
   "execution_count": null,
   "id": "e796d466",
   "metadata": {},
   "outputs": [],
   "source": []
  },
  {
   "cell_type": "markdown",
   "id": "fb1b37e8",
   "metadata": {},
   "source": [
    "# 4.0 Data Preparation"
   ]
  },
  {
   "cell_type": "code",
   "execution_count": 75,
   "id": "c3d2def5",
   "metadata": {
    "ExecuteTime": {
     "end_time": "2023-03-28T19:19:42.231040Z",
     "start_time": "2023-03-28T19:19:41.956787Z"
    }
   },
   "outputs": [],
   "source": [
    "df4 = df3.copy()\n",
    "\n",
    "\n",
    "# dammy variable\n",
    "df4_dummy = pd.get_dummies( df4.drop( ['id', 'country_destination'], axis=1) )\n",
    "\n",
    "# join Id and Country destination\n",
    "df4 = pd.concat( [df4[['id', 'country_destination']], df4_dummy], axis=1 )"
   ]
  },
  {
   "cell_type": "code",
   "execution_count": 76,
   "id": "6bcd7e9a",
   "metadata": {
    "ExecuteTime": {
     "end_time": "2023-03-28T19:19:50.084570Z",
     "start_time": "2023-03-28T19:19:50.078364Z"
    }
   },
   "outputs": [
    {
     "data": {
      "text/plain": [
       "(207386, 157)"
      ]
     },
     "execution_count": 76,
     "metadata": {},
     "output_type": "execute_result"
    }
   ],
   "source": [
    "df4.shape"
   ]
  },
  {
   "cell_type": "markdown",
   "id": "967c8780",
   "metadata": {},
   "source": [
    "# 5.0  Features Selection"
   ]
  },
  {
   "cell_type": "code",
   "execution_count": 77,
   "id": "63504662",
   "metadata": {
    "ExecuteTime": {
     "end_time": "2023-03-28T19:21:00.041766Z",
     "start_time": "2023-03-28T19:21:00.005274Z"
    }
   },
   "outputs": [],
   "source": [
    "cols_drop = ['date_account_created', 'timestamp_first_active', 'date_first_booking', 'first_active']\n",
    "\n",
    "df5 = df4.drop(cols_drop, axis=1 )"
   ]
  },
  {
   "cell_type": "markdown",
   "id": "a18badc6",
   "metadata": {},
   "source": [
    "# 6.0 Machine Learning Model"
   ]
  },
  {
   "cell_type": "code",
   "execution_count": 78,
   "id": "d477d846",
   "metadata": {
    "ExecuteTime": {
     "end_time": "2023-03-28T19:21:01.177595Z",
     "start_time": "2023-03-28T19:21:01.121459Z"
    }
   },
   "outputs": [],
   "source": [
    "df6 = df5.copy()"
   ]
  },
  {
   "cell_type": "code",
   "execution_count": 79,
   "id": "41f5a9cd",
   "metadata": {
    "ExecuteTime": {
     "end_time": "2023-03-28T19:21:01.646686Z",
     "start_time": "2023-03-28T19:21:01.597161Z"
    }
   },
   "outputs": [],
   "source": [
    "x = df6.drop( 'country_destination', axis=1 )\n",
    "y = df6[ 'country_destination' ].copy()"
   ]
  },
  {
   "cell_type": "code",
   "execution_count": 80,
   "id": "4c01c584",
   "metadata": {
    "ExecuteTime": {
     "end_time": "2023-03-28T19:21:02.356769Z",
     "start_time": "2023-03-28T19:21:02.093216Z"
    }
   },
   "outputs": [],
   "source": [
    "# split dataset into to training and test\n",
    "X_train, X_test, y_train, y_test = ms.train_test_split( x, y, test_size=0.2, random_state = 42 )"
   ]
  },
  {
   "cell_type": "code",
   "execution_count": 81,
   "id": "71d321ea",
   "metadata": {
    "ExecuteTime": {
     "end_time": "2023-03-28T19:21:03.238239Z",
     "start_time": "2023-03-28T19:21:03.183562Z"
    }
   },
   "outputs": [],
   "source": [
    "x_train = X_train.drop( 'id', axis=1 )\n",
    "x_test = X_test.drop( 'id', axis=1 )"
   ]
  },
  {
   "cell_type": "markdown",
   "id": "da8ee994",
   "metadata": {},
   "source": [
    "## 6.1 Baseline Model"
   ]
  },
  {
   "cell_type": "code",
   "execution_count": 82,
   "id": "a65de1ec",
   "metadata": {
    "ExecuteTime": {
     "end_time": "2023-03-28T19:22:55.426652Z",
     "start_time": "2023-03-28T19:22:55.364902Z"
    }
   },
   "outputs": [
    {
     "data": {
      "text/plain": [
       "41478"
      ]
     },
     "execution_count": 82,
     "metadata": {},
     "output_type": "execute_result"
    }
   ],
   "source": [
    "import random\n",
    "\n",
    "\n",
    "country_destination_list = df1['country_destination'].drop_duplicates().sort_values().tolist()\n",
    "k_num = y_test.shape[0]\n",
    "\n",
    "country_destination_weight = df1['country_destination'].value_counts( normalize=True ).sort_index()\n",
    "\n",
    "yhat_random = random.choices( population = country_destination_list,\n",
    "                              weights = country_destination_weight,\n",
    "                              k = k_num )\n",
    "len( yhat_random )"
   ]
  },
  {
   "cell_type": "markdown",
   "id": "89f39159",
   "metadata": {},
   "source": [
    "## 6.2 Baseline Model Performance "
   ]
  },
  {
   "cell_type": "code",
   "execution_count": 83,
   "id": "215c37c3",
   "metadata": {
    "ExecuteTime": {
     "end_time": "2023-03-28T19:23:01.102778Z",
     "start_time": "2023-03-28T19:22:58.610092Z"
    }
   },
   "outputs": [
    {
     "name": "stdout",
     "output_type": "stream",
     "text": [
      "Accuracy: 0.424803510294614\n",
      "Balance Accuracy: 0.08445568876651545\n",
      "Kappa Score: 5.881328635581884e-05\n",
      "              precision    recall  f1-score   support\n",
      "\n",
      "          AU       0.00      0.00      0.00        95\n",
      "          CA       0.01      0.01      0.01       296\n",
      "          DE       0.00      0.00      0.00       213\n",
      "          ES       0.01      0.01      0.01       429\n",
      "          FR       0.03      0.03      0.03       997\n",
      "          GB       0.01      0.01      0.01       505\n",
      "          IT       0.02      0.02      0.02       558\n",
      "         NDF       0.58      0.58      0.58     24003\n",
      "          NL       0.01      0.01      0.01       161\n",
      "          PT       0.00      0.00      0.00        52\n",
      "          US       0.29      0.30      0.30     12136\n",
      "       other       0.05      0.05      0.05      2033\n",
      "\n",
      "    accuracy                           0.42     41478\n",
      "   macro avg       0.08      0.08      0.08     41478\n",
      "weighted avg       0.42      0.42      0.42     41478\n",
      "\n"
     ]
    },
    {
     "data": {
      "text/plain": [
       "<Axes: title={'center': 'Confusion Matrix'}, xlabel='Predicted label', ylabel='True label'>"
      ]
     },
     "execution_count": 83,
     "metadata": {},
     "output_type": "execute_result"
    },
    {
     "data": {
      "image/png": "[encoded data removed]",
      "text/plain": [
       "<Figure size 1200x1200 with 2 Axes>"
      ]
     },
     "metadata": {},
     "output_type": "display_data"
    }
   ],
   "source": [
    "# Accuracy\n",
    "acc_random = m.accuracy_score( y_test, yhat_random )\n",
    "print( 'Accuracy: {}'.format( acc_random ) )\n",
    "\n",
    "\n",
    "# Confusion Matrix\n",
    "balance_acc_random = m.balanced_accuracy_score( y_test, yhat_random)\n",
    "print( 'Balance Accuracy: {}'.format( balance_acc_random ) )\n",
    "\n",
    "\n",
    "# kappa Metrics\n",
    "kappa_random = m.cohen_kappa_score( y_test, yhat_random )\n",
    "print( 'Kappa Score: {}'.format( kappa_random ) )\n",
    "\n",
    "# classification report\n",
    "print(m.classification_report( y_test, yhat_random ))\n",
    "\n",
    "# Confusion Matrix\n",
    "mt.plot_confusion_matrix( y_test, yhat_random, normalize=False, figsize=(12, 12) )\n",
    "\n",
    "\n"
   ]
  },
  {
   "cell_type": "markdown",
   "id": "21d5be9e",
   "metadata": {},
   "source": [
    "## 6.3 Neural Network - MLP"
   ]
  },
  {
   "cell_type": "code",
   "execution_count": 84,
   "id": "6f29d0e4",
   "metadata": {
    "ExecuteTime": {
     "end_time": "2023-03-28T19:23:23.719162Z",
     "start_time": "2023-03-28T19:23:23.621444Z"
    }
   },
   "outputs": [],
   "source": [
    "ohe = pp.OneHotEncoder()\n",
    "y_train_nn = ohe.fit_transform( y_train.values.reshape( -1, 1 ) ).toarray()"
   ]
  },
  {
   "cell_type": "code",
   "execution_count": null,
   "id": "c8281dd3",
   "metadata": {
    "ExecuteTime": {
     "start_time": "2023-03-28T19:23:24.689Z"
    }
   },
   "outputs": [],
   "source": [
    "# model definition\n",
    "model = ml.Sequential()\n",
    "model.add( l.Dense( 128, input_dim = x_train.shape[1], activation='relu' ) )\n",
    "model.add( l.Dense( 11, activation='softmax' ) )\n",
    "\n",
    "# model compile\n",
    "model.compile( loss='categorical_crossentropy', optimizer='adam', metrics=['accuracy'] )\n",
    "\n",
    "# train model\n",
    "model.fit( x_train, y_train_nn, epochs=100 )"
   ]
  },
  {
   "cell_type": "markdown",
   "id": "a2d6b4ad",
   "metadata": {},
   "source": [
    "### 5.2.1 NN Model Performance"
   ]
  },
  {
   "cell_type": "code",
   "execution_count": null,
   "id": "873fddd2",
   "metadata": {
    "ExecuteTime": {
     "start_time": "2023-03-28T19:23:45.754Z"
    }
   },
   "outputs": [],
   "source": [
    "# Prediction\n",
    "pred_nn = model.predict( x_test )\n",
    "\n",
    "# Invert Prediction\n",
    "yhat_nn = ohe.inverse_transform( pred_nn )\n",
    "\n",
    "# Prediction Prepare\n",
    "y_test_nn = y_test.to_numpy()\n",
    "yhat_nn = yhat_nn.reshape( 1, -1 )[0]\n"
   ]
  },
  {
   "cell_type": "code",
   "execution_count": null,
   "id": "7d30a4a8",
   "metadata": {
    "ExecuteTime": {
     "start_time": "2023-03-28T19:23:46.742Z"
    }
   },
   "outputs": [],
   "source": [
    "\n",
    "# Accuracy\n",
    "acc_nn = m.accuracy_score( y_test_nn, yhat_nn )\n",
    "print( 'Accuracy: {}'.format( acc_nn ) )\n",
    "\n",
    "\n",
    "# Confusion Matrix\n",
    "balance_acc_nn = m.balanced_accuracy_score( y_test_nn, yhat_nn)\n",
    "print( 'Balance Accuracy: {}'.format( balance_acc_nn ) )\n",
    "\n",
    "\n",
    "# kappa Metrics\n",
    "kappa_nn = m.cohen_kappa_score( y_test_nn, yhat_nn )\n",
    "print( 'Kappa Score: {}'.format( kappa_nn ) )\n",
    "\n",
    "# classification report\n",
    "print(m.classification_report( y_test_nn, yhat_nn ))\n",
    "\n",
    "# Confusion Matrix\n",
    "mt.plot_confusion_matrix( y_test_nn, yhat_nn, normalize=False, figsize=(12, 12) )\n",
    "\n"
   ]
  },
  {
   "cell_type": "markdown",
   "id": "0e966ca7",
   "metadata": {},
   "source": [
    "### 5.2.3 NN Model Performance - Cross Validation"
   ]
  },
  {
   "cell_type": "code",
   "execution_count": null,
   "id": "1976b4c8",
   "metadata": {
    "ExecuteTime": {
     "start_time": "2023-03-28T19:23:47.864Z"
    }
   },
   "outputs": [],
   "source": [
    "# gerate k-fold\n",
    "num_folds = 5\n",
    "kfold = ms.StratifiedKFold( n_splits=num_folds, shuffle=True, random_state=32 )\n",
    "\n",
    "balanced_acc_list = []\n",
    "kappa_acc_list = []\n",
    "\n",
    "i = 1\n",
    "\n",
    "for train_ix, val_ix in  kfold.split( x_train, y_train ):\n",
    "    print( 'fold Number:{}/{}'.format(i, num_folds ) )\n",
    "\n",
    "    # get fold\n",
    "    x_train_fold = x_train.iloc[ train_ix ]\n",
    "    y_train_fold = y_train.iloc[ train_ix ]\n",
    "    \n",
    "    x_val_fold =  x_train.iloc[ val_ix ]\n",
    "    y_val_fold =  y_train.iloc[ val_ix ]\n",
    "    \n",
    "    # target\n",
    "    ohe = pp.OneHotEncoder()\n",
    "    y_train_fold_nn = ohe.fit_transform( y_train_fold.values.reshape( -1, 1 )).toarray()\n",
    "\n",
    "\n",
    "    # model definition\n",
    "    model = ml.Sequential()\n",
    "    model.add( l.Dense( 256, input_dim=x_train.shape[1], activation='relu' ) )\n",
    "    model.add( l.Dense( 11, activation='softmax' ) )\n",
    "\n",
    "    # compile model\n",
    "    model.compile( loss='categorical_crossentropy', optimizer='adam', metrics=['accuracy'] )\n",
    "\n",
    "\n",
    "    # tranning model\n",
    "    model.fit( x_train_fold, y_train_fold_nn, epochs=100, batch_size=32, verbose=0 )\n",
    "    \n",
    "    \n",
    "    # prediction\n",
    "    pred_nn = model.predict( x_val_fold )\n",
    "    yhat_nn = ohe.inverse_transform( pred_nn )\n",
    "    \n",
    "    # prepare data\n",
    "    y_test_nn = y_val_fold.to_numpy()\n",
    "    yhat_nn = yhat_nn.reshape( -1, 1 )[0]\n",
    "\n",
    "\n",
    "    # Metrics \n",
    "\n",
    "\n",
    "\n",
    "    # Balanced Accuracy\n",
    "    balanced_acc_nn = m.balanced_accuracy_score( y_test_nn, yhat_nn )\n",
    "    balanced_acc_list.append( balanced_acc_nn )\n",
    "\n",
    "    # kappa metrics\n",
    "    kappa_acc_nn = m.cohen_kappa_score( y_test_nn, yhat_nn )\n",
    "    kappa_acc_list.append( kappa_acc_nn )\n",
    "    \n",
    "    i += 1"
   ]
  },
  {
   "cell_type": "code",
   "execution_count": null,
   "id": "336f56e5",
   "metadata": {
    "ExecuteTime": {
     "start_time": "2023-03-28T19:23:48.852Z"
    }
   },
   "outputs": [],
   "source": [
    "print( 'Avg Balanced Accuracy: {} +/- {}'.format( np.round( np.mean( balanced_acc_list ), 2 ),\n",
    "                                                  np.round( np.std( balanced_acc_list ),  4 ) ) )\n",
    "\n",
    "print( 'Avg Kappa: {} +/- {}'.format( np.round( np.mean( kappa_acc_list ), 2 ),\n",
    "                                      np.round( np.std( kappa_acc_list ),  4 ) ) )"
   ]
  },
  {
   "cell_type": "raw",
   "id": "e00fa87c",
   "metadata": {},
   "source": []
  },
  {
   "cell_type": "code",
   "execution_count": null,
   "id": "543d1771",
   "metadata": {},
   "outputs": [],
   "source": []
  },
  {
   "cell_type": "code",
   "execution_count": null,
   "id": "443b445b",
   "metadata": {},
   "outputs": [],
   "source": []
  }
 ],
 "metadata": {
  "kernelspec": {
   "display_name": "Python 3 (ipykernel)",
   "language": "python",
   "name": "python3"
  },
  "language_info": {
   "codemirror_mode": {
    "name": "ipython",
    "version": 3
   },
   "file_extension": ".py",
   "mimetype": "text/x-python",
   "name": "python",
   "nbconvert_exporter": "python",
   "pygments_lexer": "ipython3",
   "version": "3.9.16"
  }
 },
 "nbformat": 4,
 "nbformat_minor": 5
}
