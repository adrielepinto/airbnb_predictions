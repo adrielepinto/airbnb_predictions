{
 "cells": [
  {
   "cell_type": "markdown",
   "id": "ab151802",
   "metadata": {},
   "source": [
    "# Business Context"
   ]
  },
  {
   "cell_type": "markdown",
   "id": "5b926820",
   "metadata": {},
   "source": [
    "Instead of waking to overlooked \"Do not disturb\" signs, Airbnb travelers find themselves rising with the birds in a whimsical treehouse, having their morning coffee on the deck of a houseboat, or cooking a shared regional breakfast with their hosts.\n",
    "\n",
    "New users on Airbnb can book a place to stay in 34,000+ cities across 190+ countries. By accurately predicting where a new user will book their first travel experience, Airbnb can share more personalized content with their community, decrease the average time to first booking, and better forecast demand."
   ]
  },
  {
   "cell_type": "markdown",
   "id": "0cefd445",
   "metadata": {},
   "source": [
    "# Business Challange"
   ]
  },
  {
   "cell_type": "markdown",
   "id": "a2b112c6",
   "metadata": {},
   "source": [
    "In this project, I was challenged to predict in which country a new user will make his or her first booking.\n"
   ]
  },
  {
   "cell_type": "markdown",
   "id": "5b386604",
   "metadata": {},
   "source": [
    "# Business Understanding"
   ]
  },
  {
   "cell_type": "markdown",
   "id": "f2e10f4f",
   "metadata": {
    "ExecuteTime": {
     "end_time": "2023-03-24T15:31:29.129293Z",
     "start_time": "2023-03-24T15:31:29.123836Z"
    }
   },
   "source": [
    "- Business model:\n",
    "     Marketplace -> Connecting people that offer accommodation, to the person who's looking for accommodation.\n",
    "    \n",
    "    \n",
    "- Model Offer:\n",
    "     People offering them property temporarily.\n",
    "     \n",
    "- Metrics:  Portfolio Size, Portfolio diversity/density.\n",
    "\n",
    "- Demand: How many people are looking for accommodation; \n",
    "\n",
    "    - User number.\n",
    "    - LTV ( Lifetime Value)\n",
    "    - CAC ( Client Acquisition Cost )\n",
    "    \n",
    "    - Gross Revenue =  ( fee * number of clients ) - CAC"
   ]
  },
  {
   "cell_type": "markdown",
   "id": "29854240",
   "metadata": {},
   "source": [
    "# Solution Planning"
   ]
  },
  {
   "cell_type": "markdown",
   "id": "583aa7ee",
   "metadata": {},
   "source": [
    "- Prediction model of the first destination of a new user\n",
    "- Prediction saved in a database table.\n",
    "- API:\n",
    "\n",
    "    - Imput: Users and their characteristics;\n",
    "    - output: Users and their characteristics with the destination prediction."
   ]
  },
  {
   "cell_type": "markdown",
   "id": "ec5ba07e",
   "metadata": {},
   "source": [
    "# 0.1 Imports"
   ]
  },
  {
   "cell_type": "code",
   "execution_count": 57,
   "id": "2675226b",
   "metadata": {
    "ExecuteTime": {
     "end_time": "2023-04-06T21:38:37.297679Z",
     "start_time": "2023-04-06T21:38:37.293064Z"
    }
   },
   "outputs": [],
   "source": [
    "import random \n",
    "import warnings\n",
    "import pandas  as pd\n",
    "import seaborn as sns\n",
    "import numpy   as np\n",
    "\n",
    "from matplotlib  import pyplot          as plt\n",
    "from scipy       import stats           as ss\n",
    "from keras       import layers          as l\n",
    "from keras       import models          as ml\n",
    "from sklearn     import metrics         as m\n",
    "from sklearn     import preprocessing   as pp\n",
    "from sklearn     import model_selection as ms\n",
    "from scikitplot  import metrics         as mt\n",
    "from imblearn    import under_sampling  as us\n",
    "from imblearn    import over_sampling   as os\n",
    "from imblearn    import combine         as c\n",
    "\n",
    "import matplotlib.pyplot    as plt\n",
    "\n",
    "from IPython.core.display        import HTML"
   ]
  },
  {
   "cell_type": "markdown",
   "id": "9a0b5b73",
   "metadata": {},
   "source": [
    "## 0.01 Helper Functions"
   ]
  },
  {
   "cell_type": "code",
   "execution_count": 58,
   "id": "104923f8",
   "metadata": {
    "ExecuteTime": {
     "end_time": "2023-04-06T21:38:37.333952Z",
     "start_time": "2023-04-06T21:38:37.301117Z"
    }
   },
   "outputs": [
    {
     "data": {
      "text/html": [
       "<style>.container { width:100% !important; }</style>"
      ],
      "text/plain": [
       "<IPython.core.display.HTML object>"
      ]
     },
     "metadata": {},
     "output_type": "display_data"
    },
    {
     "name": "stdout",
     "output_type": "stream",
     "text": [
      "%pylab is deprecated, use %matplotlib inline and import the required libraries.\n",
      "Populating the interactive namespace from numpy and matplotlib\n"
     ]
    },
    {
     "name": "stderr",
     "output_type": "stream",
     "text": [
      "/Users/adriele/opt/anaconda3/envs/env_pa001/lib/python3.9/site-packages/IPython/core/magics/pylab.py:162: UserWarning: pylab import has clobbered these variables: ['random']\n",
      "`%matplotlib` prevents importing * from pylab and numpy\n",
      "  warn(\"pylab import has clobbered these variables: %s\"  % clobbered +\n"
     ]
    },
    {
     "data": {
      "text/html": [
       "<style>.container { width:100% !important; }</style>"
      ],
      "text/plain": [
       "<IPython.core.display.HTML object>"
      ]
     },
     "metadata": {},
     "output_type": "display_data"
    }
   ],
   "source": [
    "def jupyter_settings(): \n",
    "    %matplotlib inline \n",
    "    #%matplotlib notebook\n",
    "    %pylab inline\n",
    "    \n",
    "    plt.style.use('bmh')\n",
    "    plt.rcParams['figure.figsize'] = [25, 12]\n",
    "    plt.rcParams['font.size'] = 24\n",
    "    \n",
    "     \n",
    "    display( HTML( '<style>.container { width:100% !important; }</style>') )\n",
    "    pd.options.display.max_columns = None\n",
    "    pd.options.display.max_rows = None\n",
    "    pd.set_option ('display.expand_frame_repr', False)\n",
    "    \n",
    "    sns.set()\n",
    "\n",
    "%matplotlib inline \n",
    "%matplotlib notebook\n",
    "\n",
    "plt.style.use('bmh')\n",
    "plt.rcParams['figure.figsize'] = [25, 12]\n",
    "plt.rcParams['font.size'] = 24\n",
    "\n",
    "\n",
    "display( HTML( '<style>.container { width:100% !important; }</style>') )\n",
    "pd.options.display.max_columns = None\n",
    "pd.options.display.max_rows = None\n",
    "pd.set_option ('display.expand_frame_repr', False)\n",
    "\n",
    "sns.set()\n",
    "\n",
    "jupyter_settings()\n",
    "\n",
    "# ===============================================\n",
    "def cramer_v (x, y):\n",
    "    cm = pd.crosstab(x, y).values\n",
    "    n = cm.sum()\n",
    "    r, k = cm.shape\n",
    "    \n",
    "    chi2 = ss.chi2_contingency (cm)[0]\n",
    "    chi2corr = max (0, chi2 - (k-1)*(r-1)/(n-1) )\n",
    "    \n",
    "    kcorr = k - (k-1)**2/(n-1) \n",
    "    rcorr = r - (r-1)**2/(n-1) \n",
    "\n",
    "    return  np.sqrt( (chi2corr/n) / (min ( kcorr-1, rcorr-1) ) )\n",
    "\n",
    "#=================================================\n",
    "\n",
    "\n",
    "def fxn():\n",
    "    warnings.warn(\"deprecated\", DeprecationWarning)\n",
    "\n",
    "with warnings.catch_warnings():\n",
    "    warnings.simplefilter(\"ignore\")\n",
    "    fxn()"
   ]
  },
  {
   "cell_type": "markdown",
   "id": "bdaa155d",
   "metadata": {},
   "source": [
    "# 1.0  Data Description"
   ]
  },
  {
   "cell_type": "markdown",
   "id": "4700f59a",
   "metadata": {},
   "source": [
    "## 1.1 Loading data"
   ]
  },
  {
   "cell_type": "code",
   "execution_count": 59,
   "id": "a9fdd6b7",
   "metadata": {
    "ExecuteTime": {
     "end_time": "2023-04-06T21:38:46.601763Z",
     "start_time": "2023-04-06T21:38:37.337250Z"
    }
   },
   "outputs": [],
   "source": [
    "df1 = pd.read_csv('/Users/adriele/Documents/repos/pa001/dataset/train_users.csv')\n",
    "\n",
    "df_sessions = pd.read_csv('/Users/adriele/Documents/repos/pa001/dataset/sessions.csv')\n"
   ]
  },
  {
   "cell_type": "markdown",
   "id": "a0ff1d3b",
   "metadata": {},
   "source": [
    "## 1.2 Data Dimensions"
   ]
  },
  {
   "cell_type": "code",
   "execution_count": 60,
   "id": "b86b814f",
   "metadata": {
    "ExecuteTime": {
     "end_time": "2023-04-06T21:38:46.608518Z",
     "start_time": "2023-04-06T21:38:46.604438Z"
    },
    "scrolled": true
   },
   "outputs": [
    {
     "name": "stdout",
     "output_type": "stream",
     "text": [
      "Number of Cols 16\n",
      "Number of Rows 213451\n"
     ]
    }
   ],
   "source": [
    "print( 'Number of Cols {}'.format( df1.shape[1] ) )\n",
    "print( 'Number of Rows {}'.format( df1.shape[0] ) )\n"
   ]
  },
  {
   "cell_type": "code",
   "execution_count": 61,
   "id": "5750d758",
   "metadata": {
    "ExecuteTime": {
     "end_time": "2023-04-06T21:38:46.616057Z",
     "start_time": "2023-04-06T21:38:46.612801Z"
    }
   },
   "outputs": [
    {
     "name": "stdout",
     "output_type": "stream",
     "text": [
      "Number of Cols 6\n",
      "Number of Rows 10567737\n"
     ]
    }
   ],
   "source": [
    "print( 'Number of Cols {}'.format( df_sessions.shape[1] ) )\n",
    "print( 'Number of Rows {}'.format( df_sessions.shape[0] ) )\n",
    "\n"
   ]
  },
  {
   "cell_type": "markdown",
   "id": "2fbba4a4",
   "metadata": {},
   "source": [
    "## 1.3 Check Na's"
   ]
  },
  {
   "cell_type": "code",
   "execution_count": 62,
   "id": "a3b24b7b",
   "metadata": {
    "ExecuteTime": {
     "end_time": "2023-04-06T21:38:47.019933Z",
     "start_time": "2023-04-06T21:38:46.618499Z"
    }
   },
   "outputs": [
    {
     "data": {
      "text/plain": [
       "id                              0\n",
       "date_account_created            0\n",
       "timestamp_first_active          0\n",
       "date_first_booking         124543\n",
       "gender                          0\n",
       "age                         87990\n",
       "signup_method                   0\n",
       "signup_flow                     0\n",
       "language                        0\n",
       "affiliate_channel               0\n",
       "affiliate_provider              0\n",
       "first_affiliate_tracked      6065\n",
       "signup_app                      0\n",
       "first_device_type               0\n",
       "first_browser                   0\n",
       "country_destination             0\n",
       "dtype: int64"
      ]
     },
     "execution_count": 62,
     "metadata": {},
     "output_type": "execute_result"
    }
   ],
   "source": [
    "df1.isna().sum()"
   ]
  },
  {
   "cell_type": "code",
   "execution_count": 63,
   "id": "ff87b365",
   "metadata": {
    "ExecuteTime": {
     "end_time": "2023-04-06T21:38:47.041339Z",
     "start_time": "2023-04-06T21:38:47.022063Z"
    }
   },
   "outputs": [
    {
     "data": {
      "text/plain": [
       "NDF      0.583473\n",
       "US       0.292226\n",
       "other    0.047290\n",
       "FR       0.023532\n",
       "IT       0.013282\n",
       "GB       0.010888\n",
       "ES       0.010536\n",
       "CA       0.006690\n",
       "DE       0.004971\n",
       "NL       0.003570\n",
       "AU       0.002525\n",
       "PT       0.001017\n",
       "Name: country_destination, dtype: float64"
      ]
     },
     "execution_count": 63,
     "metadata": {},
     "output_type": "execute_result"
    }
   ],
   "source": [
    "df1['country_destination' ].value_counts( normalize=True )"
   ]
  },
  {
   "cell_type": "code",
   "execution_count": 64,
   "id": "b1a89f3b",
   "metadata": {
    "ExecuteTime": {
     "end_time": "2023-04-06T21:38:52.588083Z",
     "start_time": "2023-04-06T21:38:47.043466Z"
    }
   },
   "outputs": [],
   "source": [
    "# removing missing values\n",
    "#df1 = df1.dropna()\n",
    "#========================== User ===============================\n",
    "\n",
    "# date_first_booking\n",
    "date_first_booking_max = pd.to_datetime( df1['date_first_booking'] ).max().strftime( '%Y-%m-%d')\n",
    "df1['date_first_booking'] = df1['date_first_booking'].fillna(date_first_booking_max)\n",
    "\n",
    "# Age\n",
    "avg_age = df1['age'].mean().astype( int )\n",
    "df1['age'] = df1['age'].fillna( avg_age )\n",
    "\n",
    "# first_affiliate_tracked\n",
    "\n",
    "df1 = df1[~df1['first_affiliate_tracked'].isna()]\n",
    "\n",
    "# ======================= sessions ===============================\n",
    "\n",
    "# user id 0.3%\n",
    "df_sessions = df_sessions[~df_sessions['user_id'].isna() ]\n",
    "\n",
    "# Action 0.7%\n",
    "df_sessions = df_sessions[~df_sessions['action'].isna() ]\n",
    "\n",
    "# action_type 11%\n",
    "df_sessions = df_sessions[~df_sessions['action_type'].isna() ]\n",
    "\n",
    "# action_detail 11%\n",
    "df_sessions = df_sessions[~df_sessions['action_detail'].isna() ]\n",
    "\n",
    "# secs_elapsed 1.2%\n",
    "df_sessions = df_sessions[~df_sessions['secs_elapsed'].isna() ]\n",
    "\n"
   ]
  },
  {
   "cell_type": "markdown",
   "id": "b7a50f28",
   "metadata": {},
   "source": [
    "## 1.4 Data Types"
   ]
  },
  {
   "cell_type": "code",
   "execution_count": 65,
   "id": "e7430804",
   "metadata": {
    "ExecuteTime": {
     "end_time": "2023-04-06T21:38:52.595939Z",
     "start_time": "2023-04-06T21:38:52.590586Z"
    }
   },
   "outputs": [
    {
     "data": {
      "text/plain": [
       "id                          object\n",
       "date_account_created        object\n",
       "timestamp_first_active       int64\n",
       "date_first_booking          object\n",
       "gender                      object\n",
       "age                        float64\n",
       "signup_method               object\n",
       "signup_flow                  int64\n",
       "language                    object\n",
       "affiliate_channel           object\n",
       "affiliate_provider          object\n",
       "first_affiliate_tracked     object\n",
       "signup_app                  object\n",
       "first_device_type           object\n",
       "first_browser               object\n",
       "country_destination         object\n",
       "dtype: object"
      ]
     },
     "execution_count": 65,
     "metadata": {},
     "output_type": "execute_result"
    }
   ],
   "source": [
    "df1.dtypes"
   ]
  },
  {
   "cell_type": "markdown",
   "id": "dc88025c",
   "metadata": {},
   "source": [
    "## 1.5 Change Dtypes"
   ]
  },
  {
   "cell_type": "code",
   "execution_count": 66,
   "id": "5fa20628",
   "metadata": {
    "ExecuteTime": {
     "end_time": "2023-04-06T21:38:53.367171Z",
     "start_time": "2023-04-06T21:38:52.598134Z"
    }
   },
   "outputs": [
    {
     "data": {
      "text/plain": [
       "id                                 object\n",
       "date_account_created       datetime64[ns]\n",
       "timestamp_first_active     datetime64[ns]\n",
       "date_first_booking         datetime64[ns]\n",
       "gender                             object\n",
       "age                                 int64\n",
       "signup_method                      object\n",
       "signup_flow                         int64\n",
       "language                           object\n",
       "affiliate_channel                  object\n",
       "affiliate_provider                 object\n",
       "first_affiliate_tracked            object\n",
       "signup_app                         object\n",
       "first_device_type                  object\n",
       "first_browser                      object\n",
       "country_destination                object\n",
       "dtype: object"
      ]
     },
     "execution_count": 66,
     "metadata": {},
     "output_type": "execute_result"
    }
   ],
   "source": [
    "#date_account_created\n",
    "df1['date_account_created'] = pd.to_datetime( df1['date_account_created'] )\n",
    "\n",
    "#timestamp_first_active\n",
    "df1['timestamp_first_active'] = pd.to_datetime( df1['timestamp_first_active'], format='%Y%m%d%H%M%S' )\n",
    "\n",
    "#date_first_booking\n",
    "df1['date_first_booking'] = pd.to_datetime( df1['date_first_booking'] )\n",
    "\n",
    "\n",
    "#age\n",
    "df1['age'] = df1['age'].astype( int )\n",
    "\n",
    "\n",
    "df1.dtypes"
   ]
  },
  {
   "cell_type": "markdown",
   "id": "211f2af6",
   "metadata": {},
   "source": [
    "## 1.6 Check Balanncing Data"
   ]
  },
  {
   "cell_type": "code",
   "execution_count": 67,
   "id": "d0c551c2",
   "metadata": {
    "ExecuteTime": {
     "end_time": "2023-04-06T21:38:53.390144Z",
     "start_time": "2023-04-06T21:38:53.372890Z"
    }
   },
   "outputs": [
    {
     "data": {
      "text/plain": [
       "NDF      0.579673\n",
       "US       0.294461\n",
       "other    0.048128\n",
       "FR       0.023623\n",
       "IT       0.013458\n",
       "GB       0.011066\n",
       "ES       0.010671\n",
       "CA       0.006707\n",
       "DE       0.005020\n",
       "NL       0.003621\n",
       "AU       0.002541\n",
       "PT       0.001032\n",
       "Name: country_destination, dtype: float64"
      ]
     },
     "execution_count": 67,
     "metadata": {},
     "output_type": "execute_result"
    }
   ],
   "source": [
    "df1['country_destination'].value_counts( normalize=True )"
   ]
  },
  {
   "cell_type": "markdown",
   "id": "6ee491d4",
   "metadata": {},
   "source": [
    "## 1.7 Descriptive Analysis"
   ]
  },
  {
   "cell_type": "markdown",
   "id": "04cf40dd",
   "metadata": {},
   "source": [
    "### 1.7.1 General"
   ]
  },
  {
   "cell_type": "code",
   "execution_count": 68,
   "id": "a3f6be32",
   "metadata": {
    "ExecuteTime": {
     "end_time": "2023-04-06T21:38:54.857194Z",
     "start_time": "2023-04-06T21:38:53.392127Z"
    }
   },
   "outputs": [],
   "source": [
    "# Users\n",
    "num_attributes = df1.select_dtypes( include=[ 'int64', 'float64' ] )\n",
    "cat_attributes = df1.select_dtypes( exclude=[ 'int64', 'float64', 'datetime64[ns]' ] )\n",
    "time_attributes = df1.select_dtypes( include=[ 'datetime64[ns]'  ] )\n",
    "\n",
    "# sessions\n",
    "num_attributes_sessions = df_sessions.select_dtypes( include=[ 'int64', 'float64' ] )\n",
    "cat_attributes_sessions = df_sessions.select_dtypes( exclude=[ 'int64', 'float64', 'datetime64[ns]' ] )\n",
    "time_attributes_sessions = df_sessions.select_dtypes( include=[ 'datetime64[ns]'  ] )"
   ]
  },
  {
   "cell_type": "markdown",
   "id": "57509ea4",
   "metadata": {},
   "source": [
    "### 1.7.2 Numerical Users"
   ]
  },
  {
   "cell_type": "code",
   "execution_count": 69,
   "id": "64ae5cd2",
   "metadata": {
    "ExecuteTime": {
     "end_time": "2023-04-06T21:38:54.954352Z",
     "start_time": "2023-04-06T21:38:54.859786Z"
    }
   },
   "outputs": [
    {
     "data": {
      "text/html": [
       "<div>\n",
       "<style scoped>\n",
       "    .dataframe tbody tr th:only-of-type {\n",
       "        vertical-align: middle;\n",
       "    }\n",
       "\n",
       "    .dataframe tbody tr th {\n",
       "        vertical-align: top;\n",
       "    }\n",
       "\n",
       "    .dataframe thead th {\n",
       "        text-align: right;\n",
       "    }\n",
       "</style>\n",
       "<table border=\"1\" class=\"dataframe\">\n",
       "  <thead>\n",
       "    <tr style=\"text-align: right;\">\n",
       "      <th></th>\n",
       "      <th>attributes</th>\n",
       "      <th>min</th>\n",
       "      <th>max</th>\n",
       "      <th>range</th>\n",
       "      <th>mean</th>\n",
       "      <th>median</th>\n",
       "      <th>std</th>\n",
       "      <th>skew</th>\n",
       "      <th>kurtosis</th>\n",
       "    </tr>\n",
       "  </thead>\n",
       "  <tbody>\n",
       "    <tr>\n",
       "      <th>0</th>\n",
       "      <td>age</td>\n",
       "      <td>1.0</td>\n",
       "      <td>2014.0</td>\n",
       "      <td>2013.0</td>\n",
       "      <td>49.183142</td>\n",
       "      <td>49.0</td>\n",
       "      <td>49.183142</td>\n",
       "      <td>16.333820</td>\n",
       "      <td>267.655434</td>\n",
       "    </tr>\n",
       "    <tr>\n",
       "      <th>1</th>\n",
       "      <td>signup_flow</td>\n",
       "      <td>0.0</td>\n",
       "      <td>25.0</td>\n",
       "      <td>25.0</td>\n",
       "      <td>3.151490</td>\n",
       "      <td>0.0</td>\n",
       "      <td>3.151490</td>\n",
       "      <td>2.287158</td>\n",
       "      <td>3.567794</td>\n",
       "    </tr>\n",
       "  </tbody>\n",
       "</table>\n",
       "</div>"
      ],
      "text/plain": [
       "    attributes  min     max   range       mean  median        std       skew    kurtosis\n",
       "0          age  1.0  2014.0  2013.0  49.183142    49.0  49.183142  16.333820  267.655434\n",
       "1  signup_flow  0.0    25.0    25.0   3.151490     0.0   3.151490   2.287158    3.567794"
      ]
     },
     "execution_count": 69,
     "metadata": {},
     "output_type": "execute_result"
    }
   ],
   "source": [
    "# Central tendency - Mean, mediana\n",
    "ct1 = pd.DataFrame( num_attributes.apply( np.mean ) ).T\n",
    "ct2 = pd.DataFrame( num_attributes.apply( np.median ) ).T\n",
    "\n",
    "# dispensions- STD, Min, Max, Range, Slkew, Kurtosis\n",
    "d1 = pd.DataFrame( num_attributes.apply( np.mean ) ).T\n",
    "d2 = pd.DataFrame( num_attributes.apply( min) ).T\n",
    "d3 = pd.DataFrame( num_attributes.apply( max ) ).T\n",
    "d4 = pd.DataFrame( num_attributes.apply(lambda x: x.max() - x.min() ) ).T\n",
    "d5 = pd.DataFrame( num_attributes.apply(lambda x: x.skew() ) ).T\n",
    "d6 = pd.DataFrame( num_attributes.apply(lambda x: x.kurtosis() ) ).T\n",
    "\n",
    "\n",
    "# Concat\n",
    "ct = pd.concat( [ d2, d3, d4, ct1, ct2, d1, d5, d6 ] ).T.reset_index()\n",
    "ct.columns= ['attributes', 'min', 'max', 'range', 'mean', 'median', 'std', 'skew', 'kurtosis' ]\n",
    "ct"
   ]
  },
  {
   "cell_type": "markdown",
   "id": "325fcef9",
   "metadata": {},
   "source": [
    "### 1.7.3 Categorical - User\n"
   ]
  },
  {
   "cell_type": "code",
   "execution_count": 70,
   "id": "78408737",
   "metadata": {
    "ExecuteTime": {
     "end_time": "2023-04-06T21:38:55.196250Z",
     "start_time": "2023-04-06T21:38:54.956580Z"
    }
   },
   "outputs": [
    {
     "data": {
      "text/html": [
       "<div>\n",
       "<style scoped>\n",
       "    .dataframe tbody tr th:only-of-type {\n",
       "        vertical-align: middle;\n",
       "    }\n",
       "\n",
       "    .dataframe tbody tr th {\n",
       "        vertical-align: top;\n",
       "    }\n",
       "\n",
       "    .dataframe thead th {\n",
       "        text-align: right;\n",
       "    }\n",
       "</style>\n",
       "<table border=\"1\" class=\"dataframe\">\n",
       "  <thead>\n",
       "    <tr style=\"text-align: right;\">\n",
       "      <th></th>\n",
       "      <th>gender</th>\n",
       "      <th>signup_method</th>\n",
       "      <th>language</th>\n",
       "      <th>affiliate_channel</th>\n",
       "      <th>affiliate_provider</th>\n",
       "      <th>first_affiliate_tracked</th>\n",
       "      <th>signup_app</th>\n",
       "      <th>first_device_type</th>\n",
       "      <th>first_browser</th>\n",
       "      <th>country_destination</th>\n",
       "    </tr>\n",
       "  </thead>\n",
       "  <tbody>\n",
       "    <tr>\n",
       "      <th>count</th>\n",
       "      <td>207386</td>\n",
       "      <td>207386</td>\n",
       "      <td>207386</td>\n",
       "      <td>207386</td>\n",
       "      <td>207386</td>\n",
       "      <td>207386</td>\n",
       "      <td>207386</td>\n",
       "      <td>207386</td>\n",
       "      <td>207386</td>\n",
       "      <td>207386</td>\n",
       "    </tr>\n",
       "    <tr>\n",
       "      <th>unique</th>\n",
       "      <td>4</td>\n",
       "      <td>3</td>\n",
       "      <td>25</td>\n",
       "      <td>8</td>\n",
       "      <td>18</td>\n",
       "      <td>7</td>\n",
       "      <td>4</td>\n",
       "      <td>9</td>\n",
       "      <td>52</td>\n",
       "      <td>12</td>\n",
       "    </tr>\n",
       "    <tr>\n",
       "      <th>top</th>\n",
       "      <td>-unknown-</td>\n",
       "      <td>basic</td>\n",
       "      <td>en</td>\n",
       "      <td>direct</td>\n",
       "      <td>direct</td>\n",
       "      <td>untracked</td>\n",
       "      <td>Web</td>\n",
       "      <td>Mac Desktop</td>\n",
       "      <td>Chrome</td>\n",
       "      <td>NDF</td>\n",
       "    </tr>\n",
       "    <tr>\n",
       "      <th>freq</th>\n",
       "      <td>91783</td>\n",
       "      <td>148297</td>\n",
       "      <td>200415</td>\n",
       "      <td>134179</td>\n",
       "      <td>133935</td>\n",
       "      <td>109232</td>\n",
       "      <td>178334</td>\n",
       "      <td>89600</td>\n",
       "      <td>63845</td>\n",
       "      <td>120216</td>\n",
       "    </tr>\n",
       "  </tbody>\n",
       "</table>\n",
       "</div>"
      ],
      "text/plain": [
       "           gender signup_method language affiliate_channel affiliate_provider first_affiliate_tracked signup_app first_device_type first_browser country_destination\n",
       "count      207386        207386   207386            207386             207386                  207386     207386            207386        207386              207386\n",
       "unique          4             3       25                 8                 18                       7          4                 9            52                  12\n",
       "top     -unknown-         basic       en            direct             direct               untracked        Web       Mac Desktop        Chrome                 NDF\n",
       "freq        91783        148297   200415            134179             133935                  109232     178334             89600         63845              120216"
      ]
     },
     "execution_count": 70,
     "metadata": {},
     "output_type": "execute_result"
    }
   ],
   "source": [
    "cat_attributes.drop( 'id', axis=1 ).describe()"
   ]
  },
  {
   "cell_type": "markdown",
   "id": "4ce1116a",
   "metadata": {},
   "source": [
    "### 1.7.4 Numerical - Sessions"
   ]
  },
  {
   "cell_type": "code",
   "execution_count": 71,
   "id": "119105a0",
   "metadata": {
    "ExecuteTime": {
     "end_time": "2023-04-06T21:38:57.032069Z",
     "start_time": "2023-04-06T21:38:55.199120Z"
    }
   },
   "outputs": [
    {
     "data": {
      "text/html": [
       "<div>\n",
       "<style scoped>\n",
       "    .dataframe tbody tr th:only-of-type {\n",
       "        vertical-align: middle;\n",
       "    }\n",
       "\n",
       "    .dataframe tbody tr th {\n",
       "        vertical-align: top;\n",
       "    }\n",
       "\n",
       "    .dataframe thead th {\n",
       "        text-align: right;\n",
       "    }\n",
       "</style>\n",
       "<table border=\"1\" class=\"dataframe\">\n",
       "  <thead>\n",
       "    <tr style=\"text-align: right;\">\n",
       "      <th></th>\n",
       "      <th>attributes</th>\n",
       "      <th>min</th>\n",
       "      <th>max</th>\n",
       "      <th>range</th>\n",
       "      <th>mean</th>\n",
       "      <th>median</th>\n",
       "      <th>std</th>\n",
       "      <th>skew</th>\n",
       "      <th>kurtosis</th>\n",
       "    </tr>\n",
       "  </thead>\n",
       "  <tbody>\n",
       "    <tr>\n",
       "      <th>0</th>\n",
       "      <td>secs_elapsed</td>\n",
       "      <td>0.0</td>\n",
       "      <td>1799977.0</td>\n",
       "      <td>1799977.0</td>\n",
       "      <td>19961.8251</td>\n",
       "      <td>1369.0</td>\n",
       "      <td>19961.8251</td>\n",
       "      <td>11.137761</td>\n",
       "      <td>154.84312</td>\n",
       "    </tr>\n",
       "  </tbody>\n",
       "</table>\n",
       "</div>"
      ],
      "text/plain": [
       "     attributes  min        max      range        mean  median         std       skew   kurtosis\n",
       "0  secs_elapsed  0.0  1799977.0  1799977.0  19961.8251  1369.0  19961.8251  11.137761  154.84312"
      ]
     },
     "execution_count": 71,
     "metadata": {},
     "output_type": "execute_result"
    }
   ],
   "source": [
    "# Central tendency - Mean, mediana\n",
    "ct1 = pd.DataFrame( num_attributes_sessions.apply( np.mean ) ).T\n",
    "ct2 = pd.DataFrame( num_attributes_sessions.apply( np.median ) ).T\n",
    "\n",
    "# dispensions- STD, Min, Max, Range, Slkew, Kurtosis\n",
    "d1 = pd.DataFrame( num_attributes_sessions.apply( np.mean ) ).T\n",
    "d2 = pd.DataFrame( num_attributes_sessions.apply( min) ).T\n",
    "d3 = pd.DataFrame( num_attributes_sessions.apply( max ) ).T\n",
    "d4 = pd.DataFrame( num_attributes_sessions.apply(lambda x: x.max() - x.min() ) ).T\n",
    "d5 = pd.DataFrame( num_attributes_sessions.apply(lambda x: x.skew() ) ).T\n",
    "d6 = pd.DataFrame( num_attributes_sessions.apply(lambda x: x.kurtosis() ) ).T\n",
    "\n",
    "\n",
    "# Concat\n",
    "ct = pd.concat( [ d2, d3, d4, ct1, ct2, d1, d5, d6 ] ).T.reset_index()\n",
    "ct.columns= ['attributes', 'min', 'max', 'range', 'mean', 'median', 'std', 'skew', 'kurtosis' ]\n",
    "ct"
   ]
  },
  {
   "cell_type": "markdown",
   "id": "82c066ba",
   "metadata": {},
   "source": [
    "### 1.7.4 Categorical - Sessions"
   ]
  },
  {
   "cell_type": "code",
   "execution_count": 72,
   "id": "8f69b09a",
   "metadata": {
    "ExecuteTime": {
     "end_time": "2023-04-06T21:39:00.835470Z",
     "start_time": "2023-04-06T21:38:57.034624Z"
    }
   },
   "outputs": [
    {
     "data": {
      "text/html": [
       "<div>\n",
       "<style scoped>\n",
       "    .dataframe tbody tr th:only-of-type {\n",
       "        vertical-align: middle;\n",
       "    }\n",
       "\n",
       "    .dataframe tbody tr th {\n",
       "        vertical-align: top;\n",
       "    }\n",
       "\n",
       "    .dataframe thead th {\n",
       "        text-align: right;\n",
       "    }\n",
       "</style>\n",
       "<table border=\"1\" class=\"dataframe\">\n",
       "  <thead>\n",
       "    <tr style=\"text-align: right;\">\n",
       "      <th></th>\n",
       "      <th>action</th>\n",
       "      <th>action_type</th>\n",
       "      <th>action_detail</th>\n",
       "      <th>device_type</th>\n",
       "    </tr>\n",
       "  </thead>\n",
       "  <tbody>\n",
       "    <tr>\n",
       "      <th>count</th>\n",
       "      <td>9213930</td>\n",
       "      <td>9213930</td>\n",
       "      <td>9213930</td>\n",
       "      <td>9213930</td>\n",
       "    </tr>\n",
       "    <tr>\n",
       "      <th>unique</th>\n",
       "      <td>347</td>\n",
       "      <td>10</td>\n",
       "      <td>155</td>\n",
       "      <td>14</td>\n",
       "    </tr>\n",
       "    <tr>\n",
       "      <th>top</th>\n",
       "      <td>show</td>\n",
       "      <td>view</td>\n",
       "      <td>view_search_results</td>\n",
       "      <td>Mac Desktop</td>\n",
       "    </tr>\n",
       "    <tr>\n",
       "      <th>freq</th>\n",
       "      <td>2178382</td>\n",
       "      <td>3545621</td>\n",
       "      <td>1770931</td>\n",
       "      <td>3019523</td>\n",
       "    </tr>\n",
       "  </tbody>\n",
       "</table>\n",
       "</div>"
      ],
      "text/plain": [
       "         action action_type        action_detail  device_type\n",
       "count   9213930     9213930              9213930      9213930\n",
       "unique      347          10                  155           14\n",
       "top        show        view  view_search_results  Mac Desktop\n",
       "freq    2178382     3545621              1770931      3019523"
      ]
     },
     "execution_count": 72,
     "metadata": {},
     "output_type": "execute_result"
    }
   ],
   "source": [
    "cat_attributes_sessions.drop( 'user_id', axis=1 ).describe()"
   ]
  },
  {
   "cell_type": "code",
   "execution_count": 73,
   "id": "c19982c2",
   "metadata": {
    "ExecuteTime": {
     "end_time": "2023-04-06T21:39:28.052314Z",
     "start_time": "2023-04-06T21:39:00.837947Z"
    }
   },
   "outputs": [],
   "source": [
    "# attrivute list for Cramer's V correlation\n",
    "cat_attributes_list = cat_attributes_sessions.drop( 'user_id', axis=1 ).columns.tolist()\n",
    "\n",
    "corr_dict = {}\n",
    "for i in range( len( cat_attributes_list )):\n",
    "    corr_list = []\n",
    "    for j in range( len( cat_attributes_list)):\n",
    "        ref = cat_attributes_list[i]\n",
    "        feat = cat_attributes_list[j]\n",
    "        \n",
    "        # Correlation\n",
    "        corr = cramer_v( cat_attributes_sessions[ ref ], cat_attributes_sessions[ feat ])\n",
    "        \n",
    "        # append to list\n",
    "        corr_list.append( corr )\n",
    "        \n",
    "     # Append the correlation list to each ref attributes   \n",
    "    corr_dict[ ref ] = corr_list"
   ]
  },
  {
   "cell_type": "code",
   "execution_count": 74,
   "id": "a6a4391d",
   "metadata": {
    "ExecuteTime": {
     "end_time": "2023-04-06T21:39:28.592621Z",
     "start_time": "2023-04-06T21:39:28.054958Z"
    }
   },
   "outputs": [
    {
     "data": {
      "text/plain": [
       "<Axes: >"
      ]
     },
     "execution_count": 74,
     "metadata": {},
     "output_type": "execute_result"
    },
    {
     "data": {
      "image/png": "[encoded data removed]",
      "text/plain": [
       "<Figure size 2500x1200 with 2 Axes>"
      ]
     },
     "metadata": {},
     "output_type": "display_data"
    }
   ],
   "source": [
    "d = pd.DataFrame( corr_dict )\n",
    "d = d.set_index( d.columns )\n",
    "sns.heatmap( d, annot=True )"
   ]
  },
  {
   "cell_type": "markdown",
   "id": "75fda12f",
   "metadata": {},
   "source": [
    "# 2.0 Data Filtering"
   ]
  },
  {
   "cell_type": "code",
   "execution_count": 75,
   "id": "d902c13d",
   "metadata": {
    "ExecuteTime": {
     "end_time": "2023-04-06T21:39:29.905756Z",
     "start_time": "2023-04-06T21:39:28.595306Z"
    }
   },
   "outputs": [
    {
     "data": {
      "text/plain": [
       "Index(['id', 'date_account_created', 'timestamp_first_active',\n",
       "       'date_first_booking', 'gender', 'age', 'signup_method', 'signup_flow',\n",
       "       'language', 'affiliate_channel', 'affiliate_provider',\n",
       "       'first_affiliate_tracked', 'signup_app', 'first_device_type',\n",
       "       'first_browser', 'country_destination'],\n",
       "      dtype='object')"
      ]
     },
     "execution_count": 75,
     "metadata": {},
     "output_type": "execute_result"
    }
   ],
   "source": [
    "df2 = df1.copy()\n",
    "df2_ses = df_sessions.copy()\n",
    "df2.columns"
   ]
  },
  {
   "cell_type": "markdown",
   "id": "3115c7d4",
   "metadata": {},
   "source": [
    "## 2.1 Creat New Features"
   ]
  },
  {
   "cell_type": "code",
   "execution_count": 76,
   "id": "98a4b450",
   "metadata": {
    "ExecuteTime": {
     "end_time": "2023-04-06T21:39:32.384843Z",
     "start_time": "2023-04-06T21:39:29.908407Z"
    }
   },
   "outputs": [
    {
     "name": "stderr",
     "output_type": "stream",
     "text": [
      "/var/folders/pc/6sglrsq96ws5kp74fjj4j02h0000gn/T/ipykernel_58366/2884927145.py:27: FutureWarning: Series.dt.weekofyear and Series.dt.week have been deprecated. Please use Series.dt.isocalendar().week instead.\n",
      "  df2['week_of_year_first_active'] = df2['first_active'].dt.weekofyear\n",
      "/var/folders/pc/6sglrsq96ws5kp74fjj4j02h0000gn/T/ipykernel_58366/2884927145.py:45: FutureWarning: Series.dt.weekofyear and Series.dt.week have been deprecated. Please use Series.dt.isocalendar().week instead.\n",
      "  df2['week_of_year_first_booking'] = df2['date_first_booking'].dt.weekofyear\n",
      "/var/folders/pc/6sglrsq96ws5kp74fjj4j02h0000gn/T/ipykernel_58366/2884927145.py:63: FutureWarning: Series.dt.weekofyear and Series.dt.week have been deprecated. Please use Series.dt.isocalendar().week instead.\n",
      "  df2['week_of_year_account_created'] = df2['date_account_created'].dt.weekofyear\n"
     ]
    }
   ],
   "source": [
    "# Days from first active up to first booking\n",
    "df2['first_active'] = pd.to_datetime( df2['timestamp_first_active'].dt.strftime( '%Y-%m-%d' ) )\n",
    "df2['days_from_first_active_untill_booking'] = (df2['date_first_booking'] - df2['first_active']).apply( lambda x: x.days )\n",
    "\n",
    "\n",
    "# Days from first active up to account created\n",
    "df2['days_from_first_active_untill_account_created'] = (df2['date_account_created'] - df2['first_active']).apply( lambda x: x.days )\n",
    "\n",
    "# Days from account created  up to first book\n",
    "df2['days_from_account_created_untill_first_booking'] = (df2['date_first_booking'] - df2['date_account_created'] ).apply( lambda x: x.days )\n",
    "\n",
    "\n",
    "# ====================   First active ================================\n",
    "# year of first active\n",
    "df2['year_first_active'] = df2['first_active'].dt.year\n",
    "\n",
    "# month of first active\n",
    "df2['month_first_active'] = df2['first_active'].dt.month\n",
    "\n",
    "# day of first active\n",
    "df2['day_first_active'] = df2['first_active'].dt.day\n",
    "\n",
    "# day of week first active\n",
    "df2['day_of_week__first_active'] = df2['first_active'].dt.dayofweek\n",
    "\n",
    "# week of year of first active\n",
    "df2['week_of_year_first_active'] = df2['first_active'].dt.weekofyear\n",
    "\n",
    "\n",
    "# ========================= First Booking ===========================\n",
    "\n",
    "# year of first booking\n",
    "df2['year_first_booking'] = df2['date_first_booking'].dt.year\n",
    "\n",
    "# month of first booking\n",
    "df2['month_first_booking'] = df2['date_first_booking'].dt.month\n",
    "\n",
    "# day of first booking\n",
    "df2['day_first_booking'] = df2['date_first_booking'].dt.day\n",
    "\n",
    "# day of week first booking\n",
    "df2['day_of_week_first_booking'] = df2['date_first_booking'].dt.dayofweek\n",
    "\n",
    "# week of year of first booking\n",
    "df2['week_of_year_first_booking'] = df2['date_first_booking'].dt.weekofyear\n",
    "\n",
    "\n",
    "# ======================= Account Created ==============================\n",
    "\n",
    "# year of account created\n",
    "df2['year_account_created'] = df2['date_account_created'].dt.year\n",
    "\n",
    "# month of account created\n",
    "df2['month_account_created'] = df2['date_account_created'].dt.month\n",
    "\n",
    "# day of account created\n",
    "df2['day_account_created'] = df2['date_account_created'].dt.day\n",
    "\n",
    "# day of week account created\n",
    "df2['day_of_week_account_created'] = df2['date_account_created'].dt.dayofweek\n",
    "\n",
    "# week of year of account created\n",
    "df2['week_of_year_account_created'] = df2['date_account_created'].dt.weekofyear\n",
    "\n"
   ]
  },
  {
   "cell_type": "code",
   "execution_count": 77,
   "id": "2cfb5006",
   "metadata": {
    "ExecuteTime": {
     "end_time": "2023-04-06T21:39:32.391158Z",
     "start_time": "2023-04-06T21:39:32.387149Z"
    }
   },
   "outputs": [
    {
     "data": {
      "text/plain": [
       "(207386, 35)"
      ]
     },
     "execution_count": 77,
     "metadata": {},
     "output_type": "execute_result"
    }
   ],
   "source": [
    "df2.shape"
   ]
  },
  {
   "cell_type": "markdown",
   "id": "6f3acfc7",
   "metadata": {},
   "source": [
    "## 2.2 Columns Selection"
   ]
  },
  {
   "cell_type": "markdown",
   "id": "b8c43169",
   "metadata": {},
   "source": [
    "# 3.0 Data Filtering"
   ]
  },
  {
   "cell_type": "code",
   "execution_count": 78,
   "id": "63ad7917",
   "metadata": {
    "ExecuteTime": {
     "end_time": "2023-04-06T21:39:33.353500Z",
     "start_time": "2023-04-06T21:39:32.393980Z"
    }
   },
   "outputs": [],
   "source": [
    "df3 = df2.copy()\n",
    "df3_ses = df2_ses.copy()"
   ]
  },
  {
   "cell_type": "markdown",
   "id": "e5baf433",
   "metadata": {},
   "source": [
    "## 3.1 Filtering Row"
   ]
  },
  {
   "cell_type": "code",
   "execution_count": 79,
   "id": "3f787db7",
   "metadata": {
    "ExecuteTime": {
     "end_time": "2023-04-06T21:39:34.224619Z",
     "start_time": "2023-04-06T21:39:33.356178Z"
    }
   },
   "outputs": [],
   "source": [
    "# Age - There are few people over 120 years old.\n",
    "df3 = df3[( df3['age'] > 15 ) & ( df3['age'] < 120 )] \n",
    "\n",
    "\n",
    "# secs_elapse - There's no possibility 0 sec elapse on webs\n",
    "df3_ses = df3_ses[ df3_ses['secs_elapsed'] > 0]"
   ]
  },
  {
   "cell_type": "markdown",
   "id": "244a5ab2",
   "metadata": {},
   "source": [
    "## 3.2  Columns Selection"
   ]
  },
  {
   "cell_type": "code",
   "execution_count": 80,
   "id": "4b7b109b",
   "metadata": {
    "ExecuteTime": {
     "end_time": "2023-04-06T21:39:34.264871Z",
     "start_time": "2023-04-06T21:39:34.227253Z"
    }
   },
   "outputs": [],
   "source": [
    "cols = ['date_account_created', 'date_first_booking', 'first_active', 'timestamp_first_active']\n",
    "df3 = df3.drop( cols, axis=1 )"
   ]
  },
  {
   "cell_type": "code",
   "execution_count": 127,
   "id": "62dffaf9",
   "metadata": {
    "ExecuteTime": {
     "end_time": "2023-04-07T01:31:13.378133Z",
     "start_time": "2023-04-07T01:31:13.286326Z"
    }
   },
   "outputs": [],
   "source": [
    "# High correlation\n",
    "cols = [ 'days_from_first_active_untill_booking', 'year_first_active', 'month_first_active', 'day_first_active', \n",
    "'day_of_week__first_active', 'week_of_year_first_active', 'month_first_booking', 'month_account_created', 'year_first_booking',\n",
    "'week_of_year_first_booking', 'affiliate_provider', 'first_browser', 'first_device_type']\n",
    "\n",
    "df3 = df3.drop( cols, axis=1 )"
   ]
  },
  {
   "cell_type": "code",
   "execution_count": 128,
   "id": "73faacce",
   "metadata": {
    "ExecuteTime": {
     "end_time": "2023-04-07T01:31:15.209961Z",
     "start_time": "2023-04-07T01:31:15.205149Z"
    }
   },
   "outputs": [
    {
     "data": {
      "text/plain": [
       "Index(['id', 'gender', 'age', 'signup_method', 'signup_flow', 'language',\n",
       "       'affiliate_channel', 'first_affiliate_tracked', 'signup_app',\n",
       "       'country_destination', 'days_from_first_active_untill_account_created',\n",
       "       'days_from_account_created_untill_first_booking', 'day_first_booking',\n",
       "       'day_of_week_first_booking', 'year_account_created',\n",
       "       'day_account_created', 'day_of_week_account_created',\n",
       "       'week_of_year_account_created'],\n",
       "      dtype='object')"
      ]
     },
     "execution_count": 128,
     "metadata": {},
     "output_type": "execute_result"
    }
   ],
   "source": [
    "df3.columns"
   ]
  },
  {
   "cell_type": "markdown",
   "id": "321179c1",
   "metadata": {},
   "source": [
    "# 4.0  Balanced Data"
   ]
  },
  {
   "cell_type": "code",
   "execution_count": 82,
   "id": "96ad1528",
   "metadata": {
    "ExecuteTime": {
     "end_time": "2023-04-06T21:39:34.785550Z",
     "start_time": "2023-04-06T21:39:34.274308Z"
    }
   },
   "outputs": [],
   "source": [
    "df4 = df3.copy()\n",
    "df4_ses = df3_ses.copy()\n",
    "\n",
    "\n",
    "\n",
    "df41 = df4.drop('id', axis=1 )"
   ]
  },
  {
   "cell_type": "code",
   "execution_count": 83,
   "id": "d24d9a57",
   "metadata": {
    "ExecuteTime": {
     "end_time": "2023-04-06T21:39:35.798290Z",
     "start_time": "2023-04-06T21:39:34.788617Z"
    }
   },
   "outputs": [],
   "source": [
    "# Encoder Categorical Variable\n",
    "ohe = pp.OneHotEncoder()\n",
    "\n",
    "# Numerical\n",
    "col_num = df4.select_dtypes( include=['int64', 'float64' ] ).columns.tolist()\n",
    "\n",
    "# Categorical\n",
    "col_cat = df4.select_dtypes( exclude=['int64', 'float64', 'datetime64[ns]' ] ).drop(['id', 'country_destination'], axis=1 ).columns.tolist()\n",
    "\n",
    "# Encoding\n",
    "df4_dummy = pd.DataFrame( ohe.fit_transform( df4[ col_cat ] ).toarray(), index=df4.index)\n",
    "df4_dummy.columns = df4_dummy.columns.astype( str )\n",
    "                         \n",
    "# Join numerical and categorical\n",
    "df42 = pd.concat( [df4[col_num], df4_dummy], axis=1 )"
   ]
  },
  {
   "cell_type": "code",
   "execution_count": 84,
   "id": "a5cf5c2a",
   "metadata": {
    "ExecuteTime": {
     "end_time": "2023-04-06T21:39:35.917985Z",
     "start_time": "2023-04-06T21:39:35.801158Z"
    }
   },
   "outputs": [
    {
     "data": {
      "text/html": [
       "<div>\n",
       "<style scoped>\n",
       "    .dataframe tbody tr th:only-of-type {\n",
       "        vertical-align: middle;\n",
       "    }\n",
       "\n",
       "    .dataframe tbody tr th {\n",
       "        vertical-align: top;\n",
       "    }\n",
       "\n",
       "    .dataframe thead th {\n",
       "        text-align: right;\n",
       "    }\n",
       "</style>\n",
       "<table border=\"1\" class=\"dataframe\">\n",
       "  <thead>\n",
       "    <tr style=\"text-align: right;\">\n",
       "      <th></th>\n",
       "      <th>age</th>\n",
       "      <th>signup_flow</th>\n",
       "      <th>days_from_first_active_untill_booking</th>\n",
       "      <th>days_from_first_active_untill_account_created</th>\n",
       "      <th>days_from_account_created_untill_first_booking</th>\n",
       "      <th>year_first_active</th>\n",
       "      <th>month_first_active</th>\n",
       "      <th>day_first_active</th>\n",
       "      <th>day_of_week__first_active</th>\n",
       "      <th>week_of_year_first_active</th>\n",
       "      <th>year_first_booking</th>\n",
       "      <th>month_first_booking</th>\n",
       "      <th>day_first_booking</th>\n",
       "      <th>day_of_week_first_booking</th>\n",
       "      <th>week_of_year_first_booking</th>\n",
       "      <th>year_account_created</th>\n",
       "      <th>month_account_created</th>\n",
       "      <th>day_account_created</th>\n",
       "      <th>day_of_week_account_created</th>\n",
       "      <th>week_of_year_account_created</th>\n",
       "      <th>0</th>\n",
       "      <th>1</th>\n",
       "      <th>2</th>\n",
       "      <th>3</th>\n",
       "      <th>4</th>\n",
       "      <th>5</th>\n",
       "      <th>6</th>\n",
       "      <th>7</th>\n",
       "      <th>8</th>\n",
       "      <th>9</th>\n",
       "      <th>10</th>\n",
       "      <th>11</th>\n",
       "      <th>12</th>\n",
       "      <th>13</th>\n",
       "      <th>14</th>\n",
       "      <th>15</th>\n",
       "      <th>16</th>\n",
       "      <th>17</th>\n",
       "      <th>18</th>\n",
       "      <th>19</th>\n",
       "      <th>20</th>\n",
       "      <th>21</th>\n",
       "      <th>22</th>\n",
       "      <th>23</th>\n",
       "      <th>24</th>\n",
       "      <th>25</th>\n",
       "      <th>26</th>\n",
       "      <th>27</th>\n",
       "      <th>28</th>\n",
       "      <th>29</th>\n",
       "      <th>30</th>\n",
       "      <th>31</th>\n",
       "      <th>32</th>\n",
       "      <th>33</th>\n",
       "      <th>34</th>\n",
       "      <th>35</th>\n",
       "      <th>36</th>\n",
       "      <th>37</th>\n",
       "      <th>38</th>\n",
       "      <th>39</th>\n",
       "      <th>40</th>\n",
       "      <th>41</th>\n",
       "      <th>42</th>\n",
       "      <th>43</th>\n",
       "      <th>44</th>\n",
       "      <th>45</th>\n",
       "      <th>46</th>\n",
       "      <th>47</th>\n",
       "      <th>48</th>\n",
       "      <th>49</th>\n",
       "      <th>50</th>\n",
       "      <th>51</th>\n",
       "      <th>52</th>\n",
       "      <th>53</th>\n",
       "      <th>54</th>\n",
       "      <th>55</th>\n",
       "      <th>56</th>\n",
       "      <th>57</th>\n",
       "      <th>58</th>\n",
       "      <th>59</th>\n",
       "      <th>60</th>\n",
       "      <th>61</th>\n",
       "      <th>62</th>\n",
       "      <th>63</th>\n",
       "      <th>64</th>\n",
       "      <th>65</th>\n",
       "      <th>66</th>\n",
       "      <th>67</th>\n",
       "      <th>68</th>\n",
       "      <th>69</th>\n",
       "      <th>70</th>\n",
       "      <th>71</th>\n",
       "      <th>72</th>\n",
       "      <th>73</th>\n",
       "      <th>74</th>\n",
       "      <th>75</th>\n",
       "      <th>76</th>\n",
       "      <th>77</th>\n",
       "      <th>78</th>\n",
       "      <th>79</th>\n",
       "      <th>80</th>\n",
       "      <th>81</th>\n",
       "      <th>82</th>\n",
       "      <th>83</th>\n",
       "      <th>84</th>\n",
       "      <th>85</th>\n",
       "      <th>86</th>\n",
       "      <th>87</th>\n",
       "      <th>88</th>\n",
       "      <th>89</th>\n",
       "      <th>90</th>\n",
       "      <th>91</th>\n",
       "      <th>92</th>\n",
       "      <th>93</th>\n",
       "      <th>94</th>\n",
       "      <th>95</th>\n",
       "      <th>96</th>\n",
       "      <th>97</th>\n",
       "      <th>98</th>\n",
       "      <th>99</th>\n",
       "      <th>100</th>\n",
       "      <th>101</th>\n",
       "      <th>102</th>\n",
       "      <th>103</th>\n",
       "      <th>104</th>\n",
       "      <th>105</th>\n",
       "      <th>106</th>\n",
       "      <th>107</th>\n",
       "      <th>108</th>\n",
       "      <th>109</th>\n",
       "      <th>110</th>\n",
       "      <th>111</th>\n",
       "      <th>112</th>\n",
       "      <th>113</th>\n",
       "      <th>114</th>\n",
       "      <th>115</th>\n",
       "      <th>116</th>\n",
       "      <th>117</th>\n",
       "      <th>118</th>\n",
       "      <th>119</th>\n",
       "      <th>120</th>\n",
       "      <th>121</th>\n",
       "      <th>122</th>\n",
       "      <th>123</th>\n",
       "      <th>124</th>\n",
       "      <th>125</th>\n",
       "      <th>126</th>\n",
       "      <th>127</th>\n",
       "      <th>128</th>\n",
       "      <th>129</th>\n",
       "    </tr>\n",
       "  </thead>\n",
       "  <tbody>\n",
       "    <tr>\n",
       "      <th>0</th>\n",
       "      <td>49</td>\n",
       "      <td>0</td>\n",
       "      <td>2293</td>\n",
       "      <td>466</td>\n",
       "      <td>1827</td>\n",
       "      <td>2009</td>\n",
       "      <td>3</td>\n",
       "      <td>19</td>\n",
       "      <td>3</td>\n",
       "      <td>12</td>\n",
       "      <td>2015</td>\n",
       "      <td>6</td>\n",
       "      <td>29</td>\n",
       "      <td>0</td>\n",
       "      <td>27</td>\n",
       "      <td>2010</td>\n",
       "      <td>6</td>\n",
       "      <td>28</td>\n",
       "      <td>0</td>\n",
       "      <td>26</td>\n",
       "      <td>1.0</td>\n",
       "      <td>0.0</td>\n",
       "      <td>0.0</td>\n",
       "      <td>0.0</td>\n",
       "      <td>0.0</td>\n",
       "      <td>1.0</td>\n",
       "      <td>0.0</td>\n",
       "      <td>0.0</td>\n",
       "      <td>0.0</td>\n",
       "      <td>0.0</td>\n",
       "      <td>0.0</td>\n",
       "      <td>0.0</td>\n",
       "      <td>1.0</td>\n",
       "      <td>0.0</td>\n",
       "      <td>0.0</td>\n",
       "      <td>0.0</td>\n",
       "      <td>0.0</td>\n",
       "      <td>0.0</td>\n",
       "      <td>0.0</td>\n",
       "      <td>0.0</td>\n",
       "      <td>0.0</td>\n",
       "      <td>0.0</td>\n",
       "      <td>0.0</td>\n",
       "      <td>0.0</td>\n",
       "      <td>0.0</td>\n",
       "      <td>0.0</td>\n",
       "      <td>0.0</td>\n",
       "      <td>0.0</td>\n",
       "      <td>0.0</td>\n",
       "      <td>0.0</td>\n",
       "      <td>0.0</td>\n",
       "      <td>0.0</td>\n",
       "      <td>0.0</td>\n",
       "      <td>0.0</td>\n",
       "      <td>1.0</td>\n",
       "      <td>0.0</td>\n",
       "      <td>0.0</td>\n",
       "      <td>0.0</td>\n",
       "      <td>0.0</td>\n",
       "      <td>0.0</td>\n",
       "      <td>0.0</td>\n",
       "      <td>0.0</td>\n",
       "      <td>0.0</td>\n",
       "      <td>0.0</td>\n",
       "      <td>1.0</td>\n",
       "      <td>0.0</td>\n",
       "      <td>0.0</td>\n",
       "      <td>0.0</td>\n",
       "      <td>0.0</td>\n",
       "      <td>0.0</td>\n",
       "      <td>0.0</td>\n",
       "      <td>0.0</td>\n",
       "      <td>0.0</td>\n",
       "      <td>0.0</td>\n",
       "      <td>0.0</td>\n",
       "      <td>0.0</td>\n",
       "      <td>0.0</td>\n",
       "      <td>0.0</td>\n",
       "      <td>0.0</td>\n",
       "      <td>0.0</td>\n",
       "      <td>0.0</td>\n",
       "      <td>0.0</td>\n",
       "      <td>0.0</td>\n",
       "      <td>0.0</td>\n",
       "      <td>1.0</td>\n",
       "      <td>0.0</td>\n",
       "      <td>0.0</td>\n",
       "      <td>1.0</td>\n",
       "      <td>0.0</td>\n",
       "      <td>0.0</td>\n",
       "      <td>0.0</td>\n",
       "      <td>0.0</td>\n",
       "      <td>1.0</td>\n",
       "      <td>0.0</td>\n",
       "      <td>0.0</td>\n",
       "      <td>0.0</td>\n",
       "      <td>0.0</td>\n",
       "      <td>0.0</td>\n",
       "      <td>0.0</td>\n",
       "      <td>0.0</td>\n",
       "      <td>0.0</td>\n",
       "      <td>0.0</td>\n",
       "      <td>0.0</td>\n",
       "      <td>0.0</td>\n",
       "      <td>0.0</td>\n",
       "      <td>0.0</td>\n",
       "      <td>1.0</td>\n",
       "      <td>0.0</td>\n",
       "      <td>0.0</td>\n",
       "      <td>0.0</td>\n",
       "      <td>0.0</td>\n",
       "      <td>0.0</td>\n",
       "      <td>0.0</td>\n",
       "      <td>0.0</td>\n",
       "      <td>0.0</td>\n",
       "      <td>0.0</td>\n",
       "      <td>0.0</td>\n",
       "      <td>0.0</td>\n",
       "      <td>0.0</td>\n",
       "      <td>0.0</td>\n",
       "      <td>0.0</td>\n",
       "      <td>0.0</td>\n",
       "      <td>0.0</td>\n",
       "      <td>0.0</td>\n",
       "      <td>0.0</td>\n",
       "      <td>0.0</td>\n",
       "      <td>0.0</td>\n",
       "      <td>0.0</td>\n",
       "      <td>0.0</td>\n",
       "      <td>0.0</td>\n",
       "      <td>0.0</td>\n",
       "      <td>0.0</td>\n",
       "      <td>0.0</td>\n",
       "      <td>0.0</td>\n",
       "      <td>0.0</td>\n",
       "      <td>0.0</td>\n",
       "      <td>0.0</td>\n",
       "      <td>0.0</td>\n",
       "      <td>0.0</td>\n",
       "      <td>0.0</td>\n",
       "      <td>0.0</td>\n",
       "      <td>0.0</td>\n",
       "      <td>0.0</td>\n",
       "      <td>0.0</td>\n",
       "      <td>0.0</td>\n",
       "      <td>0.0</td>\n",
       "      <td>0.0</td>\n",
       "      <td>0.0</td>\n",
       "      <td>0.0</td>\n",
       "      <td>0.0</td>\n",
       "    </tr>\n",
       "    <tr>\n",
       "      <th>1</th>\n",
       "      <td>38</td>\n",
       "      <td>0</td>\n",
       "      <td>2228</td>\n",
       "      <td>732</td>\n",
       "      <td>1496</td>\n",
       "      <td>2009</td>\n",
       "      <td>5</td>\n",
       "      <td>23</td>\n",
       "      <td>5</td>\n",
       "      <td>21</td>\n",
       "      <td>2015</td>\n",
       "      <td>6</td>\n",
       "      <td>29</td>\n",
       "      <td>0</td>\n",
       "      <td>27</td>\n",
       "      <td>2011</td>\n",
       "      <td>5</td>\n",
       "      <td>25</td>\n",
       "      <td>2</td>\n",
       "      <td>21</td>\n",
       "      <td>0.0</td>\n",
       "      <td>0.0</td>\n",
       "      <td>1.0</td>\n",
       "      <td>0.0</td>\n",
       "      <td>0.0</td>\n",
       "      <td>1.0</td>\n",
       "      <td>0.0</td>\n",
       "      <td>0.0</td>\n",
       "      <td>0.0</td>\n",
       "      <td>0.0</td>\n",
       "      <td>0.0</td>\n",
       "      <td>0.0</td>\n",
       "      <td>1.0</td>\n",
       "      <td>0.0</td>\n",
       "      <td>0.0</td>\n",
       "      <td>0.0</td>\n",
       "      <td>0.0</td>\n",
       "      <td>0.0</td>\n",
       "      <td>0.0</td>\n",
       "      <td>0.0</td>\n",
       "      <td>0.0</td>\n",
       "      <td>0.0</td>\n",
       "      <td>0.0</td>\n",
       "      <td>0.0</td>\n",
       "      <td>0.0</td>\n",
       "      <td>0.0</td>\n",
       "      <td>0.0</td>\n",
       "      <td>0.0</td>\n",
       "      <td>0.0</td>\n",
       "      <td>0.0</td>\n",
       "      <td>0.0</td>\n",
       "      <td>0.0</td>\n",
       "      <td>0.0</td>\n",
       "      <td>0.0</td>\n",
       "      <td>0.0</td>\n",
       "      <td>0.0</td>\n",
       "      <td>0.0</td>\n",
       "      <td>0.0</td>\n",
       "      <td>0.0</td>\n",
       "      <td>1.0</td>\n",
       "      <td>0.0</td>\n",
       "      <td>0.0</td>\n",
       "      <td>0.0</td>\n",
       "      <td>0.0</td>\n",
       "      <td>0.0</td>\n",
       "      <td>0.0</td>\n",
       "      <td>0.0</td>\n",
       "      <td>0.0</td>\n",
       "      <td>1.0</td>\n",
       "      <td>0.0</td>\n",
       "      <td>0.0</td>\n",
       "      <td>0.0</td>\n",
       "      <td>0.0</td>\n",
       "      <td>0.0</td>\n",
       "      <td>0.0</td>\n",
       "      <td>0.0</td>\n",
       "      <td>0.0</td>\n",
       "      <td>0.0</td>\n",
       "      <td>0.0</td>\n",
       "      <td>0.0</td>\n",
       "      <td>0.0</td>\n",
       "      <td>0.0</td>\n",
       "      <td>0.0</td>\n",
       "      <td>0.0</td>\n",
       "      <td>1.0</td>\n",
       "      <td>0.0</td>\n",
       "      <td>0.0</td>\n",
       "      <td>1.0</td>\n",
       "      <td>0.0</td>\n",
       "      <td>0.0</td>\n",
       "      <td>0.0</td>\n",
       "      <td>0.0</td>\n",
       "      <td>1.0</td>\n",
       "      <td>0.0</td>\n",
       "      <td>0.0</td>\n",
       "      <td>0.0</td>\n",
       "      <td>0.0</td>\n",
       "      <td>0.0</td>\n",
       "      <td>0.0</td>\n",
       "      <td>0.0</td>\n",
       "      <td>0.0</td>\n",
       "      <td>0.0</td>\n",
       "      <td>0.0</td>\n",
       "      <td>0.0</td>\n",
       "      <td>0.0</td>\n",
       "      <td>0.0</td>\n",
       "      <td>1.0</td>\n",
       "      <td>0.0</td>\n",
       "      <td>0.0</td>\n",
       "      <td>0.0</td>\n",
       "      <td>0.0</td>\n",
       "      <td>0.0</td>\n",
       "      <td>0.0</td>\n",
       "      <td>0.0</td>\n",
       "      <td>0.0</td>\n",
       "      <td>0.0</td>\n",
       "      <td>0.0</td>\n",
       "      <td>0.0</td>\n",
       "      <td>0.0</td>\n",
       "      <td>0.0</td>\n",
       "      <td>0.0</td>\n",
       "      <td>0.0</td>\n",
       "      <td>0.0</td>\n",
       "      <td>0.0</td>\n",
       "      <td>0.0</td>\n",
       "      <td>0.0</td>\n",
       "      <td>0.0</td>\n",
       "      <td>0.0</td>\n",
       "      <td>0.0</td>\n",
       "      <td>0.0</td>\n",
       "      <td>0.0</td>\n",
       "      <td>0.0</td>\n",
       "      <td>0.0</td>\n",
       "      <td>0.0</td>\n",
       "      <td>0.0</td>\n",
       "      <td>0.0</td>\n",
       "      <td>0.0</td>\n",
       "      <td>0.0</td>\n",
       "      <td>0.0</td>\n",
       "      <td>0.0</td>\n",
       "      <td>0.0</td>\n",
       "      <td>0.0</td>\n",
       "      <td>0.0</td>\n",
       "      <td>0.0</td>\n",
       "      <td>0.0</td>\n",
       "      <td>0.0</td>\n",
       "      <td>0.0</td>\n",
       "      <td>0.0</td>\n",
       "      <td>0.0</td>\n",
       "      <td>0.0</td>\n",
       "    </tr>\n",
       "    <tr>\n",
       "      <th>2</th>\n",
       "      <td>56</td>\n",
       "      <td>3</td>\n",
       "      <td>419</td>\n",
       "      <td>476</td>\n",
       "      <td>-57</td>\n",
       "      <td>2009</td>\n",
       "      <td>6</td>\n",
       "      <td>9</td>\n",
       "      <td>1</td>\n",
       "      <td>24</td>\n",
       "      <td>2010</td>\n",
       "      <td>8</td>\n",
       "      <td>2</td>\n",
       "      <td>0</td>\n",
       "      <td>31</td>\n",
       "      <td>2010</td>\n",
       "      <td>9</td>\n",
       "      <td>28</td>\n",
       "      <td>1</td>\n",
       "      <td>39</td>\n",
       "      <td>0.0</td>\n",
       "      <td>1.0</td>\n",
       "      <td>0.0</td>\n",
       "      <td>0.0</td>\n",
       "      <td>1.0</td>\n",
       "      <td>0.0</td>\n",
       "      <td>0.0</td>\n",
       "      <td>0.0</td>\n",
       "      <td>0.0</td>\n",
       "      <td>0.0</td>\n",
       "      <td>0.0</td>\n",
       "      <td>0.0</td>\n",
       "      <td>1.0</td>\n",
       "      <td>0.0</td>\n",
       "      <td>0.0</td>\n",
       "      <td>0.0</td>\n",
       "      <td>0.0</td>\n",
       "      <td>0.0</td>\n",
       "      <td>0.0</td>\n",
       "      <td>0.0</td>\n",
       "      <td>0.0</td>\n",
       "      <td>0.0</td>\n",
       "      <td>0.0</td>\n",
       "      <td>0.0</td>\n",
       "      <td>0.0</td>\n",
       "      <td>0.0</td>\n",
       "      <td>0.0</td>\n",
       "      <td>0.0</td>\n",
       "      <td>0.0</td>\n",
       "      <td>0.0</td>\n",
       "      <td>0.0</td>\n",
       "      <td>0.0</td>\n",
       "      <td>0.0</td>\n",
       "      <td>0.0</td>\n",
       "      <td>1.0</td>\n",
       "      <td>0.0</td>\n",
       "      <td>0.0</td>\n",
       "      <td>0.0</td>\n",
       "      <td>0.0</td>\n",
       "      <td>0.0</td>\n",
       "      <td>0.0</td>\n",
       "      <td>0.0</td>\n",
       "      <td>0.0</td>\n",
       "      <td>0.0</td>\n",
       "      <td>1.0</td>\n",
       "      <td>0.0</td>\n",
       "      <td>0.0</td>\n",
       "      <td>0.0</td>\n",
       "      <td>0.0</td>\n",
       "      <td>0.0</td>\n",
       "      <td>0.0</td>\n",
       "      <td>0.0</td>\n",
       "      <td>0.0</td>\n",
       "      <td>0.0</td>\n",
       "      <td>0.0</td>\n",
       "      <td>0.0</td>\n",
       "      <td>0.0</td>\n",
       "      <td>0.0</td>\n",
       "      <td>0.0</td>\n",
       "      <td>0.0</td>\n",
       "      <td>0.0</td>\n",
       "      <td>0.0</td>\n",
       "      <td>0.0</td>\n",
       "      <td>0.0</td>\n",
       "      <td>1.0</td>\n",
       "      <td>0.0</td>\n",
       "      <td>0.0</td>\n",
       "      <td>1.0</td>\n",
       "      <td>0.0</td>\n",
       "      <td>0.0</td>\n",
       "      <td>0.0</td>\n",
       "      <td>0.0</td>\n",
       "      <td>0.0</td>\n",
       "      <td>0.0</td>\n",
       "      <td>0.0</td>\n",
       "      <td>1.0</td>\n",
       "      <td>0.0</td>\n",
       "      <td>0.0</td>\n",
       "      <td>0.0</td>\n",
       "      <td>0.0</td>\n",
       "      <td>0.0</td>\n",
       "      <td>0.0</td>\n",
       "      <td>0.0</td>\n",
       "      <td>0.0</td>\n",
       "      <td>0.0</td>\n",
       "      <td>0.0</td>\n",
       "      <td>0.0</td>\n",
       "      <td>0.0</td>\n",
       "      <td>0.0</td>\n",
       "      <td>0.0</td>\n",
       "      <td>0.0</td>\n",
       "      <td>0.0</td>\n",
       "      <td>0.0</td>\n",
       "      <td>0.0</td>\n",
       "      <td>0.0</td>\n",
       "      <td>0.0</td>\n",
       "      <td>0.0</td>\n",
       "      <td>0.0</td>\n",
       "      <td>0.0</td>\n",
       "      <td>1.0</td>\n",
       "      <td>0.0</td>\n",
       "      <td>0.0</td>\n",
       "      <td>0.0</td>\n",
       "      <td>0.0</td>\n",
       "      <td>0.0</td>\n",
       "      <td>0.0</td>\n",
       "      <td>0.0</td>\n",
       "      <td>0.0</td>\n",
       "      <td>0.0</td>\n",
       "      <td>0.0</td>\n",
       "      <td>0.0</td>\n",
       "      <td>0.0</td>\n",
       "      <td>0.0</td>\n",
       "      <td>0.0</td>\n",
       "      <td>0.0</td>\n",
       "      <td>0.0</td>\n",
       "      <td>0.0</td>\n",
       "      <td>0.0</td>\n",
       "      <td>0.0</td>\n",
       "      <td>0.0</td>\n",
       "      <td>0.0</td>\n",
       "      <td>0.0</td>\n",
       "      <td>0.0</td>\n",
       "      <td>0.0</td>\n",
       "      <td>0.0</td>\n",
       "      <td>0.0</td>\n",
       "      <td>0.0</td>\n",
       "      <td>0.0</td>\n",
       "      <td>0.0</td>\n",
       "      <td>0.0</td>\n",
       "    </tr>\n",
       "    <tr>\n",
       "      <th>3</th>\n",
       "      <td>42</td>\n",
       "      <td>0</td>\n",
       "      <td>1043</td>\n",
       "      <td>765</td>\n",
       "      <td>278</td>\n",
       "      <td>2009</td>\n",
       "      <td>10</td>\n",
       "      <td>31</td>\n",
       "      <td>5</td>\n",
       "      <td>44</td>\n",
       "      <td>2012</td>\n",
       "      <td>9</td>\n",
       "      <td>8</td>\n",
       "      <td>5</td>\n",
       "      <td>36</td>\n",
       "      <td>2011</td>\n",
       "      <td>12</td>\n",
       "      <td>5</td>\n",
       "      <td>0</td>\n",
       "      <td>49</td>\n",
       "      <td>0.0</td>\n",
       "      <td>1.0</td>\n",
       "      <td>0.0</td>\n",
       "      <td>0.0</td>\n",
       "      <td>0.0</td>\n",
       "      <td>1.0</td>\n",
       "      <td>0.0</td>\n",
       "      <td>0.0</td>\n",
       "      <td>0.0</td>\n",
       "      <td>0.0</td>\n",
       "      <td>0.0</td>\n",
       "      <td>0.0</td>\n",
       "      <td>1.0</td>\n",
       "      <td>0.0</td>\n",
       "      <td>0.0</td>\n",
       "      <td>0.0</td>\n",
       "      <td>0.0</td>\n",
       "      <td>0.0</td>\n",
       "      <td>0.0</td>\n",
       "      <td>0.0</td>\n",
       "      <td>0.0</td>\n",
       "      <td>0.0</td>\n",
       "      <td>0.0</td>\n",
       "      <td>0.0</td>\n",
       "      <td>0.0</td>\n",
       "      <td>0.0</td>\n",
       "      <td>0.0</td>\n",
       "      <td>0.0</td>\n",
       "      <td>0.0</td>\n",
       "      <td>0.0</td>\n",
       "      <td>0.0</td>\n",
       "      <td>0.0</td>\n",
       "      <td>0.0</td>\n",
       "      <td>0.0</td>\n",
       "      <td>1.0</td>\n",
       "      <td>0.0</td>\n",
       "      <td>0.0</td>\n",
       "      <td>0.0</td>\n",
       "      <td>0.0</td>\n",
       "      <td>0.0</td>\n",
       "      <td>0.0</td>\n",
       "      <td>0.0</td>\n",
       "      <td>0.0</td>\n",
       "      <td>0.0</td>\n",
       "      <td>1.0</td>\n",
       "      <td>0.0</td>\n",
       "      <td>0.0</td>\n",
       "      <td>0.0</td>\n",
       "      <td>0.0</td>\n",
       "      <td>0.0</td>\n",
       "      <td>0.0</td>\n",
       "      <td>0.0</td>\n",
       "      <td>0.0</td>\n",
       "      <td>0.0</td>\n",
       "      <td>0.0</td>\n",
       "      <td>0.0</td>\n",
       "      <td>0.0</td>\n",
       "      <td>0.0</td>\n",
       "      <td>0.0</td>\n",
       "      <td>0.0</td>\n",
       "      <td>0.0</td>\n",
       "      <td>0.0</td>\n",
       "      <td>0.0</td>\n",
       "      <td>0.0</td>\n",
       "      <td>1.0</td>\n",
       "      <td>0.0</td>\n",
       "      <td>0.0</td>\n",
       "      <td>1.0</td>\n",
       "      <td>0.0</td>\n",
       "      <td>0.0</td>\n",
       "      <td>0.0</td>\n",
       "      <td>0.0</td>\n",
       "      <td>1.0</td>\n",
       "      <td>0.0</td>\n",
       "      <td>0.0</td>\n",
       "      <td>0.0</td>\n",
       "      <td>0.0</td>\n",
       "      <td>0.0</td>\n",
       "      <td>0.0</td>\n",
       "      <td>0.0</td>\n",
       "      <td>0.0</td>\n",
       "      <td>0.0</td>\n",
       "      <td>0.0</td>\n",
       "      <td>0.0</td>\n",
       "      <td>0.0</td>\n",
       "      <td>0.0</td>\n",
       "      <td>0.0</td>\n",
       "      <td>0.0</td>\n",
       "      <td>0.0</td>\n",
       "      <td>0.0</td>\n",
       "      <td>0.0</td>\n",
       "      <td>0.0</td>\n",
       "      <td>0.0</td>\n",
       "      <td>0.0</td>\n",
       "      <td>0.0</td>\n",
       "      <td>1.0</td>\n",
       "      <td>0.0</td>\n",
       "      <td>0.0</td>\n",
       "      <td>0.0</td>\n",
       "      <td>0.0</td>\n",
       "      <td>0.0</td>\n",
       "      <td>0.0</td>\n",
       "      <td>0.0</td>\n",
       "      <td>0.0</td>\n",
       "      <td>0.0</td>\n",
       "      <td>0.0</td>\n",
       "      <td>0.0</td>\n",
       "      <td>0.0</td>\n",
       "      <td>0.0</td>\n",
       "      <td>0.0</td>\n",
       "      <td>0.0</td>\n",
       "      <td>0.0</td>\n",
       "      <td>0.0</td>\n",
       "      <td>0.0</td>\n",
       "      <td>0.0</td>\n",
       "      <td>0.0</td>\n",
       "      <td>0.0</td>\n",
       "      <td>0.0</td>\n",
       "      <td>0.0</td>\n",
       "      <td>0.0</td>\n",
       "      <td>0.0</td>\n",
       "      <td>0.0</td>\n",
       "      <td>0.0</td>\n",
       "      <td>0.0</td>\n",
       "      <td>0.0</td>\n",
       "      <td>0.0</td>\n",
       "      <td>0.0</td>\n",
       "      <td>0.0</td>\n",
       "      <td>0.0</td>\n",
       "      <td>0.0</td>\n",
       "    </tr>\n",
       "    <tr>\n",
       "      <th>4</th>\n",
       "      <td>41</td>\n",
       "      <td>0</td>\n",
       "      <td>72</td>\n",
       "      <td>280</td>\n",
       "      <td>-208</td>\n",
       "      <td>2009</td>\n",
       "      <td>12</td>\n",
       "      <td>8</td>\n",
       "      <td>1</td>\n",
       "      <td>50</td>\n",
       "      <td>2010</td>\n",
       "      <td>2</td>\n",
       "      <td>18</td>\n",
       "      <td>3</td>\n",
       "      <td>7</td>\n",
       "      <td>2010</td>\n",
       "      <td>9</td>\n",
       "      <td>14</td>\n",
       "      <td>1</td>\n",
       "      <td>37</td>\n",
       "      <td>1.0</td>\n",
       "      <td>0.0</td>\n",
       "      <td>0.0</td>\n",
       "      <td>0.0</td>\n",
       "      <td>1.0</td>\n",
       "      <td>0.0</td>\n",
       "      <td>0.0</td>\n",
       "      <td>0.0</td>\n",
       "      <td>0.0</td>\n",
       "      <td>0.0</td>\n",
       "      <td>0.0</td>\n",
       "      <td>0.0</td>\n",
       "      <td>1.0</td>\n",
       "      <td>0.0</td>\n",
       "      <td>0.0</td>\n",
       "      <td>0.0</td>\n",
       "      <td>0.0</td>\n",
       "      <td>0.0</td>\n",
       "      <td>0.0</td>\n",
       "      <td>0.0</td>\n",
       "      <td>0.0</td>\n",
       "      <td>0.0</td>\n",
       "      <td>0.0</td>\n",
       "      <td>0.0</td>\n",
       "      <td>0.0</td>\n",
       "      <td>0.0</td>\n",
       "      <td>0.0</td>\n",
       "      <td>0.0</td>\n",
       "      <td>0.0</td>\n",
       "      <td>0.0</td>\n",
       "      <td>0.0</td>\n",
       "      <td>0.0</td>\n",
       "      <td>0.0</td>\n",
       "      <td>0.0</td>\n",
       "      <td>1.0</td>\n",
       "      <td>0.0</td>\n",
       "      <td>0.0</td>\n",
       "      <td>0.0</td>\n",
       "      <td>0.0</td>\n",
       "      <td>0.0</td>\n",
       "      <td>0.0</td>\n",
       "      <td>0.0</td>\n",
       "      <td>0.0</td>\n",
       "      <td>0.0</td>\n",
       "      <td>1.0</td>\n",
       "      <td>0.0</td>\n",
       "      <td>0.0</td>\n",
       "      <td>0.0</td>\n",
       "      <td>0.0</td>\n",
       "      <td>0.0</td>\n",
       "      <td>0.0</td>\n",
       "      <td>0.0</td>\n",
       "      <td>0.0</td>\n",
       "      <td>0.0</td>\n",
       "      <td>0.0</td>\n",
       "      <td>0.0</td>\n",
       "      <td>0.0</td>\n",
       "      <td>0.0</td>\n",
       "      <td>0.0</td>\n",
       "      <td>0.0</td>\n",
       "      <td>0.0</td>\n",
       "      <td>0.0</td>\n",
       "      <td>0.0</td>\n",
       "      <td>0.0</td>\n",
       "      <td>1.0</td>\n",
       "      <td>0.0</td>\n",
       "      <td>0.0</td>\n",
       "      <td>1.0</td>\n",
       "      <td>0.0</td>\n",
       "      <td>0.0</td>\n",
       "      <td>0.0</td>\n",
       "      <td>0.0</td>\n",
       "      <td>1.0</td>\n",
       "      <td>0.0</td>\n",
       "      <td>0.0</td>\n",
       "      <td>0.0</td>\n",
       "      <td>0.0</td>\n",
       "      <td>0.0</td>\n",
       "      <td>0.0</td>\n",
       "      <td>0.0</td>\n",
       "      <td>0.0</td>\n",
       "      <td>0.0</td>\n",
       "      <td>0.0</td>\n",
       "      <td>0.0</td>\n",
       "      <td>0.0</td>\n",
       "      <td>0.0</td>\n",
       "      <td>1.0</td>\n",
       "      <td>0.0</td>\n",
       "      <td>0.0</td>\n",
       "      <td>0.0</td>\n",
       "      <td>0.0</td>\n",
       "      <td>0.0</td>\n",
       "      <td>0.0</td>\n",
       "      <td>0.0</td>\n",
       "      <td>0.0</td>\n",
       "      <td>0.0</td>\n",
       "      <td>0.0</td>\n",
       "      <td>0.0</td>\n",
       "      <td>0.0</td>\n",
       "      <td>0.0</td>\n",
       "      <td>0.0</td>\n",
       "      <td>0.0</td>\n",
       "      <td>0.0</td>\n",
       "      <td>0.0</td>\n",
       "      <td>0.0</td>\n",
       "      <td>0.0</td>\n",
       "      <td>0.0</td>\n",
       "      <td>0.0</td>\n",
       "      <td>0.0</td>\n",
       "      <td>0.0</td>\n",
       "      <td>0.0</td>\n",
       "      <td>0.0</td>\n",
       "      <td>0.0</td>\n",
       "      <td>0.0</td>\n",
       "      <td>0.0</td>\n",
       "      <td>0.0</td>\n",
       "      <td>0.0</td>\n",
       "      <td>0.0</td>\n",
       "      <td>0.0</td>\n",
       "      <td>0.0</td>\n",
       "      <td>0.0</td>\n",
       "      <td>0.0</td>\n",
       "      <td>0.0</td>\n",
       "      <td>0.0</td>\n",
       "      <td>0.0</td>\n",
       "      <td>0.0</td>\n",
       "      <td>0.0</td>\n",
       "      <td>0.0</td>\n",
       "      <td>0.0</td>\n",
       "      <td>0.0</td>\n",
       "    </tr>\n",
       "  </tbody>\n",
       "</table>\n",
       "</div>"
      ],
      "text/plain": [
       "   age  signup_flow  days_from_first_active_untill_booking  days_from_first_active_untill_account_created  days_from_account_created_untill_first_booking  year_first_active  month_first_active  day_first_active  day_of_week__first_active  week_of_year_first_active  year_first_booking  month_first_booking  day_first_booking  day_of_week_first_booking  week_of_year_first_booking  year_account_created  month_account_created  day_account_created  day_of_week_account_created  week_of_year_account_created    0    1    2    3    4    5    6    7    8    9   10   11   12   13   14   15   16   17   18   19   20   21   22   23   24   25   26   27   28   29   30   31   32   33   34   35   36   37   38   39   40   41   42   43   44   45   46   47   48   49   50   51   52   53   54   55   56   57   58   59   60   61   62   63   64   65   66   67   68   69   70   71   72   73   74   75   76   77   78   79   80   81   82   83   84   85   86   87   88   89   90   91   92   93   94   95   96   97   98   99  100  101  102  103  104  105  106  107  108  109  110  111  112  113  114  115  116  117  118  119  120  121  122  123  124  125  126  127  128  129\n",
       "0   49            0                                   2293                                            466                                            1827               2009                   3                19                          3                         12                2015                    6                 29                          0                          27                  2010                      6                   28                            0                            26  1.0  0.0  0.0  0.0  0.0  1.0  0.0  0.0  0.0  0.0  0.0  0.0  1.0  0.0  0.0  0.0  0.0  0.0  0.0  0.0  0.0  0.0  0.0  0.0  0.0  0.0  0.0  0.0  0.0  0.0  0.0  0.0  0.0  0.0  1.0  0.0  0.0  0.0  0.0  0.0  0.0  0.0  0.0  0.0  1.0  0.0  0.0  0.0  0.0  0.0  0.0  0.0  0.0  0.0  0.0  0.0  0.0  0.0  0.0  0.0  0.0  0.0  0.0  0.0  1.0  0.0  0.0  1.0  0.0  0.0  0.0  0.0  1.0  0.0  0.0  0.0  0.0  0.0  0.0  0.0  0.0  0.0  0.0  0.0  0.0  0.0  1.0  0.0  0.0  0.0  0.0  0.0  0.0  0.0  0.0  0.0  0.0  0.0  0.0  0.0  0.0  0.0  0.0  0.0  0.0  0.0  0.0  0.0  0.0  0.0  0.0  0.0  0.0  0.0  0.0  0.0  0.0  0.0  0.0  0.0  0.0  0.0  0.0  0.0  0.0  0.0  0.0  0.0  0.0  0.0\n",
       "1   38            0                                   2228                                            732                                            1496               2009                   5                23                          5                         21                2015                    6                 29                          0                          27                  2011                      5                   25                            2                            21  0.0  0.0  1.0  0.0  0.0  1.0  0.0  0.0  0.0  0.0  0.0  0.0  1.0  0.0  0.0  0.0  0.0  0.0  0.0  0.0  0.0  0.0  0.0  0.0  0.0  0.0  0.0  0.0  0.0  0.0  0.0  0.0  0.0  0.0  0.0  0.0  0.0  0.0  0.0  1.0  0.0  0.0  0.0  0.0  0.0  0.0  0.0  0.0  1.0  0.0  0.0  0.0  0.0  0.0  0.0  0.0  0.0  0.0  0.0  0.0  0.0  0.0  0.0  0.0  1.0  0.0  0.0  1.0  0.0  0.0  0.0  0.0  1.0  0.0  0.0  0.0  0.0  0.0  0.0  0.0  0.0  0.0  0.0  0.0  0.0  0.0  1.0  0.0  0.0  0.0  0.0  0.0  0.0  0.0  0.0  0.0  0.0  0.0  0.0  0.0  0.0  0.0  0.0  0.0  0.0  0.0  0.0  0.0  0.0  0.0  0.0  0.0  0.0  0.0  0.0  0.0  0.0  0.0  0.0  0.0  0.0  0.0  0.0  0.0  0.0  0.0  0.0  0.0  0.0  0.0\n",
       "2   56            3                                    419                                            476                                             -57               2009                   6                 9                          1                         24                2010                    8                  2                          0                          31                  2010                      9                   28                            1                            39  0.0  1.0  0.0  0.0  1.0  0.0  0.0  0.0  0.0  0.0  0.0  0.0  1.0  0.0  0.0  0.0  0.0  0.0  0.0  0.0  0.0  0.0  0.0  0.0  0.0  0.0  0.0  0.0  0.0  0.0  0.0  0.0  0.0  0.0  1.0  0.0  0.0  0.0  0.0  0.0  0.0  0.0  0.0  0.0  1.0  0.0  0.0  0.0  0.0  0.0  0.0  0.0  0.0  0.0  0.0  0.0  0.0  0.0  0.0  0.0  0.0  0.0  0.0  0.0  1.0  0.0  0.0  1.0  0.0  0.0  0.0  0.0  0.0  0.0  0.0  1.0  0.0  0.0  0.0  0.0  0.0  0.0  0.0  0.0  0.0  0.0  0.0  0.0  0.0  0.0  0.0  0.0  0.0  0.0  0.0  0.0  0.0  0.0  0.0  1.0  0.0  0.0  0.0  0.0  0.0  0.0  0.0  0.0  0.0  0.0  0.0  0.0  0.0  0.0  0.0  0.0  0.0  0.0  0.0  0.0  0.0  0.0  0.0  0.0  0.0  0.0  0.0  0.0  0.0  0.0\n",
       "3   42            0                                   1043                                            765                                             278               2009                  10                31                          5                         44                2012                    9                  8                          5                          36                  2011                     12                    5                            0                            49  0.0  1.0  0.0  0.0  0.0  1.0  0.0  0.0  0.0  0.0  0.0  0.0  1.0  0.0  0.0  0.0  0.0  0.0  0.0  0.0  0.0  0.0  0.0  0.0  0.0  0.0  0.0  0.0  0.0  0.0  0.0  0.0  0.0  0.0  1.0  0.0  0.0  0.0  0.0  0.0  0.0  0.0  0.0  0.0  1.0  0.0  0.0  0.0  0.0  0.0  0.0  0.0  0.0  0.0  0.0  0.0  0.0  0.0  0.0  0.0  0.0  0.0  0.0  0.0  1.0  0.0  0.0  1.0  0.0  0.0  0.0  0.0  1.0  0.0  0.0  0.0  0.0  0.0  0.0  0.0  0.0  0.0  0.0  0.0  0.0  0.0  0.0  0.0  0.0  0.0  0.0  0.0  0.0  0.0  0.0  1.0  0.0  0.0  0.0  0.0  0.0  0.0  0.0  0.0  0.0  0.0  0.0  0.0  0.0  0.0  0.0  0.0  0.0  0.0  0.0  0.0  0.0  0.0  0.0  0.0  0.0  0.0  0.0  0.0  0.0  0.0  0.0  0.0  0.0  0.0\n",
       "4   41            0                                     72                                            280                                            -208               2009                  12                 8                          1                         50                2010                    2                 18                          3                           7                  2010                      9                   14                            1                            37  1.0  0.0  0.0  0.0  1.0  0.0  0.0  0.0  0.0  0.0  0.0  0.0  1.0  0.0  0.0  0.0  0.0  0.0  0.0  0.0  0.0  0.0  0.0  0.0  0.0  0.0  0.0  0.0  0.0  0.0  0.0  0.0  0.0  0.0  1.0  0.0  0.0  0.0  0.0  0.0  0.0  0.0  0.0  0.0  1.0  0.0  0.0  0.0  0.0  0.0  0.0  0.0  0.0  0.0  0.0  0.0  0.0  0.0  0.0  0.0  0.0  0.0  0.0  0.0  1.0  0.0  0.0  1.0  0.0  0.0  0.0  0.0  1.0  0.0  0.0  0.0  0.0  0.0  0.0  0.0  0.0  0.0  0.0  0.0  0.0  0.0  1.0  0.0  0.0  0.0  0.0  0.0  0.0  0.0  0.0  0.0  0.0  0.0  0.0  0.0  0.0  0.0  0.0  0.0  0.0  0.0  0.0  0.0  0.0  0.0  0.0  0.0  0.0  0.0  0.0  0.0  0.0  0.0  0.0  0.0  0.0  0.0  0.0  0.0  0.0  0.0  0.0  0.0  0.0  0.0"
      ]
     },
     "execution_count": 84,
     "metadata": {},
     "output_type": "execute_result"
    }
   ],
   "source": [
    "df42.head()"
   ]
  },
  {
   "cell_type": "markdown",
   "id": "5dbddc4d",
   "metadata": {},
   "source": [
    "## 4.1 Randon UnderSampling"
   ]
  },
  {
   "cell_type": "code",
   "execution_count": 85,
   "id": "d17366e4",
   "metadata": {
    "ExecuteTime": {
     "end_time": "2023-04-06T21:39:37.268073Z",
     "start_time": "2023-04-06T21:39:35.928684Z"
    }
   },
   "outputs": [],
   "source": [
    "# ratio balanced\n",
    "ratio_balanced = {'NDF' : 10000}\n",
    "\n",
    "\n",
    "# define sampler\n",
    "undersampling =  us.RandomUnderSampler( sampling_strategy=ratio_balanced, random_state=32 )\n",
    "\n",
    "# Apply Sampler\n",
    "x_under, y_under = undersampling.fit_resample( df42, df4['country_destination'])"
   ]
  },
  {
   "cell_type": "code",
   "execution_count": 86,
   "id": "470c592a",
   "metadata": {
    "ExecuteTime": {
     "end_time": "2023-04-06T21:39:37.288336Z",
     "start_time": "2023-04-06T21:39:37.270920Z"
    },
    "cell_style": "split"
   },
   "outputs": [
    {
     "data": {
      "text/plain": [
       "NDF      119810\n",
       "US        60800\n",
       "other      9935\n",
       "FR         4881\n",
       "IT         2776\n",
       "GB         2285\n",
       "ES         2203\n",
       "CA         1385\n",
       "DE         1033\n",
       "NL          746\n",
       "AU          526\n",
       "PT          213\n",
       "Name: country_destination, dtype: int64"
      ]
     },
     "execution_count": 86,
     "metadata": {},
     "output_type": "execute_result"
    }
   ],
   "source": [
    "df4['country_destination'].value_counts()"
   ]
  },
  {
   "cell_type": "code",
   "execution_count": 87,
   "id": "70ef5619",
   "metadata": {
    "ExecuteTime": {
     "end_time": "2023-04-06T21:39:37.301348Z",
     "start_time": "2023-04-06T21:39:37.290560Z"
    },
    "cell_style": "split",
    "scrolled": true
   },
   "outputs": [
    {
     "data": {
      "text/plain": [
       "US       60800\n",
       "NDF      10000\n",
       "other     9935\n",
       "FR        4881\n",
       "IT        2776\n",
       "GB        2285\n",
       "ES        2203\n",
       "CA        1385\n",
       "DE        1033\n",
       "NL         746\n",
       "AU         526\n",
       "PT         213\n",
       "Name: country_destination, dtype: int64"
      ]
     },
     "execution_count": 87,
     "metadata": {},
     "output_type": "execute_result"
    }
   ],
   "source": [
    "y_under.value_counts()"
   ]
  },
  {
   "cell_type": "code",
   "execution_count": 88,
   "id": "5d131c83",
   "metadata": {
    "ExecuteTime": {
     "end_time": "2023-04-06T21:39:50.033754Z",
     "start_time": "2023-04-06T21:39:37.303284Z"
    }
   },
   "outputs": [],
   "source": [
    "# ratio balanced\n",
    "#ratio_balanced = {'NDF' : 10000}\n",
    "\n",
    "\n",
    "# define sampler\n",
    "oversampling =  os.RandomOverSampler( sampling_strategy = 'auto', random_state=32 )\n",
    "\n",
    "# Apply Sampler\n",
    "x_under, y_under = oversampling.fit_resample( df42, df4['country_destination'])"
   ]
  },
  {
   "cell_type": "markdown",
   "id": "1f8e2559",
   "metadata": {},
   "source": [
    "## 4.2 Randon OverSampling"
   ]
  },
  {
   "cell_type": "code",
   "execution_count": 89,
   "id": "03c4eec2",
   "metadata": {
    "ExecuteTime": {
     "end_time": "2023-04-06T21:40:01.723403Z",
     "start_time": "2023-04-06T21:39:50.036517Z"
    }
   },
   "outputs": [],
   "source": [
    "# ratio balanced\n",
    "#ratio_balanced = {'NDF' : 10000}\n",
    "\n",
    "\n",
    "# define sampler\n",
    "oversampling =  os.RandomOverSampler( sampling_strategy = 'all', random_state=32 )\n",
    "\n",
    "# Apply Sampler\n",
    "x_over, y_over = oversampling.fit_resample( df42, df4['country_destination'])"
   ]
  },
  {
   "cell_type": "code",
   "execution_count": 90,
   "id": "828399b2",
   "metadata": {
    "ExecuteTime": {
     "end_time": "2023-04-06T21:40:01.744101Z",
     "start_time": "2023-04-06T21:40:01.725961Z"
    },
    "cell_style": "split"
   },
   "outputs": [
    {
     "data": {
      "text/plain": [
       "NDF      119810\n",
       "US        60800\n",
       "other      9935\n",
       "FR         4881\n",
       "IT         2776\n",
       "GB         2285\n",
       "ES         2203\n",
       "CA         1385\n",
       "DE         1033\n",
       "NL          746\n",
       "AU          526\n",
       "PT          213\n",
       "Name: country_destination, dtype: int64"
      ]
     },
     "execution_count": 90,
     "metadata": {},
     "output_type": "execute_result"
    }
   ],
   "source": [
    "df4['country_destination'].value_counts()"
   ]
  },
  {
   "cell_type": "code",
   "execution_count": 91,
   "id": "fd4e1f45",
   "metadata": {
    "ExecuteTime": {
     "end_time": "2023-04-06T21:40:01.835035Z",
     "start_time": "2023-04-06T21:40:01.746538Z"
    },
    "cell_style": "split",
    "scrolled": true
   },
   "outputs": [
    {
     "data": {
      "text/plain": [
       "NDF      119810\n",
       "US       119810\n",
       "other    119810\n",
       "CA       119810\n",
       "FR       119810\n",
       "ES       119810\n",
       "GB       119810\n",
       "IT       119810\n",
       "PT       119810\n",
       "NL       119810\n",
       "DE       119810\n",
       "AU       119810\n",
       "Name: country_destination, dtype: int64"
      ]
     },
     "execution_count": 91,
     "metadata": {},
     "output_type": "execute_result"
    }
   ],
   "source": [
    "y_over.value_counts()"
   ]
  },
  {
   "cell_type": "markdown",
   "id": "1df5c04c",
   "metadata": {},
   "source": [
    "## 4.3 SMOTE + Tomeklink"
   ]
  },
  {
   "cell_type": "code",
   "execution_count": 92,
   "id": "e4e967db",
   "metadata": {
    "ExecuteTime": {
     "end_time": "2023-04-06T21:40:01.844999Z",
     "start_time": "2023-04-06T21:40:01.838083Z"
    }
   },
   "outputs": [],
   "source": [
    "ratio_balanced= {'NDF': 119810,\n",
    "                 'US': 60800,\n",
    "                 'other': 9935,\n",
    "                 'FR': 4881,\n",
    "                 'IT': 2776,\n",
    "                 'GB': 2285, \n",
    "                 'ES': 2203,\n",
    "                 'CA': 1385,\n",
    "                 'DE': 1033,\n",
    "                 'NL': 746,\n",
    "                 'AU': 526,\n",
    "                 'PT': 213}"
   ]
  },
  {
   "cell_type": "code",
   "execution_count": 93,
   "id": "bcca32b7",
   "metadata": {
    "ExecuteTime": {
     "end_time": "2023-04-06T21:40:01.852305Z",
     "start_time": "2023-04-06T21:40:01.849687Z"
    }
   },
   "outputs": [],
   "source": [
    "from imblearn.over_sampling import BorderlineSMOTE"
   ]
  },
  {
   "cell_type": "code",
   "execution_count": 94,
   "id": "e9ad956e",
   "metadata": {
    "ExecuteTime": {
     "end_time": "2023-04-06T21:40:03.196638Z",
     "start_time": "2023-04-06T21:40:01.854814Z"
    }
   },
   "outputs": [
    {
     "name": "stderr",
     "output_type": "stream",
     "text": [
      "/Users/adriele/opt/anaconda3/envs/env_pa001/lib/python3.9/site-packages/imblearn/over_sampling/_smote/filter.py:192: FutureWarning: The parameter `n_jobs` has been deprecated in 0.10 and will be removed in 0.12. You can pass an nearest neighbors estimator where `n_jobs` is already set instead.\n",
      "  warnings.warn(\n"
     ]
    }
   ],
   "source": [
    "# define sample\n",
    "#smt = c.SMOTETomek( sampling_strategy=ratio_balanced, random_state=32, n_jobs=-1 )\n",
    "smt = BorderlineSMOTE( sampling_strategy=ratio_balanced, random_state=32, n_jobs=-1 )\n",
    "\n",
    "# Apply Sampler\n",
    "x_smt, y_smt = smt.fit_resample( df42, df4[ 'country_destination' ] )\n"
   ]
  },
  {
   "cell_type": "code",
   "execution_count": 95,
   "id": "b41652f3",
   "metadata": {
    "ExecuteTime": {
     "end_time": "2023-04-06T21:40:03.216976Z",
     "start_time": "2023-04-06T21:40:03.198808Z"
    },
    "cell_style": "split"
   },
   "outputs": [
    {
     "data": {
      "text/plain": [
       "NDF      119810\n",
       "US        60800\n",
       "other      9935\n",
       "FR         4881\n",
       "IT         2776\n",
       "GB         2285\n",
       "ES         2203\n",
       "CA         1385\n",
       "DE         1033\n",
       "NL          746\n",
       "AU          526\n",
       "PT          213\n",
       "Name: country_destination, dtype: int64"
      ]
     },
     "execution_count": 95,
     "metadata": {},
     "output_type": "execute_result"
    }
   ],
   "source": [
    "df4['country_destination'].value_counts()"
   ]
  },
  {
   "cell_type": "code",
   "execution_count": 96,
   "id": "83ae2d5b",
   "metadata": {
    "ExecuteTime": {
     "end_time": "2023-04-06T21:40:03.236852Z",
     "start_time": "2023-04-06T21:40:03.219249Z"
    },
    "cell_style": "split"
   },
   "outputs": [
    {
     "data": {
      "text/plain": [
       "NDF      119810\n",
       "US        60800\n",
       "other      9935\n",
       "FR         4881\n",
       "IT         2776\n",
       "GB         2285\n",
       "ES         2203\n",
       "CA         1385\n",
       "DE         1033\n",
       "NL          746\n",
       "AU          526\n",
       "PT          213\n",
       "Name: country_destination, dtype: int64"
      ]
     },
     "execution_count": 96,
     "metadata": {},
     "output_type": "execute_result"
    }
   ],
   "source": [
    "y_smt.value_counts()"
   ]
  },
  {
   "cell_type": "code",
   "execution_count": 97,
   "id": "2851e33c",
   "metadata": {
    "ExecuteTime": {
     "end_time": "2023-04-06T21:40:04.179099Z",
     "start_time": "2023-04-06T21:40:03.239300Z"
    }
   },
   "outputs": [],
   "source": [
    "# Numerical data\n",
    "df43 = x_smt[ col_num ]\n",
    "\n",
    "# categorical data\n",
    "df44 = x_smt.drop( col_num, axis=1 )\n",
    "df45 = pd.DataFrame( ohe.inverse_transform( df44 ), columns=col_cat, index=df44.index )\n",
    "\n",
    "# join numerican and categirical\n",
    "df46 = pd.concat( [df43, df45], axis=1 )\n",
    "df46['country_destination'] = y_smt"
   ]
  },
  {
   "cell_type": "markdown",
   "id": "e285c510",
   "metadata": {},
   "source": [
    "# 5.0  Exploratory Data Analysis"
   ]
  },
  {
   "cell_type": "code",
   "execution_count": 98,
   "id": "8070d1ac",
   "metadata": {
    "ExecuteTime": {
     "end_time": "2023-04-06T21:40:04.350707Z",
     "start_time": "2023-04-06T21:40:04.181831Z"
    }
   },
   "outputs": [],
   "source": [
    "df51 = df46.copy()\n",
    "\n",
    "df52 = df4.copy()"
   ]
  },
  {
   "cell_type": "markdown",
   "id": "65fc3a02",
   "metadata": {},
   "source": [
    "## 5.1 Hypothesis List"
   ]
  },
  {
   "cell_type": "markdown",
   "id": "477962d0",
   "metadata": {},
   "source": [
    "- H1.0 In all destinations, it takes users 15 days on average to make their first Airbnb reservation, from their first activation.\n",
    "- H2.0 In all destinations, users take three days on average to register on the site.\n",
    "- H3.0 The volume of annual bookings made during the summer increases by 20% for destinations within the USA.\n",
    "- H4.0 Female users made 10% more bookings to countries outside the USA.\n",
    "- H5.0 The Google marketing channel features 40% of bookings for countries outside the USA.\n",
    "- H6.0 Within the USA they have more than 20% on all channels.\n",
    "- H7.0 The average age of people is 35 years in all destinations.\n",
    "- H8.0 The percentage of users who use the site in American English have an accommodation reservation in any destination that is greater than 90%.\n",
    "- H9.0 Is the number of Airbnb reservations increasing or decreasing over the years?\n",
    "- H10.0 The number of Airbnb reservations has increased over the years."
   ]
  },
  {
   "cell_type": "markdown",
   "id": "d9d37c40",
   "metadata": {},
   "source": [
    "## 5.2 Hypothesys Validation( Umbalenced dataset )"
   ]
  },
  {
   "cell_type": "markdown",
   "id": "242c4c74",
   "metadata": {},
   "source": [
    "### H1.0 In all destinations, it takes users 15 days on average to make their first Airbnb reservation, from their first activation.\n",
    "\n",
    "**True**, the users around 3 days to make a reservation."
   ]
  },
  {
   "cell_type": "code",
   "execution_count": 100,
   "id": "0e69cff1",
   "metadata": {
    "ExecuteTime": {
     "end_time": "2023-04-06T21:40:05.694899Z",
     "start_time": "2023-04-06T21:40:04.360627Z"
    }
   },
   "outputs": [
    {
     "data": {
      "text/plain": [
       "<Axes: xlabel='country_destination', ylabel='days_from_first_active_untill_booking'>"
      ]
     },
     "execution_count": 100,
     "metadata": {},
     "output_type": "execute_result"
    },
    {
     "data": {
      "image/png": "[encoded data removed]",
      "text/plain": [
       "<Figure size 2000x1200 with 2 Axes>"
      ]
     },
     "metadata": {},
     "output_type": "display_data"
    }
   ],
   "source": [
    "plt.figure( figsize=(20, 12 ) )\n",
    "plt.subplot( 2, 1, 1 )\n",
    "aux01 = df52[['days_from_first_active_untill_booking', 'country_destination']].groupby( 'country_destination' ).median().reset_index()\n",
    "sns.barplot( x='country_destination', y='days_from_first_active_untill_booking',\n",
    "           data=aux01.sort_values( 'days_from_first_active_untill_booking' ) )\n",
    "\n",
    "\n",
    "\n",
    "plt.subplot( 2, 1, 2 )\n",
    "aux02 = df52[ df52[ 'country_destination'] != 'NDF']\n",
    "aux02 = aux02[['days_from_first_active_untill_booking', 'country_destination']].groupby( 'country_destination' ).median().reset_index()\n",
    "sns.barplot( x='country_destination', y='days_from_first_active_untill_booking',\n",
    "           data=aux02.sort_values( 'days_from_first_active_untill_booking' ) )\n",
    "\n"
   ]
  },
  {
   "cell_type": "markdown",
   "id": "afd9322d",
   "metadata": {
    "heading_collapsed": true
   },
   "source": [
    "### H2.0 In all destinations, users take three days on average to register on the site.\n",
    "\n",
    "**True** For all destinations, users takes around 2 days  to register on the site."
   ]
  },
  {
   "cell_type": "code",
   "execution_count": 116,
   "id": "6a6f9e45",
   "metadata": {
    "ExecuteTime": {
     "end_time": "2023-04-06T23:07:51.985243Z",
     "start_time": "2023-04-06T23:07:51.428962Z"
    },
    "hidden": true
   },
   "outputs": [
    {
     "data": {
      "text/plain": [
       "<Axes: xlabel='country_destination', ylabel='days_from_first_active_untill_account_created'>"
      ]
     },
     "execution_count": 116,
     "metadata": {},
     "output_type": "execute_result"
    },
    {
     "data": {
      "image/png": "[encoded data removed]",
      "text/plain": [
       "<Figure size 2000x1200 with 1 Axes>"
      ]
     },
     "metadata": {},
     "output_type": "display_data"
    }
   ],
   "source": [
    "plt.figure( figsize=(20, 12 ) )\n",
    "aux01 = df52[['days_from_first_active_untill_account_created', 'country_destination']].groupby( 'country_destination' ).mean().reset_index()\n",
    "sns.barplot( x='country_destination', y='days_from_first_active_untill_account_created',\n",
    "           data=aux01.sort_values( 'days_from_first_active_untill_account_created' ) )\n"
   ]
  },
  {
   "cell_type": "markdown",
   "id": "ee49f89a",
   "metadata": {
    "heading_collapsed": true
   },
   "source": [
    "### H3.0 The volume of annual bookings made during the summer increases by 20% for destinations within the USA."
   ]
  },
  {
   "cell_type": "code",
   "execution_count": 124,
   "id": "562381f5",
   "metadata": {
    "ExecuteTime": {
     "end_time": "2023-04-07T00:14:32.205846Z",
     "start_time": "2023-04-07T00:14:31.767878Z"
    },
    "hidden": true
   },
   "outputs": [
    {
     "data": {
      "text/plain": [
       "<Axes: xlabel='year_first_booking', ylabel='delta'>"
      ]
     },
     "execution_count": 124,
     "metadata": {},
     "output_type": "execute_result"
    },
    {
     "data": {
      "image/png": "[encoded data removed]",
      "text/plain": [
       "<Figure size 2000x1000 with 1 Axes>"
      ]
     },
     "metadata": {},
     "output_type": "display_data"
    }
   ],
   "source": [
    "aux01 = df52[['year_first_booking', 'month_first_booking', 'country_destination']].\\\n",
    "    groupby( ['year_first_booking', 'month_first_booking','country_destination'] ).\\\n",
    "    size().reset_index().rename(  columns={0:'count'} )\n",
    "\n",
    "# select only summer\n",
    "aux01 = aux01[(aux01['month_first_booking'].isin( [6, 7, 8,9] ) ) & (aux01['country_destination'] == 'US') ]\n",
    "\n",
    "aux02 = aux01[['year_first_booking', 'count']].groupby( 'year_first_booking' ).sum().reset_index()\n",
    "\n",
    "aux02['delta'] = 100 * aux02['count'].pct_change().fillna( 0 )\n",
    "\n",
    "\n",
    "plt.figure( figsize=(20, 10) )\n",
    "sns.barplot( x='year_first_booking', y='delta', data=aux02 )\n"
   ]
  },
  {
   "cell_type": "code",
   "execution_count": 126,
   "id": "4fde54b5",
   "metadata": {
    "ExecuteTime": {
     "end_time": "2023-04-07T01:20:35.270420Z",
     "start_time": "2023-04-07T01:20:35.245704Z"
    },
    "hidden": true
   },
   "outputs": [
    {
     "data": {
      "text/html": [
       "<div>\n",
       "<style scoped>\n",
       "    .dataframe tbody tr th:only-of-type {\n",
       "        vertical-align: middle;\n",
       "    }\n",
       "\n",
       "    .dataframe tbody tr th {\n",
       "        vertical-align: top;\n",
       "    }\n",
       "\n",
       "    .dataframe thead th {\n",
       "        text-align: right;\n",
       "    }\n",
       "</style>\n",
       "<table border=\"1\" class=\"dataframe\">\n",
       "  <thead>\n",
       "    <tr style=\"text-align: right;\">\n",
       "      <th></th>\n",
       "      <th>id</th>\n",
       "      <th>gender</th>\n",
       "      <th>age</th>\n",
       "      <th>signup_method</th>\n",
       "      <th>signup_flow</th>\n",
       "      <th>language</th>\n",
       "      <th>affiliate_channel</th>\n",
       "      <th>affiliate_provider</th>\n",
       "      <th>first_affiliate_tracked</th>\n",
       "      <th>signup_app</th>\n",
       "      <th>first_device_type</th>\n",
       "      <th>first_browser</th>\n",
       "      <th>country_destination</th>\n",
       "      <th>days_from_first_active_untill_booking</th>\n",
       "      <th>days_from_first_active_untill_account_created</th>\n",
       "      <th>days_from_account_created_untill_first_booking</th>\n",
       "      <th>year_first_active</th>\n",
       "      <th>month_first_active</th>\n",
       "      <th>day_first_active</th>\n",
       "      <th>day_of_week__first_active</th>\n",
       "      <th>week_of_year_first_active</th>\n",
       "      <th>year_first_booking</th>\n",
       "      <th>month_first_booking</th>\n",
       "      <th>day_first_booking</th>\n",
       "      <th>day_of_week_first_booking</th>\n",
       "      <th>week_of_year_first_booking</th>\n",
       "      <th>year_account_created</th>\n",
       "      <th>month_account_created</th>\n",
       "      <th>day_account_created</th>\n",
       "      <th>day_of_week_account_created</th>\n",
       "      <th>week_of_year_account_created</th>\n",
       "    </tr>\n",
       "  </thead>\n",
       "  <tbody>\n",
       "    <tr>\n",
       "      <th>0</th>\n",
       "      <td>gxn3p5htnn</td>\n",
       "      <td>-unknown-</td>\n",
       "      <td>49</td>\n",
       "      <td>facebook</td>\n",
       "      <td>0</td>\n",
       "      <td>en</td>\n",
       "      <td>direct</td>\n",
       "      <td>direct</td>\n",
       "      <td>untracked</td>\n",
       "      <td>Web</td>\n",
       "      <td>Mac Desktop</td>\n",
       "      <td>Chrome</td>\n",
       "      <td>NDF</td>\n",
       "      <td>2293</td>\n",
       "      <td>466</td>\n",
       "      <td>1827</td>\n",
       "      <td>2009</td>\n",
       "      <td>3</td>\n",
       "      <td>19</td>\n",
       "      <td>3</td>\n",
       "      <td>12</td>\n",
       "      <td>2015</td>\n",
       "      <td>6</td>\n",
       "      <td>29</td>\n",
       "      <td>0</td>\n",
       "      <td>27</td>\n",
       "      <td>2010</td>\n",
       "      <td>6</td>\n",
       "      <td>28</td>\n",
       "      <td>0</td>\n",
       "      <td>26</td>\n",
       "    </tr>\n",
       "    <tr>\n",
       "      <th>1</th>\n",
       "      <td>820tgsjxq7</td>\n",
       "      <td>MALE</td>\n",
       "      <td>38</td>\n",
       "      <td>facebook</td>\n",
       "      <td>0</td>\n",
       "      <td>en</td>\n",
       "      <td>seo</td>\n",
       "      <td>google</td>\n",
       "      <td>untracked</td>\n",
       "      <td>Web</td>\n",
       "      <td>Mac Desktop</td>\n",
       "      <td>Chrome</td>\n",
       "      <td>NDF</td>\n",
       "      <td>2228</td>\n",
       "      <td>732</td>\n",
       "      <td>1496</td>\n",
       "      <td>2009</td>\n",
       "      <td>5</td>\n",
       "      <td>23</td>\n",
       "      <td>5</td>\n",
       "      <td>21</td>\n",
       "      <td>2015</td>\n",
       "      <td>6</td>\n",
       "      <td>29</td>\n",
       "      <td>0</td>\n",
       "      <td>27</td>\n",
       "      <td>2011</td>\n",
       "      <td>5</td>\n",
       "      <td>25</td>\n",
       "      <td>2</td>\n",
       "      <td>21</td>\n",
       "    </tr>\n",
       "    <tr>\n",
       "      <th>2</th>\n",
       "      <td>4ft3gnwmtx</td>\n",
       "      <td>FEMALE</td>\n",
       "      <td>56</td>\n",
       "      <td>basic</td>\n",
       "      <td>3</td>\n",
       "      <td>en</td>\n",
       "      <td>direct</td>\n",
       "      <td>direct</td>\n",
       "      <td>untracked</td>\n",
       "      <td>Web</td>\n",
       "      <td>Windows Desktop</td>\n",
       "      <td>IE</td>\n",
       "      <td>US</td>\n",
       "      <td>419</td>\n",
       "      <td>476</td>\n",
       "      <td>-57</td>\n",
       "      <td>2009</td>\n",
       "      <td>6</td>\n",
       "      <td>9</td>\n",
       "      <td>1</td>\n",
       "      <td>24</td>\n",
       "      <td>2010</td>\n",
       "      <td>8</td>\n",
       "      <td>2</td>\n",
       "      <td>0</td>\n",
       "      <td>31</td>\n",
       "      <td>2010</td>\n",
       "      <td>9</td>\n",
       "      <td>28</td>\n",
       "      <td>1</td>\n",
       "      <td>39</td>\n",
       "    </tr>\n",
       "    <tr>\n",
       "      <th>3</th>\n",
       "      <td>bjjt8pjhuk</td>\n",
       "      <td>FEMALE</td>\n",
       "      <td>42</td>\n",
       "      <td>facebook</td>\n",
       "      <td>0</td>\n",
       "      <td>en</td>\n",
       "      <td>direct</td>\n",
       "      <td>direct</td>\n",
       "      <td>untracked</td>\n",
       "      <td>Web</td>\n",
       "      <td>Mac Desktop</td>\n",
       "      <td>Firefox</td>\n",
       "      <td>other</td>\n",
       "      <td>1043</td>\n",
       "      <td>765</td>\n",
       "      <td>278</td>\n",
       "      <td>2009</td>\n",
       "      <td>10</td>\n",
       "      <td>31</td>\n",
       "      <td>5</td>\n",
       "      <td>44</td>\n",
       "      <td>2012</td>\n",
       "      <td>9</td>\n",
       "      <td>8</td>\n",
       "      <td>5</td>\n",
       "      <td>36</td>\n",
       "      <td>2011</td>\n",
       "      <td>12</td>\n",
       "      <td>5</td>\n",
       "      <td>0</td>\n",
       "      <td>49</td>\n",
       "    </tr>\n",
       "    <tr>\n",
       "      <th>4</th>\n",
       "      <td>87mebub9p4</td>\n",
       "      <td>-unknown-</td>\n",
       "      <td>41</td>\n",
       "      <td>basic</td>\n",
       "      <td>0</td>\n",
       "      <td>en</td>\n",
       "      <td>direct</td>\n",
       "      <td>direct</td>\n",
       "      <td>untracked</td>\n",
       "      <td>Web</td>\n",
       "      <td>Mac Desktop</td>\n",
       "      <td>Chrome</td>\n",
       "      <td>US</td>\n",
       "      <td>72</td>\n",
       "      <td>280</td>\n",
       "      <td>-208</td>\n",
       "      <td>2009</td>\n",
       "      <td>12</td>\n",
       "      <td>8</td>\n",
       "      <td>1</td>\n",
       "      <td>50</td>\n",
       "      <td>2010</td>\n",
       "      <td>2</td>\n",
       "      <td>18</td>\n",
       "      <td>3</td>\n",
       "      <td>7</td>\n",
       "      <td>2010</td>\n",
       "      <td>9</td>\n",
       "      <td>14</td>\n",
       "      <td>1</td>\n",
       "      <td>37</td>\n",
       "    </tr>\n",
       "  </tbody>\n",
       "</table>\n",
       "</div>"
      ],
      "text/plain": [
       "           id     gender  age signup_method  signup_flow language affiliate_channel affiliate_provider first_affiliate_tracked signup_app first_device_type first_browser country_destination  days_from_first_active_untill_booking  days_from_first_active_untill_account_created  days_from_account_created_untill_first_booking  year_first_active  month_first_active  day_first_active  day_of_week__first_active  week_of_year_first_active  year_first_booking  month_first_booking  day_first_booking  day_of_week_first_booking  week_of_year_first_booking  year_account_created  month_account_created  day_account_created  day_of_week_account_created  week_of_year_account_created\n",
       "0  gxn3p5htnn  -unknown-   49      facebook            0       en            direct             direct               untracked        Web       Mac Desktop        Chrome                 NDF                                   2293                                            466                                            1827               2009                   3                19                          3                         12                2015                    6                 29                          0                          27                  2010                      6                   28                            0                            26\n",
       "1  820tgsjxq7       MALE   38      facebook            0       en               seo             google               untracked        Web       Mac Desktop        Chrome                 NDF                                   2228                                            732                                            1496               2009                   5                23                          5                         21                2015                    6                 29                          0                          27                  2011                      5                   25                            2                            21\n",
       "2  4ft3gnwmtx     FEMALE   56         basic            3       en            direct             direct               untracked        Web   Windows Desktop            IE                  US                                    419                                            476                                             -57               2009                   6                 9                          1                         24                2010                    8                  2                          0                          31                  2010                      9                   28                            1                            39\n",
       "3  bjjt8pjhuk     FEMALE   42      facebook            0       en            direct             direct               untracked        Web       Mac Desktop       Firefox               other                                   1043                                            765                                             278               2009                  10                31                          5                         44                2012                    9                  8                          5                          36                  2011                     12                    5                            0                            49\n",
       "4  87mebub9p4  -unknown-   41         basic            0       en            direct             direct               untracked        Web       Mac Desktop        Chrome                  US                                     72                                            280                                            -208               2009                  12                 8                          1                         50                2010                    2                 18                          3                           7                  2010                      9                   14                            1                            37"
      ]
     },
     "execution_count": 126,
     "metadata": {},
     "output_type": "execute_result"
    }
   ],
   "source": [
    "df52.head()\n"
   ]
  },
  {
   "cell_type": "markdown",
   "id": "b9195293",
   "metadata": {},
   "source": [
    "### H4.0 Female users made 10% more bookings to countries outside the USA."
   ]
  },
  {
   "cell_type": "markdown",
   "id": "70c5c610",
   "metadata": {},
   "source": [
    "### H5.0 The Google marketing channel features 40% of bookings for countries outside the USA."
   ]
  },
  {
   "cell_type": "markdown",
   "id": "0654569d",
   "metadata": {},
   "source": [
    "### H6.0 Within the USA they have more than 20% on all channels."
   ]
  },
  {
   "cell_type": "markdown",
   "id": "796bf2f0",
   "metadata": {},
   "source": [
    "### H7.0 The average age of people is 35 years in all destinations."
   ]
  },
  {
   "cell_type": "markdown",
   "id": "47ad0577",
   "metadata": {},
   "source": [
    "### H8.0 The percentage of users who use the site in American English have an accommodation reservation in any destination that is greater than 90%."
   ]
  },
  {
   "cell_type": "markdown",
   "id": "2602860c",
   "metadata": {},
   "source": [
    "### H9.0 Is the number of Airbnb reservations increasing or decreasing over the years?"
   ]
  },
  {
   "cell_type": "markdown",
   "id": "5b1f050e",
   "metadata": {},
   "source": [
    "### H10.0 The number of Airbnb reservations has increased over the years."
   ]
  },
  {
   "cell_type": "markdown",
   "id": "7576b8ad",
   "metadata": {},
   "source": [
    "## 5.3 Univariate Analysis"
   ]
  },
  {
   "cell_type": "code",
   "execution_count": 134,
   "id": "e696f4d9",
   "metadata": {
    "ExecuteTime": {
     "end_time": "2023-04-10T01:29:29.379264Z",
     "start_time": "2023-04-10T01:29:29.376353Z"
    }
   },
   "outputs": [],
   "source": [
    " from pandas_profiling import ProfileReport"
   ]
  },
  {
   "cell_type": "code",
   "execution_count": 135,
   "id": "ba087f30",
   "metadata": {
    "ExecuteTime": {
     "end_time": "2023-04-10T01:34:38.915951Z",
     "start_time": "2023-04-10T01:29:30.173849Z"
    }
   },
   "outputs": [
    {
     "data": {
      "application/vnd.jupyter.widget-view+json": {
       "model_id": "992a5adeed3243d9a366f7f66e5bd9fd",
       "version_major": 2,
       "version_minor": 0
      },
      "text/plain": [
       "Summarize dataset:   0%|          | 0/5 [00:00<?, ?it/s]"
      ]
     },
     "metadata": {},
     "output_type": "display_data"
    },
    {
     "name": "stderr",
     "output_type": "stream",
     "text": [
      "/Users/adriele/opt/anaconda3/envs/env_pa001/lib/python3.9/site-packages/multimethod/__init__.py:315: PerformanceWarning: DataFrame is highly fragmented.  This is usually the result of calling `frame.insert` many times, which has poor performance.  Consider joining all columns at once using pd.concat(axis=1) instead. To get a de-fragmented frame, use `newframe = frame.copy()`\n",
      "  return func(*args, **kwargs)\n",
      "/Users/adriele/opt/anaconda3/envs/env_pa001/lib/python3.9/site-packages/multimethod/__init__.py:315: PerformanceWarning: DataFrame is highly fragmented.  This is usually the result of calling `frame.insert` many times, which has poor performance.  Consider joining all columns at once using pd.concat(axis=1) instead. To get a de-fragmented frame, use `newframe = frame.copy()`\n",
      "  return func(*args, **kwargs)\n",
      "/Users/adriele/opt/anaconda3/envs/env_pa001/lib/python3.9/site-packages/multimethod/__init__.py:315: PerformanceWarning: DataFrame is highly fragmented.  This is usually the result of calling `frame.insert` many times, which has poor performance.  Consider joining all columns at once using pd.concat(axis=1) instead. To get a de-fragmented frame, use `newframe = frame.copy()`\n",
      "  return func(*args, **kwargs)\n",
      "/Users/adriele/opt/anaconda3/envs/env_pa001/lib/python3.9/site-packages/multimethod/__init__.py:315: PerformanceWarning: DataFrame is highly fragmented.  This is usually the result of calling `frame.insert` many times, which has poor performance.  Consider joining all columns at once using pd.concat(axis=1) instead. To get a de-fragmented frame, use `newframe = frame.copy()`\n",
      "  return func(*args, **kwargs)\n",
      "/Users/adriele/opt/anaconda3/envs/env_pa001/lib/python3.9/site-packages/multimethod/__init__.py:315: PerformanceWarning: DataFrame is highly fragmented.  This is usually the result of calling `frame.insert` many times, which has poor performance.  Consider joining all columns at once using pd.concat(axis=1) instead. To get a de-fragmented frame, use `newframe = frame.copy()`\n",
      "  return func(*args, **kwargs)\n",
      "/Users/adriele/opt/anaconda3/envs/env_pa001/lib/python3.9/site-packages/multimethod/__init__.py:315: PerformanceWarning: DataFrame is highly fragmented.  This is usually the result of calling `frame.insert` many times, which has poor performance.  Consider joining all columns at once using pd.concat(axis=1) instead. To get a de-fragmented frame, use `newframe = frame.copy()`\n",
      "  return func(*args, **kwargs)\n",
      "/Users/adriele/opt/anaconda3/envs/env_pa001/lib/python3.9/site-packages/multimethod/__init__.py:315: PerformanceWarning: DataFrame is highly fragmented.  This is usually the result of calling `frame.insert` many times, which has poor performance.  Consider joining all columns at once using pd.concat(axis=1) instead. To get a de-fragmented frame, use `newframe = frame.copy()`\n",
      "  return func(*args, **kwargs)\n",
      "/Users/adriele/opt/anaconda3/envs/env_pa001/lib/python3.9/site-packages/multimethod/__init__.py:315: PerformanceWarning: DataFrame is highly fragmented.  This is usually the result of calling `frame.insert` many times, which has poor performance.  Consider joining all columns at once using pd.concat(axis=1) instead. To get a de-fragmented frame, use `newframe = frame.copy()`\n",
      "  return func(*args, **kwargs)\n",
      "/Users/adriele/opt/anaconda3/envs/env_pa001/lib/python3.9/site-packages/multimethod/__init__.py:315: PerformanceWarning: DataFrame is highly fragmented.  This is usually the result of calling `frame.insert` many times, which has poor performance.  Consider joining all columns at once using pd.concat(axis=1) instead. To get a de-fragmented frame, use `newframe = frame.copy()`\n",
      "  return func(*args, **kwargs)\n",
      "/Users/adriele/opt/anaconda3/envs/env_pa001/lib/python3.9/site-packages/multimethod/__init__.py:315: PerformanceWarning: DataFrame is highly fragmented.  This is usually the result of calling `frame.insert` many times, which has poor performance.  Consider joining all columns at once using pd.concat(axis=1) instead. To get a de-fragmented frame, use `newframe = frame.copy()`\n",
      "  return func(*args, **kwargs)\n",
      "/Users/adriele/opt/anaconda3/envs/env_pa001/lib/python3.9/site-packages/multimethod/__init__.py:315: PerformanceWarning: DataFrame is highly fragmented.  This is usually the result of calling `frame.insert` many times, which has poor performance.  Consider joining all columns at once using pd.concat(axis=1) instead. To get a de-fragmented frame, use `newframe = frame.copy()`\n",
      "  return func(*args, **kwargs)\n",
      "/Users/adriele/opt/anaconda3/envs/env_pa001/lib/python3.9/site-packages/multimethod/__init__.py:315: PerformanceWarning: DataFrame is highly fragmented.  This is usually the result of calling `frame.insert` many times, which has poor performance.  Consider joining all columns at once using pd.concat(axis=1) instead. To get a de-fragmented frame, use `newframe = frame.copy()`\n",
      "  return func(*args, **kwargs)\n",
      "/Users/adriele/opt/anaconda3/envs/env_pa001/lib/python3.9/site-packages/multimethod/__init__.py:315: PerformanceWarning: DataFrame is highly fragmented.  This is usually the result of calling `frame.insert` many times, which has poor performance.  Consider joining all columns at once using pd.concat(axis=1) instead. To get a de-fragmented frame, use `newframe = frame.copy()`\n",
      "  return func(*args, **kwargs)\n",
      "/Users/adriele/opt/anaconda3/envs/env_pa001/lib/python3.9/site-packages/multimethod/__init__.py:315: PerformanceWarning: DataFrame is highly fragmented.  This is usually the result of calling `frame.insert` many times, which has poor performance.  Consider joining all columns at once using pd.concat(axis=1) instead. To get a de-fragmented frame, use `newframe = frame.copy()`\n",
      "  return func(*args, **kwargs)\n",
      "/Users/adriele/opt/anaconda3/envs/env_pa001/lib/python3.9/site-packages/multimethod/__init__.py:315: PerformanceWarning: DataFrame is highly fragmented.  This is usually the result of calling `frame.insert` many times, which has poor performance.  Consider joining all columns at once using pd.concat(axis=1) instead. To get a de-fragmented frame, use `newframe = frame.copy()`\n",
      "  return func(*args, **kwargs)\n",
      "/Users/adriele/opt/anaconda3/envs/env_pa001/lib/python3.9/site-packages/multimethod/__init__.py:315: PerformanceWarning: DataFrame is highly fragmented.  This is usually the result of calling `frame.insert` many times, which has poor performance.  Consider joining all columns at once using pd.concat(axis=1) instead. To get a de-fragmented frame, use `newframe = frame.copy()`\n",
      "  return func(*args, **kwargs)\n",
      "/Users/adriele/opt/anaconda3/envs/env_pa001/lib/python3.9/site-packages/multimethod/__init__.py:315: PerformanceWarning: DataFrame is highly fragmented.  This is usually the result of calling `frame.insert` many times, which has poor performance.  Consider joining all columns at once using pd.concat(axis=1) instead. To get a de-fragmented frame, use `newframe = frame.copy()`\n",
      "  return func(*args, **kwargs)\n",
      "/Users/adriele/opt/anaconda3/envs/env_pa001/lib/python3.9/site-packages/multimethod/__init__.py:315: PerformanceWarning: DataFrame is highly fragmented.  This is usually the result of calling `frame.insert` many times, which has poor performance.  Consider joining all columns at once using pd.concat(axis=1) instead. To get a de-fragmented frame, use `newframe = frame.copy()`\n",
      "  return func(*args, **kwargs)\n",
      "/Users/adriele/opt/anaconda3/envs/env_pa001/lib/python3.9/site-packages/multimethod/__init__.py:315: PerformanceWarning: DataFrame is highly fragmented.  This is usually the result of calling `frame.insert` many times, which has poor performance.  Consider joining all columns at once using pd.concat(axis=1) instead. To get a de-fragmented frame, use `newframe = frame.copy()`\n",
      "  return func(*args, **kwargs)\n",
      "/Users/adriele/opt/anaconda3/envs/env_pa001/lib/python3.9/site-packages/multimethod/__init__.py:315: PerformanceWarning: DataFrame is highly fragmented.  This is usually the result of calling `frame.insert` many times, which has poor performance.  Consider joining all columns at once using pd.concat(axis=1) instead. To get a de-fragmented frame, use `newframe = frame.copy()`\n",
      "  return func(*args, **kwargs)\n",
      "/Users/adriele/opt/anaconda3/envs/env_pa001/lib/python3.9/site-packages/multimethod/__init__.py:315: PerformanceWarning: DataFrame is highly fragmented.  This is usually the result of calling `frame.insert` many times, which has poor performance.  Consider joining all columns at once using pd.concat(axis=1) instead. To get a de-fragmented frame, use `newframe = frame.copy()`\n",
      "  return func(*args, **kwargs)\n",
      "/Users/adriele/opt/anaconda3/envs/env_pa001/lib/python3.9/site-packages/multimethod/__init__.py:315: PerformanceWarning: DataFrame is highly fragmented.  This is usually the result of calling `frame.insert` many times, which has poor performance.  Consider joining all columns at once using pd.concat(axis=1) instead. To get a de-fragmented frame, use `newframe = frame.copy()`\n",
      "  return func(*args, **kwargs)\n",
      "/Users/adriele/opt/anaconda3/envs/env_pa001/lib/python3.9/site-packages/multimethod/__init__.py:315: PerformanceWarning: DataFrame is highly fragmented.  This is usually the result of calling `frame.insert` many times, which has poor performance.  Consider joining all columns at once using pd.concat(axis=1) instead. To get a de-fragmented frame, use `newframe = frame.copy()`\n",
      "  return func(*args, **kwargs)\n",
      "/Users/adriele/opt/anaconda3/envs/env_pa001/lib/python3.9/site-packages/multimethod/__init__.py:315: PerformanceWarning: DataFrame is highly fragmented.  This is usually the result of calling `frame.insert` many times, which has poor performance.  Consider joining all columns at once using pd.concat(axis=1) instead. To get a de-fragmented frame, use `newframe = frame.copy()`\n",
      "  return func(*args, **kwargs)\n",
      "/Users/adriele/opt/anaconda3/envs/env_pa001/lib/python3.9/site-packages/multimethod/__init__.py:315: PerformanceWarning: DataFrame is highly fragmented.  This is usually the result of calling `frame.insert` many times, which has poor performance.  Consider joining all columns at once using pd.concat(axis=1) instead. To get a de-fragmented frame, use `newframe = frame.copy()`\n",
      "  return func(*args, **kwargs)\n",
      "/Users/adriele/opt/anaconda3/envs/env_pa001/lib/python3.9/site-packages/multimethod/__init__.py:315: PerformanceWarning: DataFrame is highly fragmented.  This is usually the result of calling `frame.insert` many times, which has poor performance.  Consider joining all columns at once using pd.concat(axis=1) instead. To get a de-fragmented frame, use `newframe = frame.copy()`\n",
      "  return func(*args, **kwargs)\n",
      "/Users/adriele/opt/anaconda3/envs/env_pa001/lib/python3.9/site-packages/multimethod/__init__.py:315: PerformanceWarning: DataFrame is highly fragmented.  This is usually the result of calling `frame.insert` many times, which has poor performance.  Consider joining all columns at once using pd.concat(axis=1) instead. To get a de-fragmented frame, use `newframe = frame.copy()`\n",
      "  return func(*args, **kwargs)\n",
      "/Users/adriele/opt/anaconda3/envs/env_pa001/lib/python3.9/site-packages/multimethod/__init__.py:315: PerformanceWarning: DataFrame is highly fragmented.  This is usually the result of calling `frame.insert` many times, which has poor performance.  Consider joining all columns at once using pd.concat(axis=1) instead. To get a de-fragmented frame, use `newframe = frame.copy()`\n",
      "  return func(*args, **kwargs)\n",
      "/Users/adriele/opt/anaconda3/envs/env_pa001/lib/python3.9/site-packages/multimethod/__init__.py:315: PerformanceWarning: DataFrame is highly fragmented.  This is usually the result of calling `frame.insert` many times, which has poor performance.  Consider joining all columns at once using pd.concat(axis=1) instead. To get a de-fragmented frame, use `newframe = frame.copy()`\n",
      "  return func(*args, **kwargs)\n",
      "/Users/adriele/opt/anaconda3/envs/env_pa001/lib/python3.9/site-packages/multimethod/__init__.py:315: PerformanceWarning: DataFrame is highly fragmented.  This is usually the result of calling `frame.insert` many times, which has poor performance.  Consider joining all columns at once using pd.concat(axis=1) instead. To get a de-fragmented frame, use `newframe = frame.copy()`\n",
      "  return func(*args, **kwargs)\n",
      "/Users/adriele/opt/anaconda3/envs/env_pa001/lib/python3.9/site-packages/multimethod/__init__.py:315: PerformanceWarning: DataFrame is highly fragmented.  This is usually the result of calling `frame.insert` many times, which has poor performance.  Consider joining all columns at once using pd.concat(axis=1) instead. To get a de-fragmented frame, use `newframe = frame.copy()`\n",
      "  return func(*args, **kwargs)\n",
      "/Users/adriele/opt/anaconda3/envs/env_pa001/lib/python3.9/site-packages/multimethod/__init__.py:315: PerformanceWarning: DataFrame is highly fragmented.  This is usually the result of calling `frame.insert` many times, which has poor performance.  Consider joining all columns at once using pd.concat(axis=1) instead. To get a de-fragmented frame, use `newframe = frame.copy()`\n",
      "  return func(*args, **kwargs)\n",
      "/Users/adriele/opt/anaconda3/envs/env_pa001/lib/python3.9/site-packages/multimethod/__init__.py:315: PerformanceWarning: DataFrame is highly fragmented.  This is usually the result of calling `frame.insert` many times, which has poor performance.  Consider joining all columns at once using pd.concat(axis=1) instead. To get a de-fragmented frame, use `newframe = frame.copy()`\n",
      "  return func(*args, **kwargs)\n"
     ]
    },
    {
     "data": {
      "application/vnd.jupyter.widget-view+json": {
       "model_id": "dd621d34969b4e17b5e449462de1a01d",
       "version_major": 2,
       "version_minor": 0
      },
      "text/plain": [
       "Generate report structure:   0%|          | 0/1 [00:00<?, ?it/s]"
      ]
     },
     "metadata": {},
     "output_type": "display_data"
    },
    {
     "data": {
      "application/vnd.jupyter.widget-view+json": {
       "model_id": "f2aca1b9bbc44df6b970b9eaf7eec499",
       "version_major": 2,
       "version_minor": 0
      },
      "text/plain": [
       "Render HTML:   0%|          | 0/1 [00:00<?, ?it/s]"
      ]
     },
     "metadata": {},
     "output_type": "display_data"
    },
    {
     "data": {
      "application/vnd.jupyter.widget-view+json": {
       "model_id": "f778ece858c34ff98c9986f8bdde9a1e",
       "version_major": 2,
       "version_minor": 0
      },
      "text/plain": [
       "Export report to file:   0%|          | 0/1 [00:00<?, ?it/s]"
      ]
     },
     "metadata": {},
     "output_type": "display_data"
    }
   ],
   "source": [
    "profile = ProfileReport( df5, title='Airbnb Booking' )\n",
    "\n",
    "profile.to_file( output_file='airbnb_booking_cleaning.html')"
   ]
  },
  {
   "cell_type": "markdown",
   "id": "1199edcb",
   "metadata": {},
   "source": [
    "## 5.4 Multvariate Analysis"
   ]
  },
  {
   "cell_type": "code",
   "execution_count": 129,
   "id": "b19b57ca",
   "metadata": {
    "ExecuteTime": {
     "end_time": "2023-04-07T01:35:38.579801Z",
     "start_time": "2023-04-07T01:35:38.135420Z"
    }
   },
   "outputs": [
    {
     "data": {
      "image/png": "[encoded data removed]",
      "text/plain": [
       "<Figure size 2500x1200 with 2 Axes>"
      ]
     },
     "metadata": {},
     "output_type": "display_data"
    }
   ],
   "source": [
    "correlation = num_attributes.corr (method = 'pearson')\n",
    "sns.heatmap (correlation, annot = True);"
   ]
  },
  {
   "cell_type": "markdown",
   "id": "b4c12b55",
   "metadata": {},
   "source": [
    "# 5.0 Data Preparation"
   ]
  },
  {
   "cell_type": "code",
   "execution_count": 102,
   "id": "c3d2def5",
   "metadata": {
    "ExecuteTime": {
     "end_time": "2023-04-06T21:40:09.472659Z",
     "start_time": "2023-04-06T21:40:06.532809Z"
    }
   },
   "outputs": [],
   "source": [
    "df5 = df4.copy()\n",
    "df5_ses = df4_ses.copy()\n",
    "\n",
    "# dammy variable\n",
    "df5_dummy = pd.get_dummies( df5.drop( ['id', 'country_destination'], axis=1) )\n",
    "\n",
    "# join Id and Country destination\n",
    "df5 = pd.concat( [df4[['id', 'country_destination']], df4_dummy], axis=1 )"
   ]
  },
  {
   "cell_type": "code",
   "execution_count": 103,
   "id": "2ec77123",
   "metadata": {
    "ExecuteTime": {
     "end_time": "2023-04-06T21:40:09.479080Z",
     "start_time": "2023-04-06T21:40:09.474717Z"
    }
   },
   "outputs": [
    {
     "data": {
      "text/plain": [
       "(206593, 132)"
      ]
     },
     "execution_count": 103,
     "metadata": {},
     "output_type": "execute_result"
    }
   ],
   "source": [
    "df5.shape"
   ]
  },
  {
   "cell_type": "markdown",
   "id": "967c8780",
   "metadata": {},
   "source": [
    "# 6.0  Features Selection"
   ]
  },
  {
   "cell_type": "code",
   "execution_count": 104,
   "id": "63504662",
   "metadata": {
    "ExecuteTime": {
     "end_time": "2023-04-06T21:40:09.731268Z",
     "start_time": "2023-04-06T21:40:09.483672Z"
    }
   },
   "outputs": [],
   "source": [
    "#cols_drop = ['date_account_created', 'timestamp_first_active', 'date_first_booking', 'first_active']\n",
    "\n",
    "df6 = df5.copy()"
   ]
  },
  {
   "cell_type": "markdown",
   "id": "a18badc6",
   "metadata": {},
   "source": [
    "# 7.0 Machine Learning Model"
   ]
  },
  {
   "cell_type": "code",
   "execution_count": 105,
   "id": "3195a391",
   "metadata": {
    "ExecuteTime": {
     "end_time": "2023-04-06T21:40:09.953275Z",
     "start_time": "2023-04-06T21:40:09.733950Z"
    }
   },
   "outputs": [],
   "source": [
    "df7 = df6.copy()"
   ]
  },
  {
   "cell_type": "code",
   "execution_count": 106,
   "id": "41f5a9cd",
   "metadata": {
    "ExecuteTime": {
     "end_time": "2023-04-06T21:40:10.168154Z",
     "start_time": "2023-04-06T21:40:09.956000Z"
    }
   },
   "outputs": [],
   "source": [
    "x = df7.drop( 'country_destination', axis=1 )\n",
    "y = df7[ 'country_destination' ].copy()"
   ]
  },
  {
   "cell_type": "code",
   "execution_count": 107,
   "id": "4c01c584",
   "metadata": {
    "ExecuteTime": {
     "end_time": "2023-04-06T21:40:10.588959Z",
     "start_time": "2023-04-06T21:40:10.170789Z"
    }
   },
   "outputs": [],
   "source": [
    "# split dataset into to training and test\n",
    "X_train, X_test, y_train, y_test = ms.train_test_split( x, y, test_size=0.2, random_state = 42 )"
   ]
  },
  {
   "cell_type": "code",
   "execution_count": 108,
   "id": "71d321ea",
   "metadata": {
    "ExecuteTime": {
     "end_time": "2023-04-06T21:40:10.785615Z",
     "start_time": "2023-04-06T21:40:10.591381Z"
    }
   },
   "outputs": [],
   "source": [
    "x_train = X_train.drop( 'id', axis=1 )\n",
    "x_test = X_test.drop( 'id', axis=1 )"
   ]
  },
  {
   "cell_type": "markdown",
   "id": "da8ee994",
   "metadata": {},
   "source": [
    "## 7.1 Baseline Model"
   ]
  },
  {
   "cell_type": "code",
   "execution_count": 109,
   "id": "a65de1ec",
   "metadata": {
    "ExecuteTime": {
     "end_time": "2023-04-06T21:40:10.827865Z",
     "start_time": "2023-04-06T21:40:10.788602Z"
    }
   },
   "outputs": [
    {
     "data": {
      "text/plain": [
       "41319"
      ]
     },
     "execution_count": 109,
     "metadata": {},
     "output_type": "execute_result"
    }
   ],
   "source": [
    "import random\n",
    "\n",
    "\n",
    "country_destination_list = df1['country_destination'].drop_duplicates().sort_values().tolist()\n",
    "k_num = y_test.shape[0]\n",
    "\n",
    "country_destination_weight = df1['country_destination'].value_counts( normalize=True ).sort_index()\n",
    "\n",
    "yhat_random = random.choices( population = country_destination_list,\n",
    "                              weights = country_destination_weight,\n",
    "                              k = k_num )\n",
    "len( yhat_random )"
   ]
  },
  {
   "cell_type": "markdown",
   "id": "16e67143",
   "metadata": {},
   "source": [
    "## 7.2 Baseline Model Performance "
   ]
  },
  {
   "cell_type": "code",
   "execution_count": 110,
   "id": "215c37c3",
   "metadata": {
    "ExecuteTime": {
     "end_time": "2023-04-06T21:40:13.238886Z",
     "start_time": "2023-04-06T21:40:10.830626Z"
    }
   },
   "outputs": [
    {
     "name": "stdout",
     "output_type": "stream",
     "text": [
      "Accuracy: 0.42636559452068057\n",
      "Balance Accuracy: 0.08431884547775537\n",
      "Kappa Score: -0.0038878267099022867\n",
      "              precision    recall  f1-score   support\n",
      "\n",
      "          AU       0.01      0.01      0.01        95\n",
      "          CA       0.01      0.01      0.01       299\n",
      "          DE       0.01      0.01      0.01       197\n",
      "          ES       0.02      0.02      0.02       453\n",
      "          FR       0.02      0.02      0.02       955\n",
      "          GB       0.02      0.02      0.02       442\n",
      "          IT       0.01      0.01      0.01       585\n",
      "         NDF       0.58      0.58      0.58     24062\n",
      "          NL       0.01      0.01      0.01       140\n",
      "          PT       0.00      0.00      0.00        46\n",
      "          US       0.29      0.29      0.29     12091\n",
      "       other       0.04      0.05      0.04      1954\n",
      "\n",
      "    accuracy                           0.43     41319\n",
      "   macro avg       0.08      0.08      0.08     41319\n",
      "weighted avg       0.43      0.43      0.43     41319\n",
      "\n"
     ]
    },
    {
     "data": {
      "text/plain": [
       "<Axes: title={'center': 'Confusion Matrix'}, xlabel='Predicted label', ylabel='True label'>"
      ]
     },
     "execution_count": 110,
     "metadata": {},
     "output_type": "execute_result"
    },
    {
     "data": {
      "image/png": "[encoded data removed]",
      "text/plain": [
       "<Figure size 1200x1200 with 2 Axes>"
      ]
     },
     "metadata": {},
     "output_type": "display_data"
    }
   ],
   "source": [
    "# Accuracy\n",
    "acc_random = m.accuracy_score( y_test, yhat_random )\n",
    "print( 'Accuracy: {}'.format( acc_random ) )\n",
    "\n",
    "\n",
    "# Confusion Matrix\n",
    "balance_acc_random = m.balanced_accuracy_score( y_test, yhat_random)\n",
    "print( 'Balance Accuracy: {}'.format( balance_acc_random ) )\n",
    "\n",
    "\n",
    "# kappa Metrics\n",
    "kappa_random = m.cohen_kappa_score( y_test, yhat_random )\n",
    "print( 'Kappa Score: {}'.format( kappa_random ) )\n",
    "\n",
    "# classification report\n",
    "print(m.classification_report( y_test, yhat_random ))\n",
    "\n",
    "# Confusion Matrix\n",
    "mt.plot_confusion_matrix( y_test, yhat_random, normalize=False, figsize=(12, 12) )\n",
    "\n",
    "\n"
   ]
  },
  {
   "cell_type": "markdown",
   "id": "21d5be9e",
   "metadata": {},
   "source": [
    "## 7.3 Neural Network - MLP"
   ]
  },
  {
   "cell_type": "code",
   "execution_count": 111,
   "id": "6f29d0e4",
   "metadata": {
    "ExecuteTime": {
     "end_time": "2023-04-06T21:40:13.296664Z",
     "start_time": "2023-04-06T21:40:13.241017Z"
    }
   },
   "outputs": [],
   "source": [
    "ohe = pp.OneHotEncoder()\n",
    "y_train_nn = ohe.fit_transform( y_train.values.reshape( -1, 1 ) ).toarray()"
   ]
  },
  {
   "cell_type": "code",
   "execution_count": 112,
   "id": "c8281dd3",
   "metadata": {
    "ExecuteTime": {
     "end_time": "2023-04-06T22:01:26.503111Z",
     "start_time": "2023-04-06T21:40:13.299279Z"
    }
   },
   "outputs": [
    {
     "name": "stdout",
     "output_type": "stream",
     "text": [
      "Epoch 1/100\n",
      "5165/5165 [==============================] - 8s 1ms/step - loss: 1.1258 - accuracy: 0.5982\n",
      "Epoch 2/100\n",
      "5165/5165 [==============================] - 8s 1ms/step - loss: 1.1167 - accuracy: 0.6012\n",
      "Epoch 3/100\n",
      "5165/5165 [==============================] - 8s 2ms/step - loss: 1.1143 - accuracy: 0.6022\n",
      "Epoch 4/100\n",
      "5165/5165 [==============================] - 7s 1ms/step - loss: 1.1122 - accuracy: 0.6023\n",
      "Epoch 5/100\n",
      "5165/5165 [==============================] - 8s 1ms/step - loss: 1.1108 - accuracy: 0.6035\n",
      "Epoch 6/100\n",
      "5165/5165 [==============================] - 8s 1ms/step - loss: 1.1092 - accuracy: 0.6025\n",
      "Epoch 7/100\n",
      "5165/5165 [==============================] - 8s 1ms/step - loss: 1.1075 - accuracy: 0.6034\n",
      "Epoch 8/100\n",
      "5165/5165 [==============================] - 8s 1ms/step - loss: 1.1062 - accuracy: 0.6038\n",
      "Epoch 9/100\n",
      "5165/5165 [==============================] - 8s 1ms/step - loss: 1.1049 - accuracy: 0.6038\n",
      "Epoch 10/100\n",
      "5165/5165 [==============================] - 8s 2ms/step - loss: 1.1033 - accuracy: 0.6042\n",
      "Epoch 11/100\n",
      "5165/5165 [==============================] - 8s 1ms/step - loss: 1.1019 - accuracy: 0.6039\n",
      "Epoch 12/100\n",
      "5165/5165 [==============================] - 8s 1ms/step - loss: 1.1009 - accuracy: 0.6041\n",
      "Epoch 13/100\n",
      "5165/5165 [==============================] - 7s 1ms/step - loss: 1.0993 - accuracy: 0.6046\n",
      "Epoch 14/100\n",
      "5165/5165 [==============================] - 7s 1ms/step - loss: 1.0980 - accuracy: 0.6048\n",
      "Epoch 15/100\n",
      "5165/5165 [==============================] - 7s 1ms/step - loss: 1.0969 - accuracy: 0.6050\n",
      "Epoch 16/100\n",
      "5165/5165 [==============================] - 7s 1ms/step - loss: 1.0958 - accuracy: 0.6056\n",
      "Epoch 17/100\n",
      "5165/5165 [==============================] - 7s 1ms/step - loss: 1.0946 - accuracy: 0.6051\n",
      "Epoch 18/100\n",
      "5165/5165 [==============================] - 7s 1ms/step - loss: 1.0936 - accuracy: 0.6056\n",
      "Epoch 19/100\n",
      "5165/5165 [==============================] - 7s 1ms/step - loss: 1.0930 - accuracy: 0.6061\n",
      "Epoch 20/100\n",
      "5165/5165 [==============================] - 7s 1ms/step - loss: 1.0917 - accuracy: 0.6062\n",
      "Epoch 21/100\n",
      "5165/5165 [==============================] - 7s 1ms/step - loss: 1.0908 - accuracy: 0.6064\n",
      "Epoch 22/100\n",
      "5165/5165 [==============================] - 7s 1ms/step - loss: 1.0903 - accuracy: 0.6056\n",
      "Epoch 23/100\n",
      "5165/5165 [==============================] - 7s 1ms/step - loss: 1.0892 - accuracy: 0.6071\n",
      "Epoch 24/100\n",
      "5165/5165 [==============================] - 7s 1ms/step - loss: 1.0888 - accuracy: 0.6069\n",
      "Epoch 25/100\n",
      "5165/5165 [==============================] - 7s 1ms/step - loss: 1.0882 - accuracy: 0.6070\n",
      "Epoch 26/100\n",
      "5165/5165 [==============================] - 7s 1ms/step - loss: 1.0875 - accuracy: 0.6075\n",
      "Epoch 27/100\n",
      "5165/5165 [==============================] - 7s 1ms/step - loss: 1.0867 - accuracy: 0.6078\n",
      "Epoch 28/100\n",
      "5165/5165 [==============================] - 7s 1ms/step - loss: 1.0865 - accuracy: 0.6072\n",
      "Epoch 29/100\n",
      "5165/5165 [==============================] - 7s 1ms/step - loss: 1.0856 - accuracy: 0.6079\n",
      "Epoch 30/100\n",
      "5165/5165 [==============================] - 7s 1ms/step - loss: 1.0851 - accuracy: 0.6078\n",
      "Epoch 31/100\n",
      "5165/5165 [==============================] - 7s 1ms/step - loss: 1.0847 - accuracy: 0.6080\n",
      "Epoch 32/100\n",
      "5165/5165 [==============================] - 7s 1ms/step - loss: 1.0842 - accuracy: 0.6079\n",
      "Epoch 33/100\n",
      "5165/5165 [==============================] - 7s 1ms/step - loss: 1.0839 - accuracy: 0.6074\n",
      "Epoch 34/100\n",
      "5165/5165 [==============================] - 7s 1ms/step - loss: 1.0833 - accuracy: 0.6084\n",
      "Epoch 35/100\n",
      "5165/5165 [==============================] - 7s 1ms/step - loss: 1.0828 - accuracy: 0.6083\n",
      "Epoch 36/100\n",
      "5165/5165 [==============================] - 7s 1ms/step - loss: 1.0825 - accuracy: 0.6082\n",
      "Epoch 37/100\n",
      "5165/5165 [==============================] - 7s 1ms/step - loss: 1.0821 - accuracy: 0.6084\n",
      "Epoch 38/100\n",
      "5165/5165 [==============================] - 7s 1ms/step - loss: 1.0817 - accuracy: 0.6085\n",
      "Epoch 39/100\n",
      "5165/5165 [==============================] - 7s 1ms/step - loss: 1.0817 - accuracy: 0.6083\n",
      "Epoch 40/100\n",
      "5165/5165 [==============================] - 7s 1ms/step - loss: 1.0810 - accuracy: 0.6083\n",
      "Epoch 41/100\n",
      "5165/5165 [==============================] - 7s 1ms/step - loss: 1.0809 - accuracy: 0.6086\n",
      "Epoch 42/100\n",
      "5165/5165 [==============================] - 7s 1ms/step - loss: 1.0802 - accuracy: 0.6087\n",
      "Epoch 43/100\n",
      "5165/5165 [==============================] - 7s 1ms/step - loss: 1.0800 - accuracy: 0.6091\n",
      "Epoch 44/100\n",
      "5165/5165 [==============================] - 7s 1ms/step - loss: 1.0800 - accuracy: 0.6089\n",
      "Epoch 45/100\n",
      "5165/5165 [==============================] - 7s 1ms/step - loss: 1.0795 - accuracy: 0.6088\n",
      "Epoch 46/100\n",
      "5165/5165 [==============================] - 7s 1ms/step - loss: 1.0794 - accuracy: 0.6086\n",
      "Epoch 47/100\n",
      "5165/5165 [==============================] - 7s 1ms/step - loss: 1.0790 - accuracy: 0.6093\n",
      "Epoch 48/100\n",
      "5165/5165 [==============================] - 7s 1ms/step - loss: 1.0789 - accuracy: 0.6088\n",
      "Epoch 49/100\n",
      "5165/5165 [==============================] - 7s 1ms/step - loss: 1.0787 - accuracy: 0.6087\n",
      "Epoch 50/100\n",
      "5165/5165 [==============================] - 7s 1ms/step - loss: 1.0783 - accuracy: 0.6098\n",
      "Epoch 51/100\n",
      "5165/5165 [==============================] - 7s 1ms/step - loss: 1.0781 - accuracy: 0.6095\n",
      "Epoch 52/100\n",
      "5165/5165 [==============================] - 7s 1ms/step - loss: 1.0780 - accuracy: 0.6087\n",
      "Epoch 53/100\n",
      "5165/5165 [==============================] - 7s 1ms/step - loss: 1.0778 - accuracy: 0.6097\n",
      "Epoch 54/100\n",
      "5165/5165 [==============================] - 7s 1ms/step - loss: 1.0779 - accuracy: 0.6096\n",
      "Epoch 55/100\n",
      "5165/5165 [==============================] - 8s 2ms/step - loss: 1.0776 - accuracy: 0.6102\n",
      "Epoch 56/100\n",
      "5165/5165 [==============================] - 7s 1ms/step - loss: 1.0772 - accuracy: 0.6095\n",
      "Epoch 57/100\n",
      "5165/5165 [==============================] - 8s 2ms/step - loss: 1.0766 - accuracy: 0.6097\n",
      "Epoch 58/100\n",
      "5165/5165 [==============================] - 7s 1ms/step - loss: 1.0769 - accuracy: 0.6098\n",
      "Epoch 59/100\n",
      "5165/5165 [==============================] - 7s 1ms/step - loss: 1.0769 - accuracy: 0.6099\n",
      "Epoch 60/100\n",
      "5165/5165 [==============================] - 7s 1ms/step - loss: 1.0765 - accuracy: 0.6099\n",
      "Epoch 61/100\n",
      "5165/5165 [==============================] - 7s 1ms/step - loss: 1.0763 - accuracy: 0.6098\n",
      "Epoch 62/100\n",
      "5165/5165 [==============================] - 7s 1ms/step - loss: 1.0760 - accuracy: 0.6099\n",
      "Epoch 63/100\n",
      "5165/5165 [==============================] - 7s 1ms/step - loss: 1.0762 - accuracy: 0.6095\n",
      "Epoch 64/100\n",
      "5165/5165 [==============================] - 7s 1ms/step - loss: 1.0762 - accuracy: 0.6096\n",
      "Epoch 65/100\n",
      "5165/5165 [==============================] - 7s 1ms/step - loss: 1.0756 - accuracy: 0.6096\n",
      "Epoch 66/100\n",
      "5165/5165 [==============================] - 7s 1ms/step - loss: 1.0754 - accuracy: 0.6098\n",
      "Epoch 67/100\n",
      "5165/5165 [==============================] - 7s 1ms/step - loss: 1.0756 - accuracy: 0.6101\n",
      "Epoch 68/100\n",
      "5165/5165 [==============================] - 7s 1ms/step - loss: 1.0758 - accuracy: 0.6100\n",
      "Epoch 69/100\n",
      "5165/5165 [==============================] - 7s 1ms/step - loss: 1.0753 - accuracy: 0.6100\n",
      "Epoch 70/100\n",
      "5165/5165 [==============================] - 7s 1ms/step - loss: 1.0749 - accuracy: 0.6101\n",
      "Epoch 71/100\n",
      "5165/5165 [==============================] - 7s 1ms/step - loss: 1.0750 - accuracy: 0.6100\n",
      "Epoch 72/100\n",
      "5165/5165 [==============================] - 7s 1ms/step - loss: 1.0749 - accuracy: 0.6096\n",
      "Epoch 73/100\n",
      "5165/5165 [==============================] - 7s 1ms/step - loss: 1.0744 - accuracy: 0.6097\n",
      "Epoch 74/100\n",
      "5165/5165 [==============================] - 7s 1ms/step - loss: 1.0748 - accuracy: 0.6102\n",
      "Epoch 75/100\n",
      "5165/5165 [==============================] - 7s 1ms/step - loss: 1.0746 - accuracy: 0.6101\n",
      "Epoch 76/100\n",
      "5165/5165 [==============================] - 7s 1ms/step - loss: 1.0744 - accuracy: 0.6095\n",
      "Epoch 77/100\n",
      "5165/5165 [==============================] - 7s 1ms/step - loss: 1.0742 - accuracy: 0.6099\n",
      "Epoch 78/100\n",
      "5165/5165 [==============================] - 7s 1ms/step - loss: 1.0741 - accuracy: 0.6103\n",
      "Epoch 79/100\n"
     ]
    },
    {
     "name": "stdout",
     "output_type": "stream",
     "text": [
      "5165/5165 [==============================] - 7s 1ms/step - loss: 1.0741 - accuracy: 0.6099\n",
      "Epoch 80/100\n",
      "5165/5165 [==============================] - 7s 1ms/step - loss: 1.0741 - accuracy: 0.6098\n",
      "Epoch 81/100\n",
      "5165/5165 [==============================] - 7s 1ms/step - loss: 1.0739 - accuracy: 0.6105\n",
      "Epoch 82/100\n",
      "5165/5165 [==============================] - 7s 1ms/step - loss: 1.0735 - accuracy: 0.6102\n",
      "Epoch 83/100\n",
      "5165/5165 [==============================] - 7s 1ms/step - loss: 1.0737 - accuracy: 0.6098\n",
      "Epoch 84/100\n",
      "5165/5165 [==============================] - 7s 1ms/step - loss: 1.0736 - accuracy: 0.6102\n",
      "Epoch 85/100\n",
      "5165/5165 [==============================] - 7s 1ms/step - loss: 1.0734 - accuracy: 0.6102\n",
      "Epoch 86/100\n",
      "5165/5165 [==============================] - 7s 1ms/step - loss: 1.0735 - accuracy: 0.6100\n",
      "Epoch 87/100\n",
      "5165/5165 [==============================] - 7s 1ms/step - loss: 1.0733 - accuracy: 0.6104\n",
      "Epoch 88/100\n",
      "5165/5165 [==============================] - 7s 1ms/step - loss: 1.0729 - accuracy: 0.6105\n",
      "Epoch 89/100\n",
      "5165/5165 [==============================] - 7s 1ms/step - loss: 1.0734 - accuracy: 0.6103\n",
      "Epoch 90/100\n",
      "5165/5165 [==============================] - 7s 1ms/step - loss: 1.0733 - accuracy: 0.6110\n",
      "Epoch 91/100\n",
      "5165/5165 [==============================] - 7s 1ms/step - loss: 1.0730 - accuracy: 0.6100\n",
      "Epoch 92/100\n",
      "5165/5165 [==============================] - 7s 1ms/step - loss: 1.0728 - accuracy: 0.6100\n",
      "Epoch 93/100\n",
      "5165/5165 [==============================] - 7s 1ms/step - loss: 1.0730 - accuracy: 0.6108\n",
      "Epoch 94/100\n",
      "5165/5165 [==============================] - 7s 1ms/step - loss: 1.0727 - accuracy: 0.6110\n",
      "Epoch 95/100\n",
      "5165/5165 [==============================] - 7s 1ms/step - loss: 1.0727 - accuracy: 0.6107\n",
      "Epoch 96/100\n",
      "5165/5165 [==============================] - 7s 1ms/step - loss: 1.0728 - accuracy: 0.6103\n",
      "Epoch 97/100\n",
      "5165/5165 [==============================] - 7s 1ms/step - loss: 1.0722 - accuracy: 0.6103\n",
      "Epoch 98/100\n",
      "5165/5165 [==============================] - 7s 1ms/step - loss: 1.0729 - accuracy: 0.6109\n",
      "Epoch 99/100\n",
      "5165/5165 [==============================] - 7s 1ms/step - loss: 1.0723 - accuracy: 0.6105\n",
      "Epoch 100/100\n",
      "5165/5165 [==============================] - 7s 1ms/step - loss: 1.0725 - accuracy: 0.6106\n"
     ]
    },
    {
     "data": {
      "text/plain": [
       "<keras.callbacks.History at 0x7f998e415fd0>"
      ]
     },
     "execution_count": 112,
     "metadata": {},
     "output_type": "execute_result"
    }
   ],
   "source": [
    "# model definition\n",
    "model = ml.Sequential()\n",
    "model.add( l.Dense( 256, input_dim = x_train.shape[1], activation='relu' ) )\n",
    "model.add( l.Dense( 12, activation='softmax' ) )\n",
    "\n",
    "# model compile\n",
    "model.compile( loss='categorical_crossentropy', optimizer='adam', metrics=['accuracy'] )\n",
    "\n",
    "# train model\n",
    "model.fit( x_train, y_train_nn, epochs=100 )"
   ]
  },
  {
   "cell_type": "markdown",
   "id": "a2d6b4ad",
   "metadata": {},
   "source": [
    "## 7.4 NN Model Performance"
   ]
  },
  {
   "cell_type": "code",
   "execution_count": 113,
   "id": "873fddd2",
   "metadata": {
    "ExecuteTime": {
     "end_time": "2023-04-06T22:03:44.114223Z",
     "start_time": "2023-04-06T22:01:26.507228Z"
    }
   },
   "outputs": [
    {
     "name": "stdout",
     "output_type": "stream",
     "text": [
      "1292/1292 [==============================] - 1s 786us/step\n"
     ]
    }
   ],
   "source": [
    "# Prediction\n",
    "pred_nn = model.predict( x_test )\n",
    "\n",
    "# Invert Prediction\n",
    "yhat_nn = ohe.inverse_transform( pred_nn )\n",
    "\n",
    "# Prediction Prepare\n",
    "y_test_nn = y_test.to_numpy()\n",
    "yhat_nn = yhat_nn.reshape( 1, -1 )[0]\n"
   ]
  },
  {
   "cell_type": "code",
   "execution_count": 114,
   "id": "7d30a4a8",
   "metadata": {
    "ExecuteTime": {
     "end_time": "2023-04-06T22:03:46.525505Z",
     "start_time": "2023-04-06T22:03:44.116772Z"
    }
   },
   "outputs": [
    {
     "name": "stdout",
     "output_type": "stream",
     "text": [
      "Accuracy: 0.5972554998910913\n",
      "Balance Accuracy: 0.10016014588703248\n",
      "Kappa Score: 0.17164402479302543\n"
     ]
    },
    {
     "name": "stderr",
     "output_type": "stream",
     "text": [
      "/Users/adriele/opt/anaconda3/envs/env_pa001/lib/python3.9/site-packages/sklearn/metrics/_classification.py:1344: UndefinedMetricWarning: Precision and F-score are ill-defined and being set to 0.0 in labels with no predicted samples. Use `zero_division` parameter to control this behavior.\n",
      "  _warn_prf(average, modifier, msg_start, len(result))\n",
      "/Users/adriele/opt/anaconda3/envs/env_pa001/lib/python3.9/site-packages/sklearn/metrics/_classification.py:1344: UndefinedMetricWarning: Precision and F-score are ill-defined and being set to 0.0 in labels with no predicted samples. Use `zero_division` parameter to control this behavior.\n",
      "  _warn_prf(average, modifier, msg_start, len(result))\n",
      "/Users/adriele/opt/anaconda3/envs/env_pa001/lib/python3.9/site-packages/sklearn/metrics/_classification.py:1344: UndefinedMetricWarning: Precision and F-score are ill-defined and being set to 0.0 in labels with no predicted samples. Use `zero_division` parameter to control this behavior.\n",
      "  _warn_prf(average, modifier, msg_start, len(result))\n"
     ]
    },
    {
     "name": "stdout",
     "output_type": "stream",
     "text": [
      "              precision    recall  f1-score   support\n",
      "\n",
      "          AU       0.00      0.00      0.00        95\n",
      "          CA       0.00      0.00      0.00       299\n",
      "          DE       0.00      0.00      0.00       197\n",
      "          ES       0.00      0.00      0.00       453\n",
      "          FR       0.07      0.00      0.01       955\n",
      "          GB       0.00      0.00      0.00       442\n",
      "          IT       0.00      0.00      0.00       585\n",
      "         NDF       0.65      0.85      0.73     24062\n",
      "          NL       0.00      0.00      0.00       140\n",
      "          PT       0.00      0.00      0.00        46\n",
      "          US       0.44      0.35      0.39     12091\n",
      "       other       0.03      0.00      0.00      1954\n",
      "\n",
      "    accuracy                           0.60     41319\n",
      "   macro avg       0.10      0.10      0.09     41319\n",
      "weighted avg       0.51      0.60      0.54     41319\n",
      "\n"
     ]
    },
    {
     "data": {
      "text/plain": [
       "<Axes: title={'center': 'Confusion Matrix'}, xlabel='Predicted label', ylabel='True label'>"
      ]
     },
     "execution_count": 114,
     "metadata": {},
     "output_type": "execute_result"
    },
    {
     "data": {
      "image/png": "[encoded data removed]",
      "text/plain": [
       "<Figure size 1200x1200 with 2 Axes>"
      ]
     },
     "metadata": {},
     "output_type": "display_data"
    }
   ],
   "source": [
    "\n",
    "# Accuracy\n",
    "acc_nn = m.accuracy_score( y_test_nn, yhat_nn )\n",
    "print( 'Accuracy: {}'.format( acc_nn ) )\n",
    "\n",
    "\n",
    "# Confusion Matrix\n",
    "balance_acc_nn = m.balanced_accuracy_score( y_test_nn, yhat_nn)\n",
    "print( 'Balance Accuracy: {}'.format( balance_acc_nn ) )\n",
    "\n",
    "\n",
    "# kappa Metrics\n",
    "kappa_nn = m.cohen_kappa_score( y_test_nn, yhat_nn )\n",
    "print( 'Kappa Score: {}'.format( kappa_nn ) )\n",
    "\n",
    "# classification report\n",
    "print(m.classification_report( y_test_nn, yhat_nn ))\n",
    "\n",
    "# Confusion Matrix\n",
    "mt.plot_confusion_matrix( y_test_nn, yhat_nn, normalize=False, figsize=(12, 12) )\n",
    "\n"
   ]
  },
  {
   "cell_type": "markdown",
   "id": "0e966ca7",
   "metadata": {},
   "source": [
    "## 7.5 NN Model Performance - Cross Validation"
   ]
  },
  {
   "cell_type": "code",
   "execution_count": 115,
   "id": "1976b4c8",
   "metadata": {
    "ExecuteTime": {
     "end_time": "2023-04-06T22:11:06.341749Z",
     "start_time": "2023-04-06T22:03:46.527917Z"
    }
   },
   "outputs": [
    {
     "name": "stdout",
     "output_type": "stream",
     "text": [
      "fold Number:1/5\n"
     ]
    },
    {
     "ename": "ValueError",
     "evalue": "in user code:\n\n    File \"/Users/adriele/opt/anaconda3/envs/env_pa001/lib/python3.9/site-packages/keras/engine/training.py\", line 1284, in train_function  *\n        return step_function(self, iterator)\n    File \"/Users/adriele/opt/anaconda3/envs/env_pa001/lib/python3.9/site-packages/keras/engine/training.py\", line 1268, in step_function  **\n        outputs = model.distribute_strategy.run(run_step, args=(data,))\n    File \"/Users/adriele/opt/anaconda3/envs/env_pa001/lib/python3.9/site-packages/keras/engine/training.py\", line 1249, in run_step  **\n        outputs = model.train_step(data)\n    File \"/Users/adriele/opt/anaconda3/envs/env_pa001/lib/python3.9/site-packages/keras/engine/training.py\", line 1051, in train_step\n        loss = self.compute_loss(x, y, y_pred, sample_weight)\n    File \"/Users/adriele/opt/anaconda3/envs/env_pa001/lib/python3.9/site-packages/keras/engine/training.py\", line 1109, in compute_loss\n        return self.compiled_loss(\n    File \"/Users/adriele/opt/anaconda3/envs/env_pa001/lib/python3.9/site-packages/keras/engine/compile_utils.py\", line 265, in __call__\n        loss_value = loss_obj(y_t, y_p, sample_weight=sw)\n    File \"/Users/adriele/opt/anaconda3/envs/env_pa001/lib/python3.9/site-packages/keras/losses.py\", line 142, in __call__\n        losses = call_fn(y_true, y_pred)\n    File \"/Users/adriele/opt/anaconda3/envs/env_pa001/lib/python3.9/site-packages/keras/losses.py\", line 268, in call  **\n        return ag_fn(y_true, y_pred, **self._fn_kwargs)\n    File \"/Users/adriele/opt/anaconda3/envs/env_pa001/lib/python3.9/site-packages/keras/losses.py\", line 1984, in categorical_crossentropy\n        return backend.categorical_crossentropy(\n    File \"/Users/adriele/opt/anaconda3/envs/env_pa001/lib/python3.9/site-packages/keras/backend.py\", line 5559, in categorical_crossentropy\n        target.shape.assert_is_compatible_with(output.shape)\n\n    ValueError: Shapes (None, 12) and (None, 11) are incompatible\n",
     "output_type": "error",
     "traceback": [
      "\u001b[0;31m---------------------------------------------------------------------------\u001b[0m",
      "\u001b[0;31mValueError\u001b[0m                                Traceback (most recent call last)",
      "Cell \u001b[0;32mIn[115], line 35\u001b[0m\n\u001b[1;32m     31\u001b[0m model\u001b[38;5;241m.\u001b[39mcompile( loss\u001b[38;5;241m=\u001b[39m\u001b[38;5;124m'\u001b[39m\u001b[38;5;124mcategorical_crossentropy\u001b[39m\u001b[38;5;124m'\u001b[39m, optimizer\u001b[38;5;241m=\u001b[39m\u001b[38;5;124m'\u001b[39m\u001b[38;5;124madam\u001b[39m\u001b[38;5;124m'\u001b[39m, metrics\u001b[38;5;241m=\u001b[39m[\u001b[38;5;124m'\u001b[39m\u001b[38;5;124maccuracy\u001b[39m\u001b[38;5;124m'\u001b[39m] )\n\u001b[1;32m     34\u001b[0m \u001b[38;5;66;03m# tranning model\u001b[39;00m\n\u001b[0;32m---> 35\u001b[0m \u001b[43mmodel\u001b[49m\u001b[38;5;241;43m.\u001b[39;49m\u001b[43mfit\u001b[49m\u001b[43m(\u001b[49m\u001b[43m \u001b[49m\u001b[43mx_train_fold\u001b[49m\u001b[43m,\u001b[49m\u001b[43m \u001b[49m\u001b[43my_train_fold_nn\u001b[49m\u001b[43m,\u001b[49m\u001b[43m \u001b[49m\u001b[43mepochs\u001b[49m\u001b[38;5;241;43m=\u001b[39;49m\u001b[38;5;241;43m100\u001b[39;49m\u001b[43m,\u001b[49m\u001b[43m \u001b[49m\u001b[43mbatch_size\u001b[49m\u001b[38;5;241;43m=\u001b[39;49m\u001b[38;5;241;43m32\u001b[39;49m\u001b[43m,\u001b[49m\u001b[43m \u001b[49m\u001b[43mverbose\u001b[49m\u001b[38;5;241;43m=\u001b[39;49m\u001b[38;5;241;43m0\u001b[39;49m\u001b[43m \u001b[49m\u001b[43m)\u001b[49m\n\u001b[1;32m     38\u001b[0m \u001b[38;5;66;03m# prediction\u001b[39;00m\n\u001b[1;32m     39\u001b[0m pred_nn \u001b[38;5;241m=\u001b[39m model\u001b[38;5;241m.\u001b[39mpredict( x_val_fold )\n",
      "File \u001b[0;32m~/opt/anaconda3/envs/env_pa001/lib/python3.9/site-packages/keras/utils/traceback_utils.py:70\u001b[0m, in \u001b[0;36mfilter_traceback.<locals>.error_handler\u001b[0;34m(*args, **kwargs)\u001b[0m\n\u001b[1;32m     67\u001b[0m     filtered_tb \u001b[38;5;241m=\u001b[39m _process_traceback_frames(e\u001b[38;5;241m.\u001b[39m__traceback__)\n\u001b[1;32m     68\u001b[0m     \u001b[38;5;66;03m# To get the full stack trace, call:\u001b[39;00m\n\u001b[1;32m     69\u001b[0m     \u001b[38;5;66;03m# `tf.debugging.disable_traceback_filtering()`\u001b[39;00m\n\u001b[0;32m---> 70\u001b[0m     \u001b[38;5;28;01mraise\u001b[39;00m e\u001b[38;5;241m.\u001b[39mwith_traceback(filtered_tb) \u001b[38;5;28;01mfrom\u001b[39;00m \u001b[38;5;28mNone\u001b[39m\n\u001b[1;32m     71\u001b[0m \u001b[38;5;28;01mfinally\u001b[39;00m:\n\u001b[1;32m     72\u001b[0m     \u001b[38;5;28;01mdel\u001b[39;00m filtered_tb\n",
      "File \u001b[0;32m/var/folders/pc/6sglrsq96ws5kp74fjj4j02h0000gn/T/__autograph_generated_filefiymgufh.py:15\u001b[0m, in \u001b[0;36mouter_factory.<locals>.inner_factory.<locals>.tf__train_function\u001b[0;34m(iterator)\u001b[0m\n\u001b[1;32m     13\u001b[0m \u001b[38;5;28;01mtry\u001b[39;00m:\n\u001b[1;32m     14\u001b[0m     do_return \u001b[38;5;241m=\u001b[39m \u001b[38;5;28;01mTrue\u001b[39;00m\n\u001b[0;32m---> 15\u001b[0m     retval_ \u001b[38;5;241m=\u001b[39m ag__\u001b[38;5;241m.\u001b[39mconverted_call(ag__\u001b[38;5;241m.\u001b[39mld(step_function), (ag__\u001b[38;5;241m.\u001b[39mld(\u001b[38;5;28mself\u001b[39m), ag__\u001b[38;5;241m.\u001b[39mld(iterator)), \u001b[38;5;28;01mNone\u001b[39;00m, fscope)\n\u001b[1;32m     16\u001b[0m \u001b[38;5;28;01mexcept\u001b[39;00m:\n\u001b[1;32m     17\u001b[0m     do_return \u001b[38;5;241m=\u001b[39m \u001b[38;5;28;01mFalse\u001b[39;00m\n",
      "\u001b[0;31mValueError\u001b[0m: in user code:\n\n    File \"/Users/adriele/opt/anaconda3/envs/env_pa001/lib/python3.9/site-packages/keras/engine/training.py\", line 1284, in train_function  *\n        return step_function(self, iterator)\n    File \"/Users/adriele/opt/anaconda3/envs/env_pa001/lib/python3.9/site-packages/keras/engine/training.py\", line 1268, in step_function  **\n        outputs = model.distribute_strategy.run(run_step, args=(data,))\n    File \"/Users/adriele/opt/anaconda3/envs/env_pa001/lib/python3.9/site-packages/keras/engine/training.py\", line 1249, in run_step  **\n        outputs = model.train_step(data)\n    File \"/Users/adriele/opt/anaconda3/envs/env_pa001/lib/python3.9/site-packages/keras/engine/training.py\", line 1051, in train_step\n        loss = self.compute_loss(x, y, y_pred, sample_weight)\n    File \"/Users/adriele/opt/anaconda3/envs/env_pa001/lib/python3.9/site-packages/keras/engine/training.py\", line 1109, in compute_loss\n        return self.compiled_loss(\n    File \"/Users/adriele/opt/anaconda3/envs/env_pa001/lib/python3.9/site-packages/keras/engine/compile_utils.py\", line 265, in __call__\n        loss_value = loss_obj(y_t, y_p, sample_weight=sw)\n    File \"/Users/adriele/opt/anaconda3/envs/env_pa001/lib/python3.9/site-packages/keras/losses.py\", line 142, in __call__\n        losses = call_fn(y_true, y_pred)\n    File \"/Users/adriele/opt/anaconda3/envs/env_pa001/lib/python3.9/site-packages/keras/losses.py\", line 268, in call  **\n        return ag_fn(y_true, y_pred, **self._fn_kwargs)\n    File \"/Users/adriele/opt/anaconda3/envs/env_pa001/lib/python3.9/site-packages/keras/losses.py\", line 1984, in categorical_crossentropy\n        return backend.categorical_crossentropy(\n    File \"/Users/adriele/opt/anaconda3/envs/env_pa001/lib/python3.9/site-packages/keras/backend.py\", line 5559, in categorical_crossentropy\n        target.shape.assert_is_compatible_with(output.shape)\n\n    ValueError: Shapes (None, 12) and (None, 11) are incompatible\n"
     ]
    }
   ],
   "source": [
    "# gerate k-fold\n",
    "num_folds = 5\n",
    "kfold = ms.StratifiedKFold( n_splits=num_folds, shuffle=True, random_state=32 )\n",
    "\n",
    "balanced_acc_list = []\n",
    "kappa_acc_list = []\n",
    "\n",
    "i = 1\n",
    "\n",
    "for train_ix, val_ix in  kfold.split( x_train, y_train ):\n",
    "    print( 'fold Number:{}/{}'.format(i, num_folds ) )\n",
    "\n",
    "    # get fold\n",
    "    x_train_fold = x_train.iloc[ train_ix ]\n",
    "    y_train_fold = y_train.iloc[ train_ix ]\n",
    "    \n",
    "    x_val_fold =  x_train.iloc[ val_ix ]\n",
    "    y_val_fold =  y_train.iloc[ val_ix ]\n",
    "    \n",
    "    # target\n",
    "    ohe = pp.OneHotEncoder()\n",
    "    y_train_fold_nn = ohe.fit_transform( y_train_fold.values.reshape( -1, 1 )).toarray()\n",
    "\n",
    "\n",
    "    # model definition\n",
    "    model = ml.Sequential()\n",
    "    model.add( l.Dense( 256, input_dim=x_train.shape[1], activation='relu' ) )\n",
    "    model.add( l.Dense( 11, activation='softmax' ) )\n",
    "\n",
    "    # compile model\n",
    "    model.compile( loss='categorical_crossentropy', optimizer='adam', metrics=['accuracy'] )\n",
    "\n",
    "\n",
    "    # tranning model\n",
    "    model.fit( x_train_fold, y_train_fold_nn, epochs=100, batch_size=32, verbose=0 )\n",
    "    \n",
    "    \n",
    "    # prediction\n",
    "    pred_nn = model.predict( x_val_fold )\n",
    "    yhat_nn = ohe.inverse_transform( pred_nn )\n",
    "    \n",
    "    # prepare data\n",
    "    y_test_nn = y_val_fold.to_numpy()\n",
    "    yhat_nn = yhat_nn.reshape( -1, 1 )[0]\n",
    "\n",
    "\n",
    "    # Metrics \n",
    "\n",
    "\n",
    "\n",
    "    # Balanced Accuracy\n",
    "    balanced_acc_nn = m.balanced_accuracy_score( y_test_nn, yhat_nn )\n",
    "    balanced_acc_list.append( balanced_acc_nn )\n",
    "\n",
    "    # kappa metrics\n",
    "    kappa_acc_nn = m.cohen_kappa_score( y_test_nn, yhat_nn )\n",
    "    kappa_acc_list.append( kappa_acc_nn )\n",
    "    \n",
    "    i +- 1"
   ]
  },
  {
   "cell_type": "code",
   "execution_count": null,
   "id": "336f56e5",
   "metadata": {
    "ExecuteTime": {
     "end_time": "2023-04-06T22:11:06.345033Z",
     "start_time": "2023-04-06T22:11:06.345015Z"
    }
   },
   "outputs": [],
   "source": [
    "print( 'Avg Balanced Accuracy: {} +/- {}'.format( np.round( np.mean( balanced_acc_list ), 2 ),\n",
    "                                                  np.round( np.std( balanced_acc_list ),  4 ) ) )\n",
    "\n",
    "print( 'Avg Kappa: {} +/- {}'.format( np.round( np.mean( kappa_acc_list ), 2 ),\n",
    "                                      np.round( np.std( kappa_acc_list ),  4 ) ) )"
   ]
  },
  {
   "cell_type": "raw",
   "id": "e00fa87c",
   "metadata": {},
   "source": []
  },
  {
   "cell_type": "code",
   "execution_count": null,
   "id": "543d1771",
   "metadata": {},
   "outputs": [],
   "source": []
  },
  {
   "cell_type": "code",
   "execution_count": null,
   "id": "443b445b",
   "metadata": {},
   "outputs": [],
   "source": []
  },
  {
   "cell_type": "code",
   "execution_count": null,
   "id": "0140cd31",
   "metadata": {},
   "outputs": [],
   "source": []
  }
 ],
 "metadata": {
  "kernelspec": {
   "display_name": "Python 3 (ipykernel)",
   "language": "python",
   "name": "python3"
  },
  "language_info": {
   "codemirror_mode": {
    "name": "ipython",
    "version": 3
   },
   "file_extension": ".py",
   "mimetype": "text/x-python",
   "name": "python",
   "nbconvert_exporter": "python",
   "pygments_lexer": "ipython3",
   "version": "3.9.16"
  }
 },
 "nbformat": 4,
 "nbformat_minor": 5
}
