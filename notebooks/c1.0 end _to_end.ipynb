{
 "cells": [
  {
   "cell_type": "markdown",
   "id": "ab151802",
   "metadata": {},
   "source": [
    "# Business Context"
   ]
  },
  {
   "cell_type": "markdown",
   "id": "5b926820",
   "metadata": {},
   "source": [
    "Instead of waking to overlooked \"Do not disturb\" signs, Airbnb travelers find themselves rising with the birds in a whimsical treehouse, having their morning coffee on the deck of a houseboat, or cooking a shared regional breakfast with their hosts.\n",
    "\n",
    "New users on Airbnb can book a place to stay in 34,000+ cities across 190+ countries. By accurately predicting where a new user will book their first travel experience, Airbnb can share more personalized content with their community, decrease the average time to first booking, and better forecast demand."
   ]
  },
  {
   "cell_type": "markdown",
   "id": "0cefd445",
   "metadata": {},
   "source": [
    "# Business Challange"
   ]
  },
  {
   "cell_type": "markdown",
   "id": "a2b112c6",
   "metadata": {},
   "source": [
    "In this project, I was challenged to predict in which country a new user will make his or her first booking.\n"
   ]
  },
  {
   "cell_type": "markdown",
   "id": "5b386604",
   "metadata": {},
   "source": [
    "# Business Understanding"
   ]
  },
  {
   "cell_type": "markdown",
   "id": "f2e10f4f",
   "metadata": {
    "ExecuteTime": {
     "end_time": "2023-03-24T15:31:29.129293Z",
     "start_time": "2023-03-24T15:31:29.123836Z"
    }
   },
   "source": [
    "- Business model:\n",
    "     Marketplace -> Connecting people that offer accommodation, to the person who's looking for accommodation.\n",
    "    \n",
    "    \n",
    "- Model Offer:\n",
    "     People offering them property temporarily.\n",
    "     \n",
    "- Metrics:  Portfolio Size, Portfolio diversity/density.\n",
    "\n",
    "- Demand: How many people are looking for accommodation; \n",
    "\n",
    "    - User number.\n",
    "    - LTV ( Lifetime Value)\n",
    "    - CAC ( Client Acquisition Cost )\n",
    "    \n",
    "    - Gross Revenue =  ( fee * number of clients ) - CAC"
   ]
  },
  {
   "cell_type": "markdown",
   "id": "29854240",
   "metadata": {},
   "source": [
    "# Solution Planning"
   ]
  },
  {
   "cell_type": "markdown",
   "id": "583aa7ee",
   "metadata": {},
   "source": [
    "- Prediction model of the first destination of a new user\n",
    "- Prediction saved in a database table.\n",
    "- API:\n",
    "\n",
    "    - Imput: Users and their characteristics;\n",
    "    - output: Users and their characteristics with the destination prediction."
   ]
  },
  {
   "cell_type": "markdown",
   "id": "ec5ba07e",
   "metadata": {},
   "source": [
    "# 0.1 Imports"
   ]
  },
  {
   "cell_type": "code",
   "execution_count": 98,
   "id": "2675226b",
   "metadata": {
    "ExecuteTime": {
     "end_time": "2023-03-24T18:18:58.729972Z",
     "start_time": "2023-03-24T18:18:57.415552Z"
    }
   },
   "outputs": [],
   "source": [
    "import warnings\n",
    "import pandas as pd\n",
    "import seaborn as sns\n",
    "\n",
    "\n",
    "import matplotlib.pyplot    as plt\n",
    "\n",
    "from keras import layers as l\n",
    "from keras import models as ml\n",
    "from sklearn import metrics as m\n",
    "from sklearn import preprocessing as pp\n",
    "from sklearn import model_selection as ms\n",
    "from scikitplot import metrics as mt\n",
    "\n",
    "from IPython.core.display        import HTML"
   ]
  },
  {
   "cell_type": "markdown",
   "id": "9a0b5b73",
   "metadata": {},
   "source": [
    "## 0.01 Helper Functions"
   ]
  },
  {
   "cell_type": "code",
   "execution_count": 56,
   "id": "104923f8",
   "metadata": {
    "ExecuteTime": {
     "end_time": "2023-03-24T17:40:34.909560Z",
     "start_time": "2023-03-24T17:40:34.867987Z"
    }
   },
   "outputs": [
    {
     "data": {
      "text/html": [
       "<style>.container { width:100% !important; }</style>"
      ],
      "text/plain": [
       "<IPython.core.display.HTML object>"
      ]
     },
     "metadata": {},
     "output_type": "display_data"
    },
    {
     "name": "stdout",
     "output_type": "stream",
     "text": [
      "%pylab is deprecated, use %matplotlib inline and import the required libraries.\n",
      "Populating the interactive namespace from numpy and matplotlib\n"
     ]
    },
    {
     "data": {
      "text/html": [
       "<style>.container { width:100% !important; }</style>"
      ],
      "text/plain": [
       "<IPython.core.display.HTML object>"
      ]
     },
     "metadata": {},
     "output_type": "display_data"
    }
   ],
   "source": [
    "def jupyter_settings(): \n",
    "    %matplotlib inline \n",
    "    #%matplotlib notebook\n",
    "    %pylab inline\n",
    "    \n",
    "    plt.style.use('bmh')\n",
    "    plt.rcParams['figure.figsize'] = [25, 12]\n",
    "    plt.rcParams['font.size'] = 24\n",
    "    \n",
    "     \n",
    "    display( HTML( '<style>.container { width:100% !important; }</style>') )\n",
    "    pd.options.display.max_columns = None\n",
    "    pd.options.display.max_rows = None\n",
    "    pd.set_option ('display.expand_frame_repr', False)\n",
    "    \n",
    "    sns.set()\n",
    "\n",
    "%matplotlib inline \n",
    "%matplotlib notebook\n",
    "\n",
    "plt.style.use('bmh')\n",
    "plt.rcParams['figure.figsize'] = [25, 12]\n",
    "plt.rcParams['font.size'] = 24\n",
    "\n",
    "\n",
    "display( HTML( '<style>.container { width:100% !important; }</style>') )\n",
    "pd.options.display.max_columns = None\n",
    "pd.options.display.max_rows = None\n",
    "pd.set_option ('display.expand_frame_repr', False)\n",
    "\n",
    "sns.set()\n",
    "\n",
    "jupyter_settings()\n",
    "\n",
    "\n",
    "\n",
    "\n",
    "def fxn():\n",
    "    warnings.warn(\"deprecated\", DeprecationWarning)\n",
    "\n",
    "with warnings.catch_warnings():\n",
    "    warnings.simplefilter(\"ignore\")\n",
    "    fxn()"
   ]
  },
  {
   "cell_type": "markdown",
   "id": "bdaa155d",
   "metadata": {},
   "source": [
    "# 1.0  Data Description"
   ]
  },
  {
   "cell_type": "markdown",
   "id": "4700f59a",
   "metadata": {},
   "source": [
    "## 1.1 Loading data"
   ]
  },
  {
   "cell_type": "code",
   "execution_count": 18,
   "id": "a9fdd6b7",
   "metadata": {
    "ExecuteTime": {
     "end_time": "2023-03-24T16:48:14.578593Z",
     "start_time": "2023-03-24T16:48:14.090075Z"
    }
   },
   "outputs": [],
   "source": [
    "df1 = pd.read_csv('/Users/adriele/Documents/repos/pa001/dataset/train_users.csv')\n",
    "\n",
    "#df_sessions = pd.read_csv('/Users/adriele/Documents/repos/pa001/dataset/sessions.csv')"
   ]
  },
  {
   "cell_type": "markdown",
   "id": "a0ff1d3b",
   "metadata": {},
   "source": [
    "## 1.2 Data Dimensions"
   ]
  },
  {
   "cell_type": "code",
   "execution_count": 23,
   "id": "b86b814f",
   "metadata": {
    "ExecuteTime": {
     "end_time": "2023-03-24T16:52:47.595785Z",
     "start_time": "2023-03-24T16:52:47.591553Z"
    },
    "scrolled": true
   },
   "outputs": [
    {
     "name": "stdout",
     "output_type": "stream",
     "text": [
      "Number of Cols 16\n",
      "Number of Rows 213451\n"
     ]
    }
   ],
   "source": [
    "print( 'Number of Cols {}'.format( df1.shape[1] ) )\n",
    "print( 'Number of Rows {}'.format( df1.shape[0] ) )\n"
   ]
  },
  {
   "cell_type": "markdown",
   "id": "2fbba4a4",
   "metadata": {},
   "source": [
    "## 1.3 Check Na's"
   ]
  },
  {
   "cell_type": "code",
   "execution_count": 24,
   "id": "a3b24b7b",
   "metadata": {
    "ExecuteTime": {
     "end_time": "2023-03-24T16:52:50.142738Z",
     "start_time": "2023-03-24T16:52:49.798971Z"
    }
   },
   "outputs": [
    {
     "data": {
      "text/plain": [
       "id                              0\n",
       "date_account_created            0\n",
       "timestamp_first_active          0\n",
       "date_first_booking         124543\n",
       "gender                          0\n",
       "age                         87990\n",
       "signup_method                   0\n",
       "signup_flow                     0\n",
       "language                        0\n",
       "affiliate_channel               0\n",
       "affiliate_provider              0\n",
       "first_affiliate_tracked      6065\n",
       "signup_app                      0\n",
       "first_device_type               0\n",
       "first_browser                   0\n",
       "country_destination             0\n",
       "dtype: int64"
      ]
     },
     "execution_count": 24,
     "metadata": {},
     "output_type": "execute_result"
    }
   ],
   "source": [
    "df1.isna().sum()"
   ]
  },
  {
   "cell_type": "code",
   "execution_count": 26,
   "id": "b1a89f3b",
   "metadata": {
    "ExecuteTime": {
     "end_time": "2023-03-24T16:58:56.009743Z",
     "start_time": "2023-03-24T16:58:55.873852Z"
    }
   },
   "outputs": [],
   "source": [
    "# removing missing values\n",
    "df1 = df1.dropna()"
   ]
  },
  {
   "cell_type": "markdown",
   "id": "b7a50f28",
   "metadata": {},
   "source": [
    "## 1.4 Data Types"
   ]
  },
  {
   "cell_type": "code",
   "execution_count": 21,
   "id": "e7430804",
   "metadata": {
    "ExecuteTime": {
     "end_time": "2023-03-24T16:50:57.346476Z",
     "start_time": "2023-03-24T16:50:57.338597Z"
    }
   },
   "outputs": [
    {
     "data": {
      "text/plain": [
       "id                          object\n",
       "date_account_created        object\n",
       "timestamp_first_active       int64\n",
       "date_first_booking          object\n",
       "gender                      object\n",
       "age                        float64\n",
       "signup_method               object\n",
       "signup_flow                  int64\n",
       "language                    object\n",
       "affiliate_channel           object\n",
       "affiliate_provider          object\n",
       "first_affiliate_tracked     object\n",
       "signup_app                  object\n",
       "first_device_type           object\n",
       "first_browser               object\n",
       "country_destination         object\n",
       "dtype: object"
      ]
     },
     "execution_count": 21,
     "metadata": {},
     "output_type": "execute_result"
    }
   ],
   "source": [
    "df1.dtypes"
   ]
  },
  {
   "cell_type": "markdown",
   "id": "dc88025c",
   "metadata": {},
   "source": [
    "## 1.5 Change Dtypes"
   ]
  },
  {
   "cell_type": "code",
   "execution_count": 28,
   "id": "5fa20628",
   "metadata": {
    "ExecuteTime": {
     "end_time": "2023-03-24T17:05:27.207645Z",
     "start_time": "2023-03-24T17:05:27.001056Z"
    }
   },
   "outputs": [
    {
     "data": {
      "text/plain": [
       "id                                 object\n",
       "date_account_created       datetime64[ns]\n",
       "timestamp_first_active     datetime64[ns]\n",
       "date_first_booking         datetime64[ns]\n",
       "gender                             object\n",
       "age                                 int64\n",
       "signup_method                      object\n",
       "signup_flow                         int64\n",
       "language                           object\n",
       "affiliate_channel                  object\n",
       "affiliate_provider                 object\n",
       "first_affiliate_tracked            object\n",
       "signup_app                         object\n",
       "first_device_type                  object\n",
       "first_browser                      object\n",
       "country_destination                object\n",
       "dtype: object"
      ]
     },
     "execution_count": 28,
     "metadata": {},
     "output_type": "execute_result"
    }
   ],
   "source": [
    "#date_account_created\n",
    "df1['date_account_created'] = pd.to_datetime( df1['date_account_created'] )\n",
    "\n",
    "#timestamp_first_active\n",
    "df1['timestamp_first_active'] = pd.to_datetime( df1['timestamp_first_active'], format='%Y%m%d%H%M%S' )\n",
    "\n",
    "#date_first_booking\n",
    "df1['date_first_booking'] = pd.to_datetime( df1['date_first_booking'] )\n",
    "\n",
    "\n",
    "#age\n",
    "df1['age'] = df1['age'].astype( int )\n",
    "\n",
    "\n",
    "df1.dtypes"
   ]
  },
  {
   "cell_type": "markdown",
   "id": "211f2af6",
   "metadata": {},
   "source": [
    "## 1.6 Check Balanncing Data"
   ]
  },
  {
   "cell_type": "code",
   "execution_count": 31,
   "id": "d0c551c2",
   "metadata": {
    "ExecuteTime": {
     "end_time": "2023-03-24T17:10:46.190619Z",
     "start_time": "2023-03-24T17:10:46.180233Z"
    }
   },
   "outputs": [
    {
     "data": {
      "text/plain": [
       "US       0.708864\n",
       "other    0.110854\n",
       "FR       0.054085\n",
       "IT       0.029763\n",
       "GB       0.025935\n",
       "ES       0.024864\n",
       "CA       0.015696\n",
       "DE       0.012454\n",
       "NL       0.008801\n",
       "AU       0.006366\n",
       "PT       0.002318\n",
       "Name: country_destination, dtype: float64"
      ]
     },
     "execution_count": 31,
     "metadata": {},
     "output_type": "execute_result"
    }
   ],
   "source": [
    "df1['country_destination'].value_counts( normalize=True )"
   ]
  },
  {
   "cell_type": "markdown",
   "id": "75fda12f",
   "metadata": {},
   "source": [
    "# 2.0 Data Filtering"
   ]
  },
  {
   "cell_type": "code",
   "execution_count": 32,
   "id": "d902c13d",
   "metadata": {
    "ExecuteTime": {
     "end_time": "2023-03-24T17:12:09.552180Z",
     "start_time": "2023-03-24T17:12:09.537071Z"
    }
   },
   "outputs": [],
   "source": [
    "df2 = df1.copy()"
   ]
  },
  {
   "cell_type": "markdown",
   "id": "e5baf433",
   "metadata": {},
   "source": [
    "## 2.1 Filtering Row"
   ]
  },
  {
   "cell_type": "markdown",
   "id": "6f3acfc7",
   "metadata": {},
   "source": [
    "## 2.2 Columns Selection"
   ]
  },
  {
   "cell_type": "markdown",
   "id": "b8c43169",
   "metadata": {},
   "source": [
    "# 3.0 Data Preparation"
   ]
  },
  {
   "cell_type": "code",
   "execution_count": 83,
   "id": "c3d2def5",
   "metadata": {
    "ExecuteTime": {
     "end_time": "2023-03-24T18:08:01.582123Z",
     "start_time": "2023-03-24T18:08:01.467292Z"
    }
   },
   "outputs": [],
   "source": [
    "df3 = df2.copy()\n",
    "\n",
    "\n",
    "# dammy variable\n",
    "df3_dummy = pd.get_dummies( df3.drop( ['id', 'country_destination'], axis=1) )\n",
    "\n",
    "# join Id and Country destination\n",
    "df3 = pd.concat( [df3[['id', 'country_destination']], df3_dummy], axis=1 )"
   ]
  },
  {
   "cell_type": "markdown",
   "id": "967c8780",
   "metadata": {},
   "source": [
    "# 4.0  Features Selection"
   ]
  },
  {
   "cell_type": "code",
   "execution_count": 84,
   "id": "63504662",
   "metadata": {
    "ExecuteTime": {
     "end_time": "2023-03-24T18:08:02.182837Z",
     "start_time": "2023-03-24T18:08:02.169393Z"
    }
   },
   "outputs": [],
   "source": [
    "cols_drop = ['date_account_created', 'timestamp_first_active', 'date_first_booking']\n",
    "\n",
    "df4 = df3.drop(cols_drop, axis=1 )"
   ]
  },
  {
   "cell_type": "markdown",
   "id": "a18badc6",
   "metadata": {},
   "source": [
    "# 5.0 Machine Learning Model"
   ]
  },
  {
   "cell_type": "code",
   "execution_count": 85,
   "id": "41f5a9cd",
   "metadata": {
    "ExecuteTime": {
     "end_time": "2023-03-24T18:08:02.781197Z",
     "start_time": "2023-03-24T18:08:02.769467Z"
    }
   },
   "outputs": [],
   "source": [
    "x = df4.drop( 'country_destination', axis=1 )\n",
    "y = df4[ 'country_destination' ].copy()"
   ]
  },
  {
   "cell_type": "code",
   "execution_count": 86,
   "id": "4c01c584",
   "metadata": {
    "ExecuteTime": {
     "end_time": "2023-03-24T18:08:03.139937Z",
     "start_time": "2023-03-24T18:08:03.066695Z"
    }
   },
   "outputs": [],
   "source": [
    "# split dataset into to training and test\n",
    "X_train, X_test, y_train, y_test = ms.train_test_split( x, y, test_size=0.2, random_state = 42 )"
   ]
  },
  {
   "cell_type": "code",
   "execution_count": 87,
   "id": "71d321ea",
   "metadata": {
    "ExecuteTime": {
     "end_time": "2023-03-24T18:08:03.546122Z",
     "start_time": "2023-03-24T18:08:03.538010Z"
    }
   },
   "outputs": [],
   "source": [
    "x_train = X_train.drop( 'id', axis=1 )\n",
    "x_test = X_test.drop( 'id', axis=1 )"
   ]
  },
  {
   "cell_type": "code",
   "execution_count": 88,
   "id": "6f29d0e4",
   "metadata": {
    "ExecuteTime": {
     "end_time": "2023-03-24T18:08:03.794985Z",
     "start_time": "2023-03-24T18:08:03.779200Z"
    }
   },
   "outputs": [],
   "source": [
    "ohe = pp.OneHotEncoder()\n",
    "y_train_nn = ohe.fit_transform( y_train.values.reshape( -1, 1 ) ).toarray()"
   ]
  },
  {
   "cell_type": "code",
   "execution_count": 89,
   "id": "c8281dd3",
   "metadata": {
    "ExecuteTime": {
     "end_time": "2023-03-24T18:11:41.540952Z",
     "start_time": "2023-03-24T18:08:04.120663Z"
    }
   },
   "outputs": [
    {
     "name": "stdout",
     "output_type": "stream",
     "text": [
      "Epoch 1/100\n",
      "1705/1705 [==============================] - 3s 1ms/step - loss: 1.3789 - accuracy: 0.6984\n",
      "Epoch 2/100\n",
      "1705/1705 [==============================] - 2s 1ms/step - loss: 1.2734 - accuracy: 0.7065\n",
      "Epoch 3/100\n",
      "1705/1705 [==============================] - 2s 1ms/step - loss: 1.2535 - accuracy: 0.7065\n",
      "Epoch 4/100\n",
      "1705/1705 [==============================] - 2s 1ms/step - loss: 1.2179 - accuracy: 0.7070\n",
      "Epoch 5/100\n",
      "1705/1705 [==============================] - 2s 1ms/step - loss: 1.2115 - accuracy: 0.7068\n",
      "Epoch 6/100\n",
      "1705/1705 [==============================] - 2s 1ms/step - loss: 1.1856 - accuracy: 0.7071\n",
      "Epoch 7/100\n",
      "1705/1705 [==============================] - 2s 1ms/step - loss: 1.1692 - accuracy: 0.7071\n",
      "Epoch 8/100\n",
      "1705/1705 [==============================] - 2s 1ms/step - loss: 1.1596 - accuracy: 0.7070\n",
      "Epoch 9/100\n",
      "1705/1705 [==============================] - 2s 1ms/step - loss: 1.1476 - accuracy: 0.7074\n",
      "Epoch 10/100\n",
      "1705/1705 [==============================] - 2s 1ms/step - loss: 1.1431 - accuracy: 0.7075\n",
      "Epoch 11/100\n",
      "1705/1705 [==============================] - 2s 1ms/step - loss: 1.1415 - accuracy: 0.7075\n",
      "Epoch 12/100\n",
      "1705/1705 [==============================] - 2s 1ms/step - loss: 1.1382 - accuracy: 0.7080\n",
      "Epoch 13/100\n",
      "1705/1705 [==============================] - 2s 1ms/step - loss: 1.1371 - accuracy: 0.7080\n",
      "Epoch 14/100\n",
      "1705/1705 [==============================] - 2s 1ms/step - loss: 1.1358 - accuracy: 0.7081\n",
      "Epoch 15/100\n",
      "1705/1705 [==============================] - 2s 1ms/step - loss: 1.1346 - accuracy: 0.7081\n",
      "Epoch 16/100\n",
      "1705/1705 [==============================] - 2s 1ms/step - loss: 1.1348 - accuracy: 0.7080\n",
      "Epoch 17/100\n",
      "1705/1705 [==============================] - 2s 1ms/step - loss: 1.1342 - accuracy: 0.7080\n",
      "Epoch 18/100\n",
      "1705/1705 [==============================] - 2s 1ms/step - loss: 1.1334 - accuracy: 0.7081\n",
      "Epoch 19/100\n",
      "1705/1705 [==============================] - 2s 1ms/step - loss: 1.1318 - accuracy: 0.7082\n",
      "Epoch 20/100\n",
      "1705/1705 [==============================] - 2s 1ms/step - loss: 1.1316 - accuracy: 0.7082\n",
      "Epoch 21/100\n",
      "1705/1705 [==============================] - 2s 1ms/step - loss: 1.1303 - accuracy: 0.7083\n",
      "Epoch 22/100\n",
      "1705/1705 [==============================] - 2s 1ms/step - loss: 1.1296 - accuracy: 0.7083\n",
      "Epoch 23/100\n",
      "1705/1705 [==============================] - 2s 1ms/step - loss: 1.1299 - accuracy: 0.7084\n",
      "Epoch 24/100\n",
      "1705/1705 [==============================] - 2s 1ms/step - loss: 1.1276 - accuracy: 0.7083\n",
      "Epoch 25/100\n",
      "1705/1705 [==============================] - 2s 1ms/step - loss: 1.1274 - accuracy: 0.7085\n",
      "Epoch 26/100\n",
      "1705/1705 [==============================] - 2s 1ms/step - loss: 1.1262 - accuracy: 0.7086\n",
      "Epoch 27/100\n",
      "1705/1705 [==============================] - 2s 1ms/step - loss: 1.1265 - accuracy: 0.7084\n",
      "Epoch 28/100\n",
      "1705/1705 [==============================] - 2s 1ms/step - loss: 1.1258 - accuracy: 0.7085\n",
      "Epoch 29/100\n",
      "1705/1705 [==============================] - 2s 1ms/step - loss: 1.1266 - accuracy: 0.7086\n",
      "Epoch 30/100\n",
      "1705/1705 [==============================] - 2s 1ms/step - loss: 1.1244 - accuracy: 0.7085\n",
      "Epoch 31/100\n",
      "1705/1705 [==============================] - 2s 1ms/step - loss: 1.1235 - accuracy: 0.7086\n",
      "Epoch 32/100\n",
      "1705/1705 [==============================] - 2s 1ms/step - loss: 1.1230 - accuracy: 0.7086\n",
      "Epoch 33/100\n",
      "1705/1705 [==============================] - 2s 1ms/step - loss: 1.1232 - accuracy: 0.7086\n",
      "Epoch 34/100\n",
      "1705/1705 [==============================] - 2s 1ms/step - loss: 1.1219 - accuracy: 0.7087\n",
      "Epoch 35/100\n",
      "1705/1705 [==============================] - 2s 1ms/step - loss: 1.1220 - accuracy: 0.7086\n",
      "Epoch 36/100\n",
      "1705/1705 [==============================] - 2s 1ms/step - loss: 1.1211 - accuracy: 0.7087\n",
      "Epoch 37/100\n",
      "1705/1705 [==============================] - 2s 1ms/step - loss: 1.1201 - accuracy: 0.7090\n",
      "Epoch 38/100\n",
      "1705/1705 [==============================] - 2s 1ms/step - loss: 1.1205 - accuracy: 0.7089\n",
      "Epoch 39/100\n",
      "1705/1705 [==============================] - 2s 1ms/step - loss: 1.1192 - accuracy: 0.7087\n",
      "Epoch 40/100\n",
      "1705/1705 [==============================] - 2s 1ms/step - loss: 1.1184 - accuracy: 0.7090\n",
      "Epoch 41/100\n",
      "1705/1705 [==============================] - 2s 1ms/step - loss: 1.1177 - accuracy: 0.7089\n",
      "Epoch 42/100\n",
      "1705/1705 [==============================] - 2s 1ms/step - loss: 1.1166 - accuracy: 0.7088\n",
      "Epoch 43/100\n",
      "1705/1705 [==============================] - 2s 1ms/step - loss: 1.1168 - accuracy: 0.7090\n",
      "Epoch 44/100\n",
      "1705/1705 [==============================] - 2s 1ms/step - loss: 1.1174 - accuracy: 0.7089\n",
      "Epoch 45/100\n",
      "1705/1705 [==============================] - 2s 1ms/step - loss: 1.1163 - accuracy: 0.7088\n",
      "Epoch 46/100\n",
      "1705/1705 [==============================] - 2s 1ms/step - loss: 1.1167 - accuracy: 0.7087\n",
      "Epoch 47/100\n",
      "1705/1705 [==============================] - 2s 1ms/step - loss: 1.1160 - accuracy: 0.7091\n",
      "Epoch 48/100\n",
      "1705/1705 [==============================] - 2s 1ms/step - loss: 1.1161 - accuracy: 0.7090\n",
      "Epoch 49/100\n",
      "1705/1705 [==============================] - 2s 1ms/step - loss: 1.1156 - accuracy: 0.7088\n",
      "Epoch 50/100\n",
      "1705/1705 [==============================] - 2s 1ms/step - loss: 1.1147 - accuracy: 0.7091\n",
      "Epoch 51/100\n",
      "1705/1705 [==============================] - 2s 1ms/step - loss: 1.1143 - accuracy: 0.7090\n",
      "Epoch 52/100\n",
      "1705/1705 [==============================] - 2s 1ms/step - loss: 1.1125 - accuracy: 0.7087\n",
      "Epoch 53/100\n",
      "1705/1705 [==============================] - 2s 1ms/step - loss: 1.1124 - accuracy: 0.7090\n",
      "Epoch 54/100\n",
      "1705/1705 [==============================] - 2s 1ms/step - loss: 1.1130 - accuracy: 0.7091\n",
      "Epoch 55/100\n",
      "1705/1705 [==============================] - 2s 1ms/step - loss: 1.1119 - accuracy: 0.7091\n",
      "Epoch 56/100\n",
      "1705/1705 [==============================] - 2s 1ms/step - loss: 1.1114 - accuracy: 0.7095\n",
      "Epoch 57/100\n",
      "1705/1705 [==============================] - 2s 1ms/step - loss: 1.1111 - accuracy: 0.7090\n",
      "Epoch 58/100\n",
      "1705/1705 [==============================] - 2s 1ms/step - loss: 1.1102 - accuracy: 0.7095\n",
      "Epoch 59/100\n",
      "1705/1705 [==============================] - 2s 1ms/step - loss: 1.1100 - accuracy: 0.7091\n",
      "Epoch 60/100\n",
      "1705/1705 [==============================] - 2s 1ms/step - loss: 1.1100 - accuracy: 0.7092\n",
      "Epoch 61/100\n",
      "1705/1705 [==============================] - 2s 1ms/step - loss: 1.1095 - accuracy: 0.7092\n",
      "Epoch 62/100\n",
      "1705/1705 [==============================] - 2s 1ms/step - loss: 1.1090 - accuracy: 0.7092\n",
      "Epoch 63/100\n",
      "1705/1705 [==============================] - 2s 1ms/step - loss: 1.1085 - accuracy: 0.7092\n",
      "Epoch 64/100\n",
      "1705/1705 [==============================] - 2s 1ms/step - loss: 1.1082 - accuracy: 0.7093\n",
      "Epoch 65/100\n",
      "1705/1705 [==============================] - 2s 1ms/step - loss: 1.1073 - accuracy: 0.7097\n",
      "Epoch 66/100\n",
      "1705/1705 [==============================] - 2s 1ms/step - loss: 1.1075 - accuracy: 0.7095\n",
      "Epoch 67/100\n",
      "1705/1705 [==============================] - 2s 1ms/step - loss: 1.1071 - accuracy: 0.7095\n",
      "Epoch 68/100\n",
      "1705/1705 [==============================] - 2s 1ms/step - loss: 1.1070 - accuracy: 0.7099\n",
      "Epoch 69/100\n",
      "1705/1705 [==============================] - 2s 1ms/step - loss: 1.1064 - accuracy: 0.7095\n",
      "Epoch 70/100\n",
      "1705/1705 [==============================] - 2s 1ms/step - loss: 1.1057 - accuracy: 0.7097\n",
      "Epoch 71/100\n",
      "1705/1705 [==============================] - 2s 1ms/step - loss: 1.1055 - accuracy: 0.7097\n",
      "Epoch 72/100\n",
      "1705/1705 [==============================] - 2s 1ms/step - loss: 1.1058 - accuracy: 0.7096\n",
      "Epoch 73/100\n",
      "1705/1705 [==============================] - 2s 1ms/step - loss: 1.1048 - accuracy: 0.7096\n",
      "Epoch 74/100\n",
      "1705/1705 [==============================] - 2s 1ms/step - loss: 1.1045 - accuracy: 0.7100\n",
      "Epoch 75/100\n",
      "1705/1705 [==============================] - 2s 1ms/step - loss: 1.1043 - accuracy: 0.7097\n",
      "Epoch 76/100\n",
      "1705/1705 [==============================] - 2s 1ms/step - loss: 1.1038 - accuracy: 0.7098\n",
      "Epoch 77/100\n",
      "1705/1705 [==============================] - 2s 1ms/step - loss: 1.1041 - accuracy: 0.7098\n",
      "Epoch 78/100\n",
      "1705/1705 [==============================] - 2s 1ms/step - loss: 1.1030 - accuracy: 0.7101\n",
      "Epoch 79/100\n"
     ]
    },
    {
     "name": "stdout",
     "output_type": "stream",
     "text": [
      "1705/1705 [==============================] - 2s 1ms/step - loss: 1.1029 - accuracy: 0.7098\n",
      "Epoch 80/100\n",
      "1705/1705 [==============================] - 2s 1ms/step - loss: 1.1032 - accuracy: 0.7102\n",
      "Epoch 81/100\n",
      "1705/1705 [==============================] - 2s 1ms/step - loss: 1.1029 - accuracy: 0.7102\n",
      "Epoch 82/100\n",
      "1705/1705 [==============================] - 2s 1ms/step - loss: 1.1025 - accuracy: 0.7099\n",
      "Epoch 83/100\n",
      "1705/1705 [==============================] - 2s 1ms/step - loss: 1.1023 - accuracy: 0.7102\n",
      "Epoch 84/100\n",
      "1705/1705 [==============================] - 2s 1ms/step - loss: 1.1024 - accuracy: 0.7100\n",
      "Epoch 85/100\n",
      "1705/1705 [==============================] - 2s 1ms/step - loss: 1.1020 - accuracy: 0.7100\n",
      "Epoch 86/100\n",
      "1705/1705 [==============================] - 2s 1ms/step - loss: 1.1018 - accuracy: 0.7102\n",
      "Epoch 87/100\n",
      "1705/1705 [==============================] - 2s 1ms/step - loss: 1.1019 - accuracy: 0.7102\n",
      "Epoch 88/100\n",
      "1705/1705 [==============================] - 2s 1ms/step - loss: 1.1011 - accuracy: 0.7104\n",
      "Epoch 89/100\n",
      "1705/1705 [==============================] - 2s 1ms/step - loss: 1.1013 - accuracy: 0.7102\n",
      "Epoch 90/100\n",
      "1705/1705 [==============================] - 2s 1ms/step - loss: 1.1005 - accuracy: 0.7101\n",
      "Epoch 91/100\n",
      "1705/1705 [==============================] - 2s 1ms/step - loss: 1.1000 - accuracy: 0.7102\n",
      "Epoch 92/100\n",
      "1705/1705 [==============================] - 2s 1ms/step - loss: 1.1005 - accuracy: 0.7102\n",
      "Epoch 93/100\n",
      "1705/1705 [==============================] - 2s 1ms/step - loss: 1.0996 - accuracy: 0.7105\n",
      "Epoch 94/100\n",
      "1705/1705 [==============================] - 2s 1ms/step - loss: 1.0997 - accuracy: 0.7103\n",
      "Epoch 95/100\n",
      "1705/1705 [==============================] - 2s 1ms/step - loss: 1.0997 - accuracy: 0.7103\n",
      "Epoch 96/100\n",
      "1705/1705 [==============================] - 2s 1ms/step - loss: 1.0992 - accuracy: 0.7103\n",
      "Epoch 97/100\n",
      "1705/1705 [==============================] - 2s 1ms/step - loss: 1.0992 - accuracy: 0.7105\n",
      "Epoch 98/100\n",
      "1705/1705 [==============================] - 2s 1ms/step - loss: 1.0994 - accuracy: 0.7103\n",
      "Epoch 99/100\n",
      "1705/1705 [==============================] - 2s 1ms/step - loss: 1.0991 - accuracy: 0.7101\n",
      "Epoch 100/100\n",
      "1705/1705 [==============================] - 2s 1ms/step - loss: 1.0987 - accuracy: 0.7106\n"
     ]
    },
    {
     "data": {
      "text/plain": [
       "<keras.callbacks.History at 0x7fb14a8eba30>"
      ]
     },
     "execution_count": 89,
     "metadata": {},
     "output_type": "execute_result"
    }
   ],
   "source": [
    "# model definition\n",
    "model = ml.Sequential()\n",
    "model.add( l.Dense( 128, input_dim = x_train.shape[1], activation='relu' ) )\n",
    "model.add( l.Dense( 11, activation='softmax' ) )\n",
    "\n",
    "# model compile\n",
    "model.compile( loss='categorical_crossentropy', optimizer='adam', metrics=['accuracy'] )\n",
    "\n",
    "# train model\n",
    "model.fit( x_train, y_train_nn, epochs=100 )"
   ]
  },
  {
   "cell_type": "code",
   "execution_count": null,
   "id": "48056bf5",
   "metadata": {},
   "outputs": [],
   "source": []
  },
  {
   "cell_type": "markdown",
   "id": "a2d6b4ad",
   "metadata": {},
   "source": [
    "# 5.0 Model Performance"
   ]
  },
  {
   "cell_type": "code",
   "execution_count": 99,
   "id": "873fddd2",
   "metadata": {
    "ExecuteTime": {
     "end_time": "2023-03-24T18:19:18.880599Z",
     "start_time": "2023-03-24T18:19:14.861706Z"
    }
   },
   "outputs": [
    {
     "name": "stdout",
     "output_type": "stream",
     "text": [
      "427/427 [==============================] - 0s 802us/step\n"
     ]
    }
   ],
   "source": [
    "# Prediction\n",
    "pred_nn = model.predict( x_test )\n",
    "\n",
    "# Invert Prediction\n",
    "yhat_nn = ohe.inverse_transform( pred_nn )\n",
    "\n",
    "# Prediction Prepare\n",
    "y_test_nn = y_test.to_numpy()\n",
    "yhat_nn = yhat_nn.reshape( 1, -1 )[0]\n"
   ]
  },
  {
   "cell_type": "code",
   "execution_count": 101,
   "id": "7d30a4a8",
   "metadata": {
    "ExecuteTime": {
     "end_time": "2023-03-24T18:22:16.685289Z",
     "start_time": "2023-03-24T18:22:15.672301Z"
    }
   },
   "outputs": [
    {
     "name": "stdout",
     "output_type": "stream",
     "text": [
      "Accuracy: 0.7105243857719106\n"
     ]
    },
    {
     "data": {
      "text/plain": [
       "<Axes: title={'center': 'Confusion Matrix'}, xlabel='Predicted label', ylabel='True label'>"
      ]
     },
     "execution_count": 101,
     "metadata": {},
     "output_type": "execute_result"
    },
    {
     "data": {
      "image/png": "[encoded data removed]",
      "text/plain": [
       "<Figure size 1200x1200 with 2 Axes>"
      ]
     },
     "metadata": {},
     "output_type": "display_data"
    }
   ],
   "source": [
    "\n",
    "# Accuracy\n",
    "acc_nn = m.accuracy_score( y_test_nn, yhat_nn )\n",
    "print( 'Accuracy: {}'.format( acc_nn ) )\n",
    "\n",
    "\n",
    "# Confusion Matrix\n",
    "mt.plot_confusion_matrix( y_test_nn, yhat_nn, normalize=False, figsize=(12, 12) )"
   ]
  },
  {
   "cell_type": "code",
   "execution_count": null,
   "id": "fc6c3437",
   "metadata": {},
   "outputs": [],
   "source": []
  }
 ],
 "metadata": {
  "kernelspec": {
   "display_name": "Python 3 (ipykernel)",
   "language": "python",
   "name": "python3"
  },
  "language_info": {
   "codemirror_mode": {
    "name": "ipython",
    "version": 3
   },
   "file_extension": ".py",
   "mimetype": "text/x-python",
   "name": "python",
   "nbconvert_exporter": "python",
   "pygments_lexer": "ipython3",
   "version": "3.9.16"
  }
 },
 "nbformat": 4,
 "nbformat_minor": 5
}
