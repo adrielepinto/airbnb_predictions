{
 "cells": [
  {
   "cell_type": "markdown",
   "id": "ab151802",
   "metadata": {},
   "source": [
    "# Business Context"
   ]
  },
  {
   "cell_type": "markdown",
   "id": "5b926820",
   "metadata": {},
   "source": [
    "Instead of waking to overlooked \"Do not disturb\" signs, Airbnb travelers find themselves rising with the birds in a whimsical treehouse, having their morning coffee on the deck of a houseboat, or cooking a shared regional breakfast with their hosts.\n",
    "\n",
    "New users on Airbnb can book a place to stay in 34,000+ cities across 190+ countries. By accurately predicting where a new user will book their first travel experience, Airbnb can share more personalized content with their community, decrease the average time to first booking, and better forecast demand."
   ]
  },
  {
   "cell_type": "markdown",
   "id": "0cefd445",
   "metadata": {},
   "source": [
    "# Business Challange"
   ]
  },
  {
   "cell_type": "markdown",
   "id": "a2b112c6",
   "metadata": {},
   "source": [
    "In this project, I was challenged to predict in which country a new user will make his or her first booking.\n"
   ]
  },
  {
   "cell_type": "markdown",
   "id": "5b386604",
   "metadata": {},
   "source": [
    "# Business Understanding"
   ]
  },
  {
   "cell_type": "markdown",
   "id": "f2e10f4f",
   "metadata": {
    "ExecuteTime": {
     "end_time": "2023-03-24T15:31:29.129293Z",
     "start_time": "2023-03-24T15:31:29.123836Z"
    }
   },
   "source": [
    "- Business model:\n",
    "     Marketplace -> Connecting people that offer accommodation, to the person who's looking for accommodation.\n",
    "    \n",
    "    \n",
    "- Model Offer:\n",
    "     People offering them property temporarily.\n",
    "     \n",
    "- Metrics:  Portfolio Size, Portfolio diversity/density.\n",
    "\n",
    "- Demand: How many people are looking for accommodation; \n",
    "\n",
    "    - User number.\n",
    "    - LTV ( Lifetime Value)\n",
    "    - CAC ( Client Acquisition Cost )\n",
    "    \n",
    "    - Gross Revenue =  ( fee * number of clients ) - CAC"
   ]
  },
  {
   "cell_type": "markdown",
   "id": "29854240",
   "metadata": {},
   "source": [
    "# Solution Planning"
   ]
  },
  {
   "cell_type": "markdown",
   "id": "583aa7ee",
   "metadata": {},
   "source": [
    "- Prediction model of the first destination of a new user\n",
    "- Prediction saved in a database table.\n",
    "- API:\n",
    "\n",
    "    - Imput: Users and their characteristics;\n",
    "    - output: Users and their characteristics with the destination prediction."
   ]
  }
 ],
 "metadata": {
  "kernelspec": {
   "display_name": "Python 3 (ipykernel)",
   "language": "python",
   "name": "python3"
  },
  "language_info": {
   "codemirror_mode": {
    "name": "ipython",
    "version": 3
   },
   "file_extension": ".py",
   "mimetype": "text/x-python",
   "name": "python",
   "nbconvert_exporter": "python",
   "pygments_lexer": "ipython3",
   "version": "3.9.16"
  }
 },
 "nbformat": 4,
 "nbformat_minor": 5
}
